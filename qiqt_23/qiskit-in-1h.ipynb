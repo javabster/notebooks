{
 "cells": [
  {
   "cell_type": "markdown",
   "id": "77aee635",
   "metadata": {
    "slideshow": {
     "slide_type": "slide"
    }
   },
   "source": [
    "![](title-slide.png)"
   ]
  },
  {
   "cell_type": "markdown",
   "id": "b2fd15c4",
   "metadata": {
    "slideshow": {
     "slide_type": "slide"
    }
   },
   "source": [
    "![](solve-problem-on-qc.png)"
   ]
  },
  {
   "cell_type": "code",
   "execution_count": null,
   "id": "d5990287",
   "metadata": {
    "slideshow": {
     "slide_type": "slide"
    }
   },
   "outputs": [],
   "source": [
    "# pip install qiskit"
   ]
  },
  {
   "cell_type": "markdown",
   "id": "9a4a8e7f",
   "metadata": {
    "slideshow": {
     "slide_type": "slide"
    }
   },
   "source": [
    "# Quantum Circuits"
   ]
  },
  {
   "cell_type": "code",
   "execution_count": 1,
   "id": "c0a47d95",
   "metadata": {
    "slideshow": {
     "slide_type": "subslide"
    }
   },
   "outputs": [
    {
     "name": "stdout",
     "output_type": "stream",
     "text": [
      "        ┌───┐      ░ ┌─┐   \n",
      "   q_0: ┤ H ├──■───░─┤M├───\n",
      "        └───┘┌─┴─┐ ░ └╥┘┌─┐\n",
      "   q_1: ─────┤ X ├─░──╫─┤M├\n",
      "             └───┘ ░  ║ └╥┘\n",
      "meas: 2/══════════════╩══╩═\n",
      "                      0  1 \n"
     ]
    }
   ],
   "source": [
    "from qiskit import QuantumCircuit\n",
    "\n",
    "# Initialize quantum circuit\n",
    "bell = QuantumCircuit(2)\n",
    "\n",
    "# Apply gates\n",
    "bell.h(0)\n",
    "bell.cx(0,1)\n",
    "\n",
    "# Measure qubits\n",
    "bell.measure_all()\n",
    "\n",
    "# Visualise circuit\n",
    "print(bell)"
   ]
  },
  {
   "cell_type": "markdown",
   "id": "fe171190",
   "metadata": {
    "slideshow": {
     "slide_type": "fragment"
    }
   },
   "source": [
    "don't know what a bell state is? \n",
    "https://learn.qiskit.org/course/ch-gates/multiple-qubits-and-entangled-states"
   ]
  },
  {
   "cell_type": "code",
   "execution_count": 3,
   "id": "58e15aa4",
   "metadata": {
    "slideshow": {
     "slide_type": "subslide"
    }
   },
   "outputs": [
    {
     "name": "stdout",
     "output_type": "stream",
     "text": [
      "   ┌────────────────┐\n",
      "q: ┤ U(π/2,π/2,π/2) ├\n",
      "   └────────────────┘\n"
     ]
    }
   ],
   "source": [
    "# custom rotations\n",
    "\n",
    "import numpy as np\n",
    "\n",
    "circuit = QuantumCircuit(1)\n",
    "circuit.u(np.pi/2,np.pi/2,np.pi/2,0)\n",
    "\n",
    "print(circuit)"
   ]
  },
  {
   "cell_type": "markdown",
   "id": "faa4626a",
   "metadata": {
    "slideshow": {
     "slide_type": "slide"
    }
   },
   "source": [
    "# Parameterised Circuits - great for variational algorithms!\n",
    "\n",
    "don't know what a variational algorithm is? check out this new course (and please give us feedback!) https://qiskit.org/learn/course/algorithm-design/"
   ]
  },
  {
   "cell_type": "code",
   "execution_count": 4,
   "id": "533ec859",
   "metadata": {
    "slideshow": {
     "slide_type": "subslide"
    }
   },
   "outputs": [
    {
     "name": "stdout",
     "output_type": "stream",
     "text": [
      "   ┌───────────┐\n",
      "q: ┤ Rx(theta) ├\n",
      "   └───────────┘\n"
     ]
    }
   ],
   "source": [
    "from qiskit.circuit import Parameter\n",
    "\n",
    "# Define a variable theta to be a parameter with name 'theta'\n",
    "theta = Parameter('theta')\n",
    "\n",
    "# Initialize a quantum circuit with one qubit\n",
    "quantum_circuit = QuantumCircuit(1)\n",
    "\n",
    "# Add a parametrized RX rotation on the qubit\n",
    "quantum_circuit.rx(theta, 0)\n",
    "\n",
    "print(quantum_circuit)"
   ]
  },
  {
   "cell_type": "code",
   "execution_count": 5,
   "id": "3289fcee",
   "metadata": {
    "slideshow": {
     "slide_type": "subslide"
    }
   },
   "outputs": [
    {
     "name": "stdout",
     "output_type": "stream",
     "text": [
      "   ┌───────────┐\n",
      "q: ┤ Rx(theta) ├\n",
      "   └───────────┘\n"
     ]
    }
   ],
   "source": [
    "# Bind parameter values\n",
    "\n",
    "# Set the value of the parameter\n",
    "theta_value = np.pi\n",
    "\n",
    "# Bind the value to the parametrized circuit\n",
    "qc = quantum_circuit.bind_parameters({theta: theta_value})\n",
    "\n",
    "print(quantum_circuit)"
   ]
  },
  {
   "cell_type": "markdown",
   "id": "7f67b027",
   "metadata": {
    "slideshow": {
     "slide_type": "slide"
    }
   },
   "source": [
    "# Dynamic Circuits - new!\n",
    "\n",
    "- if/else statements\n",
    "- while loops\n",
    "- for loops"
   ]
  },
  {
   "cell_type": "code",
   "execution_count": 4,
   "id": "bf3eeb4d",
   "metadata": {
    "slideshow": {
     "slide_type": "subslide"
    }
   },
   "outputs": [
    {
     "data": {
      "text/html": [
       "<pre style=\"word-wrap: normal;white-space: pre;background: #fff0;line-height: 1.1;font-family: &quot;Courier New&quot;,Courier,monospace\">     ┌───┐┌─┐┌──────────┐┌─┐\n",
       "  q: ┤ H ├┤M├┤0         ├┤M├\n",
       "     └───┘└╥┘│  If_else │└╥┘\n",
       "c_0: ══════╩═╡0         ╞═╬═\n",
       "             └──────────┘ ║ \n",
       "c_1: ═════════════════════╩═\n",
       "                            </pre>"
      ],
      "text/plain": [
       "     ┌───┐┌─┐┌──────────┐┌─┐\n",
       "  q: ┤ H ├┤M├┤0         ├┤M├\n",
       "     └───┘└╥┘│  If_else │└╥┘\n",
       "c_0: ══════╩═╡0         ╞═╬═\n",
       "             └──────────┘ ║ \n",
       "c_1: ═════════════════════╩═\n",
       "                            "
      ]
     },
     "execution_count": 4,
     "metadata": {},
     "output_type": "execute_result"
    }
   ],
   "source": [
    "qc = QuantumCircuit(1, 2)\n",
    "qc.h(0)  \n",
    "qc.measure(0, 0)\n",
    "\n",
    "# if q0 == 1, reset and flip it\n",
    "with qc.if_test((0, True)):\n",
    "    qc.reset(0)\n",
    "    qc.x(0)\n",
    "    \n",
    "qc.measure(0, 1)\n",
    "\n",
    "qc.draw()\n",
    "\n",
    "# results: {'00': 0.5, '11': 0.5}"
   ]
  },
  {
   "cell_type": "code",
   "execution_count": 5,
   "id": "c51520ee",
   "metadata": {
    "slideshow": {
     "slide_type": "subslide"
    }
   },
   "outputs": [
    {
     "data": {
      "text/html": [
       "<pre style=\"word-wrap: normal;white-space: pre;background: #fff0;line-height: 1.1;font-family: &quot;Courier New&quot;,Courier,monospace\">     ┌───┐┌─┐┌─────────────┐┌─┐\n",
       "  q: ┤ H ├┤M├┤0            ├┤M├\n",
       "     └───┘└╥┘│  While_loop │└╥┘\n",
       "c_0: ══════╩═╡0            ╞═╬═\n",
       "             └─────────────┘ ║ \n",
       "c_1: ════════════════════════╩═\n",
       "                               </pre>"
      ],
      "text/plain": [
       "     ┌───┐┌─┐┌─────────────┐┌─┐\n",
       "  q: ┤ H ├┤M├┤0            ├┤M├\n",
       "     └───┘└╥┘│  While_loop │└╥┘\n",
       "c_0: ══════╩═╡0            ╞═╬═\n",
       "             └─────────────┘ ║ \n",
       "c_1: ════════════════════════╩═\n",
       "                               "
      ]
     },
     "execution_count": 5,
     "metadata": {},
     "output_type": "execute_result"
    }
   ],
   "source": [
    "# Repeat instructions until success with while loop\n",
    "\n",
    "qc = QuantumCircuit(1, 2)\n",
    "qc.h(0)\n",
    "qc.measure(0, 0)\n",
    "\n",
    "# as long as q0 == 0, reset, add h and measure again until q0 == 1\n",
    "with qc.while_loop((0, False)):\n",
    "    qc.reset(0)\n",
    "    qc.h(0)\n",
    "    qc.measure(0, 0)\n",
    "qc.measure(0, 1)\n",
    "\n",
    "qc.draw()\n",
    "\n",
    "# results: {'11': 1}"
   ]
  },
  {
   "cell_type": "code",
   "execution_count": 2,
   "id": "32ca3499",
   "metadata": {
    "slideshow": {
     "slide_type": "subslide"
    }
   },
   "outputs": [
    {
     "data": {
      "text/html": [
       "<pre style=\"word-wrap: normal;white-space: pre;background: #fff0;line-height: 1.1;font-family: &quot;Courier New&quot;,Courier,monospace\">      ┌───┐┌─┐   ┌──────────────┐\n",
       "q1_0: ┤ H ├┤M├───┤1             ├\n",
       "      ├───┤└╥┘┌─┐│              │\n",
       "q1_1: ┤ H ├─╫─┤M├┤0             ├\n",
       "      └───┘ ║ └╥┘│  Switch_case │\n",
       "c1_0: ══════╩══╬═╡0             ╞\n",
       "               ║ │              │\n",
       "c1_1: ═════════╩═╡1             ╞\n",
       "                 └──────────────┘</pre>"
      ],
      "text/plain": [
       "      ┌───┐┌─┐   ┌──────────────┐\n",
       "q1_0: ┤ H ├┤M├───┤1             ├\n",
       "      ├───┤└╥┘┌─┐│              │\n",
       "q1_1: ┤ H ├─╫─┤M├┤0             ├\n",
       "      └───┘ ║ └╥┘│  Switch_case │\n",
       "c1_0: ══════╩══╬═╡0             ╞\n",
       "               ║ │              │\n",
       "c1_1: ═════════╩═╡1             ╞\n",
       "                 └──────────────┘"
      ]
     },
     "execution_count": 2,
     "metadata": {},
     "output_type": "execute_result"
    }
   ],
   "source": [
    "from qiskit import QuantumRegister, ClassicalRegister\n",
    "\n",
    "qreg = QuantumRegister(2)\n",
    "creg = ClassicalRegister(2)\n",
    "qc = QuantumCircuit(qreg, creg)\n",
    "qc.h([0, 1])\n",
    "qc.measure([0, 1], [0, 1])\n",
    "\n",
    "with qc.switch(creg) as case:\n",
    "    # if '00' is measured, add a Z gate\n",
    "    with case(0):\n",
    "        qc.z(0)\n",
    "    # if '01' or '10' is measured, and a CNOT\n",
    "    with case(1, 2):\n",
    "        qc.cx(0, 1)\n",
    "    # for any other measurement, add an H gate\n",
    "    with case(case.DEFAULT):\n",
    "        qc.h(0)\n",
    "\n",
    "qc.draw()"
   ]
  },
  {
   "cell_type": "markdown",
   "id": "021e0b6b",
   "metadata": {
    "slideshow": {
     "slide_type": "slide"
    }
   },
   "source": [
    "# Primitives\n",
    "\n",
    "An **Estimator Primitive** computes expectation values of observables with respect to states prepared by quantum circuits. Users generally specify a list of circuits, observables, and possibly some additional configuration, with which the program can efficiently evaluate expectation values and variances.\n",
    "\n",
    "A **Sampler Primitive** calculates probabilities or quasi-probabilities of bitstrings from quantum circuits. Quasi-probabilities are similar to regular probabilities except they may include negative values, which can occur when using certain error mitigation techniques."
   ]
  },
  {
   "cell_type": "markdown",
   "id": "08800927",
   "metadata": {
    "slideshow": {
     "slide_type": "slide"
    }
   },
   "source": [
    "# Sampler\n",
    "\n",
    "A **Sampler Primitive** calculates probabilities or quasi-probabilities of bitstrings from quantum circuits. Quasi-probabilities are similar to regular probabilities except they may include negative values, which can occur when using certain error mitigation techniques."
   ]
  },
  {
   "cell_type": "markdown",
   "id": "4ec08846",
   "metadata": {
    "slideshow": {
     "slide_type": "subslide"
    }
   },
   "source": [
    "### Let's sample a bell state..."
   ]
  },
  {
   "cell_type": "code",
   "execution_count": 2,
   "id": "301c3fca",
   "metadata": {
    "slideshow": {
     "slide_type": "subslide"
    }
   },
   "outputs": [
    {
     "name": "stdout",
     "output_type": "stream",
     "text": [
      "{0: 0.4999999999999999, 3: 0.4999999999999999}\n"
     ]
    }
   ],
   "source": [
    "from qiskit.primitives import Sampler\n",
    "\n",
    "# initialise Sampler primitive (built-in qsikit simulator)\n",
    "sampler = Sampler()\n",
    "\n",
    "# Run the circuit\n",
    "job = sampler.run(bell) # use bell state circuit from earlier\n",
    "\n",
    "# get result distribution\n",
    "quasi_dist = job.result().quasi_dists[0]\n",
    "\n",
    "print(quasi_dist)"
   ]
  },
  {
   "cell_type": "markdown",
   "id": "92a185a3",
   "metadata": {
    "slideshow": {
     "slide_type": "subslide"
    }
   },
   "source": [
    "### Now let's visualise the results..."
   ]
  },
  {
   "cell_type": "code",
   "execution_count": 3,
   "id": "2032eb08",
   "metadata": {
    "slideshow": {
     "slide_type": "subslide"
    }
   },
   "outputs": [
    {
     "data": {
      "image/png": "[encoded data removed]",
      "text/plain": [
       "<Figure size 700x500 with 1 Axes>"
      ]
     },
     "execution_count": 3,
     "metadata": {},
     "output_type": "execute_result"
    }
   ],
   "source": [
    "from qiskit.visualization import plot_histogram # note: need matplotlib installed\n",
    "\n",
    "data = quasi_dist\n",
    "\n",
    "plot_histogram(data)"
   ]
  },
  {
   "cell_type": "markdown",
   "id": "00a0b928",
   "metadata": {
    "slideshow": {
     "slide_type": "subslide"
    }
   },
   "source": [
    "### Now let's use a real device..."
   ]
  },
  {
   "cell_type": "code",
   "execution_count": 5,
   "id": "1a7c3b5d",
   "metadata": {
    "slideshow": {
     "slide_type": "subslide"
    }
   },
   "outputs": [
    {
     "name": "stdout",
     "output_type": "stream",
     "text": [
      "{0: 0.5208551245137784, 1: 0.003451778431075682, 2: -0.013191287785912545, 3: 0.48888438484105845}\n"
     ]
    }
   ],
   "source": [
    "from qiskit_ibm_runtime import QiskitRuntimeService, Sampler # note: need qiskit_ibm_runtime installed\n",
    "\n",
    "# Get the API token in https://quantum-computing.ibm.com/account\n",
    "service = QiskitRuntimeService(channel=\"ibm_quantum\", \n",
    "                               token=\"YOUR_IBM_QUANTUM_TOKEN\")\n",
    "backend = service.backend(\"ibm_perth\")\n",
    "\n",
    "# initialise the IBM Qiskit Runtime Sampler\n",
    "sampler = Sampler(session=backend)\n",
    "\n",
    "# Run the circuit\n",
    "job = sampler.run(bell) # use the bell state circuit from earlier\n",
    "\n",
    "# get result distribution\n",
    "quasi_dist_real = job.result().quasi_dists[0]\n",
    "\n",
    "print(quasi_dist_real)"
   ]
  },
  {
   "cell_type": "code",
   "execution_count": 6,
   "id": "a551cf1a",
   "metadata": {
    "slideshow": {
     "slide_type": "subslide"
    }
   },
   "outputs": [
    {
     "data": {
      "image/png": "[encoded data removed]",
      "text/plain": [
       "<Figure size 700x500 with 1 Axes>"
      ]
     },
     "execution_count": 6,
     "metadata": {},
     "output_type": "execute_result"
    }
   ],
   "source": [
    "data = [quasi_dist, quasi_dist_real]\n",
    "\n",
    "plot_histogram(data)"
   ]
  },
  {
   "cell_type": "markdown",
   "id": "e71a26cb",
   "metadata": {
    "slideshow": {
     "slide_type": "slide"
    }
   },
   "source": [
    "# Estimator\n",
    "\n",
    "An **Estimator Primitive** computes expectation values of observables with respect to states prepared by quantum circuits. Users generally specify a list of circuits, observables, and possibly some additional configuration, with which the program can efficiently evaluate expectation values and variances."
   ]
  },
  {
   "cell_type": "markdown",
   "id": "01f26a88",
   "metadata": {
    "slideshow": {
     "slide_type": "subslide"
    }
   },
   "source": [
    "### Let's estimate the ground state energy of an H2 molecule..."
   ]
  },
  {
   "cell_type": "code",
   "execution_count": 7,
   "id": "169d0511",
   "metadata": {
    "slideshow": {
     "slide_type": "subslide"
    }
   },
   "outputs": [
    {
     "name": "stdout",
     "output_type": "stream",
     "text": [
      "-1.8572750285720285\n"
     ]
    }
   ],
   "source": [
    "from qiskit.primitives import Estimator\n",
    "from qiskit.quantum_info import SparsePauliOp\n",
    "from qiskit.circuit.library import TwoLocal\n",
    "from qiskit.algorithms.optimizers import SLSQP\n",
    "from qiskit.algorithms.minimum_eigensolvers import VQE\n",
    "\n",
    "# initialise Estimator primitive (built-in qsikit simulator)\n",
    "estimator = Estimator()\n",
    "\n",
    "# Express H2 molecule Hamiltonian as an operator\n",
    "H2_operator = SparsePauliOp.from_list([\n",
    "    (\"II\", -1.052373245772859),\n",
    "    (\"IZ\", 0.39793742484318045),\n",
    "    (\"ZI\", -0.39793742484318045),\n",
    "    (\"ZZ\", -0.01128010425623538),\n",
    "    (\"XX\", 0.18093119978423156)\n",
    "])\n",
    "\n",
    "# initialise trial state and optimiser\n",
    "ansatz = TwoLocal(num_qubits=2, rotation_blocks=\"ry\", \n",
    "                  entanglement_blocks=\"cz\")\n",
    "optimizer = SLSQP(maxiter=100)\n",
    "\n",
    "# run VQE algorithm, using the Estimator primitive\n",
    "vqe = VQE(estimator, ansatz, optimizer)\n",
    "result = vqe.compute_minimum_eigenvalue(operator=H2_operator)\n",
    "\n",
    "print(result.eigenvalue)"
   ]
  },
  {
   "cell_type": "markdown",
   "id": "75dc1932",
   "metadata": {
    "slideshow": {
     "slide_type": "subslide"
    }
   },
   "source": [
    "### Now let's use a real device..."
   ]
  },
  {
   "cell_type": "code",
   "execution_count": null,
   "id": "8f35f156",
   "metadata": {
    "slideshow": {
     "slide_type": "subslide"
    }
   },
   "outputs": [],
   "source": [
    "from qiskit_ibm_runtime import QiskitRuntimeService, Estimator\n",
    "from qiskit.circuit.library import TwoLocal\n",
    "from qiskit.algorithms.optimizers import SLSQP\n",
    "from qiskit.algorithms.minimum_eigensolvers import VQE\n",
    "\n",
    "# Get the API token in https://quantum-computing.ibm.com/account\n",
    "service = QiskitRuntimeService(channel=\"ibm_quantum\", \n",
    "                               token=\"YOUR_IBM_QUANTUM_TOKEN\")\n",
    "backend = service.backend(\"ibm_perth\")\n",
    "\n",
    "# initialise Estimator primitive from Qiskit Runtime\n",
    "estimator = Estimator(session=backend)"
   ]
  },
  {
   "cell_type": "code",
   "execution_count": null,
   "id": "9dec3e20",
   "metadata": {
    "slideshow": {
     "slide_type": "subslide"
    }
   },
   "outputs": [],
   "source": [
    "#Everything else is the same from here..\n",
    "\n",
    "# Express H2 molecule Hamiltonian as an operator\n",
    "H2_operator = SparsePauliOp.from_list([\n",
    "    (\"II\", -1.052373245772859),\n",
    "    (\"IZ\", 0.39793742484318045),\n",
    "    (\"ZI\", -0.39793742484318045),\n",
    "    (\"ZZ\", -0.01128010425623538),\n",
    "    (\"XX\", 0.18093119978423156)\n",
    "])\n",
    "\n",
    "# initialise trial state and optimiser\n",
    "ansatz = TwoLocal(num_qubits=2, rotation_blocks=\"ry\", \n",
    "                  entanglement_blocks=\"cz\")\n",
    "optimizer = SLSQP(maxiter=100)\n",
    "\n",
    "# run VQE algorithm, using the Estimator primitive\n",
    "vqe = VQE(estimator, ansatz, optimizer)\n",
    "result = vqe.compute_minimum_eigenvalue(operator=H2_operator)\n",
    "\n",
    "print(result.eigenvalue)"
   ]
  },
  {
   "cell_type": "markdown",
   "id": "c17376da",
   "metadata": {
    "slideshow": {
     "slide_type": "slide"
    }
   },
   "source": [
    "# What about other hardware providers?"
   ]
  },
  {
   "cell_type": "code",
   "execution_count": null,
   "id": "bc5fc09f",
   "metadata": {
    "slideshow": {
     "slide_type": "subslide"
    }
   },
   "outputs": [],
   "source": [
    "from qiskit_ionq import IonQProvider\n",
    "from qiskit.primitives import BackendSampler\n",
    "\n",
    "# connect to IonQ and select backend\n",
    "provider = IonQProvider(\"MY_IONQ_TOKEN\")\n",
    "backend = provider.get_backend(\"ionq_qpu\")\n",
    "\n",
    "# initialise Sampler primitive using Qiskit wrapper for ionq backend\n",
    "sampler = BackendSampler(backend)\n",
    "\n",
    "# Run the circuit and get result distribution\n",
    "job = sampler.run(bell) # use bell state circuit from earlier\n",
    "\n",
    "# get result distribution\n",
    "quasi_dist = job.result().quasi_dists[0]\n",
    "\n",
    "print(quasi_dist)"
   ]
  },
  {
   "cell_type": "markdown",
   "id": "218de43e",
   "metadata": {
    "slideshow": {
     "slide_type": "slide"
    }
   },
   "source": [
    "# Qiskit Ecosystem\n",
    "\n",
    "https://qiskit.org/ecosystem\n",
    "\n",
    "The Ecosystem consists of projects, tools, utilities, libraries and tutorials from a broad community of developers and researchers. The goal of the Ecosystem is to celebrate, support and accelerate development of quantum technologies using Qiskit."
   ]
  },
  {
   "cell_type": "markdown",
   "id": "e827c1ec",
   "metadata": {
    "slideshow": {
     "slide_type": "subslide"
    }
   },
   "source": [
    "<!-- ![](ecosystem.png) -->\n",
    "<img src=\"ecosystem.png\"  width=\"600\" height=\"300\">"
   ]
  },
  {
   "cell_type": "markdown",
   "id": "e52c4f5c",
   "metadata": {
    "slideshow": {
     "slide_type": "subslide"
    }
   },
   "source": [
    "# Good candidates for the Qiskit Ecosystem\n",
    "- projects built using qiskit\n",
    "- research/side projects not suitable for integration into Qiskit itself\n",
    "- projects that can be used/contributed to by the quantum open source community"
   ]
  },
  {
   "cell_type": "code",
   "execution_count": null,
   "id": "cf26c5f1",
   "metadata": {
    "slideshow": {
     "slide_type": "subslide"
    }
   },
   "outputs": [],
   "source": [
    "# qiskit imports\n",
    "from qiskit.algorithms.minimum_eigensolvers import NumPyMinimumEigensolver\n",
    "\n",
    "#qiskit nature imports\n",
    "from qiskit_nature.units import DistanceUnit\n",
    "from qiskit_nature.second_q.drivers import PySCFDriver # note: need PYSCF installed\n",
    "from qiskit_nature.second_q.algorithms import GroundStateEigensolver\n",
    "from qiskit_nature.second_q.mappers import JordanWignerMapper"
   ]
  },
  {
   "cell_type": "code",
   "execution_count": null,
   "id": "4347db9e",
   "metadata": {
    "slideshow": {
     "slide_type": "fragment"
    }
   },
   "outputs": [],
   "source": [
    "driver = PySCFDriver(\n",
    "    atom=\"H 0 0 0; H 0 0 0.735\",\n",
    "    basis=\"sto3g\",\n",
    "    charge=0,\n",
    "    spin=0,\n",
    "    unit=DistanceUnit.ANGSTROM,\n",
    ")\n",
    "\n",
    "problem = driver.run()\n",
    "\n",
    "solver = GroundStateEigensolver(\n",
    "    JordanWignerMapper(),\n",
    "    NumPyMinimumEigensolver(),\n",
    ")\n",
    "\n",
    "result = solver.solve(problem)\n",
    "\n",
    "print(result)"
   ]
  },
  {
   "cell_type": "markdown",
   "id": "8731f257",
   "metadata": {
    "slideshow": {
     "slide_type": "subslide"
    }
   },
   "source": [
    "![](nature-result.png)"
   ]
  },
  {
   "cell_type": "markdown",
   "id": "3764a36b",
   "metadata": {
    "slideshow": {
     "slide_type": "slide"
    }
   },
   "source": [
    "![](links.png)\n",
    "\n",
    "these slides: https://ibm.biz/qiskit-qiqt23"
   ]
  },
  {
   "cell_type": "markdown",
   "id": "78639b97",
   "metadata": {
    "slideshow": {
     "slide_type": "skip"
    }
   },
   "source": [
    "## What Next?\n",
    "\n",
    "<font size=2>**Keep Learning**</font>  \n",
    "<font size=\"1\">YouTube: https://youtube.com/qiskit</font>  \n",
    "<font size=\"1\">Qiskit Textbook: https://qiskit.org/learn</font>  \n",
    "<font size=\"1\">Documentation: https://qiskit.org/documentation</font>  \n",
    "<font size=\"1\">Git & GitHub: https://qisk.it/github-training</font>  \n",
    "\n",
    "<font size=2>**Keep Informed**</font>  \n",
    "<font size=\"1\">Twitter: @qiskit and @IBMResearch</font>  \n",
    "<font size=\"1\">LinkedIn: https://linkedin.com/showcase/ibm-quantum</font>  \n",
    "<font size=\"1\">Medium: https://medium.com/qiskit</font>  \n",
    "<font size=\"1\">Slack: https://ibm.co/joinqiskitslack</font>  \n",
    "<font size=\"1\">Events: https://qiskit.org/events/#follow-our-event-calendar</font>  \n",
    "\n",
    "<font size=2>Qiskit Releases</font>  \n",
    "<font size=\"1\">latest release: https://qiskit.org/documentation/release_noted.html</font>  \n",
    "<font size=\"1\">upcoming releases: https://qisk.it/release-planning</font>  \n",
    "\n",
    "<font size=2>**Start Contributing**</font>  \n",
    "<font size=\"1\">Join the Qsikit Ecosystem: https://qiskit.org/ecosystem</font>  \n",
    "<font size=\"1\">Contributing Guidelines: https://qiskit.org/documentation/contributing_to_qiskit.html</font>  \n",
    "<font size=\"1\">GitHub Discussions: https://github.com/qiskit/feedback/discussions</font>  \n",
    "\n",
    "<font size=2>**Start Applying**</font>  \n",
    "<font size=\"1\">Qiskit Developer Certification: https://ibm.com/training/certification/C0010300</font>  \n",
    "<font size=\"1\">Qiskit Advocates: https://github.com/qiskit-advocate/application-guide</font>  \n",
    "<font size=\"1\">Researchers: https://quantum-computing.ibm.com/programs/researchers</font>  \n",
    "\n",
    "<font size=\"1\">Communication/support channels: https://qisk.it/support</font>  \n",
    "<font size=\"1\">Code of Conduct: https://qisk.it/coc</font>"
   ]
  }
 ],
 "metadata": {
  "celltoolbar": "Slideshow",
  "kernelspec": {
   "display_name": "Python 3 (ipykernel)",
   "language": "python",
   "name": "python3"
  },
  "language_info": {
   "codemirror_mode": {
    "name": "ipython",
    "version": 3
   },
   "file_extension": ".py",
   "mimetype": "text/x-python",
   "name": "python",
   "nbconvert_exporter": "python",
   "pygments_lexer": "ipython3",
   "version": "3.9.16"
  }
 },
 "nbformat": 4,
 "nbformat_minor": 5
}
