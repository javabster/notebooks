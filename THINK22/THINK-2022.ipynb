{
 "cells": [
  {
   "cell_type": "markdown",
   "id": "ffdd2add",
   "metadata": {
    "slideshow": {
     "slide_type": "slide"
    }
   },
   "source": [
    "# Quantum Computing for Classical Developers"
   ]
  },
  {
   "cell_type": "code",
   "execution_count": 1,
   "id": "7b5277f9",
   "metadata": {
    "slideshow": {
     "slide_type": "fragment"
    }
   },
   "outputs": [],
   "source": [
    "#imports\n",
    "from IPython.display import Latex\n",
    "from qiskit import QuantumCircuit, QuantumRegister, ClassicalRegister, Aer, transpile, execute\n",
    "from qiskit.circuit.library import *\n",
    "from qiskit.circuit.random import random_circuit\n",
    "from qiskit.visualization import plot_histogram, array_to_latex"
   ]
  },
  {
   "cell_type": "markdown",
   "id": "4fdb78fc",
   "metadata": {
    "slideshow": {
     "slide_type": "slide"
    }
   },
   "source": [
    "## Workshop contents\n",
    "- Quantum Computing basics - recap\n",
    "- Introduction to Quantum Gates and Circuits\n",
    "- Run your first Quantum Circuit - Bell State\n",
    "- Solving problems with Quantum Computers\n",
    "- Deutsch-Jozsa Algorithm\n",
    "- Run on real hardware"
   ]
  },
  {
   "cell_type": "markdown",
   "id": "e2670fd0",
   "metadata": {},
   "source": [
    "### Let's code a quantum circuit!"
   ]
  },
  {
   "cell_type": "code",
   "execution_count": 48,
   "id": "2a0d7f4e",
   "metadata": {
    "slideshow": {
     "slide_type": "fragment"
    }
   },
   "outputs": [
    {
     "data": {
      "image/png": "[encoded data removed]",
      "text/plain": [
       "<Figure size 387.452x204.68 with 1 Axes>"
      ]
     },
     "execution_count": 48,
     "metadata": {},
     "output_type": "execute_result"
    }
   ],
   "source": [
    "rand = random_circuit(2, 2, measure=True)\n",
    "rand.draw('mpl')"
   ]
  },
  {
   "cell_type": "code",
   "execution_count": 50,
   "id": "60ca1471",
   "metadata": {
    "slideshow": {
     "slide_type": "notes"
    }
   },
   "outputs": [
    {
     "data": {
      "image/png": "[encoded data removed]",
      "text/plain": [
       "<Figure size 103.426x144.48 with 1 Axes>"
      ]
     },
     "execution_count": 50,
     "metadata": {},
     "output_type": "execute_result"
    }
   ],
   "source": [
    "# qc = QuantumCircuit(1)\n",
    "qc = QuantumCircuit(1, 1)\n",
    "qc.draw('mpl')"
   ]
  },
  {
   "cell_type": "code",
   "execution_count": 51,
   "id": "1a3e2d25",
   "metadata": {
    "slideshow": {
     "slide_type": "fragment"
    }
   },
   "outputs": [
    {
     "data": {
      "image/png": "[encoded data removed]",
      "text/plain": [
       "<Figure size 189.396x204.68 with 1 Axes>"
      ]
     },
     "execution_count": 51,
     "metadata": {},
     "output_type": "execute_result"
    }
   ],
   "source": [
    "qr = QuantumRegister(2, name='myqubit')\n",
    "cr = ClassicalRegister(2, name='bits')\n",
    "qc = QuantumCircuit(cr, qr)\n",
    "qc.draw('mpl')"
   ]
  },
  {
   "cell_type": "markdown",
   "id": "4bd7f0b5",
   "metadata": {
    "slideshow": {
     "slide_type": "slide"
    }
   },
   "source": [
    "## Quantum Gates\n",
    "\n",
    "3 ways to represent Quantum Gates:\n",
    "- circuit box model\n",
    "- Dirac notation\n",
    "- matrices\n"
   ]
  },
  {
   "cell_type": "markdown",
   "id": "96d21ad8",
   "metadata": {
    "slideshow": {
     "slide_type": "slide"
    }
   },
   "source": [
    "## Let's start with bits - 0 & 1\n",
    "\n",
    "### bitstring = 0\n",
    "Dirac notation = $|0\\rangle$  \n",
    "matrix = $ \\begin{bmatrix} 1 \\\\ 0 \\end{bmatrix} \\, \\, \\, \\, $\n",
    "\n",
    "### bitstring = 1\n",
    "Dirac notation = $ |1\\rangle $  \n",
    "matrix = $\\begin{bmatrix} 0 \\\\ 1 \\end{bmatrix}$"
   ]
  },
  {
   "cell_type": "markdown",
   "id": "dbf59b7b",
   "metadata": {
    "slideshow": {
     "slide_type": "slide"
    }
   },
   "source": [
    "## X Gate - single qubit gate\n",
    "\n",
    "- equivalent to a classical NOT gate (i.e. a bit flip)\n",
    "- flips the input bit to opposite sign\n",
    "- 0 -> 1\n",
    "- 1 -> 0\n",
    "\n",
    "![](classical-not.jpg)"
   ]
  },
  {
   "cell_type": "code",
   "execution_count": 54,
   "id": "82d13508",
   "metadata": {
    "slideshow": {
     "slide_type": "fragment"
    }
   },
   "outputs": [
    {
     "data": {
      "image/png": "[encoded data removed]",
      "text/plain": [
       "<Figure size 133.526x84.28 with 1 Axes>"
      ]
     },
     "execution_count": 54,
     "metadata": {},
     "output_type": "execute_result"
    }
   ],
   "source": [
    "qc_x = QuantumCircuit(1)\n",
    "qc_x.x(0)\n",
    "qc_x.draw('mpl')"
   ]
  },
  {
   "cell_type": "code",
   "execution_count": 55,
   "id": "a515eb39",
   "metadata": {},
   "outputs": [
    {
     "name": "stdout",
     "output_type": "stream",
     "text": [
      "X (1q gate)\n"
     ]
    },
    {
     "data": {
      "text/latex": [
       "$$\n",
       "\n",
       "\\begin{bmatrix}\n",
       "0 & 1  \\\\\n",
       " 1 & 0  \\\\\n",
       " \\end{bmatrix}\n",
       "$$"
      ],
      "text/plain": [
       "<IPython.core.display.Latex object>"
      ]
     },
     "execution_count": 55,
     "metadata": {},
     "output_type": "execute_result"
    }
   ],
   "source": [
    "print('X (1q gate)')\n",
    "xgate = XGate()\n",
    "array_to_latex(xgate.to_matrix())"
   ]
  },
  {
   "cell_type": "markdown",
   "id": "6d54442a",
   "metadata": {},
   "source": [
    "**for an X gate applied to a qubit in state 0**\n",
    "\n",
    "Dirac notation = $X|0\\rangle$ = $|1\\rangle$\n",
    "\n",
    "matrix = $ \\begin{bmatrix} 0 & 1 \\\\ 1 & 0 \\end{bmatrix} \\begin{bmatrix} 1 \\\\ 0 \\end{bmatrix} = \\begin{bmatrix} 0*1 + 1*0 \\\\ 1*1 + 0*0 \\end{bmatrix} = \\begin{bmatrix} 0 \\\\ 1 \\end{bmatrix}$\n",
    "\n",
    "**for an X gate applied to a qubit in state 1**\n",
    "\n",
    "Dirac notation = $X|1\\rangle$ = $|0\\rangle$\n",
    "\n",
    "matrix = $ \\begin{bmatrix} 0 & 1 \\\\ 1 & 0 \\end{bmatrix} \\begin{bmatrix} 0 \\\\ 1 \\end{bmatrix} = \\begin{bmatrix} 0*0 + 1*1 \\\\ 1*0 + 0*1 \\end{bmatrix} = \\begin{bmatrix} 0 \\\\ 1 \\end{bmatrix}$\n",
    "\n",
    "\n",
    "Applying a gate to a quantum state = matrix multiplication"
   ]
  },
  {
   "cell_type": "markdown",
   "id": "ffe58c53",
   "metadata": {},
   "source": [
    "## Haddamard Gate\n",
    "\n",
    "- no classical equivalent\n",
    "- puts a qubit into superposition"
   ]
  },
  {
   "cell_type": "code",
   "execution_count": 56,
   "id": "81068ef8",
   "metadata": {},
   "outputs": [
    {
     "name": "stdout",
     "output_type": "stream",
     "text": [
      "H (1q gate)\n"
     ]
    },
    {
     "data": {
      "text/latex": [
       "$$\n",
       "\n",
       "\\begin{bmatrix}\n",
       "\\tfrac{1}{\\sqrt{2}} & \\tfrac{1}{\\sqrt{2}}  \\\\\n",
       " \\tfrac{1}{\\sqrt{2}} & -\\tfrac{1}{\\sqrt{2}}  \\\\\n",
       " \\end{bmatrix}\n",
       "$$"
      ],
      "text/plain": [
       "<IPython.core.display.Latex object>"
      ]
     },
     "execution_count": 56,
     "metadata": {},
     "output_type": "execute_result"
    }
   ],
   "source": [
    "print('H (1q gate)')\n",
    "hgate = HGate()\n",
    "array_to_latex(hgate.to_matrix())"
   ]
  },
  {
   "cell_type": "code",
   "execution_count": 57,
   "id": "66652523",
   "metadata": {},
   "outputs": [
    {
     "data": {
      "image/png": "[encoded data removed]",
      "text/plain": [
       "<Figure size 133.526x84.28 with 1 Axes>"
      ]
     },
     "execution_count": 57,
     "metadata": {},
     "output_type": "execute_result"
    }
   ],
   "source": [
    "qc_h = QuantumCircuit(1)\n",
    "qc_h.h(0)\n",
    "qc_h.draw('mpl')"
   ]
  },
  {
   "cell_type": "markdown",
   "id": "f44bc879",
   "metadata": {},
   "source": [
    "**for an H gate applied to a qubit in state 0**\n",
    "\n",
    "Dirac notation = $H|0\\rangle$ = $|+\\rangle$ = $\\frac{1}{\\sqrt{2}}(|0\\rangle + |1\\rangle)$\n",
    "\n",
    "matrix = $ \\frac{1}{\\sqrt{2}}\\begin{bmatrix} 1 & 1 \\\\ 1 & -1 \\end{bmatrix} \\begin{bmatrix} 1 \\\\ 0 \\end{bmatrix}$\n",
    "\n",
    "\n",
    "**for an H gate applied to a qubit in state 1**\n",
    "\n",
    "Dirac notation = $H|1\\rangle$ = $|-\\rangle$ = $\\frac{1}{\\sqrt{2}}(|0\\rangle - |1\\rangle)$\n",
    "\n",
    "matrix = $ \\frac{1}{\\sqrt{2}}\\begin{bmatrix} 1 & 1 \\\\ 1 & -1 \\end{bmatrix} \\begin{bmatrix} 0 \\\\ 1 \\end{bmatrix}$"
   ]
  },
  {
   "cell_type": "markdown",
   "id": "44a715e1",
   "metadata": {},
   "source": [
    "## H & X are Unitary Gates\n",
    "\n",
    "- They are reversible\n",
    "- HH = I\n",
    "- XX = I\n",
    "\n",
    "$$ X|0\\rangle \\rightarrow |1\\rangle ~~~~~~~~ X|1\\rangle \\rightarrow |0\\rangle \\\\ $$\n",
    "\n",
    "$$H|0\\rangle \\rightarrow |+\\rangle ~~~~~~~~ H|+\\rangle \\rightarrow |0\\rangle \\\\ $$\n",
    "\n",
    "$$H|1\\rangle \\rightarrow |-\\rangle ~~~~~~~~ H|-\\rangle \\rightarrow |1\\rangle$$"
   ]
  },
  {
   "cell_type": "markdown",
   "id": "366590c6",
   "metadata": {},
   "source": [
    "## Controlled-Not Gate - 2 qubit gate\n",
    "- CNOT\n",
    "- CX\n"
   ]
  },
  {
   "cell_type": "code",
   "execution_count": 58,
   "id": "5fc8697a",
   "metadata": {},
   "outputs": [
    {
     "name": "stdout",
     "output_type": "stream",
     "text": [
      "CX (2q gate)\n"
     ]
    },
    {
     "data": {
      "text/latex": [
       "$$\n",
       "\n",
       "\\begin{bmatrix}\n",
       "1 & 0 & 0 & 0  \\\\\n",
       " 0 & 0 & 0 & 1  \\\\\n",
       " 0 & 0 & 1 & 0  \\\\\n",
       " 0 & 1 & 0 & 0  \\\\\n",
       " \\end{bmatrix}\n",
       "$$"
      ],
      "text/plain": [
       "<IPython.core.display.Latex object>"
      ]
     },
     "execution_count": 58,
     "metadata": {},
     "output_type": "execute_result"
    }
   ],
   "source": [
    "print('CX (2q gate)')\n",
    "cxgate = CXGate()\n",
    "array_to_latex(cxgate.to_matrix())"
   ]
  },
  {
   "cell_type": "code",
   "execution_count": 59,
   "id": "efebff49",
   "metadata": {},
   "outputs": [
    {
     "data": {
      "image/png": "[encoded data removed]",
      "text/plain": [
       "<Figure size 146.652x144.48 with 1 Axes>"
      ]
     },
     "execution_count": 59,
     "metadata": {},
     "output_type": "execute_result"
    }
   ],
   "source": [
    "qc2 = QuantumCircuit(2)\n",
    "qc2.cx(0,1)\n",
    "qc2.draw('mpl')"
   ]
  },
  {
   "cell_type": "markdown",
   "id": "0f898584",
   "metadata": {},
   "source": [
    "If q0 = 1, q1 flips  \n",
    "if q0 = 0, q1 doesn't flip\n",
    "\n",
    "\n",
    "so if q0 = 1, then q1 also = 1  \n",
    "and if q0 = 0, then q1 also = 0\n",
    "\n",
    "Dirac notation:\n",
    "$CNOT|00\\rangle$"
   ]
  },
  {
   "cell_type": "markdown",
   "id": "40441736",
   "metadata": {},
   "source": [
    "## Run your first Quantum Circuit"
   ]
  },
  {
   "cell_type": "code",
   "execution_count": 7,
   "id": "e7cb448c",
   "metadata": {},
   "outputs": [
    {
     "data": {
      "image/png": "[encoded data removed]",
      "text/plain": [
       "<Figure size 146.652x204.68 with 1 Axes>"
      ]
     },
     "execution_count": 7,
     "metadata": {},
     "output_type": "execute_result"
    }
   ],
   "source": [
    "circ = QuantumCircuit(2, 2)\n",
    "circ.h(0)\n",
    "circ.reverse_bits()\n",
    "circ.draw('mpl')"
   ]
  },
  {
   "cell_type": "code",
   "execution_count": 8,
   "id": "7012fa56",
   "metadata": {},
   "outputs": [
    {
     "data": {
      "image/png": "[encoded data removed]",
      "text/plain": [
       "<Figure size 327.252x204.68 with 1 Axes>"
      ]
     },
     "execution_count": 8,
     "metadata": {},
     "output_type": "execute_result"
    }
   ],
   "source": [
    "circ.barrier()\n",
    "circ.measure([0,1], [0,1])\n",
    "circ.draw('mpl')"
   ]
  },
  {
   "cell_type": "code",
   "execution_count": 9,
   "id": "fdbb7465",
   "metadata": {},
   "outputs": [
    {
     "name": "stdout",
     "output_type": "stream",
     "text": [
      "{'01': 501, '00': 499}\n"
     ]
    }
   ],
   "source": [
    "sim = Aer.get_backend('aer_simulator')\n",
    "transpiled = transpile(circ, sim)\n",
    "result = sim.run(transpiled, shots=1000).result()\n",
    "counts = result.get_counts()\n",
    "print(counts)"
   ]
  },
  {
   "cell_type": "code",
   "execution_count": 63,
   "id": "7a109808",
   "metadata": {},
   "outputs": [
    {
     "data": {
      "image/png": "[encoded data removed]",
      "text/plain": [
       "<Figure size 504x360 with 1 Axes>"
      ]
     },
     "execution_count": 63,
     "metadata": {},
     "output_type": "execute_result"
    }
   ],
   "source": [
    "plot_histogram(counts)"
   ]
  },
  {
   "cell_type": "markdown",
   "id": "56e470a4",
   "metadata": {},
   "source": [
    "## The Bell State\n",
    "\n",
    "- Simplest implementation of entanglement\n",
    "- Add a CNOT: control = q0 target = q1"
   ]
  },
  {
   "cell_type": "code",
   "execution_count": 10,
   "id": "a8b3fc59",
   "metadata": {},
   "outputs": [
    {
     "data": {
      "image/png": "[encoded data removed]",
      "text/plain": [
       "<Figure size 327.252x204.68 with 1 Axes>"
      ]
     },
     "execution_count": 10,
     "metadata": {},
     "output_type": "execute_result"
    }
   ],
   "source": [
    "bell = QuantumCircuit(2, 2)\n",
    "bell.h(0)\n",
    "bell.cx(0,1)\n",
    "bell.measure([0,1], [0,1])\n",
    "bell.draw('mpl')"
   ]
  },
  {
   "cell_type": "markdown",
   "id": "2a7db578",
   "metadata": {},
   "source": [
    "Dirac notation:\n",
    "\n",
    "$ CNOT|0{+}\\rangle = \\frac{1}{\\sqrt{2}}(|00\\rangle + |11\\rangle)$"
   ]
  },
  {
   "cell_type": "code",
   "execution_count": 11,
   "id": "7400d7b1",
   "metadata": {},
   "outputs": [
    {
     "name": "stdout",
     "output_type": "stream",
     "text": [
      "{'00': 467, '11': 533}\n"
     ]
    }
   ],
   "source": [
    "sim = Aer.get_backend('aer_simulator')\n",
    "transpiled_bell = transpile(bell, sim)\n",
    "result = sim.run(transpiled_bell, shots=1000).result()\n",
    "bell_counts = result.get_counts()\n",
    "print(bell_counts)"
   ]
  },
  {
   "cell_type": "code",
   "execution_count": 12,
   "id": "beedd980",
   "metadata": {},
   "outputs": [
    {
     "name": "stdout",
     "output_type": "stream",
     "text": [
      "{'00': 467, '11': 533}\n"
     ]
    },
    {
     "data": {
      "image/png": "[encoded data removed]",
      "text/plain": [
       "<Figure size 504x360 with 1 Axes>"
      ]
     },
     "execution_count": 12,
     "metadata": {},
     "output_type": "execute_result"
    }
   ],
   "source": [
    "print(bell_counts)\n",
    "plot_histogram(bell_counts)"
   ]
  },
  {
   "cell_type": "markdown",
   "id": "45e29758",
   "metadata": {},
   "source": [
    "### Run your Bell State on real hardware"
   ]
  },
  {
   "cell_type": "code",
   "execution_count": 43,
   "id": "e1c9181b",
   "metadata": {},
   "outputs": [
    {
     "name": "stderr",
     "output_type": "stream",
     "text": [
      "ibmqfactory.load_account:WARNING:2022-04-27 19:04:21,663: Credentials are already in use. The existing account in the session will be replaced.\n"
     ]
    },
    {
     "data": {
      "text/plain": [
       "<IBMQBackend('ibmq_lima') from IBMQ(hub='ibm-q', group='open', project='main')>"
      ]
     },
     "execution_count": 43,
     "metadata": {},
     "output_type": "execute_result"
    }
   ],
   "source": [
    "from qiskit import IBMQ\n",
    "from qiskit.providers.ibmq import least_busy\n",
    "\n",
    "# Go to https://quantum-computing.ibm.com/\n",
    "# Register\n",
    "# On your welcome page you should see API token field which you can copy and use during lab\n",
    "# IBMQ.save_account(\"<token>\")\n",
    "\n",
    "provider = IBMQ.load_account()\n",
    "\n",
    "least_busy_device = least_busy(provider.backends(simulator=False, filters=lambda b: b.configuration().n_qubits >= 2))\n",
    "\n",
    "least_busy_device"
   ]
  },
  {
   "cell_type": "code",
   "execution_count": 19,
   "id": "fb563834",
   "metadata": {},
   "outputs": [
    {
     "data": {
      "image/png": "[encoded data removed]",
      "text/plain": [
       "<Figure size 327.252x204.68 with 1 Axes>"
      ]
     },
     "execution_count": 19,
     "metadata": {},
     "output_type": "execute_result"
    }
   ],
   "source": [
    "bell.draw('mpl')"
   ]
  },
  {
   "cell_type": "code",
   "execution_count": 20,
   "id": "7ff2b05e",
   "metadata": {},
   "outputs": [],
   "source": [
    "job = execute(bell, backend=least_busy_device, shots=1000)"
   ]
  },
  {
   "cell_type": "code",
   "execution_count": 21,
   "id": "ca62a496",
   "metadata": {},
   "outputs": [
    {
     "data": {
      "text/plain": [
       "<JobStatus.ERROR: 'job incurred error'>"
      ]
     },
     "execution_count": 21,
     "metadata": {},
     "output_type": "execute_result"
    }
   ],
   "source": [
    "job.status()"
   ]
  },
  {
   "cell_type": "code",
   "execution_count": 17,
   "id": "87273f0a",
   "metadata": {},
   "outputs": [
    {
     "data": {
      "text/plain": [
       "<JobStatus.ERROR: 'job incurred error'>"
      ]
     },
     "execution_count": 17,
     "metadata": {},
     "output_type": "execute_result"
    }
   ],
   "source": [
    "job.wait_for_final_state()\n",
    "job.status()"
   ]
  },
  {
   "cell_type": "code",
   "execution_count": 42,
   "id": "379e2ab5",
   "metadata": {},
   "outputs": [
    {
     "ename": "IBMQJobFailureError",
     "evalue": "\"Unable to retrieve result for job 6269a4ad9e8c24578f466be9. Job has failed: The Qobj uses gates (['h']) that are not among the basis gates (['id', 'rz', 'sx', 'x', 'cx', 'reset']). Error code: 1106.\"",
     "output_type": "error",
     "traceback": [
      "\u001b[0;31m---------------------------------------------------------------------------\u001b[0m",
      "\u001b[0;31mIBMQJobFailureError\u001b[0m                       Traceback (most recent call last)",
      "\u001b[0;32m<ipython-input-42-fb50be83757a>\u001b[0m in \u001b[0;36m<module>\u001b[0;34m\u001b[0m\n\u001b[0;32m----> 1\u001b[0;31m \u001b[0mcounts\u001b[0m \u001b[0;34m=\u001b[0m \u001b[0mjob\u001b[0m\u001b[0;34m.\u001b[0m\u001b[0mresult\u001b[0m\u001b[0;34m(\u001b[0m\u001b[0;34m)\u001b[0m\u001b[0;34m.\u001b[0m\u001b[0mget_counts\u001b[0m\u001b[0;34m(\u001b[0m\u001b[0;34m)\u001b[0m\u001b[0;34m\u001b[0m\u001b[0;34m\u001b[0m\u001b[0m\n\u001b[0m\u001b[1;32m      2\u001b[0m \u001b[0mplot_histogram\u001b[0m\u001b[0;34m(\u001b[0m\u001b[0mcounts\u001b[0m\u001b[0;34m)\u001b[0m\u001b[0;34m\u001b[0m\u001b[0;34m\u001b[0m\u001b[0m\n",
      "\u001b[0;32m~/opt/anaconda3/lib/python3.9/site-packages/qiskit/providers/ibmq/job/ibmqjob.py\u001b[0m in \u001b[0;36mresult\u001b[0;34m(self, timeout, wait, partial, refresh)\u001b[0m\n\u001b[1;32m    288\u001b[0m                 \u001b[0;32melse\u001b[0m\u001b[0;34m:\u001b[0m\u001b[0;34m\u001b[0m\u001b[0;34m\u001b[0m\u001b[0m\n\u001b[1;32m    289\u001b[0m                     \u001b[0merror_message\u001b[0m \u001b[0;34m=\u001b[0m \u001b[0;34m\": \"\u001b[0m \u001b[0;34m+\u001b[0m \u001b[0merror_message\u001b[0m\u001b[0;34m\u001b[0m\u001b[0;34m\u001b[0m\u001b[0m\n\u001b[0;32m--> 290\u001b[0;31m                 raise IBMQJobFailureError(\n\u001b[0m\u001b[1;32m    291\u001b[0m                     'Unable to retrieve result for job {}. Job has failed{}'.format(\n\u001b[1;32m    292\u001b[0m                         self.job_id(), error_message))\n",
      "\u001b[0;31mIBMQJobFailureError\u001b[0m: \"Unable to retrieve result for job 6269a4ad9e8c24578f466be9. Job has failed: The Qobj uses gates (['h']) that are not among the basis gates (['id', 'rz', 'sx', 'x', 'cx', 'reset']). Error code: 1106.\""
     ]
    }
   ],
   "source": [
    "counts = job.result().get_counts()\n",
    "plot_histogram(counts)"
   ]
  },
  {
   "cell_type": "markdown",
   "id": "6b7871e5",
   "metadata": {},
   "source": [
    "# Ex 1\n",
    "The GHZ state is similar to a Bell State but with 3 qubits. When measured it will produce outcomes of 000 or 111.  \n",
    "\n",
    "The dirac notation for the GHZ state is $\\frac{1}{\\sqrt{2}}(|000\\rangle + |111\\rangle)$.  \n",
    "\n",
    "In the cell below, create a quantum circuit for the GHZ state"
   ]
  },
  {
   "cell_type": "code",
   "execution_count": 27,
   "id": "bc03c7e0",
   "metadata": {},
   "outputs": [
    {
     "data": {
      "image/png": "[encoded data removed]",
      "text/plain": [
       "<Figure size 538.279x264.88 with 1 Axes>"
      ]
     },
     "execution_count": 27,
     "metadata": {},
     "output_type": "execute_result"
    }
   ],
   "source": [
    "# Add your code here, you must name your quantum circuit ghz\n",
    "\n",
    "ghz.draw('mpl')"
   ]
  },
  {
   "cell_type": "markdown",
   "id": "770a81ed",
   "metadata": {},
   "source": [
    "# Ex 2\n",
    "In the cell below create a quantum circuit that, when run on a quantum simulator with a single shot, could act as a random number generator. Your circuit should be able to generate any number from 0 to 31 (inclusive)"
   ]
  },
  {
   "cell_type": "code",
   "execution_count": 41,
   "id": "4686f0ae",
   "metadata": {},
   "outputs": [],
   "source": [
    "# Add your code here\n"
   ]
  }
 ],
 "metadata": {
  "kernelspec": {
   "display_name": "Python 3",
   "language": "python",
   "name": "python3"
  },
  "language_info": {
   "codemirror_mode": {
    "name": "ipython",
    "version": 3
   },
   "file_extension": ".py",
   "mimetype": "text/x-python",
   "name": "python",
   "nbconvert_exporter": "python",
   "pygments_lexer": "ipython3",
   "version": "3.9.7"
  }
 },
 "nbformat": 4,
 "nbformat_minor": 5
}
