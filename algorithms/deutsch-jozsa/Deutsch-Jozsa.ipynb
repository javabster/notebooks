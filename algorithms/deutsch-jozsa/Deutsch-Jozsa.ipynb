{
 "cells": [
  {
   "cell_type": "markdown",
   "id": "ffdd2add",
   "metadata": {
    "slideshow": {
     "slide_type": "slide"
    }
   },
   "source": [
    "# An Introduction to Quantum Coding with Qiskit"
   ]
  },
  {
   "cell_type": "code",
   "execution_count": 44,
   "id": "7b5277f9",
   "metadata": {
    "slideshow": {
     "slide_type": "fragment"
    }
   },
   "outputs": [],
   "source": [
    "#imports\n",
    "from IPython.display import Latex\n",
    "from qiskit import QuantumCircuit, QuantumRegister, ClassicalRegister, Aer, transpile, execute\n",
    "from qiskit.circuit.library import *\n",
    "from qiskit.circuit.random import random_circuit\n",
    "from qiskit.visualization import plot_histogram, array_to_latex"
   ]
  },
  {
   "cell_type": "markdown",
   "id": "4fdb78fc",
   "metadata": {
    "slideshow": {
     "slide_type": "slide"
    }
   },
   "source": [
    "## Workshop contents\n",
    "- Quantum Computing basics - recap\n",
    "- Introduction to Quantum Gates and Circuits\n",
    "- Run your first Quantum Circuit - Bell State\n",
    "- Solving problems with Quantum Computers\n",
    "- Deutsch-Jozsa Algorithm\n",
    "- Run on real hardware"
   ]
  },
  {
   "cell_type": "markdown",
   "id": "1081b5be",
   "metadata": {
    "slideshow": {
     "slide_type": "slide"
    }
   },
   "source": [
    "## Recap - Qubits & Superposition\n",
    "<img src=\"superposition.png\" alt=\"\" style=\"height: 500px;\"/>"
   ]
  },
  {
   "cell_type": "markdown",
   "id": "9bb92297",
   "metadata": {
    "slideshow": {
     "slide_type": "slide"
    }
   },
   "source": [
    "## Recap - Measurement\n",
    "![](measure.png)\n",
    "50:50 chance 0 or 1"
   ]
  },
  {
   "cell_type": "markdown",
   "id": "d3dcc148",
   "metadata": {
    "slideshow": {
     "slide_type": "slide"
    }
   },
   "source": [
    "## Recap - Entanglement\n",
    "<img src=\"spooky-action-cartoon.jpg\" alt=\"\" style=\"height: 500px;\"/>"
   ]
  },
  {
   "cell_type": "markdown",
   "id": "565669cb",
   "metadata": {
    "slideshow": {
     "slide_type": "slide"
    }
   },
   "source": [
    "## Circuits - Classical vs Quantum\n",
    "\n",
    "<div style=\"display: flex; flex-direction:row\">\n",
    "    <img src=\"circuit-classical.png\" alt=\"\" style=\"height: 300px; padding: 10px\"/>\n",
    "    <img src=\"circuit-example-bw.png\" alt=\"\" style=\"height: 300px; width: 500px; padding: 10px\"/>\n",
    "</div>"
   ]
  },
  {
   "cell_type": "markdown",
   "id": "938d1d5a",
   "metadata": {
    "slideshow": {
     "slide_type": "slide"
    }
   },
   "source": [
    "![](circuit-example.png)"
   ]
  },
  {
   "cell_type": "code",
   "execution_count": 48,
   "id": "2a0d7f4e",
   "metadata": {
    "slideshow": {
     "slide_type": "fragment"
    }
   },
   "outputs": [
    {
     "data": {
      "image/png": "[encoded data removed]",
      "text/plain": [
       "<Figure size 387.452x204.68 with 1 Axes>"
      ]
     },
     "execution_count": 48,
     "metadata": {},
     "output_type": "execute_result"
    }
   ],
   "source": [
    "rand = random_circuit(2, 2, measure=True)\n",
    "rand.draw('mpl')"
   ]
  },
  {
   "cell_type": "code",
   "execution_count": 50,
   "id": "60ca1471",
   "metadata": {
    "slideshow": {
     "slide_type": "notes"
    }
   },
   "outputs": [
    {
     "data": {
      "image/png": "[encoded data removed]",
      "text/plain": [
       "<Figure size 103.426x144.48 with 1 Axes>"
      ]
     },
     "execution_count": 50,
     "metadata": {},
     "output_type": "execute_result"
    }
   ],
   "source": [
    "# qc = QuantumCircuit(1)\n",
    "qc = QuantumCircuit(1, 1)\n",
    "qc.draw('mpl')"
   ]
  },
  {
   "cell_type": "code",
   "execution_count": 51,
   "id": "1a3e2d25",
   "metadata": {
    "slideshow": {
     "slide_type": "fragment"
    }
   },
   "outputs": [
    {
     "data": {
      "image/png": "[encoded data removed]",
      "text/plain": [
       "<Figure size 189.396x204.68 with 1 Axes>"
      ]
     },
     "execution_count": 51,
     "metadata": {},
     "output_type": "execute_result"
    }
   ],
   "source": [
    "qr = QuantumRegister(2, name='myqubit')\n",
    "cr = ClassicalRegister(2, name='bits')\n",
    "qc = QuantumCircuit(cr, qr)\n",
    "qc.draw('mpl')"
   ]
  },
  {
   "cell_type": "markdown",
   "id": "4bd7f0b5",
   "metadata": {
    "slideshow": {
     "slide_type": "slide"
    }
   },
   "source": [
    "## Quantum Gates\n",
    "\n",
    "3 ways to represent Quantum Gates:\n",
    "- circuit box model\n",
    "- Dirac notation\n",
    "- matrices\n"
   ]
  },
  {
   "cell_type": "markdown",
   "id": "96d21ad8",
   "metadata": {
    "slideshow": {
     "slide_type": "slide"
    }
   },
   "source": [
    "## Let's start with bits - 0 & 1\n",
    "\n",
    "### bitstring = 0\n",
    "Dirac notation = $|0\\rangle$  \n",
    "matrix = $ \\begin{bmatrix} 1 \\\\ 0 \\end{bmatrix} \\, \\, \\, \\, $\n",
    "\n",
    "### bitstring = 1\n",
    "Dirac notation = $ |1\\rangle $  \n",
    "matrix = $\\begin{bmatrix} 0 \\\\ 1 \\end{bmatrix}$"
   ]
  },
  {
   "cell_type": "markdown",
   "id": "dbf59b7b",
   "metadata": {
    "slideshow": {
     "slide_type": "slide"
    }
   },
   "source": [
    "## X Gate - single qubit gate\n",
    "\n",
    "- equivalent to a classical NOT gate (i.e. a bit flip)\n",
    "- flips the input bit to opposite sign\n",
    "- 0 -> 1\n",
    "- 1 -> 0\n",
    "\n",
    "![](classical-not.jpg)"
   ]
  },
  {
   "cell_type": "code",
   "execution_count": 54,
   "id": "82d13508",
   "metadata": {
    "slideshow": {
     "slide_type": "fragment"
    }
   },
   "outputs": [
    {
     "data": {
      "image/png": "[encoded data removed]",
      "text/plain": [
       "<Figure size 133.526x84.28 with 1 Axes>"
      ]
     },
     "execution_count": 54,
     "metadata": {},
     "output_type": "execute_result"
    }
   ],
   "source": [
    "qc_x = QuantumCircuit(1)\n",
    "qc_x.x(0)\n",
    "qc_x.draw('mpl')"
   ]
  },
  {
   "cell_type": "code",
   "execution_count": 55,
   "id": "a515eb39",
   "metadata": {},
   "outputs": [
    {
     "name": "stdout",
     "output_type": "stream",
     "text": [
      "X (1q gate)\n"
     ]
    },
    {
     "data": {
      "text/latex": [
       "$$\n",
       "\n",
       "\\begin{bmatrix}\n",
       "0 & 1  \\\\\n",
       " 1 & 0  \\\\\n",
       " \\end{bmatrix}\n",
       "$$"
      ],
      "text/plain": [
       "<IPython.core.display.Latex object>"
      ]
     },
     "execution_count": 55,
     "metadata": {},
     "output_type": "execute_result"
    }
   ],
   "source": [
    "print('X (1q gate)')\n",
    "xgate = XGate()\n",
    "array_to_latex(xgate.to_matrix())"
   ]
  },
  {
   "cell_type": "markdown",
   "id": "6d54442a",
   "metadata": {},
   "source": [
    "**for an X gate applied to a qubit in state 0**\n",
    "\n",
    "Dirac notation = $X|0\\rangle$ = $|1\\rangle$\n",
    "\n",
    "matrix = $ \\begin{bmatrix} 0 & 1 \\\\ 1 & 0 \\end{bmatrix} \\begin{bmatrix} 1 \\\\ 0 \\end{bmatrix} = \\begin{bmatrix} 0*1 + 1*0 \\\\ 1*1 + 0*0 \\end{bmatrix} = \\begin{bmatrix} 0 \\\\ 1 \\end{bmatrix}$\n",
    "\n",
    "**for an X gate applied to a qubit in state 1**\n",
    "\n",
    "Dirac notation = $X|1\\rangle$ = $|0\\rangle$\n",
    "\n",
    "matrix = $ \\begin{bmatrix} 0 & 1 \\\\ 1 & 0 \\end{bmatrix} \\begin{bmatrix} 0 \\\\ 1 \\end{bmatrix} = \\begin{bmatrix} 0*0 + 1*1 \\\\ 1*0 + 0*1 \\end{bmatrix} = \\begin{bmatrix} 0 \\\\ 1 \\end{bmatrix}$\n",
    "\n",
    "\n",
    "Applying a gate to a quantum state = matrix multiplication"
   ]
  },
  {
   "cell_type": "markdown",
   "id": "ffe58c53",
   "metadata": {},
   "source": [
    "## Haddamard Gate\n",
    "\n",
    "- no classical equivalent\n",
    "- puts a qubit into superposition"
   ]
  },
  {
   "cell_type": "code",
   "execution_count": 56,
   "id": "81068ef8",
   "metadata": {},
   "outputs": [
    {
     "name": "stdout",
     "output_type": "stream",
     "text": [
      "H (1q gate)\n"
     ]
    },
    {
     "data": {
      "text/latex": [
       "$$\n",
       "\n",
       "\\begin{bmatrix}\n",
       "\\tfrac{1}{\\sqrt{2}} & \\tfrac{1}{\\sqrt{2}}  \\\\\n",
       " \\tfrac{1}{\\sqrt{2}} & -\\tfrac{1}{\\sqrt{2}}  \\\\\n",
       " \\end{bmatrix}\n",
       "$$"
      ],
      "text/plain": [
       "<IPython.core.display.Latex object>"
      ]
     },
     "execution_count": 56,
     "metadata": {},
     "output_type": "execute_result"
    }
   ],
   "source": [
    "print('H (1q gate)')\n",
    "hgate = HGate()\n",
    "array_to_latex(hgate.to_matrix())"
   ]
  },
  {
   "cell_type": "code",
   "execution_count": 57,
   "id": "66652523",
   "metadata": {},
   "outputs": [
    {
     "data": {
      "image/png": "[encoded data removed]",
      "text/plain": [
       "<Figure size 133.526x84.28 with 1 Axes>"
      ]
     },
     "execution_count": 57,
     "metadata": {},
     "output_type": "execute_result"
    }
   ],
   "source": [
    "qc_h = QuantumCircuit(1)\n",
    "qc_h.h(0)\n",
    "qc_h.draw('mpl')"
   ]
  },
  {
   "cell_type": "markdown",
   "id": "f44bc879",
   "metadata": {},
   "source": [
    "**for an H gate applied to a qubit in state 0**\n",
    "\n",
    "Dirac notation = $H|0\\rangle$ = $|+\\rangle$ = $\\frac{1}{\\sqrt{2}}(|0\\rangle + |1\\rangle)$\n",
    "\n",
    "matrix = $ \\frac{1}{\\sqrt{2}}\\begin{bmatrix} 1 & 1 \\\\ 1 & -1 \\end{bmatrix} \\begin{bmatrix} 1 \\\\ 0 \\end{bmatrix}$\n",
    "\n",
    "\n",
    "**for an H gate applied to a qubit in state 1**\n",
    "\n",
    "Dirac notation = $H|1\\rangle$ = $|-\\rangle$ = $\\frac{1}{\\sqrt{2}}(|0\\rangle - |1\\rangle)$\n",
    "\n",
    "matrix = $ \\frac{1}{\\sqrt{2}}\\begin{bmatrix} 1 & 1 \\\\ 1 & -1 \\end{bmatrix} \\begin{bmatrix} 0 \\\\ 1 \\end{bmatrix}$"
   ]
  },
  {
   "cell_type": "markdown",
   "id": "44a715e1",
   "metadata": {},
   "source": [
    "## H & X are Unitary Gates\n",
    "\n",
    "- They are reversible\n",
    "- HH = I\n",
    "- XX = I\n",
    "\n",
    "$$ X|0\\rangle \\rightarrow |1\\rangle ~~~~~~~~ X|1\\rangle \\rightarrow |0\\rangle \\\\ $$\n",
    "\n",
    "$$H|0\\rangle \\rightarrow |+\\rangle ~~~~~~~~ H|+\\rangle \\rightarrow |0\\rangle \\\\ $$\n",
    "\n",
    "$$H|1\\rangle \\rightarrow |-\\rangle ~~~~~~~~ H|-\\rangle \\rightarrow |1\\rangle$$"
   ]
  },
  {
   "cell_type": "markdown",
   "id": "366590c6",
   "metadata": {},
   "source": [
    "## Controlled-Not Gate - 2 qubit gate\n",
    "- CNOT\n",
    "- CX\n"
   ]
  },
  {
   "cell_type": "code",
   "execution_count": 58,
   "id": "5fc8697a",
   "metadata": {},
   "outputs": [
    {
     "name": "stdout",
     "output_type": "stream",
     "text": [
      "CX (2q gate)\n"
     ]
    },
    {
     "data": {
      "text/latex": [
       "$$\n",
       "\n",
       "\\begin{bmatrix}\n",
       "1 & 0 & 0 & 0  \\\\\n",
       " 0 & 0 & 0 & 1  \\\\\n",
       " 0 & 0 & 1 & 0  \\\\\n",
       " 0 & 1 & 0 & 0  \\\\\n",
       " \\end{bmatrix}\n",
       "$$"
      ],
      "text/plain": [
       "<IPython.core.display.Latex object>"
      ]
     },
     "execution_count": 58,
     "metadata": {},
     "output_type": "execute_result"
    }
   ],
   "source": [
    "print('CX (2q gate)')\n",
    "cxgate = CXGate()\n",
    "array_to_latex(cxgate.to_matrix())"
   ]
  },
  {
   "cell_type": "code",
   "execution_count": 59,
   "id": "efebff49",
   "metadata": {},
   "outputs": [
    {
     "data": {
      "image/png": "[encoded data removed]",
      "text/plain": [
       "<Figure size 146.652x144.48 with 1 Axes>"
      ]
     },
     "execution_count": 59,
     "metadata": {},
     "output_type": "execute_result"
    }
   ],
   "source": [
    "qc2 = QuantumCircuit(2)\n",
    "qc2.cx(0,1)\n",
    "qc2.draw('mpl')"
   ]
  },
  {
   "cell_type": "markdown",
   "id": "0f898584",
   "metadata": {},
   "source": [
    "If q0 = 1, q1 flips  \n",
    "if q0 = 0, q1 doesn't flip\n",
    "\n",
    "\n",
    "so if q0 = 1, then q1 also = 1  \n",
    "and if q0 = 0, then q1 also = 0\n",
    "\n",
    "Dirac notation:\n",
    "$CNOT|00\\rangle$"
   ]
  },
  {
   "cell_type": "markdown",
   "id": "40441736",
   "metadata": {},
   "source": [
    "## Run your first Quantum Circuit - The Bell State"
   ]
  },
  {
   "cell_type": "code",
   "execution_count": 107,
   "id": "e7cb448c",
   "metadata": {},
   "outputs": [
    {
     "data": {
      "image/png": "[encoded data removed]",
      "text/plain": [
       "<Figure size 146.652x204.68 with 1 Axes>"
      ]
     },
     "execution_count": 107,
     "metadata": {},
     "output_type": "execute_result"
    }
   ],
   "source": [
    "circ = QuantumCircuit(2, 2)\n",
    "circ.h(0)\n",
    "circ.reverse_bits()\n",
    "circ.draw('mpl')"
   ]
  },
  {
   "cell_type": "code",
   "execution_count": 106,
   "id": "7012fa56",
   "metadata": {},
   "outputs": [
    {
     "data": {
      "image/png": "[encoded data removed]",
      "text/plain": [
       "<Figure size 206.852x204.68 with 1 Axes>"
      ]
     },
     "execution_count": 106,
     "metadata": {},
     "output_type": "execute_result"
    }
   ],
   "source": [
    "circ\n",
    "circ.measure([0,1], [0,1])\n",
    "circ.draw('mpl')"
   ]
  },
  {
   "cell_type": "code",
   "execution_count": 62,
   "id": "fdbb7465",
   "metadata": {},
   "outputs": [
    {
     "name": "stdout",
     "output_type": "stream",
     "text": [
      "{'01': 508, '00': 492}\n"
     ]
    }
   ],
   "source": [
    "sim = Aer.get_backend('aer_simulator')\n",
    "transpiled = transpile(circ, sim)\n",
    "result = sim.run(transpiled, shots=1000).result()\n",
    "counts = result.get_counts()\n",
    "print(counts)"
   ]
  },
  {
   "cell_type": "code",
   "execution_count": 63,
   "id": "7a109808",
   "metadata": {},
   "outputs": [
    {
     "data": {
      "image/png": "[encoded data removed]",
      "text/plain": [
       "<Figure size 504x360 with 1 Axes>"
      ]
     },
     "execution_count": 63,
     "metadata": {},
     "output_type": "execute_result"
    }
   ],
   "source": [
    "plot_histogram(counts)"
   ]
  },
  {
   "cell_type": "markdown",
   "id": "56e470a4",
   "metadata": {},
   "source": [
    "## The Bell State\n",
    "\n",
    "- Simplest implementation of entanglement\n",
    "- Add a CNOT: control = q0 target = q1"
   ]
  },
  {
   "cell_type": "code",
   "execution_count": 64,
   "id": "a8b3fc59",
   "metadata": {},
   "outputs": [
    {
     "data": {
      "image/png": "[encoded data removed]",
      "text/plain": [
       "<Figure size 327.252x204.68 with 1 Axes>"
      ]
     },
     "execution_count": 64,
     "metadata": {},
     "output_type": "execute_result"
    }
   ],
   "source": [
    "bell = QuantumCircuit(2, 2)\n",
    "bell.h(0)\n",
    "bell.cx(0,1)\n",
    "bell.measure([0,1], [0,1])\n",
    "bell.draw('mpl')"
   ]
  },
  {
   "cell_type": "markdown",
   "id": "2a7db578",
   "metadata": {},
   "source": [
    "Dirac notation:\n",
    "\n",
    "$ CNOT|0{+}\\rangle = \\frac{1}{\\sqrt{2}}(|00\\rangle + |11\\rangle)$"
   ]
  },
  {
   "cell_type": "code",
   "execution_count": 65,
   "id": "7400d7b1",
   "metadata": {},
   "outputs": [
    {
     "name": "stdout",
     "output_type": "stream",
     "text": [
      "{'00': 496, '11': 504}\n"
     ]
    }
   ],
   "source": [
    "sim = Aer.get_backend('aer_simulator')\n",
    "transpiled_bell = transpile(bell, sim)\n",
    "result = sim.run(transpiled_bell, shots=1000).result()\n",
    "bell_counts = result.get_counts()\n",
    "print(bell_counts)"
   ]
  },
  {
   "cell_type": "code",
   "execution_count": 66,
   "id": "beedd980",
   "metadata": {},
   "outputs": [
    {
     "name": "stdout",
     "output_type": "stream",
     "text": [
      "{'00': 496, '11': 504}\n"
     ]
    },
    {
     "data": {
      "image/png": "[encoded data removed]",
      "text/plain": [
       "<Figure size 504x360 with 1 Axes>"
      ]
     },
     "execution_count": 66,
     "metadata": {},
     "output_type": "execute_result"
    }
   ],
   "source": [
    "print(bell_counts)\n",
    "plot_histogram(bell_counts)"
   ]
  },
  {
   "cell_type": "markdown",
   "id": "4ba7f61f",
   "metadata": {
    "slideshow": {
     "slide_type": "slide"
    }
   },
   "source": [
    "## Solving Problems with Quantum Computers\n",
    "With universal quantum computation we could implement any classical computation, but not every algorithm can be implemented in a quantum computer efficiently (taking advantage of quantum features).\n",
    "\n",
    "Example of things that a quantum computer can do \"faster\":\n",
    "\n",
    "- Simulating quantum systems\n",
    "    - Varational Quantum Eigensolver (simulating molecules)\n",
    "- Factor numbers in polynomial time (Shor's algorithm 1994)\n",
    "    - Quantum Fourier transform\n",
    "- Optimization problems (for example, for ML)\n",
    "    - Quadratic speedup search in an unsorted list (Grover's algorithm 1996)"
   ]
  },
  {
   "cell_type": "markdown",
   "id": "7bc765cd",
   "metadata": {
    "slideshow": {
     "slide_type": "slide"
    }
   },
   "source": [
    "## Solving Problems with Quantum Computers\n",
    "![](full-diagram.png \"Solving Problems on Quantum Computers\")"
   ]
  },
  {
   "cell_type": "markdown",
   "id": "216fd451",
   "metadata": {},
   "source": [
    "## The Problem - constant or balanced?\n",
    "\n",
    "Back to classical! 4 classical operations on 1 bit:\n",
    "\n",
    "![](const-balanced.png)\n"
   ]
  },
  {
   "cell_type": "markdown",
   "id": "c3dc6528",
   "metadata": {},
   "source": [
    "![](black-box.png)"
   ]
  },
  {
   "cell_type": "markdown",
   "id": "08c6bb97",
   "metadata": {},
   "source": [
    "![](bb-example.png)\n",
    "\n",
    "For classical computation you would need to run f(x) *at least* twice to know what's in the black box. O(n/2 + 1)"
   ]
  },
  {
   "cell_type": "markdown",
   "id": "17ad1f86",
   "metadata": {},
   "source": [
    "![](diagram-2.png)"
   ]
  },
  {
   "cell_type": "markdown",
   "id": "abe51799",
   "metadata": {},
   "source": [
    "## The Quantum Algorithm - Deutsch-Jozsa\n",
    "\n",
    "- only need to run f(x) once to know if constant or balanced. O(1)\n",
    "- published in 1992, first example of a quantum algorithm that performs better than the best classical algorithm.\n",
    "\n",
    "\n",
    "\n"
   ]
  },
  {
   "cell_type": "markdown",
   "id": "f2e52192",
   "metadata": {},
   "source": [
    "![](diagram-3.png)"
   ]
  },
  {
   "cell_type": "markdown",
   "id": "5e4d143c",
   "metadata": {},
   "source": [
    "## Step 1 - prepare the oracles\n",
    "\n",
    "![](bb-quantum.png)\n",
    "\n",
    "- Oracle 1 = Identity\n",
    "- Oracle 2 = Negation\n",
    "- Oracle 3 = Constant-0\n",
    "- Oracle 4 = Constant-1"
   ]
  },
  {
   "cell_type": "markdown",
   "id": "e33241f7",
   "metadata": {},
   "source": [
    "## Oracle 1 - Identity\n",
    "\n",
    "![](oracle1.png)"
   ]
  },
  {
   "cell_type": "code",
   "execution_count": 86,
   "id": "0d3e8a35",
   "metadata": {},
   "outputs": [
    {
     "data": {
      "image/png": "[encoded data removed]",
      "text/plain": [
       "<Figure size 232.615x144.48 with 1 Axes>"
      ]
     },
     "execution_count": 86,
     "metadata": {},
     "output_type": "execute_result"
    }
   ],
   "source": [
    "input = QuantumRegister(1, name='input')\n",
    "output = QuantumRegister(1, name='output')\n",
    "identity = QuantumCircuit(input, output, name='oracle')\n",
    "identity.cx(input, output)\n",
    "oracle1 = identity.to_instruction() # save to instruction for later\n",
    "identity.draw('mpl', initial_state=True)"
   ]
  },
  {
   "cell_type": "markdown",
   "id": "6919f52c",
   "metadata": {},
   "source": [
    "## Oracle 2 - Negation\n",
    "\n",
    "![](oracle2.png)"
   ]
  },
  {
   "cell_type": "code",
   "execution_count": 87,
   "id": "f01be86c",
   "metadata": {},
   "outputs": [
    {
     "data": {
      "image/png": "[encoded data removed]",
      "text/plain": [
       "<Figure size 292.815x144.48 with 1 Axes>"
      ]
     },
     "execution_count": 87,
     "metadata": {},
     "output_type": "execute_result"
    }
   ],
   "source": [
    "input = QuantumRegister(1, name='input')\n",
    "output = QuantumRegister(1, name='output')\n",
    "invert = QuantumCircuit(input, output, name='oracle')\n",
    "invert.cx(input, output)\n",
    "invert.x(output)\n",
    "oracle2 = invert.to_instruction() # save to instruction for later\n",
    "invert.draw('mpl', initial_state=True)"
   ]
  },
  {
   "cell_type": "markdown",
   "id": "06b8ad3c",
   "metadata": {},
   "source": [
    "## Oracle 3 - Constant-0\n",
    "\n",
    "![](oracle3.png)"
   ]
  },
  {
   "cell_type": "code",
   "execution_count": 88,
   "id": "c38f334c",
   "metadata": {},
   "outputs": [
    {
     "data": {
      "image/png": "[encoded data removed]",
      "text/plain": [
       "<Figure size 202.515x144.48 with 1 Axes>"
      ]
     },
     "execution_count": 88,
     "metadata": {},
     "output_type": "execute_result"
    }
   ],
   "source": [
    "input = QuantumRegister(1, name='input')\n",
    "output = QuantumRegister(1, name='output')\n",
    "constant0 = QuantumCircuit(input, output, name='oracle')\n",
    "oracle3 = constant0.to_instruction() # save to instruction for later\n",
    "constant0.draw('mpl', initial_state=True)"
   ]
  },
  {
   "cell_type": "markdown",
   "id": "1fc02265",
   "metadata": {},
   "source": [
    "## Oracle 4 - Constant-1\n",
    "\n",
    "![](oracle4.png)"
   ]
  },
  {
   "cell_type": "code",
   "execution_count": 89,
   "id": "5da4d958",
   "metadata": {},
   "outputs": [
    {
     "data": {
      "image/png": "[encoded data removed]",
      "text/plain": [
       "<Figure size 232.615x144.48 with 1 Axes>"
      ]
     },
     "execution_count": 89,
     "metadata": {},
     "output_type": "execute_result"
    }
   ],
   "source": [
    "input = QuantumRegister(1, name='input')\n",
    "output = QuantumRegister(1, name='output')\n",
    "constant1 = QuantumCircuit(input, output, name='oracle')\n",
    "constant1.x(output)\n",
    "oracle4 = constant1.to_instruction() # save to instruction for later\n",
    "constant1.draw('mpl', initial_state=True)"
   ]
  },
  {
   "cell_type": "markdown",
   "id": "8117b783",
   "metadata": {},
   "source": [
    "![](all-oracles.png)"
   ]
  },
  {
   "cell_type": "code",
   "execution_count": 96,
   "id": "43ace435",
   "metadata": {},
   "outputs": [
    {
     "data": {
      "image/png": "[encoded data removed]",
      "text/plain": [
       "<Figure size 473.415x204.68 with 1 Axes>"
      ]
     },
     "execution_count": 96,
     "metadata": {},
     "output_type": "execute_result"
    }
   ],
   "source": [
    "# run oracles just to test\n",
    "result = ClassicalRegister(1, name='result')\n",
    "circuit = QuantumCircuit(input, output, result)\n",
    "circuit.barrier()\n",
    "circuit.compose(oracle4, inplace=True) \n",
    "circuit.barrier()\n",
    "circuit.measure(output, result)\n",
    "circuit.draw('mpl', initial_state=True)"
   ]
  },
  {
   "cell_type": "code",
   "execution_count": 97,
   "id": "7780e048",
   "metadata": {},
   "outputs": [
    {
     "data": {
      "text/plain": [
       "{'1': 1000}"
      ]
     },
     "execution_count": 97,
     "metadata": {},
     "output_type": "execute_result"
    }
   ],
   "source": [
    "sim = Aer.get_backend('aer_simulator')\n",
    "execute(circuit, backend=sim, shots=1000).result().get_counts()"
   ]
  },
  {
   "cell_type": "markdown",
   "id": "9a4cf855",
   "metadata": {},
   "source": [
    "## Step 2 - Create a Deutsch-Jozsa Circuit with an Oracle"
   ]
  },
  {
   "cell_type": "code",
   "execution_count": 98,
   "id": "4ba2ce5b",
   "metadata": {},
   "outputs": [
    {
     "data": {
      "image/png": "[encoded data removed]",
      "text/plain": [
       "<Figure size 500.433x204.68 with 1 Axes>"
      ]
     },
     "execution_count": 98,
     "metadata": {},
     "output_type": "execute_result"
    }
   ],
   "source": [
    "qr = QuantumRegister(2, name='q')\n",
    "cr = ClassicalRegister(1, name='result')\n",
    "circuit = QuantumCircuit(qr, cr)\n",
    "circuit.x(qr[1])\n",
    "circuit.h(qr)\n",
    "circuit.append(oracle1, [qr[0], qr[1]]) # <-- you can replace here for other oracles\n",
    "circuit.h(qr[0])\n",
    "circuit.measure(qr[0], cr[0])\n",
    "circuit.draw('mpl', initial_state=True, justify=\"right\")"
   ]
  },
  {
   "cell_type": "code",
   "execution_count": 99,
   "id": "86ae78b6",
   "metadata": {},
   "outputs": [
    {
     "data": {
      "text/plain": [
       "{'BALANCED': 1, 'CONSTANT': None}"
      ]
     },
     "execution_count": 99,
     "metadata": {},
     "output_type": "execute_result"
    }
   ],
   "source": [
    "# if balanced, q0 will be 1, if constant q0 will be 0\n",
    "counts = execute(circuit, backend=sim, shots=1).result().get_counts()\n",
    "counts['BALANCED'] = counts.pop('1', None)\n",
    "counts['CONSTANT'] = counts.pop('0', None)\n",
    "counts"
   ]
  },
  {
   "cell_type": "markdown",
   "id": "760690b1",
   "metadata": {},
   "source": [
    "# wait... WHAT?! Why?!"
   ]
  },
  {
   "cell_type": "markdown",
   "id": "485eb48e",
   "metadata": {},
   "source": [
    "![](all-oracles.png)\n",
    "\n",
    "The difference between balanced/constant is the existance of a $\\text{CNOT}$ gate in the oracle.\n",
    "In essence, the only thing that Deutsch does is **detecting that $\\text{CNOT}$**.\n",
    "\n",
    "How can you detect that CNOT? The oracle box is closed.\n",
    "\n",
    "Thanks to a trick called *phase kickback*. If you understand phase kickback you\n",
    "will be able to understand many other algorithms."
   ]
  },
  {
   "cell_type": "code",
   "execution_count": 100,
   "id": "5ecd9979",
   "metadata": {},
   "outputs": [
    {
     "data": {
      "image/png": "[encoded data removed]",
      "text/plain": [
       "<Figure size 500.433x204.68 with 1 Axes>"
      ]
     },
     "execution_count": 100,
     "metadata": {},
     "output_type": "execute_result"
    }
   ],
   "source": [
    "qr = QuantumRegister(2, name='q')\n",
    "cr = ClassicalRegister(1, name='result')\n",
    "circuit = QuantumCircuit(qr, cr)\n",
    "circuit.x(qr[1])\n",
    "circuit.h(qr)\n",
    "circuit.append(oracle1, [qr[0], qr[1]]) # <-- you can replace here for other oracles\n",
    "circuit.h(qr[0])\n",
    "circuit.measure(qr[0], cr[0])\n",
    "circuit.draw('mpl', initial_state=True, justify=\"right\")"
   ]
  },
  {
   "cell_type": "code",
   "execution_count": 101,
   "id": "baad4675",
   "metadata": {},
   "outputs": [
    {
     "data": {
      "image/png": "[encoded data removed]",
      "text/plain": [
       "<Figure size 250.695x144.48 with 1 Axes>"
      ]
     },
     "execution_count": 101,
     "metadata": {},
     "output_type": "execute_result"
    }
   ],
   "source": [
    "circuit = QuantumCircuit(2)\n",
    "circuit.h(0)\n",
    "circuit.x(1)\n",
    "circuit.h(1)\n",
    "\n",
    "circuit.draw('mpl', initial_state=True, justify='right')"
   ]
  },
  {
   "cell_type": "markdown",
   "id": "27c398fb",
   "metadata": {},
   "source": [
    "Algebra!  \n",
    "\n",
    "remember: \n",
    "$H|0\\rangle = |+\\rangle = \\frac{1}{\\sqrt{2}}(|0\\rangle + |1\\rangle) \\rightarrow q_0 \\\\ $\n",
    "$H|1\\rangle = |-\\rangle = \\frac{1}{\\sqrt{2}}(|0\\rangle - |1\\rangle) \\rightarrow q_1 $\n",
    "\n",
    " \n",
    "therefore  $\\begin{gather*} q_1 q_0 \\\\ |-+\\rangle  \\\\\\end{gather*}  = \\frac{1}{\\sqrt{2}}(|0\\rangle - |1\\rangle) \\otimes \\frac{1}{\\sqrt{2}}(|0\\rangle + |1\\rangle) = \\frac{1}{2}(|00\\rangle + |01\\rangle - |10\\rangle - |11\\rangle)$  \n",
    "\n",
    "(Qiskit's least significant bit has the lowest index)"
   ]
  },
  {
   "cell_type": "code",
   "execution_count": 102,
   "id": "0a49bd3a",
   "metadata": {},
   "outputs": [
    {
     "data": {
      "image/png": "[encoded data removed]",
      "text/plain": [
       "<Figure size 310.895x144.48 with 1 Axes>"
      ]
     },
     "execution_count": 102,
     "metadata": {},
     "output_type": "execute_result"
    }
   ],
   "source": [
    "circuit2 = QuantumCircuit(2)\n",
    "circuit2.h(0)\n",
    "circuit2.x(1)\n",
    "circuit2.h(1)\n",
    "circuit2.cx(0,1)\n",
    "\n",
    "circuit2.draw('mpl', initial_state=True, justify='right')"
   ]
  },
  {
   "cell_type": "markdown",
   "id": "dfa7df6f",
   "metadata": {},
   "source": [
    "$CNOT|-+\\rangle = CNOT\\frac{1}{2}(|00\\rangle + |01\\rangle - |10\\rangle - |11\\rangle) = \\frac{1}{2}(|00\\rangle - |01\\rangle - |10\\rangle + |11\\rangle)$ \n",
    "\n",
    "factor out:\n",
    "$\n",
    "\\frac{1}{\\sqrt{2}}(|0\\rangle - |1\\rangle) \\otimes \\frac{1}{\\sqrt{2}}(|0\\rangle - |1\\rangle) = \\begin{gather*} \n",
    "q_1 q_0 \\\\\n",
    "|--\\rangle\n",
    "\\end{gather*}\\\\\n",
    "$\n",
    "\n",
    "q0 has changed sign because of presence of CNOT"
   ]
  },
  {
   "cell_type": "code",
   "execution_count": 103,
   "id": "edbedec6",
   "metadata": {},
   "outputs": [
    {
     "data": {
      "image/png": "[encoded data removed]",
      "text/plain": [
       "<Figure size 500.433x204.68 with 1 Axes>"
      ]
     },
     "execution_count": 103,
     "metadata": {},
     "output_type": "execute_result"
    }
   ],
   "source": [
    "qr = QuantumRegister(2, name='q')\n",
    "cr = ClassicalRegister(1, name='result')\n",
    "circuit = QuantumCircuit(qr, cr)\n",
    "circuit.x(qr[1])\n",
    "circuit.h(qr)\n",
    "circuit.append(oracle1, [qr[0], qr[1]]) # <-- you can replace here for other oracles\n",
    "circuit.h(qr[0])\n",
    "circuit.measure(qr[0], cr[0])\n",
    "circuit.draw('mpl', initial_state=True, justify=\"right\")"
   ]
  },
  {
   "cell_type": "markdown",
   "id": "fcbea0ea",
   "metadata": {},
   "source": [
    "Circuit identities:\n",
    "\n",
    "$H|0\\rangle \\rightarrow |+\\rangle \\\\\n",
    "H|1\\rangle \\rightarrow |-\\rangle$\n",
    "\n",
    "$H|+\\rangle \\rightarrow |0\\rangle \\\\\n",
    "H|-\\rangle \\rightarrow |1\\rangle$"
   ]
  },
  {
   "cell_type": "markdown",
   "id": "98698ec9",
   "metadata": {},
   "source": [
    "![](balanced-circ.png)"
   ]
  },
  {
   "cell_type": "markdown",
   "id": "6ebc6b4c",
   "metadata": {},
   "source": [
    "![](constant-circ.png)"
   ]
  },
  {
   "cell_type": "markdown",
   "id": "6bef8a4e",
   "metadata": {},
   "source": [
    "![](full-diagram.png)"
   ]
  },
  {
   "cell_type": "markdown",
   "id": "3cb996ba",
   "metadata": {},
   "source": [
    "## Run Deutsch-Jozsa on real hardware"
   ]
  },
  {
   "cell_type": "code",
   "execution_count": 108,
   "id": "e1c9181b",
   "metadata": {},
   "outputs": [
    {
     "name": "stderr",
     "output_type": "stream",
     "text": [
      "ibmqfactory.load_account:WARNING:2022-04-06 16:25:04,665: Credentials are already in use. The existing account in the session will be replaced.\n"
     ]
    },
    {
     "data": {
      "text/plain": [
       "<IBMQBackend('ibmq_lima') from IBMQ(hub='ibm-q', group='open', project='main')>"
      ]
     },
     "execution_count": 108,
     "metadata": {},
     "output_type": "execute_result"
    }
   ],
   "source": [
    "from qiskit import IBMQ\n",
    "from qiskit.providers.ibmq import least_busy\n",
    "\n",
    "# Go to https://quantum-computing.ibm.com/\n",
    "# Register\n",
    "# On your welcome page you should see API token field which you can copy and use during lab\n",
    "# IBMQ.save_account(\"<token>\")\n",
    "\n",
    "provider = IBMQ.load_account()\n",
    "\n",
    "least_busy_device = least_busy(provider.backends(simulator=False, filters=lambda b: b.configuration().n_qubits >= 2))\n",
    "\n",
    "least_busy_device"
   ]
  },
  {
   "cell_type": "code",
   "execution_count": 109,
   "id": "fb563834",
   "metadata": {},
   "outputs": [
    {
     "data": {
      "image/png": "[encoded data removed]",
      "text/plain": [
       "<Figure size 480.82x204.68 with 1 Axes>"
      ]
     },
     "execution_count": 109,
     "metadata": {},
     "output_type": "execute_result"
    }
   ],
   "source": [
    "circuit.draw('mpl')"
   ]
  },
  {
   "cell_type": "code",
   "execution_count": 110,
   "id": "7ff2b05e",
   "metadata": {},
   "outputs": [],
   "source": [
    "job = execute(circuit, backend=least_busy_device, shots=1000)"
   ]
  },
  {
   "cell_type": "code",
   "execution_count": 111,
   "id": "ca62a496",
   "metadata": {},
   "outputs": [
    {
     "data": {
      "text/plain": [
       "<JobStatus.DONE: 'job has successfully run'>"
      ]
     },
     "execution_count": 111,
     "metadata": {},
     "output_type": "execute_result"
    }
   ],
   "source": [
    "job.status()"
   ]
  },
  {
   "cell_type": "code",
   "execution_count": 112,
   "id": "87273f0a",
   "metadata": {},
   "outputs": [
    {
     "data": {
      "text/plain": [
       "<JobStatus.DONE: 'job has successfully run'>"
      ]
     },
     "execution_count": 112,
     "metadata": {},
     "output_type": "execute_result"
    }
   ],
   "source": [
    "job.wait_for_final_state()\n",
    "job.status()"
   ]
  },
  {
   "cell_type": "code",
   "execution_count": 113,
   "id": "379e2ab5",
   "metadata": {},
   "outputs": [
    {
     "data": {
      "image/png": "[encoded data removed]",
      "text/plain": [
       "<Figure size 504x360 with 1 Axes>"
      ]
     },
     "execution_count": 113,
     "metadata": {},
     "output_type": "execute_result"
    }
   ],
   "source": [
    "counts = job.result().get_counts()\n",
    "counts['BALANCED'] = counts.pop('1', None)\n",
    "counts['CONSTANT'] = counts.pop('0', None)  # wrong answer\n",
    "plot_histogram(counts)"
   ]
  },
  {
   "cell_type": "markdown",
   "id": "e1fe4279",
   "metadata": {},
   "source": [
    "More info, more qubits: https://qiskit.org/textbook/ch-algorithms/deutsch-jozsa.html"
   ]
  }
 ],
 "metadata": {
  "kernelspec": {
   "display_name": "Python 3",
   "language": "python",
   "name": "python3"
  },
  "language_info": {
   "codemirror_mode": {
    "name": "ipython",
    "version": 3
   },
   "file_extension": ".py",
   "mimetype": "text/x-python",
   "name": "python",
   "nbconvert_exporter": "python",
   "pygments_lexer": "ipython3",
   "version": "3.9.7"
  }
 },
 "nbformat": 4,
 "nbformat_minor": 5
}
