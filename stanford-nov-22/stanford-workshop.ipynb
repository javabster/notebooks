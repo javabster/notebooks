{
 "cells": [
  {
   "cell_type": "markdown",
   "id": "98a2329b-0119-45f6-912e-b165d8f84307",
   "metadata": {},
   "source": [
    "# IBM Qiskit Workshop"
   ]
  },
  {
   "cell_type": "markdown",
   "id": "1e598d8a-ea91-49aa-896c-fd3dd3a8de66",
   "metadata": {},
   "source": [
    "# How to Use this Notebook in your IBM Quantum Lab Account\n",
    "\n",
    "1. go to ibm.biz/qiskit-stan\n",
    "2. click 'raw' button in GitHub, this will open the notebook file in a new tab\n",
    "![](raw_button.png)\n",
    "\n",
    "3. Right click on the raw file and save the file in jupyter notebook format (`.ipynb`)\n",
    "![](save.png)\n",
    "\n",
    "4. In IBM Quantum Lab, select upload button on in top left and upload the notebook file\n",
    "![](upload_button.png)\n",
    "\n",
    "5. If you didn't save it in `.ipynb` format you can rename the file in the jupyter lab\n",
    "![](rename_button.png)\n",
    "\n",
    "6. Now you can open the notebook in your IBM Quantum Lab environment! (note: if you want the images to display in your lab version you will need to download them from the github folder where the notebook is and upload it into your lab folder as well)\n",
    "\n",
    "![](open_notebook.png)"
   ]
  },
  {
   "cell_type": "markdown",
   "id": "c78a6767-ec6f-4ee8-a863-95ce9d1814bb",
   "metadata": {},
   "source": [
    "Goal: Show you the toolbox! Breadth not depth, raise your hand if you have questions!\n",
    "\n",
    "Contents:\n",
    "- Welcome & About Me!\n",
    "- Let's Explore IBM Quantum Labs, composer, services etc.\n",
    "- What is Qiskit?\n",
    "    - The Main Qiskit Packages\n",
    "    - The Broader Qiskit Ecosystem (incl. support for open-source community projects)\n",
    "- Overview of the Main Qiskit Packages\n",
    "- Overview of Qiskit Terra Module\n",
    "- Using Simulators & Real Hardware (e.g. Stanford Premium Systems)\n",
    "- What Next?"
   ]
  },
  {
   "cell_type": "markdown",
   "id": "b3c07b56-00ba-4138-afea-bad531bd8aac",
   "metadata": {},
   "source": [
    "## About Me\n",
    "\n",
    "Abby Mitchell - Quantum Developer Advocate, IBM\n",
    "\n",
    "**Personal website:** https://abbymitchell.dev\n",
    "\n",
    "**GitHub:** https://github.com/javabster\n",
    "\n",
    "**Linkedin:** https://www.linkedin.com/in/abby-mitchell/\n",
    "\n",
    "**Twitter:** https://twitter.com/javabster"
   ]
  },
  {
   "cell_type": "markdown",
   "id": "1fa47fc7-ec1b-4523-be04-2dbe86290d83",
   "metadata": {},
   "source": [
    "## Let's Explore! \n",
    "\n",
    "https://quantum-computing.ibm.com/\n",
    "\n",
    "- All IBM Quantum Hardware Systems: https://quantum-computing.ibm.com/services/resources?tab=systems\n",
    "  - up tp 7Q on open systems\n",
    "- IBM Quantum Composer (good for beginners!): https://quantum-computing.ibm.com/composer\n",
    "- IBM Quantum Lab: https://lab.quantum-computing.ibm.com/"
   ]
  },
  {
   "cell_type": "markdown",
   "id": "8dec7460-700b-4983-94a5-89f2063ba819",
   "metadata": {},
   "source": [
    "# Qiskit Main Packages\n",
    "\n",
    "![](qiskit_overview.png)\n",
    "\n",
    "What we'll focus on: mostly Terra\n",
    "If we have time: other packages"
   ]
  },
  {
   "cell_type": "markdown",
   "id": "672605fd-6ab1-4b6c-8d50-9a4645abd874",
   "metadata": {},
   "source": [
    "# Beyond the Main Packages - The Qiskit Ecosystem\n",
    "\n",
    "https://qiskit.org/ecosystem\n",
    "\n",
    "3 Tiers:\n",
    "- Main\n",
    "- Extensions\n",
    "- Community\n",
    "\n",
    "-> You can submit your open-source project to the Ecosystem!"
   ]
  },
  {
   "cell_type": "markdown",
   "id": "8355b71b-4a1e-4a30-925f-b32ab41c772e",
   "metadata": {},
   "source": [
    "# Time for some code! (finally!)"
   ]
  },
  {
   "cell_type": "code",
   "execution_count": null,
   "id": "70aabd73-b1fe-401d-9f4a-cee58a76fc78",
   "metadata": {},
   "outputs": [],
   "source": [
    "import numpy as np\n",
    "\n",
    "# Importing standard Qiskit libraries\n",
    "from qiskit import QuantumCircuit, transpile, Aer, IBMQ\n",
    "from qiskit.tools.jupyter import *\n",
    "from qiskit.visualization import *\n",
    "from ibm_quantum_widgets import *\n",
    "from qiskit.providers.aer import QasmSimulator\n",
    "\n",
    "# Loading your IBM Quantum account(s)\n",
    "provider = IBMQ.load_account()"
   ]
  },
  {
   "cell_type": "markdown",
   "id": "871ab60b-bf46-4f56-8d3e-86ece4d4c5bf",
   "metadata": {
    "tags": []
   },
   "source": [
    "# Core Capabilities - Qiskit (Terra)\n",
    "\n",
    "### (some) Submodules\n",
    "\n",
    "Representing Quantum States:\n",
    "- [Quantum Circuits](https://qiskit.org/documentation/apidoc/circuit.html) (qiskit.circuit)\n",
    "- [Quantum Information](https://qiskit.org/documentation/apidoc/quantum_info.html) (qiskit.quantum_info)\n",
    "- [Operators](https://qiskit.org/documentation/apidoc/opflow.html) (qiskit.opflow)\n",
    "\n",
    "\n",
    "Running on devices and getting results:\n",
    "- (A short side quest into Simulators and Hardware)\n",
    "- [Transpiler](https://qiskit.org/documentation/apidoc/transpiler.html) (qiskit.transpiler)\n",
    "- [Visualization](https://qiskit.org/documentation/apidoc/visualization.html) (qiskit.visualization)\n",
    "\n",
    "\n",
    "Close to hardware:\n",
    "- [Pulse](https://qiskit.org/documentation/apidoc/pulse.html) (qiskit.pulse)\n",
    "\n",
    "\n",
    "Far away from hardware:\n",
    "- [Algorithms](https://qiskit.org/documentation/apidoc/algorithms.html) (qiskit.algorithms)\n",
    "\n",
    "\n",
    "NEW! Runtime Primitives\n",
    "- [Primitives](https://qiskit.org/documentation/apidoc/primitives.html) (qiskit.primitives)\n",
    "\n",
    "\n",
    "Other modules: https://qiskit.org/documentation/apidoc/terra.html"
   ]
  },
  {
   "cell_type": "markdown",
   "id": "c9f59548-67a5-4eb0-b535-33ac9f808321",
   "metadata": {},
   "source": [
    "## Quantum Circuit\n",
    "\n",
    "Gates are matrices, applying gates is matrix multiplaction\n",
    "\n",
    "Simplest example - the Bell State"
   ]
  },
  {
   "cell_type": "code",
   "execution_count": null,
   "id": "21a30a96-c13b-4e14-b668-2c222c8d6dcd",
   "metadata": {},
   "outputs": [],
   "source": [
    "from qiskit import QuantumCircuit\n",
    "\n",
    "# Initialize quantum circuit\n",
    "bell = QuantumCircuit(2)\n",
    "\n",
    "# Apply gates\n",
    "bell.h(0)\n",
    "bell.cx(0,1)\n",
    "\n",
    "# Measure qubits\n",
    "bell.measure_all()\n",
    "\n",
    "# Visualise circuit\n",
    "print(bell)"
   ]
  },
  {
   "cell_type": "code",
   "execution_count": null,
   "id": "f624496b-a0ab-430d-afc0-bcf3ba31183a",
   "metadata": {},
   "outputs": [],
   "source": [
    "# custom rotations\n",
    "\n",
    "circuit = QuantumCircuit(1)\n",
    "circuit.u(np.pi/2,np.pi/2,np.pi/2,0)\n",
    "\n",
    "print(circuit)"
   ]
  },
  {
   "cell_type": "code",
   "execution_count": null,
   "id": "ece19cd3-d042-4932-8e6a-a1c531b530fd",
   "metadata": {},
   "outputs": [],
   "source": [
    "# matrix -> unitary gate\n",
    "\n",
    "matrix = [[0, 0, 0, 1],\n",
    "          [0, 0, 1, 0],\n",
    "          [1, 0, 0, 0],\n",
    "          [0, 1, 0, 0]]\n",
    "          \n",
    "circuit = QuantumCircuit(2)\n",
    "circuit.unitary(matrix, [0, 1])\n",
    "\n",
    "print(circuit)"
   ]
  },
  {
   "cell_type": "code",
   "execution_count": null,
   "id": "7c079230-7baf-4608-b07a-16495ba15e29",
   "metadata": {},
   "outputs": [],
   "source": [
    "print(circuit.decompose())"
   ]
  },
  {
   "cell_type": "code",
   "execution_count": null,
   "id": "c83c77ed-d9c8-431b-9327-0e979f17fef7",
   "metadata": {},
   "outputs": [],
   "source": [
    "qc = QuantumCircuit(2)\n",
    "\n",
    "# State Preparation\n",
    "# qc2.prepare_state('01')\n",
    "# qc2.prepare_state([0,1, 0, 0])\n",
    "qc.prepare_state(2)\n",
    "\n",
    "print(qc)"
   ]
  },
  {
   "cell_type": "code",
   "execution_count": null,
   "id": "188beefe-4f19-451b-99b7-480a2308a794",
   "metadata": {},
   "outputs": [],
   "source": [
    "print(qc.decompose())"
   ]
  },
  {
   "cell_type": "markdown",
   "id": "e207c1fc-8ecf-47a9-8a4a-337c673e08ce",
   "metadata": {},
   "source": [
    "**Parametric Circuits** - Great for Variational Algorithms"
   ]
  },
  {
   "cell_type": "code",
   "execution_count": null,
   "id": "29215f1c-38c7-43c9-a7c0-fa71da9b9328",
   "metadata": {},
   "outputs": [],
   "source": [
    "from qiskit.circuit import Parameter\n",
    "\n",
    "# Define a variable theta to be a parameter with name 'theta'\n",
    "theta = Parameter('theta')\n",
    "\n",
    "# Initialize a quantum circuit with one qubit\n",
    "quantum_circuit = QuantumCircuit(1)\n",
    "\n",
    "# Add a parametrized RX rotation on the qubit\n",
    "quantum_circuit.rx(theta, 0)\n",
    "\n",
    "print(quantum_circuit)"
   ]
  },
  {
   "cell_type": "code",
   "execution_count": null,
   "id": "1ed2a6df-a257-42e7-830d-e9c7608128ae",
   "metadata": {},
   "outputs": [],
   "source": [
    "# Set the value of the parameter\n",
    "theta_value = np.pi\n",
    "\n",
    "# Bind the value to the parametrized circuit\n",
    "qc = quantum_circuit.bind_parameters({theta: theta_value})\n",
    "\n",
    "print(quantum_circuit)"
   ]
  },
  {
   "cell_type": "markdown",
   "id": "575f5d20-3d67-4a49-919b-a81edf3ea2b0",
   "metadata": {},
   "source": [
    "**Control Flow Operations - new syntax for Qiskit Terra 0.23!**"
   ]
  },
  {
   "cell_type": "code",
   "execution_count": null,
   "id": "f6190529-d641-4e56-8f40-d27a770f7084",
   "metadata": {},
   "outputs": [],
   "source": [
    "# old way\n",
    "\n",
    "qc = QuantumCircuit(1, 1)\n",
    "qc.h(0)\n",
    "qc.measure(0, 0)\n",
    "qc.x(0).c_if(0, False)\n",
    "qc.draw()"
   ]
  },
  {
   "cell_type": "code",
   "execution_count": null,
   "id": "4001beae-81fb-4b4d-9cd9-af3fa19a7329",
   "metadata": {},
   "outputs": [],
   "source": [
    "qc = QuantumCircuit(1, 2)\n",
    "qc.h(0)  # This is just a stand-in for more complex real-world setup.\n",
    "qc.measure(0, 0)\n",
    "\n",
    "# Unlike c_if, we can have more than one instruction in the block, and it only\n",
    "# requires a single evaluation of the condition.  That's especially important if\n",
    "# the bit is written to part way through the block.\n",
    "with qc.if_test((0, True)): # if q0 == 1, reset and flip it\n",
    "    qc.reset(0)\n",
    "    qc.x(0)\n",
    "qc.measure(0, 1)\n",
    "\n",
    "qc.draw()\n",
    "# backend.run(qc).result().get_counts()  # {'00': 0.5, '11': 0.5}"
   ]
  },
  {
   "cell_type": "code",
   "execution_count": null,
   "id": "f381f5e0-3513-4c56-a317-863afd830948",
   "metadata": {},
   "outputs": [],
   "source": [
    "# Repeat instructions until success with while loop\n",
    "# Previously this wasn't representable in Qiskit at all, because we didn't have\n",
    "# any concept of a run-time loop.\n",
    "\n",
    "qc = QuantumCircuit(1, 2)\n",
    "qc.h(0)\n",
    "qc.measure(0, 0)\n",
    "with qc.while_loop((0, False)): # as long as q0 == 0, reset, add h and measure again until q0 == 1\n",
    "    qc.reset(0)\n",
    "    qc.h(0)\n",
    "    qc.measure(0, 0)\n",
    "qc.measure(0, 1)\n",
    "\n",
    "qc.draw()\n",
    "# backend.run(qc).result().get_counts()  # {'11': 1}"
   ]
  },
  {
   "cell_type": "markdown",
   "id": "75f26435-ce14-4b1f-ad29-0fb34f690740",
   "metadata": {},
   "source": [
    "## Quantum Info"
   ]
  },
  {
   "cell_type": "code",
   "execution_count": null,
   "id": "74677d91-211f-44c7-8de8-2e7ac70ab748",
   "metadata": {},
   "outputs": [],
   "source": [
    "from qiskit.quantum_info.operators import Operator, Pauli"
   ]
  },
  {
   "cell_type": "code",
   "execution_count": null,
   "id": "ecb0d102-5ec8-44da-8f91-4eaec468e67f",
   "metadata": {},
   "outputs": [],
   "source": [
    "XX = Operator([[0, 0, 0, 1], [0, 0, 1, 0], [0, 1, 0, 0], [1, 0, 0, 0]])\n",
    "XX"
   ]
  },
  {
   "cell_type": "markdown",
   "id": "19c17992-234c-4b8d-a768-acefa653d43b",
   "metadata": {},
   "source": [
    "Other Qiskit classes can be converted to `Operator`s\n",
    "\n",
    "- `Pauli` objects (also from quantum info module)\n",
    "\n",
    "- `Gate` and `Instruction` objects\n",
    "\n",
    "- `QuantumCircuit` objects"
   ]
  },
  {
   "cell_type": "code",
   "execution_count": null,
   "id": "6b0bc70c-2a89-4a19-8487-84d05e7af972",
   "metadata": {},
   "outputs": [],
   "source": [
    "# Create an Operator from a Pauli object\n",
    "\n",
    "pauliXX = Pauli('XX')\n",
    "Operator(pauliXX)"
   ]
  },
  {
   "cell_type": "code",
   "execution_count": null,
   "id": "bbaf800b-9eca-469d-b72f-873bd16adf77",
   "metadata": {},
   "outputs": [],
   "source": [
    "from qiskit.extensions import CXGate\n",
    "\n",
    "# Create an Operator for a Gate object\n",
    "Operator(CXGate())"
   ]
  },
  {
   "cell_type": "code",
   "execution_count": null,
   "id": "13aa52b5-7dce-4951-8fd1-d87c7869f79b",
   "metadata": {},
   "outputs": [],
   "source": [
    "# Create an operator from a QuantumCircuit object\n",
    "circ = QuantumCircuit(10)\n",
    "circ.h(0)\n",
    "for j in range(1, 10):\n",
    "    circ.cx(j-1, j)\n",
    "\n",
    "# Convert circuit to an operator by implicit unitary simulation\n",
    "Operator(circ)"
   ]
  },
  {
   "cell_type": "code",
   "execution_count": null,
   "id": "9000a6b1-08f9-4e56-936c-0dabbf9350ea",
   "metadata": {},
   "outputs": [],
   "source": [
    "# Create operators\n",
    "X = Operator(Pauli('X'))\n",
    "Y = Operator(Pauli('Y'))\n",
    "\n",
    "# X.tensor(Y) # X tensor Y\n",
    "# X.compose(Y) # YX"
   ]
  },
  {
   "cell_type": "code",
   "execution_count": null,
   "id": "30972ef3-b94b-4cae-a0df-116cde4484c7",
   "metadata": {},
   "outputs": [],
   "source": [
    "# Create an operator\n",
    "XX = Operator(Pauli('XX'))\n",
    "\n",
    "# Add to a circuit\n",
    "circ = QuantumCircuit(2, 2)\n",
    "circ.append(XX, [0, 1])\n",
    "circ.measure([0,1], [0,1])\n",
    "print(circ)"
   ]
  },
  {
   "cell_type": "code",
   "execution_count": null,
   "id": "e690a0cb-356b-4f8c-a009-3d23286e964d",
   "metadata": {},
   "outputs": [],
   "source": [
    "# Add to Pauli operator to circuit\n",
    "circ2 = QuantumCircuit(2, 2)\n",
    "circ2.append(Pauli('XX'), [0, 1])\n",
    "circ2.measure([0,1], [0,1])\n",
    "print(circ2)"
   ]
  },
  {
   "cell_type": "markdown",
   "id": "52d422d9-912a-45bd-baaa-2c5fae7fdb7b",
   "metadata": {},
   "source": [
    "## Opflow\n",
    "\n",
    "\"The Operator Flow is meant to serve as a lingua franca between the theory and implementation of Quantum Algorithms & Applications. Meaning, the ultimate goal is that when theorists speak their theory in the Operator Flow, they are speaking valid implementation, and when the engineers speak their implementation in the Operator Flow, they are speaking valid physical formalism. To be successful, it must be fast and physically formal enough for theorists to find it easier and more natural than hacking Matlab or NumPy, and the engineers must find it straightforward enough that they can learn it as a typical software library, and learn the physics naturally and effortlessly as they learn the code.\""
   ]
  },
  {
   "cell_type": "code",
   "execution_count": null,
   "id": "b64ee158-5440-489c-a3ce-99b0c4761b86",
   "metadata": {},
   "outputs": [],
   "source": [
    "from qiskit.opflow import I, X, Y, Z, Zero, One\n",
    "\n",
    "print(X.to_circuit())\n",
    "print(Y.to_circuit())\n",
    "print(Z.to_circuit())\n",
    "print(I.to_circuit())"
   ]
  },
  {
   "cell_type": "markdown",
   "id": "0d3e0a67-c8ef-46e2-8155-2afb400d8000",
   "metadata": {},
   "source": [
    "Algebraic operations\n",
    "\n",
    "`+` - addition\n",
    "\n",
    "`-` - subtraction, negation (scalar multiplication by -1)\n",
    "\n",
    "`*` - scalar multiplication\n",
    "\n",
    "`/` - scalar division\n",
    "\n",
    "`@` - composition (equivalent to calling `.compose()`)\n",
    "\n",
    "`^` - tensor product or tensor power (tensor with self n times)\n",
    "\n",
    "`**` - composition power (compose with self n times)\n",
    "\n",
    "`==` - equality\n",
    "\n",
    "`~` - adjoint, alternating between a State Function and Measurement"
   ]
  },
  {
   "cell_type": "markdown",
   "id": "41a6e2e4-b342-4783-bc07-29c959a0a5ac",
   "metadata": {},
   "source": [
    "How do we write this with OpFlow on 3 qubits?\n",
    "\n",
    "$$\\hat{H} = \\sum_{i=0}^{1} \\hat{\\sigma}_x^{(i)} \\hat{\\sigma}_x^{(i+1)}  + \\sum_{i=0}^{1} \\hat{\\sigma}_y^{(i)} \\hat{\\sigma}_y^{(i+1)} $$\n",
    "\n",
    "Note: The superscripts associated with the operators in the Hamiltonian (for example (i) in σₓ⁽ⁱ⁾) correspond to the qubit to which the operator is being applied to. So for i = 0, this term: σₓ⁽⁰⁾σₓ⁽⁰⁺¹⁾ indicates there is an X applied to qubit 0, and an X applied to qubit 1, no operator (or an identity) applied to qubit 2. The opflow notation for this term then is I^X^X"
   ]
  },
  {
   "cell_type": "code",
   "execution_count": null,
   "id": "f8ddb2c0-b341-40c8-b9d3-5ae8ae44abde",
   "metadata": {},
   "outputs": [],
   "source": [
    "H = (I^X^X) + (X^X^I) + (I^Y^Y) + (Y^Y^I)"
   ]
  },
  {
   "cell_type": "markdown",
   "id": "aa3d409b-7b91-4220-be27-ecde7c0d5997",
   "metadata": {},
   "source": [
    "What's the difference between Quantum Info and OpfLow?\n",
    "\n",
    "- Quantum for representing matrix operations on quantum systems\n",
    "- Opflow for more advanced algebra"
   ]
  },
  {
   "cell_type": "markdown",
   "id": "665f55ac-8e04-423a-ac55-218791c02f75",
   "metadata": {},
   "source": [
    "# Hold on - how do we actually get results?\n",
    "\n",
    "### It's time for a quick side quest into Similators"
   ]
  },
  {
   "cell_type": "markdown",
   "id": "d622ea63-1f89-4b6d-a471-896f9b8b971c",
   "metadata": {},
   "source": [
    "## Simulator - Qiskit Aer "
   ]
  },
  {
   "cell_type": "code",
   "execution_count": null,
   "id": "66bfb6a4-552b-4230-9880-80066a71e0c8",
   "metadata": {},
   "outputs": [],
   "source": [
    "from qiskit import Aer\n",
    "\n",
    "Aer.backends()"
   ]
  },
  {
   "cell_type": "markdown",
   "id": "a698a7a0-31f7-40f3-9331-8de4d3487dda",
   "metadata": {},
   "source": [
    "Let's simulate some results from our bell state"
   ]
  },
  {
   "cell_type": "code",
   "execution_count": null,
   "id": "95e8e746-d9db-4e86-971b-d36e87da008f",
   "metadata": {},
   "outputs": [],
   "source": [
    "print(bell)"
   ]
  },
  {
   "cell_type": "code",
   "execution_count": null,
   "id": "9ae2a58a-6eab-4bbb-8e14-dcc7388c2312",
   "metadata": {},
   "outputs": [],
   "source": [
    "from qiskit import transpile\n",
    "\n",
    "# choose simulator backend\n",
    "simulator = Aer.get_backend('aer_simulator')\n",
    "\n",
    "# Transpile for simulator\n",
    "bell_circ = transpile(bell, simulator)\n",
    "\n",
    "# Run and get counts\n",
    "result = simulator.run(bell_circ).result()\n",
    "counts = result.get_counts(bell_circ)\n",
    "print(counts)"
   ]
  },
  {
   "cell_type": "code",
   "execution_count": null,
   "id": "1e0cb394-8858-4887-af26-7b655f46edcd",
   "metadata": {},
   "outputs": [],
   "source": [
    "# get results for each shot\n",
    "\n",
    "result = simulator.run(bell_circ, shots=10, memory=True).result()\n",
    "memory = result.get_memory(bell_circ)\n",
    "print(memory)"
   ]
  },
  {
   "cell_type": "markdown",
   "id": "618cc52f-0dd4-4112-8758-98c509594f18",
   "metadata": {},
   "source": [
    "Simulate with Noise"
   ]
  },
  {
   "cell_type": "code",
   "execution_count": null,
   "id": "66986cdd-5dc3-491e-af63-8752ff3023a7",
   "metadata": {},
   "outputs": [],
   "source": [
    "from qiskit.providers.fake_provider import FakeBelem\n",
    "from qiskit.providers.aer import AerSimulator\n",
    "\n",
    "# initialise simulator based on fake backend\n",
    "device_backend = FakeBelem()\n",
    "sim_bel = AerSimulator.from_backend(device_backend)\n",
    "\n",
    "# Transpile the circuit for the noisy basis gates\n",
    "tcirc = transpile(bell, sim_bel)\n",
    "\n",
    "# Execute noisy simulation and get counts\n",
    "result_noise = sim_bel.run(tcirc).result()\n",
    "counts_noise = result_noise.get_counts(0)\n",
    "\n",
    "print(counts)\n",
    "print(counts_noise)\n"
   ]
  },
  {
   "cell_type": "code",
   "execution_count": null,
   "id": "f4404ac4-db7b-4af0-98a6-52be303fb8a8",
   "metadata": {},
   "outputs": [],
   "source": [
    "# get statevector info\n",
    "# (must construct quantum circuit without measure)\n",
    "\n",
    "circ = QuantumCircuit(2)\n",
    "circ.h(0)\n",
    "circ.cx(0,1)\n",
    "\n",
    "circ.save_statevector()\n",
    "\n",
    "# choose simulator backend\n",
    "sim = Aer.get_backend('aer_simulator')\n",
    "\n",
    "# Transpile for simulator\n",
    "tr_circ = transpile(circ, sim)\n",
    "\n",
    "# Run and get counts\n",
    "sv_res = sim.run(tr_circ).result()\n",
    "\n",
    "array_to_latex(sv_res.get_statevector())\n"
   ]
  },
  {
   "cell_type": "code",
   "execution_count": null,
   "id": "4d3ca36f-62ba-479e-85d8-2923624a8171",
   "metadata": {},
   "outputs": [],
   "source": [
    "# get unitary matrix for circ with simulator\n",
    "# (must construct quantum circuit without measure)\n",
    "\n",
    "circ = QuantumCircuit(2)\n",
    "circ.h(0)\n",
    "circ.cx(0,1)\n",
    "\n",
    "circ.save_unitary()\n",
    "\n",
    "# choose simulator backend\n",
    "sim = Aer.get_backend('aer_simulator')\n",
    "\n",
    "# Transpile for simulator\n",
    "tr_circ = transpile(circ, sim)\n",
    "\n",
    "# Run and get counts\n",
    "u_res = sim.run(tr_circ).result()\n",
    "\n",
    "array_to_latex(u_res.get_unitary())\n"
   ]
  },
  {
   "cell_type": "markdown",
   "id": "b248e217-b58a-4c53-9464-e82ceae1efba",
   "metadata": {},
   "source": [
    "## Real Hardware 🎉 (+ Stanford Hub)"
   ]
  },
  {
   "cell_type": "code",
   "execution_count": null,
   "id": "885d78f3-a748-41f4-8b41-c71f5fbf25b3",
   "metadata": {},
   "outputs": [],
   "source": [
    "from qiskit.tools.jupyter import *\n",
    "%qiskit_backend_overview"
   ]
  },
  {
   "cell_type": "code",
   "execution_count": null,
   "id": "b716604f-932e-465d-888e-87a3b784f31e",
   "metadata": {},
   "outputs": [],
   "source": [
    "from qiskit.providers.ibmq import least_busy\n",
    "\n",
    "# (provider= ibm open gruop, auto-loaded at top imports)\n",
    "least_busy_device = least_busy(provider.backends(simulator=False, filters=lambda b: b.configuration().n_qubits >= 2))\n",
    "\n",
    "least_busy_device"
   ]
  },
  {
   "cell_type": "code",
   "execution_count": null,
   "id": "aa850bfa-a7f7-4b92-bb0b-758f2d773e2d",
   "metadata": {},
   "outputs": [],
   "source": [
    "# Transpile for real device\n",
    "# bell_circ_real = transpile(bell, least_busy_device)\n",
    "\n",
    "# # Run and get counts\n",
    "# result = least_busy_device.run(bell_circ_real).result()\n",
    "# counts_real = result.get_counts(bell_circ_real)\n",
    "# print(counts_real)"
   ]
  },
  {
   "cell_type": "markdown",
   "id": "bd278ea9-e757-4063-ab4f-a8f6869dab7f",
   "metadata": {},
   "source": [
    "(See Lab jobs tab for job progress)"
   ]
  },
  {
   "cell_type": "markdown",
   "id": "1f6f8296-3608-4f47-80dd-5c064902fde7",
   "metadata": {},
   "source": [
    "### Using the Stanford Hub\n",
    "\n",
    "Systems available via the Stanford Hub:\n",
    "- Washington (127Q)\n",
    "- Auckland (27Q)\n",
    "- Cairo (27Q)\n",
    "- Geneva (27Q)\n",
    "- Hanoi (27Q)\n",
    "- Montreal (27Q)\n",
    "- Mumbai (27Q)\n",
    "- Toronto (27Q)\n",
    "- Kolkata (27Q)\n",
    "- Guadalupe (17Q)\n",
    "- Lagos (7Q)\n",
    "- Nairobi (7Q)\n",
    "- Oslo (7Q)\n",
    "- Jakarta (7Q)\n",
    "- Perth (7Q)\n",
    "- Belem (5Q)\n",
    "- Lima (5Q)\n",
    "- Manila (5Q)\n",
    "- Quito (5Q)\n",
    "\n",
    "Request access to Stanford Hub: Reach out to your  Stanford Administrators  Ruth  Marinshaw (ruthm@stanford.edu) and Adam Seishas (aseishas@stanford.edu) to  get added to  the Stanford  Hub"
   ]
  },
  {
   "cell_type": "code",
   "execution_count": null,
   "id": "2297306f-2b75-4d27-a211-dbcf1427c8b6",
   "metadata": {},
   "outputs": [],
   "source": [
    "# stanford_provider = IBMQ.get_provider('ibm-q-stanford', 'your-group-name', 'your-project-name')\n",
    "\n",
    "# st_backend = stanford_provider.get_backend('ibmq_manila')\n",
    "\n",
    "# st_result = st_backend.run(bell_circ_real).result()\n",
    "\n",
    "# counts_real = result.get_counts(bell_circ_real)"
   ]
  },
  {
   "cell_type": "markdown",
   "id": "8fdda24c-2149-4fea-9e1c-289845500d74",
   "metadata": {},
   "source": [
    "Qiskit is backend agnostic!"
   ]
  },
  {
   "cell_type": "code",
   "execution_count": null,
   "id": "6e0beff2-0ee5-4646-a965-ba424d631853",
   "metadata": {},
   "outputs": [],
   "source": [
    "# !pip install qiskit-ionq\n",
    "\n",
    "# from qiskit_ionq import IonQProvider\n",
    "# provider = IonQProvider()\n",
    "\n",
    "# ionq_backend = provider.get_backend(\"ionq_qpu\")\n",
    "# job = ionq_backend.run(bell)\n",
    "\n",
    "# plot_histogram(job.get_counts())"
   ]
  },
  {
   "cell_type": "markdown",
   "id": "b2df0407-f3fe-4982-baf5-4e9b8640eaba",
   "metadata": {},
   "source": [
    "### Side Quest Complete ✅ Back to Qiskit Terra!"
   ]
  },
  {
   "cell_type": "markdown",
   "id": "1c94e86c-689f-4b0a-a180-3cc7b3b2e4fe",
   "metadata": {},
   "source": [
    "## Visualisation"
   ]
  },
  {
   "cell_type": "code",
   "execution_count": null,
   "id": "6f39e7da-c9f3-4efa-9103-19d6dd7bdf44",
   "metadata": {},
   "outputs": [],
   "source": [
    "bell.draw()"
   ]
  },
  {
   "cell_type": "code",
   "execution_count": null,
   "id": "2d46d048-5ac0-4319-9b7c-63a10d8277cd",
   "metadata": {},
   "outputs": [],
   "source": [
    "bell.draw(output='latex')"
   ]
  },
  {
   "cell_type": "code",
   "execution_count": null,
   "id": "477d5c46-b460-4e03-af0b-e3810dd8be80",
   "metadata": {},
   "outputs": [],
   "source": [
    "bell.draw(output='text')"
   ]
  },
  {
   "cell_type": "code",
   "execution_count": null,
   "id": "911da673-5c9a-4b98-9e1e-96ecd2f87be8",
   "metadata": {},
   "outputs": [],
   "source": [
    "from qiskit.visualization import plot_histogram\n",
    "\n",
    "data = [counts, counts_noise]\n",
    "\n",
    "plot_histogram(data)"
   ]
  },
  {
   "cell_type": "code",
   "execution_count": null,
   "id": "1532a94e-f517-46ce-9a10-7235a42457a2",
   "metadata": {},
   "outputs": [],
   "source": [
    "legend = ['ideal', 'noisy']\n",
    "title = 'New histogram'\n",
    "figsize = (10,10)\n",
    "color=['crimson','midnightblue']\n",
    "plot_histogram(data, legend=legend, title=title, figsize=figsize, color=color)"
   ]
  },
  {
   "cell_type": "code",
   "execution_count": null,
   "id": "bb45f7a4-d043-4799-b461-eb279dd600f3",
   "metadata": {},
   "outputs": [],
   "source": [
    "# visualise coupling maps (for device layouts) - small heavy hex\n",
    "\n",
    "from qiskit.visualization import plot_coupling_map\n",
    "\n",
    "num_qubits = 8\n",
    "qubit_coordinates = [[0, 1], [1, 1], [1, 0], [1, 2], [2, 0], [2, 2], [2, 1], [3, 1]]\n",
    "coupling_map = [[0, 1], [1, 2], [1, 3], [3, 5], [4, 6], [4, 5], [2, 4], [6, 7]]\n",
    "plot_coupling_map(num_qubits, qubit_coordinates, coupling_map)"
   ]
  },
  {
   "cell_type": "code",
   "execution_count": null,
   "id": "8fabf7ac-6c4d-4524-85c5-c3acf610972f",
   "metadata": {},
   "outputs": [],
   "source": [
    "# visualise how your qubits will be laid out on a given device\n",
    "\n",
    "from qiskit.visualization import plot_circuit_layout\n",
    "\n",
    "backend = provider.get_backend('ibmq_manila')\n",
    "\n",
    "belem_bell = transpile(bell, backend=backend)\n",
    "\n",
    "plot_circuit_layout(belem_bell, backend)"
   ]
  },
  {
   "cell_type": "code",
   "execution_count": null,
   "id": "af45f1c5-968e-45e2-bfd1-8e537a4888ee",
   "metadata": {},
   "outputs": [],
   "source": [
    "# DAG Drawer\n",
    "from qiskit.dagcircuit import DAGCircuit\n",
    "from qiskit.converters import circuit_to_dag\n",
    "from qiskit.visualization import dag_drawer\n",
    "\n",
    "dag = circuit_to_dag(bell)\n",
    "dag_drawer(dag)"
   ]
  },
  {
   "cell_type": "markdown",
   "id": "efed0106-f541-44a4-8860-17ba22b7d65c",
   "metadata": {},
   "source": [
    "## Transpiler"
   ]
  },
  {
   "cell_type": "markdown",
   "id": "904af3f2-f6e2-493c-8976-a99ce0d3e23b",
   "metadata": {},
   "source": [
    "![](transpiler.png)"
   ]
  },
  {
   "cell_type": "code",
   "execution_count": null,
   "id": "c3a54af3-b2aa-4cd4-aa96-94255bc7f234",
   "metadata": {},
   "outputs": [],
   "source": [
    "backend = provider.get_backend('ibmq_belem')\n",
    "\n",
    "transpiled_circ = transpile(bell, backend)\n",
    "transpiled_circ.draw()"
   ]
  },
  {
   "cell_type": "code",
   "execution_count": null,
   "id": "f8d8cdd4-b33b-4d1c-81ee-81cf9bee3748",
   "metadata": {},
   "outputs": [],
   "source": [
    "from qiskit.visualization import plot_circuit_layout, plot_gate_map\n",
    "\n",
    "display(transpiled_circ.draw(idle_wires=False))\n",
    "display(plot_gate_map(backend))\n",
    "plot_circuit_layout(transpiled_circ, backend)"
   ]
  },
  {
   "cell_type": "code",
   "execution_count": null,
   "id": "e192ef55-4ea6-4cd1-a8d4-0df777817fef",
   "metadata": {},
   "outputs": [],
   "source": [
    "# a slightly more interesting example:\n",
    "\n",
    "circuit = QuantumCircuit(5)\n",
    "circuit.h(range(5))\n",
    "circuit.cx(0, range(1,5))\n",
    "circuit.h(range(5))\n",
    "circuit.cx(4, range(4))\n",
    "circuit.h(range(5))\n",
    "circuit.measure_all()"
   ]
  },
  {
   "cell_type": "code",
   "execution_count": null,
   "id": "efb0f2a9-b9ac-4fb5-950f-8a5bc5118c06",
   "metadata": {},
   "outputs": [],
   "source": [
    "# This time with a coupling map but no actual backend\n",
    "\n",
    "from qiskit.transpiler import CouplingMap\n",
    "\n",
    "cmap = CouplingMap.from_heavy_hex(3)\n",
    "\n",
    "print(cmap)"
   ]
  },
  {
   "cell_type": "code",
   "execution_count": null,
   "id": "938eb733-8844-4774-b217-d72edec1f62f",
   "metadata": {},
   "outputs": [],
   "source": [
    "transpiled = transpile(circuit, coupling_map=cmap)\n",
    "transpiled.draw(idle_wires=False, fold=-1)"
   ]
  },
  {
   "cell_type": "markdown",
   "id": "a094dbeb-9169-4d5a-999f-88406100221f",
   "metadata": {},
   "source": [
    "**Optimization level**\n",
    "\n",
    "Higher levels generate more optimized circuits, at the expense of longer transpilation time.\n",
    "\n",
    "- 0: no explicit optimization other than mapping to backend \n",
    "- 1: light optimization by simple adjacent gate collapsing.(default) \n",
    "- 2: medium optimization by noise adaptive qubit mapping and gate cancellation using commutativity rules. \n",
    "- 3: heavy optimization by noise adaptive qubit mapping and gate cancellation using commutativity rules and unitary synthesis."
   ]
  },
  {
   "cell_type": "code",
   "execution_count": null,
   "id": "4c6e7a5f-a781-4e46-9e9c-6306eeab2992",
   "metadata": {},
   "outputs": [],
   "source": [
    "level0 = transpile(circuit, coupling_map=cmap, optimization_level=0)\n",
    "level1 = transpile(circuit, coupling_map=cmap, optimization_level=1)\n",
    "level2 = transpile(circuit, coupling_map=cmap, optimization_level=2)\n",
    "level3 = transpile(circuit, coupling_map=cmap, optimization_level=3)"
   ]
  },
  {
   "cell_type": "code",
   "execution_count": null,
   "id": "61caf85c-8b50-46de-9739-6216d485ef80",
   "metadata": {},
   "outputs": [],
   "source": [
    "for idx, level in enumerate([level0, level1, level2, level3]):\n",
    "    print(\"level\"+str(idx), level.count_ops()['cx'], level.depth())"
   ]
  },
  {
   "cell_type": "code",
   "execution_count": null,
   "id": "d868722e-5d59-4383-be4b-6e72567281c2",
   "metadata": {},
   "outputs": [],
   "source": [
    "# transpiling is a stochastic process\n",
    "transpiled = transpile(circuit, coupling_map=cmap, optimization_level=3)\n",
    "transpiled.depth()"
   ]
  },
  {
   "cell_type": "code",
   "execution_count": null,
   "id": "5fb2263d-e0d5-4397-9b4b-e31efdc3b645",
   "metadata": {},
   "outputs": [],
   "source": [
    "transpiled = transpile(circuit, coupling_map=cmap, optimization_level=2, seed_transpiler=1)\n",
    "transpiled.depth()"
   ]
  },
  {
   "cell_type": "markdown",
   "id": "f96b55f7-fa4a-4965-8ff3-ea8daf0b2bad",
   "metadata": {},
   "source": [
    "The transpiler is highly configurable"
   ]
  },
  {
   "cell_type": "code",
   "execution_count": null,
   "id": "188de744-4aff-43be-b52e-415ab4a4475a",
   "metadata": {},
   "outputs": [],
   "source": [
    "# lots of args\n",
    "transpile"
   ]
  },
  {
   "cell_type": "markdown",
   "id": "973c6307-08b6-4ebe-a0de-e60b3962790d",
   "metadata": {},
   "source": [
    "* Pro Tip! Cmd + I for documentation/source code"
   ]
  },
  {
   "cell_type": "code",
   "execution_count": null,
   "id": "2af44a3a-b93b-4285-8bd5-c0bf480cbb8d",
   "metadata": {},
   "outputs": [],
   "source": [
    "# make a custom transpiler and plugin to Qiskit\n",
    "# https://qiskit.org/documentation/apidoc/transpiler_plugins.html\n",
    "transpile(circuit, routing_method=\"your-custom-plugin\", optimization_level=2)"
   ]
  },
  {
   "cell_type": "markdown",
   "id": "18c00132-9fb5-448a-9560-47a5f2a43108",
   "metadata": {},
   "source": [
    "## Pulse\n",
    "\n",
    "Pulse programs, which are called Schedules, describe instruction sequences for the control electronics of a given device. A schedule specifies the exact time dynamics of the input signals across all input channels to the device. There are usually multiple channels per qubit, such as drive and measure. This interface is more powerful, and requires a deeper understanding of the underlying device physics."
   ]
  },
  {
   "cell_type": "code",
   "execution_count": null,
   "id": "10da20c1-42c5-4854-95c9-0e9521ebc927",
   "metadata": {},
   "outputs": [],
   "source": [
    "# Let's create a pulse schedule for our own calibration of a H gate\n",
    "\n",
    "from qiskit import pulse\n",
    "from qiskit.pulse.library import Gaussian\n",
    "\n",
    "backend = provider.get_backend('ibmq_belem')\n",
    "\n",
    "with pulse.build(backend, name='hadamard') as h_q0:\n",
    "    pulse.play(Gaussian(duration=128, amp=0.1, sigma=16), pulse.drive_channel(0))\n",
    "    \n",
    "h_q0.draw()"
   ]
  },
  {
   "cell_type": "code",
   "execution_count": null,
   "id": "b699ad54-097e-4611-8e95-71a139b0b16b",
   "metadata": {},
   "outputs": [],
   "source": [
    "circ = QuantumCircuit(2, 2)\n",
    "circ.h(0)\n",
    "circ.cx(0, 1)\n",
    "circ.measure(0, 0)\n",
    "circ.measure(1, 1)\n",
    "\n",
    "circ.draw()"
   ]
  },
  {
   "cell_type": "code",
   "execution_count": null,
   "id": "3df01e40-f9c9-4066-bfbb-1f72892b7d43",
   "metadata": {},
   "outputs": [],
   "source": [
    "#lets replace the default H with our calibrated H\n",
    "\n",
    "circ.add_calibration('h', [0], h_q0)\n",
    "\n",
    "circ.draw()"
   ]
  },
  {
   "cell_type": "markdown",
   "id": "4b626a22-ca15-46c6-919a-fd812f2c6623",
   "metadata": {},
   "source": [
    "Now can transpile and run as you normally would."
   ]
  },
  {
   "cell_type": "markdown",
   "id": "32dd46c5-0cc8-4841-b553-090669fa0291",
   "metadata": {},
   "source": [
    "You can also create custom gates with custom callibrations, or build up a schedule of multiple calibrations. To do this we can build up a schedule of pulse instructions operating on different channels. All pulse schedules have a similar format:"
   ]
  },
  {
   "cell_type": "code",
   "execution_count": null,
   "id": "c0803a66-fa0e-4f8f-b5b2-d1f2a040e948",
   "metadata": {},
   "outputs": [],
   "source": [
    "from qiskit import pulse\n",
    "\n",
    "with pulse.build(name='my_example') as my_program:\n",
    "    # Add instructions here\n",
    "    pass\n",
    "\n",
    "my_program"
   ]
  },
  {
   "cell_type": "markdown",
   "id": "d7d9432e-4909-4a40-9a2f-46d8a35a151b",
   "metadata": {},
   "source": [
    "Schedule Instructions:\n",
    "- `delay`(duration, channel)\n",
    "- `play`(pulse, channel)\n",
    "- `set_frequency` (frequency, channel)\n",
    "- `shift_phase` (phase, channel)\n",
    "- `acquire` (duration, channel, mem_slot, reg_slot)\n",
    "\n",
    "Each instruction type has its own set of operands. As you can see above, they each include at least one Channel to specify where the instruction will be applied.\n",
    "\n",
    "Channels are labels for signal lines from the control hardware to the quantum chip.\n",
    "\n",
    "- `DriveChannels` are typically used for driving single qubit rotations,\n",
    "- `ControlChannels` are typically used for multi-qubit gates or additional drive lines for tunable qubits,\n",
    "- `MeasureChannels` are specific to transmitting pulses which stimulate readout, and\n",
    "- `AcquireChannels` are used to trigger digitizers which collect readout signals.\n",
    "\n",
    "`DriveChannels`, `ControlChannels`, and `MeasureChannels` are all `PulseChannels`; this means that they support transmitting pulses, whereas the `AcquireChannel` is a receive channel only and cannot play waveforms.\n"
   ]
  },
  {
   "cell_type": "markdown",
   "id": "25506def-83e6-4ae0-afda-44250f058f56",
   "metadata": {},
   "source": [
    "For the following examples, we will create one `DriveChannel` instance for each `Instruction` that accepts a `PulseChannel`. `Channels` take one integer index argument. Except for `ControlChannels`, the index maps to the qubit label."
   ]
  },
  {
   "cell_type": "code",
   "execution_count": null,
   "id": "dfffb0dd-b0a2-48f8-b18d-80f53a685d9c",
   "metadata": {},
   "outputs": [],
   "source": [
    "from qiskit.pulse import DriveChannel\n",
    "\n",
    "channel = DriveChannel(0)"
   ]
  },
  {
   "cell_type": "markdown",
   "id": "a97ffaa2-372c-4d5b-9178-8ddfea657c66",
   "metadata": {},
   "source": [
    "**Play instruction**\n",
    "\n",
    "The play instruction is responsible for executing pulses. It's straightforward to add a play instruction:\n",
    "\n",
    "```\n",
    "with pulse.build() as sched:\n",
    "    pulse.play(pulse, channel)\n",
    "```\n",
    "\n",
    "A `Pulse` specifies an arbitrary pulse envelope. The modulation frequency and phase of the output waveform are controlled by the `set_frequency` and `shift_phase` instructions."
   ]
  },
  {
   "cell_type": "markdown",
   "id": "d53c8975-2b8a-49c2-ae5c-8fedbded27ad",
   "metadata": {},
   "source": [
    "E.g. Let's build our Gaussian pulse using the Gaussian parametric pulse.\n",
    "\n",
    "**Parametric pulses**  \n",
    "A parametric pulse sends the name of the function and its parameters to the backend, rather than every individual sample. Using parametric pulses makes the jobs you send to the backend much smaller. IBM Quantum backends limit the maximum job size that they accept, so parametric pulses may allow you to run larger programs."
   ]
  },
  {
   "cell_type": "code",
   "execution_count": null,
   "id": "4e3b9387-5e39-4e86-a0f0-64fa5a81b266",
   "metadata": {},
   "outputs": [],
   "source": [
    "from qiskit.pulse import library\n",
    "\n",
    "amp = 1\n",
    "sigma = 10\n",
    "num_samples = 128\n",
    "\n",
    "gaus = pulse.library.Gaussian(num_samples, amp, sigma,\n",
    "                              name=\"Parametric Gaus\")\n",
    "gaus.draw()"
   ]
  },
  {
   "cell_type": "code",
   "execution_count": null,
   "id": "9d7b35c0-0776-41c6-92aa-710fe380c560",
   "metadata": {},
   "outputs": [],
   "source": [
    "with pulse.build() as schedule:\n",
    "    pulse.play(gaus, channel)\n",
    "schedule.draw()"
   ]
  },
  {
   "cell_type": "markdown",
   "id": "19cecd36-7b34-47fd-90b1-04d77bbf5328",
   "metadata": {},
   "source": [
    "The pulse Schedule is independent of the backend it runs on. However, we can build our program in a context that is aware of the target backend by supplying it to `pulse.build`. When possible you should supply a backend. In order to add acquire channels to your pulse schedule you need to specify a backend"
   ]
  },
  {
   "cell_type": "code",
   "execution_count": null,
   "id": "70d5a790-6a92-4507-ac9f-d127146c09ba",
   "metadata": {},
   "outputs": [],
   "source": [
    "from qiskit.providers.fake_provider import FakeValencia\n",
    "\n",
    "backend = FakeValencia()\n",
    "\n",
    "with pulse.build(backend=backend, name='backend_aware') as backend_aware_program:\n",
    "    # instructions\n",
    "    pass\n",
    "    \n",
    "backend_aware_program"
   ]
  },
  {
   "cell_type": "markdown",
   "id": "ddec0fb0-9d56-4b86-8622-c6fd228baf02",
   "metadata": {},
   "source": [
    "The acquire instruction triggers data acquisition for readout. It takes a duration, an `AcquireChannel` which maps to the qubit being measured, and a `MemorySlot`. The `MemorySlot` is classical memory where the readout result will be stored. For this we require a backend"
   ]
  },
  {
   "cell_type": "code",
   "execution_count": null,
   "id": "16396503-e933-49f8-8d72-4c02ed2c441f",
   "metadata": {},
   "outputs": [],
   "source": [
    "from qiskit.pulse import Acquire, AcquireChannel, MemorySlot\n",
    "\n",
    "with pulse.build(backend) as schedule:\n",
    "    pulse.acquire(1200, pulse.acquire_channel(0), MemorySlot(0))"
   ]
  },
  {
   "cell_type": "code",
   "execution_count": null,
   "id": "e270d734-2435-4920-be8c-6e2ff77b13ab",
   "metadata": {},
   "outputs": [],
   "source": [
    "with pulse.build(backend, name='example') as program:\n",
    "        gaussian_pulse = library.gaussian(100, 0.5, 20)\n",
    "        pulse.play(gaussian_pulse, pulse.drive_channel(0))\n",
    "        pulse.play(gaussian_pulse, pulse.drive_channel(1))\n",
    "        pulse.play(gaussian_pulse, pulse.drive_channel(1))\n",
    "\n",
    "program.draw()"
   ]
  },
  {
   "cell_type": "markdown",
   "id": "86a9b769-f212-463e-b834-876e7de05514",
   "metadata": {},
   "source": [
    "## Algorithms (and Optimisers)\n",
    "\n",
    "Qiskit provides a number of Algorithms in this module and they are grouped by category according to the task they can perform. For instance Minimum Eigensolvers to find the smallest eigen value of an operator, (e.g ground state energy of a chemistry Hamiltonian or a solution to an optimization problem when expressed as an Ising Hamiltonian). There are Linear Solvers for linear systems of equations problems and Amplitude Estimators for value estimation that can be used say in financial applications.\n",
    "\n",
    "Algorithms are configurable and often part of the configuration will be in the form of smaller building blocks, of which different instances of the building block type can be given. For instance with VQE, the Variational Quantum Eigensolver, it takes a trial wavefunction, in the form of a QuantumCircuit and a classical optimizer among other things.\n",
    "\n",
    "E.g. Ground State of Chemistry Hamiltonian\n",
    "\n",
    "Build VQE from scratch: https://qiskit.org/textbook/ch-applications/vqe-molecules.html"
   ]
  },
  {
   "cell_type": "code",
   "execution_count": null,
   "id": "c037de88-99a1-469e-97ae-3f38f7091290",
   "metadata": {},
   "outputs": [],
   "source": [
    "from qiskit.utils import QuantumInstance\n",
    "\n",
    "backend = Aer.get_backend('aer_simulator')\n",
    "quantum_instance = QuantumInstance(backend=backend, shots=800, seed_simulator=99)"
   ]
  },
  {
   "cell_type": "code",
   "execution_count": null,
   "id": "1539d73f-299a-4043-bf12-89e86c1c14d7",
   "metadata": {},
   "outputs": [],
   "source": [
    "from qiskit.opflow import X, Z, I\n",
    "\n",
    "H2_op = (-1.052373245772859 * I ^ I) + \\\n",
    "        (0.39793742484318045 * I ^ Z) + \\\n",
    "        (-0.39793742484318045 * Z ^ I) + \\\n",
    "        (-0.01128010425623538 * Z ^ Z) + \\\n",
    "        (0.18093119978423156 * X ^ X)"
   ]
  },
  {
   "cell_type": "code",
   "execution_count": null,
   "id": "fe29c38f-d5ed-421c-9a23-bb55a79f113f",
   "metadata": {},
   "outputs": [],
   "source": [
    "from qiskit.utils import algorithm_globals\n",
    "from qiskit.algorithms import VQE\n",
    "from qiskit.algorithms.optimizers import SLSQP\n",
    "from qiskit.circuit.library import TwoLocal\n",
    "\n",
    "seed = 50\n",
    "algorithm_globals.random_seed = seed\n",
    "qi = QuantumInstance(Aer.get_backend('statevector_simulator'), seed_transpiler=seed, seed_simulator=seed)\n",
    "\n",
    "ansatz = TwoLocal(rotation_blocks='ry', entanglement_blocks='cz')\n",
    "slsqp = SLSQP(maxiter=1000)\n",
    "vqe = VQE(ansatz, optimizer=slsqp, quantum_instance=qi)\n",
    "result = vqe.compute_minimum_eigenvalue(H2_op)\n",
    "print(result)"
   ]
  },
  {
   "cell_type": "code",
   "execution_count": null,
   "id": "e2ab8232-d586-44d2-85a0-b9a2423ad69b",
   "metadata": {},
   "outputs": [],
   "source": [
    "# other examples - Grover's, QAOA"
   ]
  },
  {
   "cell_type": "markdown",
   "id": "9af61e89-9297-489b-a48a-4bfe1ac10f7c",
   "metadata": {},
   "source": [
    "## Primitives - New Feature 🎉\n",
    "\n",
    "ADD TEXT\n",
    "\n",
    "To understand Qiskit Runtime Primitives we need to take a trip down IBM Quantum memory lane...\n",
    "\n",
    "![](circuit_flow.png)\n",
    "\n",
    "![](runtime_prog_flow.png)\n",
    "\n",
    "![](circ_runtime_comparison.png)\n",
    "\n",
    "![](what_we_want.png)\n",
    "\n",
    "![](primitives.png)\n",
    "\n",
    "![](primitives_comparison.png)\n",
    "\n",
    "![](sampler_estimator.png)\n"
   ]
  },
  {
   "cell_type": "markdown",
   "id": "69984042",
   "metadata": {},
   "source": [
    "#### Simple Sampler Example"
   ]
  },
  {
   "cell_type": "code",
   "execution_count": null,
   "id": "1ef8006e",
   "metadata": {},
   "outputs": [],
   "source": [
    "bell.draw()"
   ]
  },
  {
   "cell_type": "code",
   "execution_count": null,
   "id": "1c7ae281",
   "metadata": {},
   "outputs": [],
   "source": [
    "from qiskit.primitives import Sampler\n",
    "\n",
    "sampler = Sampler(options={\"shots\": 100})\n",
    "job = sampler.run(bell) # uses local simulator under the hood\n",
    "result = job.result()\n",
    "\n",
    "print(result)"
   ]
  },
  {
   "cell_type": "markdown",
   "id": "f3a30cf0",
   "metadata": {},
   "source": [
    "#### Simple Estimator Example"
   ]
  },
  {
   "cell_type": "code",
   "execution_count": null,
   "id": "38cf132d",
   "metadata": {},
   "outputs": [],
   "source": [
    "from qiskit.quantum_info import SparsePauliOp\n",
    "from qiskit.circuit.library import EfficientSU2\n",
    "\n",
    "observable = SparsePauliOp([\"ZZ\"])\n",
    "ansatz = EfficientSU2(2, reps=1).decompose()\n",
    "values = np.randpm(ansatz.num_parameters)\n",
    "\n",
    "ansatz.draw()"
   ]
  },
  {
   "cell_type": "code",
   "execution_count": null,
   "id": "0d2972a8",
   "metadata": {},
   "outputs": [],
   "source": [
    "from qiskit.primitives import Estimator\n",
    "\n",
    "estimator = Estimator()\n",
    "job = Estimator.run(3*[ansatz], 3*[observable], 3*[values]) # calls simulator under the hood\n",
    "result = job.result()\n",
    "\n",
    "print(result)"
   ]
  },
  {
   "cell_type": "markdown",
   "id": "a46d3ff7",
   "metadata": {},
   "source": [
    "![](primitives_code.png)"
   ]
  },
  {
   "cell_type": "markdown",
   "id": "ac676259",
   "metadata": {},
   "source": [
    "#### Use Primitives with IBM Devices via Sessions - Still in development 🛠\n",
    "\n",
    "If you want to get results from IBM hardware using primitives, you need to use the `qiskit_ibm_runtime` provider, which facilitates the connection to the IBM hardware via sessions."
   ]
  },
  {
   "cell_type": "code",
   "execution_count": null,
   "id": "82bf60db",
   "metadata": {},
   "outputs": [],
   "source": [
    "from qiskit.algorithms import VQE\n",
    "from qiskit_ibm_runtime import QiskitRuntimeService, Session\n",
    "from qiskit_ibm_runtime import Estimator \n",
    "# note: we need the Qiskit IBM Runtime Estimator, not the Qiskit Estimator\n",
    "\n",
    "# initialise service (similar to provider = IBMQ...)\n",
    "service = QiskitRuntimeService(...)\n",
    "\n",
    "hamiltonion = ... # e.g. H2_op\n",
    "\n",
    "# open a session (i.e open connection to IBM backend)\n",
    "with Session(service=service) as session:\n",
    "    estimator = Esitmator(service=service)\n",
    "    \n",
    "    # initialise VQE with estimator (instead of quantum instance))\n",
    "    vqe = VQE(estimator, ansatz, optimizer)\n",
    "    \n",
    "    # get result, same syntax as before\n",
    "    result = vqe.compute_minimum_eigenvalue(hamiltonian)\n",
    "\n",
    "# session automatically closed once result obtained"
   ]
  },
  {
   "cell_type": "markdown",
   "id": "e9388363",
   "metadata": {},
   "source": [
    "Why use runtime primitives?\n",
    "\n",
    "TL;DR - it's a lot faster"
   ]
  },
  {
   "cell_type": "markdown",
   "id": "8d19dba9-829c-4b32-bc0d-da70f7f91256",
   "metadata": {},
   "source": [
    "# High Level Applications - Qiskit Nature"
   ]
  },
  {
   "cell_type": "code",
   "execution_count": null,
   "id": "910a4b06-01f5-44cc-b3a8-1728b13d629b",
   "metadata": {},
   "outputs": [],
   "source": [
    "!pip install qiskit-nature"
   ]
  },
  {
   "cell_type": "code",
   "execution_count": null,
   "id": "4f7f7ff2-03f1-43eb-a472-c240eca4ecf2",
   "metadata": {},
   "outputs": [],
   "source": [
    "# Calculate Ground State Energy of H2\n",
    "from qiskit_nature.drivers import UnitsType, Molecule\n",
    "from qiskit_nature.drivers.second_quantization import (\n",
    "    ElectronicStructureDriverType,\n",
    "    ElectronicStructureMoleculeDriver,\n",
    ")\n",
    "from qiskit_nature.problems.second_quantization import ElectronicStructureProblem\n",
    "from qiskit_nature.converters.second_quantization import QubitConverter\n",
    "from qiskit_nature.mappers.second_quantization import JordanWignerMapper\n",
    "from qiskit.utils import QuantumInstance\n",
    "from qiskit_nature.algorithms import VQEUCCFactory\n",
    "from qiskit_nature.algorithms import GroundStateEigensolver\n",
    "\n",
    "molecule = Molecule(\n",
    "    geometry=[[\"H\", [0.0, 0.0, 0.0]], [\"H\", [0.0, 0.0, 0.735]]], charge=0, multiplicity=1\n",
    ")\n",
    "driver = ElectronicStructureMoleculeDriver(\n",
    "    molecule, basis=\"sto3g\", driver_type=ElectronicStructureDriverType.PYSCF\n",
    ")\n",
    "\n",
    "es_problem = ElectronicStructureProblem(driver)\n",
    "qubit_converter = QubitConverter(JordanWignerMapper())\n",
    "\n",
    "quantum_instance = QuantumInstance(backend=Aer.get_backend(\"aer_simulator_statevector\"))\n",
    "vqe_solver = VQEUCCFactory(quantum_instance=quantum_instance)\n",
    "\n",
    "calc = GroundStateEigensolver(qubit_converter, vqe_solver)\n",
    "res = calc.solve(es_problem)\n",
    "\n",
    "print(res)"
   ]
  },
  {
   "cell_type": "markdown",
   "id": "4d645cf6-ce3f-411f-9e62-2c7163b858bf",
   "metadata": {},
   "source": [
    "# High Level Applications - Qiskit Machine Learning"
   ]
  },
  {
   "cell_type": "code",
   "execution_count": null,
   "id": "70d5989d-142d-4174-9568-40d1ce3a1cbb",
   "metadata": {},
   "outputs": [],
   "source": [
    "!pip install qiskit-machine-learning"
   ]
  },
  {
   "cell_type": "code",
   "execution_count": null,
   "id": "392bd1c0-4d87-43a7-a5aa-84149aba2b25",
   "metadata": {},
   "outputs": [],
   "source": [
    "# Necessary imports\n",
    "\n",
    "import numpy as np\n",
    "import matplotlib.pyplot as plt\n",
    "\n",
    "from torch import Tensor\n",
    "from torch.nn import Linear, CrossEntropyLoss, MSELoss\n",
    "from torch.optim import LBFGS\n",
    "\n",
    "from qiskit import Aer, QuantumCircuit\n",
    "from qiskit.utils import QuantumInstance, algorithm_globals\n",
    "from qiskit.opflow import AerPauliExpectation\n",
    "from qiskit.circuit import Parameter\n",
    "from qiskit.circuit.library import RealAmplitudes, ZZFeatureMap\n",
    "from qiskit_machine_learning.neural_networks import CircuitQNN, TwoLayerQNN\n",
    "from qiskit_machine_learning.connectors import TorchConnector\n",
    "\n",
    "# Set seed for random generators\n",
    "algorithm_globals.random_seed = 42\n",
    "\n",
    "# declare quantum instance\n",
    "qi = QuantumInstance(Aer.get_backend(\"aer_simulator_statevector\"))\n",
    "\n",
    "# Generate random dataset\n",
    "\n",
    "# Select dataset dimension (num_inputs) and size (num_samples)\n",
    "num_inputs = 2\n",
    "num_samples = 20\n",
    "\n",
    "# Generate random input coordinates (X) and binary labels (y)\n",
    "X = 2 * algorithm_globals.random.random([num_samples, num_inputs]) - 1\n",
    "y01 = 1 * (np.sum(X, axis=1) >= 0)  # in { 0,  1}, y01 will be used for CircuitQNN example\n",
    "y = 2 * y01 - 1  # in {-1, +1}, y will be used for OplowQNN example\n",
    "\n",
    "# Convert to torch Tensors\n",
    "X_ = Tensor(X)\n",
    "y01_ = Tensor(y01).reshape(len(y)).long()\n",
    "y_ = Tensor(y).reshape(len(y), 1)\n",
    "\n",
    "# Define feature map and ansatz\n",
    "feature_map = ZZFeatureMap(num_inputs)\n",
    "ansatz = RealAmplitudes(num_inputs, entanglement=\"linear\", reps=1)\n",
    "\n",
    "# Define quantum circuit of num_qubits = input dim\n",
    "# Append feature map and ansatz\n",
    "qc = QuantumCircuit(num_inputs)\n",
    "qc.append(feature_map, range(num_inputs))\n",
    "qc.append(ansatz, range(num_inputs))\n",
    "\n",
    "\n",
    "# Define CircuitQNN and initial setup\n",
    "parity = lambda x: \"{:b}\".format(x).count(\"1\") % 2  # optional interpret function\n",
    "output_shape = 2  # parity = 0, 1\n",
    "qnn2 = CircuitQNN(\n",
    "    qc,\n",
    "    input_params=feature_map.parameters,\n",
    "    weight_params=ansatz.parameters,\n",
    "    interpret=parity,\n",
    "    output_shape=output_shape,\n",
    "    quantum_instance=qi,\n",
    ")\n",
    "\n",
    "# Set up PyTorch module\n",
    "# Reminder: If we don't explicitly declare the initial weights\n",
    "# they are chosen uniformly at random from [-1, 1].\n",
    "initial_weights = 0.1 * (2 * algorithm_globals.random.random(qnn2.num_weights) - 1)\n",
    "model2 = TorchConnector(qnn2, initial_weights)\n",
    "\n",
    "# Define model, optimizer, and loss\n",
    "optimizer = LBFGS(model2.parameters())\n",
    "f_loss = CrossEntropyLoss()  # Our output will be in the [0,1] range\n",
    "\n",
    "# Start training\n",
    "model2.train()\n",
    "\n",
    "# Define LBFGS closure method (explained in previous section)\n",
    "def closure():\n",
    "    optimizer.zero_grad(set_to_none=True)  # Initialize gradient\n",
    "    loss = f_loss(model2(X_), y01_)  # Calculate loss\n",
    "    loss.backward()  # Backward pass\n",
    "    return loss\n",
    "\n",
    "\n",
    "# Run optimizer (LBFGS requires closure)\n",
    "optimizer.step(closure);\n",
    "\n",
    "# Evaluate model and compute accuracy\n",
    "y_predict = []\n",
    "for x in X:\n",
    "    output = model2(Tensor(x))\n",
    "    y_predict += [np.argmax(output.detach().numpy())]\n",
    "\n",
    "print(\"Accuracy:\", sum(y_predict == y01) / len(y01))\n",
    "\n",
    "# plot results\n",
    "# red == wrongly classified\n",
    "for x, y_target, y_ in zip(X, y01, y_predict):\n",
    "    if y_target == 1:\n",
    "        plt.plot(x[0], x[1], \"bo\")\n",
    "    else:\n",
    "        plt.plot(x[0], x[1], \"go\")\n",
    "    if y_target != y_:\n",
    "        plt.scatter(x[0], x[1], s=200, facecolors=\"none\", edgecolors=\"r\", linewidths=2)\n",
    "plt.plot([-1, 1], [1, -1], \"--\", color=\"black\")\n",
    "plt.show()"
   ]
  },
  {
   "cell_type": "markdown",
   "id": "d9a9e00d-bfd3-4655-8d60-39272095d1ab",
   "metadata": {},
   "source": [
    "# Low Level Applications - Qiskit Experiments (aka qiskit ignis)"
   ]
  },
  {
   "cell_type": "markdown",
   "id": "dbd6e0ab-c0ed-4b5b-8b9b-df94c898bed0",
   "metadata": {},
   "source": [
    "**E.g. Randomised Benchmarking**  \n",
    "A randomized benchmarking (RB) experiment consists of the generation of random Clifford circuits on the given qubits such that the unitary computed by the circuits is the identity. After running the circuits, the number of shots resulting in an error (i.e. an output different than the ground state) are counted, and from this data one can infer error estimates for the quantum device, by calculating the Error Per Clifford. See Qiskit Textbook for an explanation on the RB method"
   ]
  },
  {
   "cell_type": "code",
   "execution_count": null,
   "id": "467b1596-0e05-4531-87b0-b7bbcb8a251d",
   "metadata": {},
   "outputs": [],
   "source": [
    "!pip install qiskit-experiments"
   ]
  },
  {
   "cell_type": "code",
   "execution_count": null,
   "id": "73b25234-c150-46c3-b498-df3fc2591186",
   "metadata": {},
   "outputs": [],
   "source": [
    "import numpy as np\n",
    "from qiskit_experiments.library import StandardRB, InterleavedRB\n",
    "from qiskit_experiments.framework import ParallelExperiment, BatchExperiment\n",
    "import qiskit.circuit.library as circuits\n",
    "from qiskit.providers.fake_provider import FakeBelem\n",
    "\n",
    "\n",
    "backend = FakeBelem()\n",
    "\n",
    "lengths = np.arange(1, 800, 200)\n",
    "num_samples = 10\n",
    "seed = 1010\n",
    "qubits = [0]\n",
    "\n",
    "# Run an RB experiment on qubit 0\n",
    "exp1 = StandardRB(qubits, lengths, num_samples=num_samples, seed=seed)\n",
    "expdata1 = exp1.run(backend).block_for_results()\n",
    "results1 = expdata1.analysis_results()\n",
    "\n",
    "# View result data\n",
    "print(\"Gate error ratio: %s\" % expdata1.experiment.analysis.options.gate_error_ratio)\n",
    "display(expdata1.figure(0))\n",
    "for result in results1:\n",
    "    print(result)"
   ]
  },
  {
   "cell_type": "markdown",
   "id": "a4222ace-f682-4760-8238-e1340e29520b",
   "metadata": {},
   "source": [
    "# What Next?\n",
    "\n",
    "![](community_links.png)"
   ]
  },
  {
   "cell_type": "code",
   "execution_count": null,
   "id": "bf15034f-86e6-4d3e-9fad-02568afca4c1",
   "metadata": {},
   "outputs": [],
   "source": []
  }
 ],
 "metadata": {
  "kernelspec": {
   "display_name": "Python 3",
   "language": "python",
   "name": "python3"
  },
  "language_info": {
   "codemirror_mode": {
    "name": "ipython",
    "version": 3
   },
   "file_extension": ".py",
   "mimetype": "text/x-python",
   "name": "python",
   "nbconvert_exporter": "python",
   "pygments_lexer": "ipython3",
   "version": "3.9.7"
  },
  "widgets": {
   "application/vnd.jupyter.widget-state+json": {
    "state": {
     "007ba996bafd4f0a94949202f7d523af": {
      "model_module": "@jupyter-widgets/base",
      "model_module_version": "1.2.0",
      "model_name": "LayoutModel",
      "state": {
       "max_width": "180px"
      }
     },
     "00bda13b1d9f494d8237fdc84f76ed12": {
      "model_module": "@jupyter-widgets/controls",
      "model_module_version": "1.5.0",
      "model_name": "HBoxModel",
      "state": {
       "children": [
        "IPY_MODEL_f3cd45e782664a7c82f2f87e288b647b",
        "IPY_MODEL_1c290efaecc846b681c098b6534dfa42",
        "IPY_MODEL_0f47fe49eb5c40c395dc6c513786e8cb"
       ],
       "layout": "IPY_MODEL_986b0e9943ad4530a93cc756c9268303"
      }
     },
     "0223eb6ded1b4441b4758c9a2b97dd35": {
      "model_module": "@jupyter-widgets/controls",
      "model_module_version": "1.5.0",
      "model_name": "DescriptionStyleModel",
      "state": {
       "description_width": ""
      }
     },
     "03c6d6e63e304365808b3eae67ac1bbe": {
      "model_module": "@jupyter-widgets/controls",
      "model_module_version": "1.5.0",
      "model_name": "DescriptionStyleModel",
      "state": {
       "description_width": ""
      }
     },
     "04ceef14ba094d41b273d42a59f502e6": {
      "model_module": "@jupyter-widgets/controls",
      "model_module_version": "1.5.0",
      "model_name": "IntProgressModel",
      "state": {
       "layout": "IPY_MODEL_5e1f6e17ea5b4a9d9838169c64e85692",
       "max": 76,
       "style": "IPY_MODEL_c354e12e857243638bf6fcaa74147d3c",
       "value": 58
      }
     },
     "04e2bec7cee4460ba48bd36ff57fe6e8": {
      "model_module": "@jupyter-widgets/base",
      "model_module_version": "1.2.0",
      "model_name": "LayoutModel",
      "state": {
       "min_width": "auto"
      }
     },
     "067cfec40a154c44a6f919c32e5ffa45": {
      "model_module": "@jupyter-widgets/base",
      "model_module_version": "1.2.0",
      "model_name": "LayoutModel",
      "state": {}
     },
     "07cd5b3b18f748a4a0c17860225a9f9b": {
      "model_module": "@jupyter-widgets/controls",
      "model_module_version": "1.5.0",
      "model_name": "LabelModel",
      "state": {
       "layout": "IPY_MODEL_b4dcfcce6b19428eb79df15db75f2693",
       "style": "IPY_MODEL_bff53131684c49318ff6ab73da309c5a",
       "value": "60"
      }
     },
     "08f38301978849618171f97e6ffee693": {
      "model_module": "@jupyter-widgets/controls",
      "model_module_version": "1.5.0",
      "model_name": "HTMLModel",
      "state": {
       "layout": "IPY_MODEL_caeed97772c3459698c0104eaca6ce12",
       "style": "IPY_MODEL_22c200e8aa8f43cd8b9d8d67c338d546",
       "value": "<h5>100.6 / 79.7 us</h5>"
      }
     },
     "09e1d5448cc74740a3ac34b541eeaca3": {
      "model_module": "@jupyter-widgets/base",
      "model_module_version": "1.2.0",
      "model_name": "LayoutModel",
      "state": {
       "justify_content": "center"
      }
     },
     "0aa20d9f802447468b4372854f93afba": {
      "model_module": "@jupyter-widgets/controls",
      "model_module_version": "1.5.0",
      "model_name": "TabModel",
      "state": {
       "_titles": {
        "0": "Configuration",
        "1": "Qubit Properties",
        "2": "Multi-Qubit Gates",
        "3": "Error Map",
        "4": "Job History"
       },
       "children": [
        "IPY_MODEL_927bc5a979c74a368b098154b7783331",
        "IPY_MODEL_194a66b333034389a5aeecfbe29b09b9",
        "IPY_MODEL_6bc266d31c7e40c98c4a98e01be76889",
        "IPY_MODEL_948c98a27874419cbb7683f928a1c3ca",
        "IPY_MODEL_1bcffba786244122a685c22d7e5946f7"
       ],
       "layout": "IPY_MODEL_77ff49a98bb849868fb88063417b8086"
      }
     },
     "0d4bde8bebe246d49508115841215ab8": {
      "model_module": "@jupyter-widgets/controls",
      "model_module_version": "1.5.0",
      "model_name": "DescriptionStyleModel",
      "state": {
       "description_width": ""
      }
     },
     "0e19300aea904197b33304d44883d7e3": {
      "model_module": "@jupyter-widgets/controls",
      "model_module_version": "1.5.0",
      "model_name": "DescriptionStyleModel",
      "state": {
       "description_width": ""
      }
     },
     "0f3f9f87a5a8424da0fc6b2007f6499b": {
      "model_module": "@jupyter-widgets/controls",
      "model_module_version": "1.5.0",
      "model_name": "HTMLModel",
      "state": {
       "layout": "IPY_MODEL_10facede8cda4165a42d73845b7402a6",
       "style": "IPY_MODEL_125a4e8a88a2475da7eba36ba35cd752",
       "value": "<h5 style='color:#34bc6e'>True</h5>"
      }
     },
     "0f47fe49eb5c40c395dc6c513786e8cb": {
      "model_module": "@jupyter-widgets/controls",
      "model_module_version": "1.5.0",
      "model_name": "LabelModel",
      "state": {
       "layout": "IPY_MODEL_ff709260582b4fdcb08d0c4d31ab6df6",
       "style": "IPY_MODEL_ba15d7c94c5b45e2b00911ef04d64878",
       "value": "594"
      }
     },
     "10e58856f47c4aa89439f4c08edbee20": {
      "model_module": "@jupyter-widgets/controls",
      "model_module_version": "1.5.0",
      "model_name": "VBoxModel",
      "state": {
       "children": [
        "IPY_MODEL_5037ed752fb243a8929ed5be7bba0be0",
        "IPY_MODEL_bfb2d40d8ca545fdba0c973de2130af1",
        "IPY_MODEL_6ed16a6809884531a5b08ad374395743",
        "IPY_MODEL_dfbc3fe1407d4cb0b260922457ee2ca1",
        "IPY_MODEL_16e91b8d0fa4454ab3f415f02a122e06",
        "IPY_MODEL_7c571427eb31461d9508ebde1e20a678",
        "IPY_MODEL_b73acc26a9944309a9662568dac22795",
        "IPY_MODEL_dbe7ab8694604181a9cc59dbb6d2bb06",
        "IPY_MODEL_b476d4f5fd644644a743cb38bbbf905d",
        "IPY_MODEL_49a340bdde974f9f9f227c0db4d5a07e"
       ],
       "layout": "IPY_MODEL_a666a0e5c6d844a3a032560de1c4c438"
      }
     },
     "10facede8cda4165a42d73845b7402a6": {
      "model_module": "@jupyter-widgets/base",
      "model_module_version": "1.2.0",
      "model_name": "LayoutModel",
      "state": {
       "justify_content": "center"
      }
     },
     "1210970bc1c44fb396d49cd4232de04d": {
      "model_module": "@jupyter-widgets/base",
      "model_module_version": "1.2.0",
      "model_name": "LayoutModel",
      "state": {}
     },
     "125a4e8a88a2475da7eba36ba35cd752": {
      "model_module": "@jupyter-widgets/controls",
      "model_module_version": "1.5.0",
      "model_name": "DescriptionStyleModel",
      "state": {
       "description_width": ""
      }
     },
     "129f84372c374aa286d7a0e594b2e030": {
      "model_module": "@jupyter-widgets/base",
      "model_module_version": "1.2.0",
      "model_name": "LayoutModel",
      "state": {}
     },
     "1311d54902094017b02b3fa368c0705c": {
      "model_module": "@jupyter-widgets/base",
      "model_module_version": "1.2.0",
      "model_name": "LayoutModel",
      "state": {
       "justify_content": "center",
       "max_width": "250px",
       "min_width": "250px"
      }
     },
     "132810c2f1ea4aefbedf0ae9539b9611": {
      "model_module": "@jupyter-widgets/controls",
      "model_module_version": "1.5.0",
      "model_name": "HTMLModel",
      "state": {
       "layout": "IPY_MODEL_9924c8740ec14d4393addbeab7e7ed27",
       "style": "IPY_MODEL_91a223cd826d430a8aee603d975e25b0",
       "value": "<h5 style='color:#34bc6e'>True</h5>"
      }
     },
     "13b0536409e8487686bf12414141c538": {
      "model_module": "@jupyter-widgets/base",
      "model_module_version": "1.2.0",
      "model_name": "LayoutModel",
      "state": {
       "align_items": "center",
       "justify_content": "center",
       "margin": "0px 0px 0px 0px",
       "max_height": "250px",
       "max_width": "250px",
       "min_height": "250px",
       "min_width": "250px"
      }
     },
     "14c096a35b7748009a70a915ab5619bc": {
      "model_module": "@jupyter-widgets/base",
      "model_module_version": "1.2.0",
      "model_name": "LayoutModel",
      "state": {
       "max_width": "180px"
      }
     },
     "16e91b8d0fa4454ab3f415f02a122e06": {
      "model_module": "@jupyter-widgets/controls",
      "model_module_version": "1.5.0",
      "model_name": "HBoxModel",
      "state": {
       "children": [
        "IPY_MODEL_66e4e702e08f4da39167205e8cd2d28a",
        "IPY_MODEL_cb4dbd2e321f41b0853a485c9b7a100f",
        "IPY_MODEL_f8a53d0efb82452795f2fe83cb2bd193"
       ],
       "layout": "IPY_MODEL_c191f539b48b424b99d21491abb66c5b"
      }
     },
     "17a34ecf66aa49c68365170f6f3d3127": {
      "model_module": "@jupyter-widgets/controls",
      "model_module_version": "1.5.0",
      "model_name": "HTMLModel",
      "state": {
       "layout": "IPY_MODEL_e5ee36b1a4c54c31b53d51e868e57345",
       "style": "IPY_MODEL_3e4b87ed60b64913836e4ff43bab403f",
       "value": "<h5>0.0136</h5>"
      }
     },
     "194a66b333034389a5aeecfbe29b09b9": {
      "model_module": "@jupyter-widgets/controls",
      "model_module_version": "1.5.0",
      "model_name": "VBoxModel",
      "state": {
       "children": [
        "IPY_MODEL_33f4c0abcc9c4f78aea2049101cea476",
        "IPY_MODEL_46c3d8176fa646f197e6445bd22b9fac"
       ],
       "layout": "IPY_MODEL_a08f3a581b654d77a0b9355d4e638a92"
      }
     },
     "1999aab1ded24c4bb5cf6c09bec6a4c6": {
      "model_module": "@jupyter-widgets/base",
      "model_module_version": "1.2.0",
      "model_name": "LayoutModel",
      "state": {
       "justify_content": "center"
      }
     },
     "19bdfc02f72f46b5886f1061c8dda9fd": {
      "model_module": "@jupyter-widgets/controls",
      "model_module_version": "1.5.0",
      "model_name": "DescriptionStyleModel",
      "state": {
       "description_width": ""
      }
     },
     "19e15bc023fb49a0b01df28dac548bf6": {
      "model_module": "@jupyter-widgets/controls",
      "model_module_version": "1.5.0",
      "model_name": "DescriptionStyleModel",
      "state": {
       "description_width": ""
      }
     },
     "1a5cea58787d438eacf37a3e18f77abb": {
      "model_module": "@jupyter-widgets/controls",
      "model_module_version": "1.5.0",
      "model_name": "HTMLModel",
      "state": {
       "layout": "IPY_MODEL_69ad486d197b476cad3a84777deeca6e",
       "style": "IPY_MODEL_6516ecff0d3e45e7a7404f1b2dfce622",
       "value": "<h1 style='color:#ffffff;background-color:#000000;padding-top: 1%;padding-bottom: 1%;padding-left: 1%; margin-top: 0px'>ibmq_manila</h1>"
      }
     },
     "1a5f3890af0546528a186d747a41ef94": {
      "model_module": "@jupyter-widgets/controls",
      "model_module_version": "1.5.0",
      "model_name": "HTMLModel",
      "state": {
       "layout": "IPY_MODEL_34f49ef46ad4422ebdf8af9925fc7d35",
       "style": "IPY_MODEL_0d4bde8bebe246d49508115841215ab8",
       "value": "<h5>0.0139</h5>"
      }
     },
     "1a8747ae4fe34dccaa97694ec833b823": {
      "model_module": "@jupyter-widgets/controls",
      "model_module_version": "1.5.0",
      "model_name": "DescriptionStyleModel",
      "state": {
       "description_width": ""
      }
     },
     "1b878252d2184e0388279ed0c18a5cd7": {
      "model_module": "@jupyter-widgets/controls",
      "model_module_version": "1.5.0",
      "model_name": "HTMLModel",
      "state": {
       "layout": "IPY_MODEL_f6578b93932743f18ff51d5cb7cf87c6",
       "style": "IPY_MODEL_5e64c244bd79411b993e065ea203d842",
       "value": "<h5 style='color:#dc267f'>False</h5>"
      }
     },
     "1b9bce50c99049a2a7d261cf853e840c": {
      "model_module": "@jupyter-widgets/controls",
      "model_module_version": "1.5.0",
      "model_name": "DescriptionStyleModel",
      "state": {
       "description_width": ""
      }
     },
     "1bcffba786244122a685c22d7e5946f7": {
      "model_module": "@jupyter-widgets/controls",
      "model_module_version": "1.5.0",
      "model_name": "TabModel",
      "state": {
       "layout": "IPY_MODEL_c3a11c989a714480848d33e09adb4f4b"
      }
     },
     "1c290efaecc846b681c098b6534dfa42": {
      "model_module": "@jupyter-widgets/controls",
      "model_module_version": "1.5.0",
      "model_name": "IntProgressModel",
      "state": {
       "layout": "IPY_MODEL_c732954594654d33b4befcb466c0c26e",
       "max": 594,
       "style": "IPY_MODEL_9a69fdabf60a4beab5a07925e8266c1e",
       "value": 579
      }
     },
     "1cdfebcb29134f10819948726e6d7173": {
      "model_module": "@jupyter-widgets/controls",
      "model_module_version": "1.5.0",
      "model_name": "DescriptionStyleModel",
      "state": {
       "description_width": ""
      }
     },
     "1d1370b8b78449b6bcdfc15aeefda5f0": {
      "model_module": "@jupyter-widgets/controls",
      "model_module_version": "1.5.0",
      "model_name": "DescriptionStyleModel",
      "state": {
       "description_width": ""
      }
     },
     "1d22d07444b04ec1a4d7203cf93be08b": {
      "model_module": "@jupyter-widgets/controls",
      "model_module_version": "1.5.0",
      "model_name": "VBoxModel",
      "state": {
       "children": [
        "IPY_MODEL_dabf7544d72a4ff5aa860e7eaeb49baa",
        "IPY_MODEL_9ae0f76b66d24994a8cbd1ff5fc19c14",
        "IPY_MODEL_944732a1cd464b51b4f2c5352af714a9",
        "IPY_MODEL_5cdb4447fe25435e9560feb5720812a4",
        "IPY_MODEL_ee155155bdb542b8b7d20715f964b43f",
        "IPY_MODEL_b0de05e17cb546ddb7699f671ea72e42",
        "IPY_MODEL_bc73865cc53440c8b51c99d43826a36e",
        "IPY_MODEL_edf3cfac231e4969915ac1cd4a0c6943"
       ],
       "layout": "IPY_MODEL_ea0fb52d8d494e94ac87c1595e151a08"
      }
     },
     "1d2ca3a69ad54841aa8ae7b9a0c3eed5": {
      "model_module": "@jupyter-widgets/base",
      "model_module_version": "1.2.0",
      "model_name": "LayoutModel",
      "state": {
       "width": "95px"
      }
     },
     "1e239464448e4c30be00b780c1c8e8d0": {
      "model_module": "@jupyter-widgets/base",
      "model_module_version": "1.2.0",
      "model_name": "LayoutModel",
      "state": {
       "justify_content": "center"
      }
     },
     "1ecfe4e8409449759fbc6599dd07d1ac": {
      "model_module": "@jupyter-widgets/controls",
      "model_module_version": "1.5.0",
      "model_name": "LabelModel",
      "state": {
       "layout": "IPY_MODEL_81609a18597648cf971a680c0345b3c2",
       "style": "IPY_MODEL_9064d9559a714234ab3678f963ed807d",
       "value": "58"
      }
     },
     "1f630fd92f5b4352bc442f97c711d5e1": {
      "model_module": "@jupyter-widgets/base",
      "model_module_version": "1.2.0",
      "model_name": "LayoutModel",
      "state": {
       "grid_area": "left",
       "width": "100%"
      }
     },
     "207292fede7d4d798c27c1ffe9cdae23": {
      "model_module": "@jupyter-widgets/controls",
      "model_module_version": "1.5.0",
      "model_name": "DescriptionStyleModel",
      "state": {
       "description_width": ""
      }
     },
     "22c200e8aa8f43cd8b9d8d67c338d546": {
      "model_module": "@jupyter-widgets/controls",
      "model_module_version": "1.5.0",
      "model_name": "DescriptionStyleModel",
      "state": {
       "description_width": ""
      }
     },
     "24a425e9c5fe415e8e43cb8f12a4ed1e": {
      "model_module": "@jupyter-widgets/base",
      "model_module_version": "1.2.0",
      "model_name": "LayoutModel",
      "state": {}
     },
     "259224c5025742ad9854083c1dd74c4e": {
      "model_module": "@jupyter-widgets/controls",
      "model_module_version": "1.5.0",
      "model_name": "DescriptionStyleModel",
      "state": {
       "description_width": ""
      }
     },
     "2755d22601f04feb89a864e50268f470": {
      "model_module": "@jupyter-widgets/controls",
      "model_module_version": "1.5.0",
      "model_name": "LabelModel",
      "state": {
       "layout": "IPY_MODEL_8c0fd311d6954f7899d4ba28de54d4f4",
       "style": "IPY_MODEL_384d60d1f4c8415c8971b2cab27661bc",
       "value": "76"
      }
     },
     "276ff3d0ebb54e47b2f7db6588aeda25": {
      "model_module": "@jupyter-widgets/controls",
      "model_module_version": "1.5.0",
      "model_name": "DescriptionStyleModel",
      "state": {
       "description_width": ""
      }
     },
     "279a9442424649a99f6766adf6637e32": {
      "model_module": "@jupyter-widgets/base",
      "model_module_version": "1.2.0",
      "model_name": "LayoutModel",
      "state": {
       "min_width": "auto"
      }
     },
     "28f4ce6f94624355b0563dc4032e23b9": {
      "model_module": "@jupyter-widgets/controls",
      "model_module_version": "1.5.0",
      "model_name": "HTMLModel",
      "state": {
       "layout": "IPY_MODEL_a564ddd87597463bb8202756f53fce13",
       "style": "IPY_MODEL_7b8c9aa8e49b42569b383c0c5ef1ef4d",
       "value": "<h5>32</h5>"
      }
     },
     "291c53febfa344a892cefd44d8ed0a57": {
      "model_module": "@jupyter-widgets/base",
      "model_module_version": "1.2.0",
      "model_name": "LayoutModel",
      "state": {
       "justify_content": "center"
      }
     },
     "2a52746d1cf947f6b605f9ef5703819d": {
      "model_module": "@jupyter-widgets/controls",
      "model_module_version": "1.5.0",
      "model_name": "HTMLModel",
      "state": {
       "layout": "IPY_MODEL_c1c2086c0fc94171a630fb850e178c2c",
       "style": "IPY_MODEL_5ac127d00af44d1c9cd12b178290799b",
       "value": "<h4>ibm_nairobi</h4>"
      }
     },
     "2a95b196cad34382976fa0f203a10b00": {
      "model_module": "@jupyter-widgets/controls",
      "model_module_version": "1.5.0",
      "model_name": "GridBoxModel",
      "state": {
       "children": [
        "IPY_MODEL_e95510c655d149af9a9e243d46e3fa0d"
       ],
       "layout": "IPY_MODEL_8e0ee74bf33e4ecd89ed2504aab15dac"
      }
     },
     "2be0b722871c4864a67d3cf0120ddb69": {
      "model_module": "@jupyter-widgets/base",
      "model_module_version": "1.2.0",
      "model_name": "LayoutModel",
      "state": {
       "align_items": "center",
       "display": "flex-inline"
      }
     },
     "2d42bcfd0b49430fa4ba7d4f308d81bb": {
      "model_module": "@jupyter-widgets/controls",
      "model_module_version": "1.5.0",
      "model_name": "DescriptionStyleModel",
      "state": {
       "description_width": ""
      }
     },
     "2f3c1950f8a34537953d9d85f3c19df3": {
      "model_module": "@jupyter-widgets/controls",
      "model_module_version": "1.5.0",
      "model_name": "HTMLModel",
      "state": {
       "layout": "IPY_MODEL_1e239464448e4c30be00b780c1c8e8d0",
       "style": "IPY_MODEL_a6283c129d784ba39a62522c6810bb9f",
       "value": "<h5>16</h5>"
      }
     },
     "2f5c92800dfb4d9cb095ce7f6e4be2f4": {
      "model_module": "@jupyter-widgets/controls",
      "model_module_version": "1.5.0",
      "model_name": "LabelModel",
      "state": {
       "layout": "IPY_MODEL_f113e22bc56b4a6c8d56e68d90db505a",
       "style": "IPY_MODEL_7e867817bb604339b4487abfae5c691c",
       "value": "100"
      }
     },
     "3032c6f79d39425dafaca87e380de9c1": {
      "model_module": "@jupyter-widgets/base",
      "model_module_version": "1.2.0",
      "model_name": "LayoutModel",
      "state": {
       "grid_area": "left"
      }
     },
     "3076b7802fbd42e2a20dd6d2f612d8fb": {
      "model_module": "@jupyter-widgets/controls",
      "model_module_version": "1.5.0",
      "model_name": "DescriptionStyleModel",
      "state": {
       "description_width": ""
      }
     },
     "31a6f0839f3b489fa4546519f097ac44": {
      "model_module": "@jupyter-widgets/base",
      "model_module_version": "1.2.0",
      "model_name": "LayoutModel",
      "state": {}
     },
     "32a9b05ab0f44e66b06356cbd4ae3431": {
      "model_module": "@jupyter-widgets/base",
      "model_module_version": "1.2.0",
      "model_name": "LayoutModel",
      "state": {
       "grid_area": "bottom",
       "width": "auto"
      }
     },
     "33978c21f2714c37ba45793a14059d4c": {
      "model_module": "@jupyter-widgets/base",
      "model_module_version": "1.2.0",
      "model_name": "LayoutModel",
      "state": {
       "justify_content": "center"
      }
     },
     "33f4c0abcc9c4f78aea2049101cea476": {
      "model_module": "@jupyter-widgets/controls",
      "model_module_version": "1.5.0",
      "model_name": "HTMLModel",
      "state": {
       "layout": "IPY_MODEL_d000aac1b18e4d409930c795c89304b1",
       "style": "IPY_MODEL_1d1370b8b78449b6bcdfc15aeefda5f0",
       "value": "<div><font style='font-weight:bold'>last_update_date</font>: Thu 10 November 2022 at 23:26 UTC</div>"
      }
     },
     "346b62a4422f4dd382e6c0b7a96d5b97": {
      "model_module": "@jupyter-widgets/controls",
      "model_module_version": "1.5.0",
      "model_name": "HTMLModel",
      "state": {
       "layout": "IPY_MODEL_129f84372c374aa286d7a0e594b2e030",
       "style": "IPY_MODEL_a2af6f8d01ca4c01bfcc254cdb265357",
       "value": "<h5>0.0076</h5>"
      }
     },
     "34cf26c33146404e9eda7ba9f95d9d74": {
      "model_module": "@jupyter-widgets/controls",
      "model_module_version": "1.5.0",
      "model_name": "VBoxModel",
      "state": {
       "children": [
        "IPY_MODEL_2a52746d1cf947f6b605f9ef5703819d",
        "IPY_MODEL_9b813de545484d28bbcc7f46521562b4",
        "IPY_MODEL_d430618f3bd141fe89f19d5594256abd",
        "IPY_MODEL_c401905f87b9485ea115cac23520ff10",
        "IPY_MODEL_73c175dd1ed54dd8af5918888bba00e1",
        "IPY_MODEL_132810c2f1ea4aefbedf0ae9539b9611",
        "IPY_MODEL_1b878252d2184e0388279ed0c18a5cd7",
        "IPY_MODEL_8c1bae65e86a4e9ca207a8c722f74466",
        "IPY_MODEL_5c28e3b2d7774dc5aa8448cb0515da0a",
        "IPY_MODEL_f090be23a1d54625b2b8c3e27a407d82"
       ],
       "layout": "IPY_MODEL_7bbb634a6104469bba87c2ef60d682c1"
      }
     },
     "34f49ef46ad4422ebdf8af9925fc7d35": {
      "model_module": "@jupyter-widgets/base",
      "model_module_version": "1.2.0",
      "model_name": "LayoutModel",
      "state": {}
     },
     "359b1755c6ba4243a418ea1810c9131c": {
      "model_module": "@jupyter-widgets/controls",
      "model_module_version": "1.5.0",
      "model_name": "DescriptionStyleModel",
      "state": {
       "description_width": ""
      }
     },
     "35b5575fa8fd4338ad05c7174827ba3b": {
      "model_module": "@jupyter-widgets/controls",
      "model_module_version": "1.5.0",
      "model_name": "DescriptionStyleModel",
      "state": {
       "description_width": ""
      }
     },
     "37f193801e7141a5acc477dbd7b267a7": {
      "model_module": "@jupyter-widgets/base",
      "model_module_version": "1.2.0",
      "model_name": "LayoutModel",
      "state": {
       "width": "70px"
      }
     },
     "384d60d1f4c8415c8971b2cab27661bc": {
      "model_module": "@jupyter-widgets/controls",
      "model_module_version": "1.5.0",
      "model_name": "DescriptionStyleModel",
      "state": {
       "description_width": ""
      }
     },
     "38dd50b3f466425fb501ee0c9eeb4167": {
      "model_module": "@jupyter-widgets/controls",
      "model_module_version": "1.5.0",
      "model_name": "HTMLModel",
      "state": {
       "layout": "IPY_MODEL_3978c8c584ec4c67bafd2edb229de799",
       "style": "IPY_MODEL_9c252bb47d284183bc35852e8fea24ae",
       "value": "<h5>Message</h5>"
      }
     },
     "3978c8c584ec4c67bafd2edb229de799": {
      "model_module": "@jupyter-widgets/base",
      "model_module_version": "1.2.0",
      "model_name": "LayoutModel",
      "state": {}
     },
     "3a3ef2e2ddc446fd944ab5d2424257d8": {
      "model_module": "@jupyter-widgets/controls",
      "model_module_version": "1.5.0",
      "model_name": "HTMLModel",
      "state": {
       "layout": "IPY_MODEL_33978c21f2714c37ba45793a14059d4c",
       "style": "IPY_MODEL_620d7eaae4764657aaf08d6d7fe85dda",
       "value": "<h5>32</h5>"
      }
     },
     "3e4b87ed60b64913836e4ff43bab403f": {
      "model_module": "@jupyter-widgets/controls",
      "model_module_version": "1.5.0",
      "model_name": "DescriptionStyleModel",
      "state": {
       "description_width": ""
      }
     },
     "3e8f14eb8d5e4187a793b40428154a7b": {
      "model_module": "@jupyter-widgets/base",
      "model_module_version": "1.2.0",
      "model_name": "LayoutModel",
      "state": {
       "min_width": "auto"
      }
     },
     "40cbff6a7c2f491c92a2da5692fdcdb3": {
      "model_module": "@jupyter-widgets/controls",
      "model_module_version": "1.5.0",
      "model_name": "VBoxModel",
      "state": {
       "children": [
        "IPY_MODEL_6de75ece772f4943a55e244b819aeca6",
        "IPY_MODEL_dd041c4208024698ad5c19f7e9890d51"
       ],
       "layout": "IPY_MODEL_79ab608be9e641cba4653823215059cb"
      }
     },
     "41a29d9cef394b79915860fc94a48354": {
      "model_module": "@jupyter-widgets/controls",
      "model_module_version": "1.5.0",
      "model_name": "DescriptionStyleModel",
      "state": {
       "description_width": ""
      }
     },
     "4466ca9b769242c1875b9c7b408e846c": {
      "model_module": "@jupyter-widgets/controls",
      "model_module_version": "1.5.0",
      "model_name": "DescriptionStyleModel",
      "state": {
       "description_width": ""
      }
     },
     "46209589209e49fb819876b1dbb4ed49": {
      "model_module": "@jupyter-widgets/controls",
      "model_module_version": "1.5.0",
      "model_name": "DescriptionStyleModel",
      "state": {
       "description_width": ""
      }
     },
     "4698348885dc455b948d7af1f6903375": {
      "model_module": "@jupyter-widgets/base",
      "model_module_version": "1.2.0",
      "model_name": "LayoutModel",
      "state": {
       "justify_content": "center",
       "max_width": "250px",
       "min_width": "250px"
      }
     },
     "46c3d8176fa646f197e6445bd22b9fac": {
      "model_module": "@jupyter-widgets/controls",
      "model_module_version": "1.5.0",
      "model_name": "HTMLModel",
      "state": {
       "layout": "IPY_MODEL_d94519a5f86a4520bfbabbbf097a40f9",
       "style": "IPY_MODEL_fec42508d59e4640816f017cb3e6bfa7",
       "value": "<table><style>\ntable {\n    border-collapse: collapse;\n    width: auto;\n}\n\nth, td {\n    text-align: left;\n    padding: 8px;\n}\n\ntr:nth-child(even) {background-color: #f6f6f6;}\n</style><tr><th></th><th>Frequency</th><th>T1</th><th>T2</th><th>RZ</th><th>SX</th><th>X</th><th>Readout error</th></tr><tr><td><font style='font-weight:bold'>Q0</font></td><td>4.96229 GHz</td><td>151.48078 us</td><td>111.31285 us</td><td>0</td><td>0.00054</td><td>0.00054</td><td>0.0329 </td><tr><td><font style='font-weight:bold'>Q1</font></td><td>4.83785 GHz</td><td>145.9061 us</td><td>72.93657 us</td><td>0</td><td>0.00023</td><td>0.00023</td><td>0.0176 </td><tr><td><font style='font-weight:bold'>Q2</font></td><td>5.03725 GHz</td><td>139.37551 us</td><td>25.49057 us</td><td>0</td><td>0.00022</td><td>0.00022</td><td>0.0233 </td><tr><td><font style='font-weight:bold'>Q3</font></td><td>4.95097 GHz</td><td>234.69419 us</td><td>60.12614 us</td><td>0</td><td>0.00023</td><td>0.00023</td><td>0.0214 </td><tr><td><font style='font-weight:bold'>Q4</font></td><td>5.06513 GHz</td><td>97.36112 us</td><td>37.50767 us</td><td>0</td><td>0.00063</td><td>0.00063</td><td>0.0273 </td></table>"
      }
     },
     "47295c4848a942758b9c24ab0e9b2206": {
      "model_module": "@jupyter-widgets/base",
      "model_module_version": "1.2.0",
      "model_name": "LayoutModel",
      "state": {}
     },
     "49a340bdde974f9f9f227c0db4d5a07e": {
      "model_module": "@jupyter-widgets/controls",
      "model_module_version": "1.5.0",
      "model_name": "HTMLModel",
      "state": {
       "layout": "IPY_MODEL_d70963c9113b4fa0b705c326f25abee7",
       "style": "IPY_MODEL_03c6d6e63e304365808b3eae67ac1bbe",
       "value": "<h5>0.0416</h5>"
      }
     },
     "4b0b9687aeb0420c80c664276ccf8c0e": {
      "model_module": "@jupyter-widgets/controls",
      "model_module_version": "1.5.0",
      "model_name": "DescriptionStyleModel",
      "state": {
       "description_width": ""
      }
     },
     "4ef3d5906b3a4a6faf600e8550841533": {
      "model_module": "@jupyter-widgets/controls",
      "model_module_version": "1.5.0",
      "model_name": "VBoxModel",
      "state": {
       "children": [
        "IPY_MODEL_fcd3750613454c7cadcb3da2526f20b1",
        "IPY_MODEL_7859707a49fa453aa9a0512193c2d365",
        "IPY_MODEL_5ad40727f23c45d2ab63a49eb260ca5c",
        "IPY_MODEL_2f3c1950f8a34537953d9d85f3c19df3",
        "IPY_MODEL_f64dad9350474d47bf178dfceb3f4fc9",
        "IPY_MODEL_f1ad69d9d526437c9ddd5ec5c00b5a48",
        "IPY_MODEL_ff8e7ae3a6dc4cf7986952f45a6bf236",
        "IPY_MODEL_08f38301978849618171f97e6ffee693",
        "IPY_MODEL_17a34ecf66aa49c68365170f6f3d3127",
        "IPY_MODEL_b048d393b2c344b9abebd96f50b16312"
       ],
       "layout": "IPY_MODEL_b00d693ade2b4cd78ab57a6d0403675b"
      }
     },
     "4f784f7edf744bec860ca629fa2103e5": {
      "model_module": "@jupyter-widgets/controls",
      "model_module_version": "1.5.0",
      "model_name": "HTMLModel",
      "state": {
       "layout": "IPY_MODEL_3032c6f79d39425dafaca87e380de9c1",
       "style": "IPY_MODEL_be354451ec3f44659c4abe03a2c43c4f",
       "value": "<table><style>\ntable {\n    border-collapse: collapse;\n    width: auto;\n}\n\nth, td {\n    text-align: left;\n    padding: 8px;\n}\n\ntr:nth-child(even) {background-color: #f6f6f6;};\n</style><tr><th></th><th>Type</th><th>Gate error</th></tr><tr><td><font style='font-weight:bold'>cx4_3</font></td><td>cx</td><td>0.00711</td></tr><tr><td><font style='font-weight:bold'>cx3_4</font></td><td>cx</td><td>0.00711</td></tr><tr><td><font style='font-weight:bold'>cx2_3</font></td><td>cx</td><td>0.00664</td></tr></table>"
      }
     },
     "5005dd3bde784c7bb4b5580ce4ebe4ed": {
      "model_module": "@jupyter-widgets/output",
      "model_module_version": "1.0.0",
      "model_name": "OutputModel",
      "state": {
       "layout": "IPY_MODEL_fc28b96b2e854accb24e3a02731e7195",
       "outputs": [
        {
         "data": {
          "image/png": "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\n",
          "text/plain": "<Figure size 360x360 with 1 Axes>"
         },
         "metadata": {},
         "output_type": "display_data"
        }
       ]
      }
     },
     "5037ed752fb243a8929ed5be7bba0be0": {
      "model_module": "@jupyter-widgets/controls",
      "model_module_version": "1.5.0",
      "model_name": "HTMLModel",
      "state": {
       "layout": "IPY_MODEL_31a6f0839f3b489fa4546519f097ac44",
       "style": "IPY_MODEL_961144efb22643e1a64834ea9a4455be",
       "value": "<h4>ibmq_belem</h4>"
      }
     },
     "50d76b72dee7480b870723a726bba647": {
      "model_module": "@jupyter-widgets/base",
      "model_module_version": "1.2.0",
      "model_name": "LayoutModel",
      "state": {}
     },
     "51d79b0748054238992b32c1591eb240": {
      "model_module": "@jupyter-widgets/controls",
      "model_module_version": "1.5.0",
      "model_name": "IntProgressModel",
      "state": {
       "layout": "IPY_MODEL_b6299103ae7248469995111afba7df88",
       "max": 349,
       "style": "IPY_MODEL_b212ff518ac24f43803fd83dc9c8b8d8",
       "value": 333
      }
     },
     "51dd59eb872d42c8879ef01b41ba5a30": {
      "model_module": "@jupyter-widgets/base",
      "model_module_version": "1.2.0",
      "model_name": "LayoutModel",
      "state": {
       "justify_content": "center"
      }
     },
     "521acec5ac7e43a2aeeae3104e5c43de": {
      "model_module": "@jupyter-widgets/controls",
      "model_module_version": "1.5.0",
      "model_name": "HTMLModel",
      "state": {
       "layout": "IPY_MODEL_fef1af4524da4f00972f1b13c5fbd668",
       "style": "IPY_MODEL_276ff3d0ebb54e47b2f7db6588aeda25",
       "value": "<div><font style='font-weight:bold'>last_update_date</font>: 2022-11-10 23:26:45+00:00</div>"
      }
     },
     "527c725cb02e4e2b846b84e8b446e20e": {
      "model_module": "@jupyter-widgets/base",
      "model_module_version": "1.2.0",
      "model_name": "LayoutModel",
      "state": {
       "margin": "0px 0px 0px 37px",
       "width": "600px"
      }
     },
     "529ee02a1ffa4f17a829d1910b9eb2de": {
      "model_module": "@jupyter-widgets/base",
      "model_module_version": "1.2.0",
      "model_name": "LayoutModel",
      "state": {}
     },
     "52f1a9dfbf3a476981365e63db9ae8c5": {
      "model_module": "@jupyter-widgets/controls",
      "model_module_version": "1.5.0",
      "model_name": "HBoxModel",
      "state": {
       "children": [
        "IPY_MODEL_83706015fdce414a99c37e11a41cb065",
        "IPY_MODEL_d28bd418a17445139612761ccd8eef74",
        "IPY_MODEL_2f5c92800dfb4d9cb095ce7f6e4be2f4"
       ],
       "layout": "IPY_MODEL_1311d54902094017b02b3fa368c0705c"
      }
     },
     "53f639fc4b9f40f598ab6848e2dacee0": {
      "model_module": "@jupyter-widgets/base",
      "model_module_version": "1.2.0",
      "model_name": "LayoutModel",
      "state": {
       "align_items": "center",
       "display": "flex-inline",
       "grid_area": "right",
       "max_height": "325px",
       "padding": "10px 10px 10px 10px",
       "width": "auto"
      }
     },
     "5488ca6ecb2041038afc9a060f64620b": {
      "model_module": "@jupyter-widgets/base",
      "model_module_version": "1.2.0",
      "model_name": "LayoutModel",
      "state": {
       "justify_content": "center"
      }
     },
     "56cd7927d4b2479eb6440ef4f3dbc3bd": {
      "model_module": "@jupyter-widgets/controls",
      "model_module_version": "1.5.0",
      "model_name": "HTMLModel",
      "state": {
       "layout": "IPY_MODEL_1d2ca3a69ad54841aa8ae7b9a0c3eed5",
       "style": "IPY_MODEL_f1b845cd842d4940896ea38dec88ac11",
       "value": "<h5>Status</h5>"
      }
     },
     "5715cf6f066f4bdba4c18e367882c6d2": {
      "model_module": "@jupyter-widgets/controls",
      "model_module_version": "1.5.0",
      "model_name": "DescriptionStyleModel",
      "state": {
       "description_width": ""
      }
     },
     "57b28eaf7dc148c29fb02dc59a172413": {
      "model_module": "@jupyter-widgets/controls",
      "model_module_version": "1.5.0",
      "model_name": "LabelModel",
      "state": {
       "layout": "IPY_MODEL_04e2bec7cee4460ba48bd36ff57fe6e8",
       "style": "IPY_MODEL_cc3ac747aa174f7b801650f4ff990fde",
       "value": "333"
      }
     },
     "58366561f2e24aa18580f15e3e02f0f7": {
      "model_module": "@jupyter-widgets/controls",
      "model_module_version": "1.5.0",
      "model_name": "ProgressStyleModel",
      "state": {
       "bar_color": "#71cddd",
       "description_width": ""
      }
     },
     "5a666b91558246b0ac1600dcaf69311a": {
      "model_module": "@jupyter-widgets/controls",
      "model_module_version": "1.5.0",
      "model_name": "DescriptionStyleModel",
      "state": {
       "description_width": ""
      }
     },
     "5a7861189ac844e284d190121821f2eb": {
      "model_module": "@jupyter-widgets/base",
      "model_module_version": "1.2.0",
      "model_name": "LayoutModel",
      "state": {
       "min_width": "auto"
      }
     },
     "5ac127d00af44d1c9cd12b178290799b": {
      "model_module": "@jupyter-widgets/controls",
      "model_module_version": "1.5.0",
      "model_name": "DescriptionStyleModel",
      "state": {
       "description_width": ""
      }
     },
     "5ad40727f23c45d2ab63a49eb260ca5c": {
      "model_module": "@jupyter-widgets/controls",
      "model_module_version": "1.5.0",
      "model_name": "HTMLModel",
      "state": {
       "layout": "IPY_MODEL_5488ca6ecb2041038afc9a060f64620b",
       "style": "IPY_MODEL_7e70ae1a1a074d81a8a56f7b1f2f7b7c",
       "value": "<h5><b>5</b></h5>"
      }
     },
     "5bf20ae43ab24b89bea945dd594916f7": {
      "model_module": "@jupyter-widgets/controls",
      "model_module_version": "1.5.0",
      "model_name": "DescriptionStyleModel",
      "state": {
       "description_width": ""
      }
     },
     "5c28e3b2d7774dc5aa8448cb0515da0a": {
      "model_module": "@jupyter-widgets/controls",
      "model_module_version": "1.5.0",
      "model_name": "HTMLModel",
      "state": {
       "layout": "IPY_MODEL_6600ac77c9314b46a5efc14cc20c3429",
       "style": "IPY_MODEL_5a666b91558246b0ac1600dcaf69311a",
       "value": "<h5>0.0137</h5>"
      }
     },
     "5cdb4447fe25435e9560feb5720812a4": {
      "model_module": "@jupyter-widgets/controls",
      "model_module_version": "1.5.0",
      "model_name": "LabelModel",
      "state": {
       "layout": "IPY_MODEL_c86f00f9a8a541999e5fa3816eb12a7c",
       "style": "IPY_MODEL_c169b20aa6ee448499b636dfbe884a3b",
       "value": "Operational"
      }
     },
     "5cfbcd5615f74e159d1943d27f300748": {
      "model_module": "@jupyter-widgets/controls",
      "model_module_version": "1.5.0",
      "model_name": "HTMLModel",
      "state": {
       "layout": "IPY_MODEL_51dd59eb872d42c8879ef01b41ba5a30",
       "style": "IPY_MODEL_dd1c36fccd9e4c94a10834d0899dec1b",
       "value": "<h5><b>7</b></h5>"
      }
     },
     "5e1f6e17ea5b4a9d9838169c64e85692": {
      "model_module": "@jupyter-widgets/base",
      "model_module_version": "1.2.0",
      "model_name": "LayoutModel",
      "state": {
       "max_width": "180px"
      }
     },
     "5e64c244bd79411b993e065ea203d842": {
      "model_module": "@jupyter-widgets/controls",
      "model_module_version": "1.5.0",
      "model_name": "DescriptionStyleModel",
      "state": {
       "description_width": ""
      }
     },
     "608306507b4046e6a53de3f80b854234": {
      "model_module": "@jupyter-widgets/base",
      "model_module_version": "1.2.0",
      "model_name": "LayoutModel",
      "state": {}
     },
     "620d7eaae4764657aaf08d6d7fe85dda": {
      "model_module": "@jupyter-widgets/controls",
      "model_module_version": "1.5.0",
      "model_name": "DescriptionStyleModel",
      "state": {
       "description_width": ""
      }
     },
     "62b037f5704b490f8b364879b49a8b44": {
      "model_module": "@jupyter-widgets/base",
      "model_module_version": "1.2.0",
      "model_name": "LayoutModel",
      "state": {
       "align_items": "center",
       "display": "inline-flex",
       "flex_flow": "column"
      }
     },
     "62f596d83a2d4ed9b41a05b3bda759d3": {
      "model_module": "@jupyter-widgets/controls",
      "model_module_version": "1.5.0",
      "model_name": "DescriptionStyleModel",
      "state": {
       "description_width": ""
      }
     },
     "6516ecff0d3e45e7a7404f1b2dfce622": {
      "model_module": "@jupyter-widgets/controls",
      "model_module_version": "1.5.0",
      "model_name": "DescriptionStyleModel",
      "state": {
       "description_width": ""
      }
     },
     "6600ac77c9314b46a5efc14cc20c3429": {
      "model_module": "@jupyter-widgets/base",
      "model_module_version": "1.2.0",
      "model_name": "LayoutModel",
      "state": {}
     },
     "66e4e702e08f4da39167205e8cd2d28a": {
      "model_module": "@jupyter-widgets/controls",
      "model_module_version": "1.5.0",
      "model_name": "LabelModel",
      "state": {
       "layout": "IPY_MODEL_da4638ae823d492fbd3e7bdc1f7a83f0",
       "style": "IPY_MODEL_1a8747ae4fe34dccaa97694ec833b823",
       "value": "66"
      }
     },
     "67baa5b78b864c3697cc1750ea79cd13": {
      "model_module": "@jupyter-widgets/controls",
      "model_module_version": "1.5.0",
      "model_name": "HTMLModel",
      "state": {
       "layout": "IPY_MODEL_7d9332a3496b403880f25fd6b50a1a53",
       "style": "IPY_MODEL_359b1755c6ba4243a418ea1810c9131c",
       "value": "<h5><b>5</b></h5>"
      }
     },
     "68aa1e60bd744005a8b47a40c8054b32": {
      "model_module": "@jupyter-widgets/base",
      "model_module_version": "1.2.0",
      "model_name": "LayoutModel",
      "state": {
       "justify_content": "center"
      }
     },
     "68f39747683542eeab52315552ab66ba": {
      "model_module": "@jupyter-widgets/controls",
      "model_module_version": "1.5.0",
      "model_name": "HTMLModel",
      "state": {
       "layout": "IPY_MODEL_d8894720b3d54cdc97539de420f7f6e3",
       "style": "IPY_MODEL_bc0ff68dd2f44928a86ffbec01c824ff",
       "value": "<h4>ibmq_lima</h4>"
      }
     },
     "6963750d63f34666bf32581bf35fd9b9": {
      "model_module": "@jupyter-widgets/controls",
      "model_module_version": "1.5.0",
      "model_name": "VBoxModel",
      "state": {
       "children": [
        "IPY_MODEL_1a5cea58787d438eacf37a3e18f77abb",
        "IPY_MODEL_0aa20d9f802447468b4372854f93afba"
       ],
       "layout": "IPY_MODEL_755e63ca4f86461aa7f2be48cade6c1b"
      }
     },
     "69ad486d197b476cad3a84777deeca6e": {
      "model_module": "@jupyter-widgets/base",
      "model_module_version": "1.2.0",
      "model_name": "LayoutModel",
      "state": {
       "margin": "0px 0px 0px 0px"
      }
     },
     "69ce73028ea145e080f31c6ecf0b42d6": {
      "model_module": "@jupyter-widgets/controls",
      "model_module_version": "1.5.0",
      "model_name": "VBoxModel",
      "state": {
       "children": [
        "IPY_MODEL_a5a80bc2f9aa462d877f1454b9ee566f",
        "IPY_MODEL_5005dd3bde784c7bb4b5580ce4ebe4ed",
        "IPY_MODEL_73237d513fd04bdaaac788d234c4ad4a",
        "IPY_MODEL_28f4ce6f94624355b0563dc4032e23b9",
        "IPY_MODEL_bbc4df0cd0c94fbcb481e0ab7069c4db",
        "IPY_MODEL_0f3f9f87a5a8424da0fc6b2007f6499b",
        "IPY_MODEL_b3233679620e4abba211a85e795c5662",
        "IPY_MODEL_dddaeeaaa55f4be3815ceda6afead633",
        "IPY_MODEL_346b62a4422f4dd382e6c0b7a96d5b97",
        "IPY_MODEL_6a04159b8cd941b3a826a21089b82b04"
       ],
       "layout": "IPY_MODEL_7d89cd855f7a48c0811e57c1823bc528"
      }
     },
     "6a04159b8cd941b3a826a21089b82b04": {
      "model_module": "@jupyter-widgets/controls",
      "model_module_version": "1.5.0",
      "model_name": "HTMLModel",
      "state": {
       "layout": "IPY_MODEL_848bd1b413284c25843bfb86b446a0e5",
       "style": "IPY_MODEL_f33bee975c3d4fff96a5c65b6cfa331a",
       "value": "<h5>0.0245</h5>"
      }
     },
     "6a0e5eae2b87463490969e4731950470": {
      "model_module": "@jupyter-widgets/base",
      "model_module_version": "1.2.0",
      "model_name": "LayoutModel",
      "state": {}
     },
     "6bbaafa7308b4143b4160a51325b8519": {
      "model_module": "@jupyter-widgets/base",
      "model_module_version": "1.2.0",
      "model_name": "LayoutModel",
      "state": {
       "justify_content": "center"
      }
     },
     "6bc266d31c7e40c98c4a98e01be76889": {
      "model_module": "@jupyter-widgets/controls",
      "model_module_version": "1.5.0",
      "model_name": "GridBoxModel",
      "state": {
       "children": [
        "IPY_MODEL_521acec5ac7e43a2aeeae3104e5c43de",
        "IPY_MODEL_4f784f7edf744bec860ca629fa2103e5",
        "IPY_MODEL_7edfdb088435481090c14bd80ea9a7a6",
        "IPY_MODEL_e62497db57654f1db1631f478b01319c"
       ],
       "layout": "IPY_MODEL_e700d0f699e546dcb4f0bb65bde0e594"
      }
     },
     "6c431752f2f64019a1430cf83e103e31": {
      "model_module": "@jupyter-widgets/base",
      "model_module_version": "1.2.0",
      "model_name": "LayoutModel",
      "state": {
       "width": "190px"
      }
     },
     "6c4b4469078c47cf959621060696a5db": {
      "model_module": "@jupyter-widgets/controls",
      "model_module_version": "1.5.0",
      "model_name": "DescriptionStyleModel",
      "state": {
       "description_width": ""
      }
     },
     "6cb4297d0060461bb8bd36de2aec7201": {
      "model_module": "@jupyter-widgets/controls",
      "model_module_version": "1.5.0",
      "model_name": "DescriptionStyleModel",
      "state": {
       "description_width": ""
      }
     },
     "6cf813629e9647dfb7aed41264afe480": {
      "model_module": "@jupyter-widgets/output",
      "model_module_version": "1.0.0",
      "model_name": "OutputModel",
      "state": {
       "layout": "IPY_MODEL_53f639fc4b9f40f598ab6848e2dacee0",
       "outputs": [
        {
         "data": {
          "image/png": "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\n",
          "text/plain": "<Figure size 360x360 with 1 Axes>"
         },
         "metadata": {},
         "output_type": "display_data"
        }
       ]
      }
     },
     "6d364246f366402ca4f2bce11d5a5e5a": {
      "model_module": "@jupyter-widgets/base",
      "model_module_version": "1.2.0",
      "model_name": "LayoutModel",
      "state": {
       "grid_area": "right",
       "padding": "0px 0px 0px 0px",
       "width": "70px"
      }
     },
     "6de75ece772f4943a55e244b819aeca6": {
      "model_module": "@jupyter-widgets/controls",
      "model_module_version": "1.5.0",
      "model_name": "HTMLModel",
      "state": {
       "layout": "IPY_MODEL_d0c41bda6b974bee9c7bcc5a40184bb3",
       "style": "IPY_MODEL_6cb4297d0060461bb8bd36de2aec7201",
       "value": "<h2 style ='color:#ffffff; background-color:#000000;padding-top: 1%; padding-bottom: 1%;padding-left: 1%;margin-top: 0px'>Backend Overview</h2>"
      }
     },
     "6df16aeb7ac145438e234f616e6aacb9": {
      "model_module": "@jupyter-widgets/base",
      "model_module_version": "1.2.0",
      "model_name": "LayoutModel",
      "state": {
       "justify_content": "center"
      }
     },
     "6ed16a6809884531a5b08ad374395743": {
      "model_module": "@jupyter-widgets/controls",
      "model_module_version": "1.5.0",
      "model_name": "HTMLModel",
      "state": {
       "layout": "IPY_MODEL_e093434645ea41219b16ac4217f1c2fc",
       "style": "IPY_MODEL_2d42bcfd0b49430fa4ba7d4f308d81bb",
       "value": "<h5><b>5</b></h5>"
      }
     },
     "6f70e5c21e244f07a375d0195a50d8bf": {
      "model_module": "@jupyter-widgets/controls",
      "model_module_version": "1.5.0",
      "model_name": "HTMLModel",
      "state": {
       "layout": "IPY_MODEL_d201919a9694423c9f322351f327e8bf",
       "style": "IPY_MODEL_4466ca9b769242c1875b9c7b408e846c",
       "value": "<h5>0.0346</h5>"
      }
     },
     "6fb884181660465997308d0ecfd8ad5c": {
      "model_module": "@jupyter-widgets/controls",
      "model_module_version": "1.5.0",
      "model_name": "DescriptionStyleModel",
      "state": {
       "description_width": ""
      }
     },
     "71c3c71ae0b049f39074fd331c6af0f8": {
      "model_module": "@jupyter-widgets/controls",
      "model_module_version": "1.5.0",
      "model_name": "HTMLModel",
      "state": {
       "layout": "IPY_MODEL_fef7699138564fb586240735ec563a3e",
       "style": "IPY_MODEL_e4ff30b57ab24ee599a0c9a976b3b85b",
       "value": "<h5 style='color:#34bc6e'>True</h5>"
      }
     },
     "724e767bc8e64ceda281bac39932c081": {
      "model_module": "@jupyter-widgets/base",
      "model_module_version": "1.2.0",
      "model_name": "LayoutModel",
      "state": {
       "margin": "10px 0px 0px 0px"
      }
     },
     "73237d513fd04bdaaac788d234c4ad4a": {
      "model_module": "@jupyter-widgets/controls",
      "model_module_version": "1.5.0",
      "model_name": "HTMLModel",
      "state": {
       "layout": "IPY_MODEL_bb255133997641ac9d47e02e833ae05c",
       "style": "IPY_MODEL_c9974e01bfa048a187b7e5e5b1af9eec",
       "value": "<h5><b>5</b></h5>"
      }
     },
     "73c175dd1ed54dd8af5918888bba00e1": {
      "model_module": "@jupyter-widgets/controls",
      "model_module_version": "1.5.0",
      "model_name": "HBoxModel",
      "state": {
       "children": [
        "IPY_MODEL_57b28eaf7dc148c29fb02dc59a172413",
        "IPY_MODEL_51d79b0748054238992b32c1591eb240",
        "IPY_MODEL_7d04f59c6023459b94490365d0a38a47"
       ],
       "layout": "IPY_MODEL_4698348885dc455b948d7af1f6903375"
      }
     },
     "73d14afc12e44d3aa75b3a1efed0be73": {
      "model_module": "@jupyter-widgets/base",
      "model_module_version": "1.2.0",
      "model_name": "LayoutModel",
      "state": {
       "justify_content": "center"
      }
     },
     "754f9ea298eb47e5ba5dbd32f41d45c7": {
      "model_module": "@jupyter-widgets/base",
      "model_module_version": "1.2.0",
      "model_name": "LayoutModel",
      "state": {
       "margin": "5px 0px 0px 0px"
      }
     },
     "755e63ca4f86461aa7f2be48cade6c1b": {
      "model_module": "@jupyter-widgets/base",
      "model_module_version": "1.2.0",
      "model_name": "LayoutModel",
      "state": {
       "border": "4px solid #000000",
       "max_height": "650px",
       "min_height": "650px",
       "overflow_y": "hidden"
      }
     },
     "77f941c7dbfd457ba5eb25f89072b0d8": {
      "model_module": "@jupyter-widgets/controls",
      "model_module_version": "1.5.0",
      "model_name": "DescriptionStyleModel",
      "state": {
       "description_width": ""
      }
     },
     "77ff49a98bb849868fb88063417b8086": {
      "model_module": "@jupyter-widgets/base",
      "model_module_version": "1.2.0",
      "model_name": "LayoutModel",
      "state": {
       "overflow_y": "scroll"
      }
     },
     "7859707a49fa453aa9a0512193c2d365": {
      "model_module": "@jupyter-widgets/output",
      "model_module_version": "1.0.0",
      "model_name": "OutputModel",
      "state": {
       "layout": "IPY_MODEL_a8eb3653e2c943d989459dd878bad198",
       "outputs": [
        {
         "data": {
          "image/png": "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\n",
          "text/plain": "<Figure size 360x360 with 1 Axes>"
         },
         "metadata": {},
         "output_type": "display_data"
        }
       ]
      }
     },
     "79ab608be9e641cba4653823215059cb": {
      "model_module": "@jupyter-widgets/base",
      "model_module_version": "1.2.0",
      "model_name": "LayoutModel",
      "state": {}
     },
     "7a90c23c8be74d9697aca668473caaff": {
      "model_module": "@jupyter-widgets/output",
      "model_module_version": "1.0.0",
      "model_name": "OutputModel",
      "state": {
       "layout": "IPY_MODEL_b834be1940774d868ce4f994d3d1e7ea",
       "outputs": [
        {
         "data": {
          "image/png": "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\n",
          "text/plain": "<Figure size 360x360 with 1 Axes>"
         },
         "metadata": {},
         "output_type": "display_data"
        }
       ]
      }
     },
     "7aa4bb80133a4878a6684f0646520b0a": {
      "model_module": "@jupyter-widgets/controls",
      "model_module_version": "1.5.0",
      "model_name": "DescriptionStyleModel",
      "state": {
       "description_width": ""
      }
     },
     "7b2430e16e7d497387f08558a6bc882d": {
      "model_module": "@jupyter-widgets/controls",
      "model_module_version": "1.5.0",
      "model_name": "DescriptionStyleModel",
      "state": {
       "description_width": ""
      }
     },
     "7b8c9aa8e49b42569b383c0c5ef1ef4d": {
      "model_module": "@jupyter-widgets/controls",
      "model_module_version": "1.5.0",
      "model_name": "DescriptionStyleModel",
      "state": {
       "description_width": ""
      }
     },
     "7bbb634a6104469bba87c2ef60d682c1": {
      "model_module": "@jupyter-widgets/base",
      "model_module_version": "1.2.0",
      "model_name": "LayoutModel",
      "state": {
       "align_items": "center",
       "display": "inline-flex",
       "flex_flow": "column"
      }
     },
     "7c09844316c844438cd5a5e1400a7cb1": {
      "model_module": "@jupyter-widgets/controls",
      "model_module_version": "1.5.0",
      "model_name": "DescriptionStyleModel",
      "state": {
       "description_width": ""
      }
     },
     "7c571427eb31461d9508ebde1e20a678": {
      "model_module": "@jupyter-widgets/controls",
      "model_module_version": "1.5.0",
      "model_name": "HTMLModel",
      "state": {
       "layout": "IPY_MODEL_291c53febfa344a892cefd44d8ed0a57",
       "style": "IPY_MODEL_c16126e6d32b4408b6f4f6622e7128c1",
       "value": "<h5 style='color:#34bc6e'>True</h5>"
      }
     },
     "7c97797897204e0dbc056973a2c5c126": {
      "model_module": "@jupyter-widgets/controls",
      "model_module_version": "1.5.0",
      "model_name": "DescriptionStyleModel",
      "state": {
       "description_width": ""
      }
     },
     "7cc047b2f3db4da393e715d8459af909": {
      "model_module": "@jupyter-widgets/controls",
      "model_module_version": "1.5.0",
      "model_name": "DescriptionStyleModel",
      "state": {
       "description_width": ""
      }
     },
     "7cc1a1a4a3e14d1a80073d2bd5fd7ff5": {
      "model_module": "@jupyter-widgets/controls",
      "model_module_version": "1.5.0",
      "model_name": "DescriptionStyleModel",
      "state": {
       "description_width": ""
      }
     },
     "7d04f59c6023459b94490365d0a38a47": {
      "model_module": "@jupyter-widgets/controls",
      "model_module_version": "1.5.0",
      "model_name": "LabelModel",
      "state": {
       "layout": "IPY_MODEL_d1f1bfbd00a84cf08b91751e92c7ad53",
       "style": "IPY_MODEL_259224c5025742ad9854083c1dd74c4e",
       "value": "349"
      }
     },
     "7d89cd855f7a48c0811e57c1823bc528": {
      "model_module": "@jupyter-widgets/base",
      "model_module_version": "1.2.0",
      "model_name": "LayoutModel",
      "state": {
       "align_items": "center",
       "display": "inline-flex",
       "flex_flow": "column"
      }
     },
     "7d9332a3496b403880f25fd6b50a1a53": {
      "model_module": "@jupyter-widgets/base",
      "model_module_version": "1.2.0",
      "model_name": "LayoutModel",
      "state": {
       "justify_content": "center"
      }
     },
     "7e70ae1a1a074d81a8a56f7b1f2f7b7c": {
      "model_module": "@jupyter-widgets/controls",
      "model_module_version": "1.5.0",
      "model_name": "DescriptionStyleModel",
      "state": {
       "description_width": ""
      }
     },
     "7e867817bb604339b4487abfae5c691c": {
      "model_module": "@jupyter-widgets/controls",
      "model_module_version": "1.5.0",
      "model_name": "DescriptionStyleModel",
      "state": {
       "description_width": ""
      }
     },
     "7edfdb088435481090c14bd80ea9a7a6": {
      "model_module": "@jupyter-widgets/controls",
      "model_module_version": "1.5.0",
      "model_name": "HTMLModel",
      "state": {
       "layout": "IPY_MODEL_c6d43b652b574c9b93dbc14c41488635",
       "style": "IPY_MODEL_be0e56d43c9f478fac6d219ce6958982",
       "value": "<table><style>\ntable {\n    border-collapse: collapse;\n    width: auto;\n}\n\nth, td {\n    text-align: left;\n    padding: 8px;\n}\n\ntr:nth-child(even) {background-color: #f6f6f6;};\n</style><tr><th></th><th>Type</th><th>Gate error</th></tr><tr><td><font style='font-weight:bold'>cx3_2</font></td><td>cx</td><td>0.00664</td></tr><tr><td><font style='font-weight:bold'>cx1_2</font></td><td>cx</td><td>0.0093</td></tr><tr><td><font style='font-weight:bold'>cx2_1</font></td><td>cx</td><td>0.0093</td></tr></table>"
      }
     },
     "81206a9768864336982d181ed7029b02": {
      "model_module": "@jupyter-widgets/controls",
      "model_module_version": "1.5.0",
      "model_name": "DescriptionStyleModel",
      "state": {
       "description_width": ""
      }
     },
     "81609a18597648cf971a680c0345b3c2": {
      "model_module": "@jupyter-widgets/base",
      "model_module_version": "1.2.0",
      "model_name": "LayoutModel",
      "state": {
       "min_width": "auto"
      }
     },
     "817ea2591b2845a495074f084da9c290": {
      "model_module": "@jupyter-widgets/base",
      "model_module_version": "1.2.0",
      "model_name": "LayoutModel",
      "state": {
       "width": "145px"
      }
     },
     "8232cc2a4a5b42d79df855a90cd540b8": {
      "model_module": "@jupyter-widgets/controls",
      "model_module_version": "1.5.0",
      "model_name": "HTMLModel",
      "state": {
       "layout": "IPY_MODEL_1210970bc1c44fb396d49cd4232de04d",
       "style": "IPY_MODEL_77f941c7dbfd457ba5eb25f89072b0d8",
       "value": "<h5>0.0127</h5>"
      }
     },
     "83706015fdce414a99c37e11a41cb065": {
      "model_module": "@jupyter-widgets/controls",
      "model_module_version": "1.5.0",
      "model_name": "LabelModel",
      "state": {
       "layout": "IPY_MODEL_3e8f14eb8d5e4187a793b40428154a7b",
       "style": "IPY_MODEL_9f83f3f97c5a48a9ad109b48eb857b46",
       "value": "90"
      }
     },
     "847b67981d784dcf9109523fe91581db": {
      "model_module": "@jupyter-widgets/controls",
      "model_module_version": "1.5.0",
      "model_name": "HTMLModel",
      "state": {
       "layout": "IPY_MODEL_bcf436ea32884691a8d7a7db1540e4b2",
       "style": "IPY_MODEL_7cc047b2f3db4da393e715d8459af909",
       "value": "<h4>ibm_oslo</h4>"
      }
     },
     "848bd1b413284c25843bfb86b446a0e5": {
      "model_module": "@jupyter-widgets/base",
      "model_module_version": "1.2.0",
      "model_name": "LayoutModel",
      "state": {}
     },
     "85a74218364e4f58bd138d99a54fd85a": {
      "model_module": "@jupyter-widgets/base",
      "model_module_version": "1.2.0",
      "model_name": "LayoutModel",
      "state": {
       "align_items": "center",
       "justify_content": "center",
       "margin": "0px 0px 0px 0px",
       "max_height": "250px",
       "max_width": "250px",
       "min_height": "250px",
       "min_width": "250px"
      }
     },
     "87dbef9fd2f840d2a592561c89171781": {
      "model_module": "@jupyter-widgets/controls",
      "model_module_version": "1.5.0",
      "model_name": "ProgressStyleModel",
      "state": {
       "bar_color": "#71cddd",
       "description_width": ""
      }
     },
     "88134d9ad919429f9f0f28be2b2ed4de": {
      "model_module": "@jupyter-widgets/base",
      "model_module_version": "1.2.0",
      "model_name": "LayoutModel",
      "state": {
       "justify_content": "center"
      }
     },
     "8a79de826c5e41f5b7d3d2bbb2df8900": {
      "model_module": "@jupyter-widgets/controls",
      "model_module_version": "1.5.0",
      "model_name": "HBoxModel",
      "state": {
       "children": [
        "IPY_MODEL_c8a037b7a8474522b012bd073795f089",
        "IPY_MODEL_8dc792c75cb642a699663dd69d8740b7",
        "IPY_MODEL_56cd7927d4b2479eb6440ef4f3dbc3bd",
        "IPY_MODEL_9b49d73ff0d54855a18ee8e7ebd13254",
        "IPY_MODEL_38dd50b3f466425fb501ee0c9eeb4167"
       ],
       "layout": "IPY_MODEL_527c725cb02e4e2b846b84e8b446e20e"
      }
     },
     "8b96406cd47e4da8ad8ed14ae8d4524d": {
      "model_module": "@jupyter-widgets/controls",
      "model_module_version": "1.5.0",
      "model_name": "DescriptionStyleModel",
      "state": {
       "description_width": ""
      }
     },
     "8c0fd311d6954f7899d4ba28de54d4f4": {
      "model_module": "@jupyter-widgets/base",
      "model_module_version": "1.2.0",
      "model_name": "LayoutModel",
      "state": {
       "min_width": "auto"
      }
     },
     "8c1bae65e86a4e9ca207a8c722f74466": {
      "model_module": "@jupyter-widgets/controls",
      "model_module_version": "1.5.0",
      "model_name": "HTMLModel",
      "state": {
       "layout": "IPY_MODEL_9c94cb92a7b34c229e4a6b136320bd49",
       "style": "IPY_MODEL_c676dee2afa64c8d9927f2c5493255b6",
       "value": "<h5>106.3 / 89.5 us</h5>"
      }
     },
     "8c756ee943864acf8930837d635a4265": {
      "model_module": "@jupyter-widgets/base",
      "model_module_version": "1.2.0",
      "model_name": "LayoutModel",
      "state": {}
     },
     "8dc792c75cb642a699663dd69d8740b7": {
      "model_module": "@jupyter-widgets/controls",
      "model_module_version": "1.5.0",
      "model_name": "HTMLModel",
      "state": {
       "layout": "IPY_MODEL_817ea2591b2845a495074f084da9c290",
       "style": "IPY_MODEL_3076b7802fbd42e2a20dd6d2f612d8fb",
       "value": "<h5>Backend</h5>"
      }
     },
     "8e0ee74bf33e4ecd89ed2504aab15dac": {
      "model_module": "@jupyter-widgets/base",
      "model_module_version": "1.2.0",
      "model_name": "LayoutModel",
      "state": {
       "grid_template_areas": "\n                                       \". . . . right \"\n                                        ",
       "grid_template_columns": "20% 20% 20% 20% 20%",
       "width": "100%"
      }
     },
     "8f5a0fc933d2458e8159298741dcc87b": {
      "model_module": "@jupyter-widgets/controls",
      "model_module_version": "1.5.0",
      "model_name": "VBoxModel",
      "state": {
       "children": [
        "IPY_MODEL_847b67981d784dcf9109523fe91581db",
        "IPY_MODEL_b15c63f3a23c4c8482d8f6203c7ac0e4",
        "IPY_MODEL_5cfbcd5615f74e159d1943d27f300748",
        "IPY_MODEL_3a3ef2e2ddc446fd944ab5d2424257d8",
        "IPY_MODEL_52f1a9dfbf3a476981365e63db9ae8c5",
        "IPY_MODEL_f6c5f2f414af496eb2b9bb875a3e81e7",
        "IPY_MODEL_b7c317e829454df180c6d90e88dc73e0",
        "IPY_MODEL_e93f2aa063b04cfd8c1f1f4b049d30b1",
        "IPY_MODEL_1a5f3890af0546528a186d747a41ef94",
        "IPY_MODEL_cf4024258b9f4af3972c8189281fbce2"
       ],
       "layout": "IPY_MODEL_62b037f5704b490f8b364879b49a8b44"
      }
     },
     "8fe2f5b5ad5e499ab085594684c6687b": {
      "model_module": "@jupyter-widgets/controls",
      "model_module_version": "1.5.0",
      "model_name": "DescriptionStyleModel",
      "state": {
       "description_width": ""
      }
     },
     "9064d9559a714234ab3678f963ed807d": {
      "model_module": "@jupyter-widgets/controls",
      "model_module_version": "1.5.0",
      "model_name": "DescriptionStyleModel",
      "state": {
       "description_width": ""
      }
     },
     "91a223cd826d430a8aee603d975e25b0": {
      "model_module": "@jupyter-widgets/controls",
      "model_module_version": "1.5.0",
      "model_name": "DescriptionStyleModel",
      "state": {
       "description_width": ""
      }
     },
     "927bc5a979c74a368b098154b7783331": {
      "model_module": "@jupyter-widgets/controls",
      "model_module_version": "1.5.0",
      "model_name": "GridBoxModel",
      "state": {
       "children": [
        "IPY_MODEL_a347ce759a0245c285aea1f9cf61022c",
        "IPY_MODEL_6cf813629e9647dfb7aed41264afe480",
        "IPY_MODEL_9a8186f4bd4e4a03be6dc93350a8f13f"
       ],
       "layout": "IPY_MODEL_b453253d49cc4713abcdcdf5a11cc5b5"
      }
     },
     "939bc8aac384408eb0a425e9e09a4bbe": {
      "model_module": "@jupyter-widgets/controls",
      "model_module_version": "1.5.0",
      "model_name": "DescriptionStyleModel",
      "state": {
       "description_width": ""
      }
     },
     "93e977d4927d4c8786e56d5931a4e8a2": {
      "model_module": "@jupyter-widgets/controls",
      "model_module_version": "1.5.0",
      "model_name": "HTMLModel",
      "state": {
       "layout": "IPY_MODEL_ce89958113624b42a89cead29baa74db",
       "style": "IPY_MODEL_0223eb6ded1b4441b4758c9a2b97dd35",
       "value": "<h5 style='color:#dc267f'>False</h5>"
      }
     },
     "944732a1cd464b51b4f2c5352af714a9": {
      "model_module": "@jupyter-widgets/controls",
      "model_module_version": "1.5.0",
      "model_name": "LabelModel",
      "state": {
       "layout": "IPY_MODEL_754f9ea298eb47e5ba5dbd32f41d45c7",
       "style": "IPY_MODEL_b538ea4cb6a346c9aba76bc02bc3eb31",
       "value": "Pending Jobs"
      }
     },
     "948c98a27874419cbb7683f928a1c3ca": {
      "model_module": "@jupyter-widgets/output",
      "model_module_version": "1.0.0",
      "model_name": "OutputModel",
      "state": {
       "layout": "IPY_MODEL_2be0b722871c4864a67d3cf0120ddb69",
       "outputs": [
        {
         "data": {
          "image/png": "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\n",
          "text/plain": "<Figure size 792x648 with 5 Axes>"
         },
         "metadata": {},
         "output_type": "display_data"
        }
       ]
      }
     },
     "9518d2a5a27340a4afbb55b2345acd25": {
      "model_module": "@jupyter-widgets/base",
      "model_module_version": "1.2.0",
      "model_name": "LayoutModel",
      "state": {}
     },
     "961144efb22643e1a64834ea9a4455be": {
      "model_module": "@jupyter-widgets/controls",
      "model_module_version": "1.5.0",
      "model_name": "DescriptionStyleModel",
      "state": {
       "description_width": ""
      }
     },
     "986b0e9943ad4530a93cc756c9268303": {
      "model_module": "@jupyter-widgets/base",
      "model_module_version": "1.2.0",
      "model_name": "LayoutModel",
      "state": {
       "justify_content": "center",
       "max_width": "250px",
       "min_width": "250px"
      }
     },
     "9924c8740ec14d4393addbeab7e7ed27": {
      "model_module": "@jupyter-widgets/base",
      "model_module_version": "1.2.0",
      "model_name": "LayoutModel",
      "state": {
       "justify_content": "center"
      }
     },
     "993ee2ded367472db8ddcd3ae8fe68d7": {
      "model_module": "@jupyter-widgets/base",
      "model_module_version": "1.2.0",
      "model_name": "LayoutModel",
      "state": {
       "justify_content": "center",
       "max_width": "250px",
       "min_width": "250px"
      }
     },
     "9a69fdabf60a4beab5a07925e8266c1e": {
      "model_module": "@jupyter-widgets/controls",
      "model_module_version": "1.5.0",
      "model_name": "ProgressStyleModel",
      "state": {
       "bar_color": "#71cddd",
       "description_width": ""
      }
     },
     "9a8186f4bd4e4a03be6dc93350a8f13f": {
      "model_module": "@jupyter-widgets/controls",
      "model_module_version": "1.5.0",
      "model_name": "HTMLMathModel",
      "state": {
       "layout": "IPY_MODEL_32a9b05ab0f44e66b06356cbd4ae3431",
       "style": "IPY_MODEL_1cdfebcb29134f10819948726e6d7173",
       "value": "<table><style>\ntable {\n    border-collapse: collapse;\n    width: auto;\n}\n\nth, td {\n    text-align: left;\n    padding: 8px;\n}\n\ntr:nth-child(even) {background-color: #f6f6f6;}\n</style><tr><th></th><th></th></tr><tr><td>measure_esp_enabled</td><td>False</td></tr><tr><td>n_registers</td><td>1</td></tr><tr><td>url</td><td>None</td></tr><tr><td>description</td><td>5 qubit device</td></tr><tr><td>rep_times</td><td>[1000.0]</td></tr><tr><td>local</td><td>False</td></tr><tr><td>supported_instructions</td><td>['if_else', 'x', 'setf', 'cx', 'sx', 'play', 'acquire', 'delay', 'id', 'u1', 'u3', 'shiftf', 'reset', 'u2', 'rz', 'measure']</td></tr><tr><td>timing_constraints</td><td>{'acquire_alignment': 16, 'granularity': 16, 'min_length': 64, 'pulse_alignment': 16}</td></tr><tr><td>parallel_compilation</td><td>True</td></tr><tr><td>dynamic_reprate_enabled</td><td>True</td></tr><tr><td>dt</td><td>0.2222222222222222</td></tr><tr><td>pulse_num_channels</td><td>9</td></tr><tr><td>meas_kernels</td><td>['hw_qmfk']</td></tr><tr><td>supported_features</td><td>['qobj', 'qasm3']</td></tr><tr><td>open_pulse</td><td>False</td></tr><tr><td>channels</td><td>{'acquire0': {'operates': {'qubits': [0]}, 'purpose': 'acquire', 'type': 'acquire'}, 'acquire1': {'operates': {'qubits': [1]}, 'purpose': 'acquire', 'type': 'acquire'}, 'acquire2': {'operates': {'qubits': [2]}, 'purpose': 'acquire', 'type': 'acquire'}, 'acquire3': {'operates': {'qubits': [3]}, 'purpose': 'acquire', 'type': 'acquire'}, 'acquire4': {'operates': {'qubits': [4]}, 'purpose': 'acquire', 'type': 'acquire'}, 'd0': {'operates': {'qubits': [0]}, 'purpose': 'drive', 'type': 'drive'}, 'd1': {'operates': {'qubits': [1]}, 'purpose': 'drive', 'type': 'drive'}, 'd2': {'operates': {'qubits': [2]}, 'purpose': 'drive', 'type': 'drive'}, 'd3': {'operates': {'qubits': [3]}, 'purpose': 'drive', 'type': 'drive'}, 'd4': {'operates': {'qubits': [4]}, 'purpose': 'drive', 'type': 'drive'}, 'm0': {'operates': {'qubits': [0]}, 'purpose': 'measure', 'type': 'measure'}, 'm1': {'operates': {'qubits': [1]}, 'purpose': 'measure', 'type': 'measure'}, 'm2': {'operates': {'qubits': [2]}, 'purpose': 'measure', 'type': 'measure'}, 'm3': {'operates': {'qubits': [3]}, 'purpose': 'measure', 'type': 'measure'}, 'm4': {'operates': {'qubits': [4]}, 'purpose': 'measure', 'type': 'measure'}, 'u0': {'operates': {'qubits': [0, 1]}, 'purpose': 'cross-resonance', 'type': 'control'}, 'u1': {'operates': {'qubits': [1, 0]}, 'purpose': 'cross-resonance', 'type': 'control'}, 'u2': {'operates': {'qubits': [1, 2]}, 'purpose': 'cross-resonance', 'type': 'control'}, 'u3': {'operates': {'qubits': [2, 1]}, 'purpose': 'cross-resonance', 'type': 'control'}, 'u4': {'operates': {'qubits': [2, 3]}, 'purpose': 'cross-resonance', 'type': 'control'}, 'u5': {'operates': {'qubits': [3, 2]}, 'purpose': 'cross-resonance', 'type': 'control'}, 'u6': {'operates': {'qubits': [3, 4]}, 'purpose': 'cross-resonance', 'type': 'control'}, 'u7': {'operates': {'qubits': [4, 3]}, 'purpose': 'cross-resonance', 'type': 'control'}}</td></tr><tr><td>credits_required</td><td>True</td></tr><tr><td>meas_lo_range</td><td>[[6.663170819, 7.663170819], [6.783276284, 7.783276284], [6.718945583, 7.718945583000001], [6.610101402000001, 7.610101402000001], [6.8468927090000005, 7.8468927090000005]]</td></tr><tr><td>parametric_pulses</td><td>['gaussian', 'gaussian_square', 'drag', 'constant']</td></tr><tr><td>rep_delay_range</td><td>[0.0, 500.0]</td></tr><tr><td>conditional_latency</td><td>[]</td></tr><tr><td>dtm</td><td>0.2222222222222222</td></tr><tr><td>memory</td><td>True</td></tr><tr><td>allow_object_storage</td><td>True</td></tr><tr><td>u_channel_lo</td><td>[[{'q': 1, 'scale': (1+0j)}], [{'q': 0, 'scale': (1+0j)}], [{'q': 2, 'scale': (1+0j)}], [{'q': 1, 'scale': (1+0j)}], [{'q': 3, 'scale': (1+0j)}], [{'q': 2, 'scale': (1+0j)}], [{'q': 4, 'scale': (1+0j)}], [{'q': 3, 'scale': (1+0j)}]]</td></tr><tr><td>clops</td><td>2819</td></tr><tr><td>processor_type</td><td>{'family': 'Falcon', 'revision': '5.11', 'segment': 'L'}</td></tr><tr><td>default_rep_delay</td><td>250.0</td></tr><tr><td>meas_map</td><td>[[0, 1, 2, 3, 4]]</td></tr><tr><td>simulator</td><td>False</td></tr><tr><td>live_data</td><td>False</td></tr><tr><td>allow_q_object</td><td>True</td></tr><tr><td>n_uchannels</td><td>8</td></tr><tr><td>acquisition_latency</td><td>[]</td></tr><tr><td>hamiltonian</td><td>$$\\begin{align} \\mathcal{H}/\\hbar = & \\sum_{i=0}^{4}\\left(\\frac{\\omega_{q,i}}{2}(\\mathbb{I}-\\sigma_i^{z})+\\frac{\\Delta_{i}}{2}(O_i^2-O_i)+\\Omega_{d,i}D_i(t)\\sigma_i^{X}\\right) \\\\ & + J_{0,1}(\\sigma_{0}^{+}\\sigma_{1}^{-}+\\sigma_{0}^{-}\\sigma_{1}^{+}) + J_{1,2}(\\sigma_{1}^{+}\\sigma_{2}^{-}+\\sigma_{1}^{-}\\sigma_{2}^{+}) + J_{2,3}(\\sigma_{2}^{+}\\sigma_{3}^{-}+\\sigma_{2}^{-}\\sigma_{3}^{+}) + J_{3,4}(\\sigma_{3}^{+}\\sigma_{4}^{-}+\\sigma_{3}^{-}\\sigma_{4}^{+}) \\\\ & + \\Omega_{d,0}(U_{0}^{(0,1)}(t))\\sigma_{0}^{X} + \\Omega_{d,1}(U_{1}^{(1,0)}(t)+U_{2}^{(1,2)}(t))\\sigma_{1}^{X} \\\\ & + \\Omega_{d,2}(U_{3}^{(2,1)}(t)+U_{4}^{(2,3)}(t))\\sigma_{2}^{X} + \\Omega_{d,3}(U_{6}^{(3,4)}(t)+U_{5}^{(3,2)}(t))\\sigma_{3}^{X} \\\\ & + \\Omega_{d,4}(U_{7}^{(4,3)}(t))\\sigma_{4}^{X} \\\\ \\end{align}$$</td></tr><tr><td>conditional</td><td>False</td></tr><tr><td>meas_levels</td><td>[1, 2]</td></tr><tr><td>pulse_num_qubits</td><td>3</td></tr><tr><td>discriminators</td><td>['quadratic_discriminator', 'linear_discriminator', 'hw_qmfk']</td></tr><tr><td>coupling_map</td><td>[[0, 1], [1, 0], [1, 2], [2, 1], [2, 3], [3, 2], [3, 4], [4, 3]]</td></tr><tr><td>uchannels_enabled</td><td>True</td></tr><tr><td>multi_meas_enabled</td><td>True</td></tr><tr><td>backend_name</td><td>ibmq_manila</td></tr><tr><td>online_date</td><td>2021-04-28 04:00:00+00:00</td></tr><tr><td>qubit_channel_mapping</td><td>[['u0', 'd0', 'u1', 'm0'], ['m1', 'u0', 'd1', 'u1', 'u3', 'u2'], ['d2', 'u5', 'm2', 'u3', 'u2', 'u4'], ['u5', 'u7', 'm3', 'u6', 'd3', 'u4'], ['d4', 'u7', 'u6', 'm4']]</td></tr><tr><td>sample_name</td><td>family: Falcon, revision: 5.11, segment: L</td></tr><tr><td>qubit_lo_range</td><td>[[4.462293331723023, 5.462293331723023], [4.337853901935817, 5.337853901935817], [4.537246040434275, 5.537246040434275], [4.450968065455099, 5.450968065455099], [4.565134600053508, 5.565134600053508]]</td></tr><tr><td>input_allowed</td><td>['job', 'runtime', 'qasm3']</td></tr></table>"
      }
     },
     "9ae0f76b66d24994a8cbd1ff5fc19c14": {
      "model_module": "@jupyter-widgets/controls",
      "model_module_version": "1.5.0",
      "model_name": "LabelModel",
      "state": {
       "layout": "IPY_MODEL_f872d9e81ecc414a80eda07866e7f20c",
       "style": "IPY_MODEL_7aa4bb80133a4878a6684f0646520b0a",
       "value": "Quantum Vol."
      }
     },
     "9b49d73ff0d54855a18ee8e7ebd13254": {
      "model_module": "@jupyter-widgets/controls",
      "model_module_version": "1.5.0",
      "model_name": "HTMLModel",
      "state": {
       "layout": "IPY_MODEL_37f193801e7141a5acc477dbd7b267a7",
       "style": "IPY_MODEL_7c09844316c844438cd5a5e1400a7cb1",
       "value": "<h5>Queue</h5>"
      }
     },
     "9b813de545484d28bbcc7f46521562b4": {
      "model_module": "@jupyter-widgets/output",
      "model_module_version": "1.0.0",
      "model_name": "OutputModel",
      "state": {
       "layout": "IPY_MODEL_13b0536409e8487686bf12414141c538",
       "outputs": [
        {
         "data": {
          "image/png": "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\n",
          "text/plain": "<Figure size 360x360 with 1 Axes>"
         },
         "metadata": {},
         "output_type": "display_data"
        }
       ]
      }
     },
     "9c252bb47d284183bc35852e8fea24ae": {
      "model_module": "@jupyter-widgets/controls",
      "model_module_version": "1.5.0",
      "model_name": "DescriptionStyleModel",
      "state": {
       "description_width": ""
      }
     },
     "9c94cb92a7b34c229e4a6b136320bd49": {
      "model_module": "@jupyter-widgets/base",
      "model_module_version": "1.2.0",
      "model_name": "LayoutModel",
      "state": {}
     },
     "9eead8391c68434f9917de92dae66da2": {
      "model_module": "@jupyter-widgets/controls",
      "model_module_version": "1.5.0",
      "model_name": "DescriptionStyleModel",
      "state": {
       "description_width": ""
      }
     },
     "9f79fdb5e4d34cdb9fd227d140b21488": {
      "model_module": "@jupyter-widgets/base",
      "model_module_version": "1.2.0",
      "model_name": "LayoutModel",
      "state": {
       "align_items": "center",
       "justify_content": "center",
       "margin": "0px 0px 0px 0px",
       "max_height": "250px",
       "max_width": "250px",
       "min_height": "250px",
       "min_width": "250px"
      }
     },
     "9f83f3f97c5a48a9ad109b48eb857b46": {
      "model_module": "@jupyter-widgets/controls",
      "model_module_version": "1.5.0",
      "model_name": "DescriptionStyleModel",
      "state": {
       "description_width": ""
      }
     },
     "a08f3a581b654d77a0b9355d4e638a92": {
      "model_module": "@jupyter-widgets/base",
      "model_module_version": "1.2.0",
      "model_name": "LayoutModel",
      "state": {}
     },
     "a2af6f8d01ca4c01bfcc254cdb265357": {
      "model_module": "@jupyter-widgets/controls",
      "model_module_version": "1.5.0",
      "model_name": "DescriptionStyleModel",
      "state": {
       "description_width": ""
      }
     },
     "a347ce759a0245c285aea1f9cf61022c": {
      "model_module": "@jupyter-widgets/controls",
      "model_module_version": "1.5.0",
      "model_name": "HTMLMathModel",
      "state": {
       "layout": "IPY_MODEL_1f630fd92f5b4352bc442f97c711d5e1",
       "style": "IPY_MODEL_8b96406cd47e4da8ad8ed14ae8d4524d",
       "value": "<table><style>\ntable {\n    border-collapse: collapse;\n    width: auto;\n}\n\nth, td {\n    text-align: left;\n    padding: 8px;\n}\n\ntr:nth-child(even) {background-color: #f6f6f6;}\n</style><tr><th>Property</th><th>Value</th></tr><tr><td><font style='font-weight:bold'>n_qubits</font></td><td>5</td></tr><tr><td><font style='font-weight:bold'>quantum_volume</font></td><td>32</td></tr><tr><td><font style='font-weight:bold'>operational</font></td><td>True</td></tr><tr><td><font style='font-weight:bold'>status_msg</font></td><td>active</td></tr><tr><td><font style='font-weight:bold'>pending_jobs</font></td><td>39</td></tr><tr><td><font style='font-weight:bold'>backend_version</font></td><td>1.1.0</td></tr><tr><td><font style='font-weight:bold'>basis_gates</font></td><td>['id', 'rz', 'sx', 'x', 'cx', 'reset']</td></tr><tr><td><font style='font-weight:bold'>max_shots</font></td><td>20000</td></tr><tr><td><font style='font-weight:bold'>max_experiments</font></td><td>100</td></tr></table>"
      }
     },
     "a564ddd87597463bb8202756f53fce13": {
      "model_module": "@jupyter-widgets/base",
      "model_module_version": "1.2.0",
      "model_name": "LayoutModel",
      "state": {
       "justify_content": "center"
      }
     },
     "a5a80bc2f9aa462d877f1454b9ee566f": {
      "model_module": "@jupyter-widgets/controls",
      "model_module_version": "1.5.0",
      "model_name": "HTMLModel",
      "state": {
       "layout": "IPY_MODEL_529ee02a1ffa4f17a829d1910b9eb2de",
       "style": "IPY_MODEL_7cc1a1a4a3e14d1a80073d2bd5fd7ff5",
       "value": "<h4>ibmq_manila</h4>"
      }
     },
     "a5d9802aaa4e4f43a8ddda778c55a912": {
      "model_module": "@jupyter-widgets/base",
      "model_module_version": "1.2.0",
      "model_name": "LayoutModel",
      "state": {
       "margin": "10px 0px 0px 0px"
      }
     },
     "a6283c129d784ba39a62522c6810bb9f": {
      "model_module": "@jupyter-widgets/controls",
      "model_module_version": "1.5.0",
      "model_name": "DescriptionStyleModel",
      "state": {
       "description_width": ""
      }
     },
     "a666a0e5c6d844a3a032560de1c4c438": {
      "model_module": "@jupyter-widgets/base",
      "model_module_version": "1.2.0",
      "model_name": "LayoutModel",
      "state": {
       "align_items": "center",
       "display": "inline-flex",
       "flex_flow": "column"
      }
     },
     "a8eb3653e2c943d989459dd878bad198": {
      "model_module": "@jupyter-widgets/base",
      "model_module_version": "1.2.0",
      "model_name": "LayoutModel",
      "state": {
       "align_items": "center",
       "justify_content": "center",
       "margin": "0px 0px 0px 0px",
       "max_height": "250px",
       "max_width": "250px",
       "min_height": "250px",
       "min_width": "250px"
      }
     },
     "af4132259cf04f02ba4612e6418b92e5": {
      "model_module": "@jupyter-widgets/base",
      "model_module_version": "1.2.0",
      "model_name": "LayoutModel",
      "state": {
       "margin": "8px 0px 0px 0px"
      }
     },
     "b00d693ade2b4cd78ab57a6d0403675b": {
      "model_module": "@jupyter-widgets/base",
      "model_module_version": "1.2.0",
      "model_name": "LayoutModel",
      "state": {
       "align_items": "center",
       "display": "inline-flex",
       "flex_flow": "column"
      }
     },
     "b048d393b2c344b9abebd96f50b16312": {
      "model_module": "@jupyter-widgets/controls",
      "model_module_version": "1.5.0",
      "model_name": "HTMLModel",
      "state": {
       "layout": "IPY_MODEL_fef65c63e6044d5c8dac42af259a6fc3",
       "style": "IPY_MODEL_5715cf6f066f4bdba4c18e367882c6d2",
       "value": "<h5>0.0447</h5>"
      }
     },
     "b04e8116e8ff4310aa4de0d2746dba29": {
      "model_module": "@jupyter-widgets/base",
      "model_module_version": "1.2.0",
      "model_name": "LayoutModel",
      "state": {
       "margin": "0px 0px 10px 0px"
      }
     },
     "b0cf210576004b96ad53762fc340beac": {
      "model_module": "@jupyter-widgets/controls",
      "model_module_version": "1.5.0",
      "model_name": "DescriptionStyleModel",
      "state": {
       "description_width": ""
      }
     },
     "b0de05e17cb546ddb7699f671ea72e42": {
      "model_module": "@jupyter-widgets/controls",
      "model_module_version": "1.5.0",
      "model_name": "LabelModel",
      "state": {
       "layout": "IPY_MODEL_a5d9802aaa4e4f43a8ddda778c55a912",
       "style": "IPY_MODEL_19e15bc023fb49a0b01df28dac548bf6",
       "value": "Avg. T1 / T2"
      }
     },
     "b15c63f3a23c4c8482d8f6203c7ac0e4": {
      "model_module": "@jupyter-widgets/output",
      "model_module_version": "1.0.0",
      "model_name": "OutputModel",
      "state": {
       "layout": "IPY_MODEL_85a74218364e4f58bd138d99a54fd85a",
       "outputs": [
        {
         "data": {
          "image/png": "iVBORw0KGgoAAAANSUhEUgAAAR4AAAEeCAYAAABcyXrWAAAAOXRFWHRTb2Z0d2FyZQBNYXRwbG90bGliIHZlcnNpb24zLjUuMSwgaHR0cHM6Ly9tYXRwbG90bGliLm9yZy/YYfK9AAAACXBIWXMAAAsTAAALEwEAmpwYAAAVWUlEQVR4nO3de5QmRX3G8e/s7G12diHeL6sSUVnuyHIRFyPKGjTIGvUgyIHEcEyphKilAl4wgIB4IcbyBEyk9AiEBAUTIyAHMKAkB1DkEuXOLhsJYJTDfXfe2fubP6oHltllmeHt/lW/U8/nHP5hdrt+W9P9dHV1dfdAt9tFRMTStNwFiEh5FDwiYk7BIyLmFDwiYk7BIyLmFDwiYk7BIyLmFDwiYk7BIyLmFDwiYk7BIyLmFDwiYk7BIyLmFDwiYk7BIyLmFDwiYk7BIyLmFDwiYk7BIyLmFDwiYk7BIyLmFDwiYk7BIyLmFDwiYk7BIyLmFDwiYk7BIyLmFDwiYk7BIyLmFDwiYk7BIyLmFDwiYk7BIyLmFDwiYk7BIyLmFDwiYk7BIyLmFDwiYk7BIyLmFDwiYk7BIyLmFDwiYk7BIyLmFDwiYk7BIyLmFDwiYk7BIyLmFDwiYk7BIyLmFDwiYk7BIyLmFDwiYk7BIyLmFDwiYk7BIyLmFDwiYm567gLazAVeDuwJ7ATMI/XXCLAcuBG4K3rW56vQjgsMAK8A9gB2BLYCBkj9sYzUH0ujZ0O2Ig1V/fEq0v6xPWn/GABWAkuBG4B7oqebrcgWG+h21S8bc4GdAQ8cDMwCVgPDPBXSXdLONQDMAK4DTgcun4oh5AKvBz4JvJvUB2uAucBg9UfG+mNa9fOrgb8FrpyKIeQCewGfAg4i/ZvXkvaPsf7YQOqPwernPyXtH1crhJ6i4Km4wH7A10lnrxlMbjS4AhgFTgXOnAoHnAscAHwN2JYUwINb/htP6pJGQSuAE4FvT4UDzgWWkAJ1PjDExKcpxvrjUeBzwD9Phf7oVfHB4wLDpMA5grRD9WIEuBs4NHqW9lpbDi6wNXAG8F5gTo+bGwFuAd4fPff2WlsOLvB84CzgT6inP64Hjoie3/ZaWz8rOnhcYCfgP4Ct6T10xqwnXY4cFT3n1LRNEy6wELicdCk1u6bNriNdrv5F9Pygpm2acIFFwCWkwJlV02bXkvrj0Oi5tKZt9p1i72pVB9m1wEuoL3QgXZIMAd90gY/XuN1GVQfZ1cALqS90IF2yDgPnusCRNW63US6wGPgJ8DzqCx1Il/FzgR+4wCE1brevFDnicYHtgZ+TRjpN6gB/HT3fbbidnlQTyP9FOiCa1CGNfC5suJ2euMA+wJX0fmn1bEaBg0sc+RQXPC4wE7idNGk6YNDkKLBX9Nxm0NakucAc0u3fl2HTHx1gl+hZbtDWpFVzXMtIIz8LK4EFpc35lHipdRJ2BxmkYfqFLrR2zdTppMsJy/74vgut3ffOoPmR38ZmAedV64KK0dZffiNcYFfSGp2mh9Abm0ZaaHasYZsT4gJvBI6k3jmuZzMI7AAcZdjmhFTzOu+l3jmuZzMD2Bs43LDN7IoKHuAE6p0onKhh4DMuZGl7S07G9iAbMwyc6MKE1wZZ+RK2J6Uxw8AXSxr1FBM8LvAi4J3k+zcPkM6mreACrwLehN0l1nizSWtjWsEFdgB2zljC84E3Z2zfVDHBA3wQsq4YnQd8OmP74x1FvtCB1B/HZWx/vI+R99nFYeCYjO2bKil43oftXMbm7OiC6cTllryXPJedG9vHBWZkrmHMEshaywCwuJTLrSKCp/pl7pC7DtKt5N1zF1EtKXh17jqAVaQn/7NygXnAi3PXQXrA9DW5i7BQRPCQfplteHBzNum1ErntRDroc5tGO/pjd9JJIbf1tKM/GlfEAkIXOBD4F5pfqSzSiw3ASdFzSu5CmlbKiGeIvBOpIhMxjTTJPOWVEjxTf1gnU0UbpgQaV0rwdFD4SPutJ72zZ8pr6/NDdbuDvLdKx4wCx0bPmTmLqF7veh22zyRtzkrg6Og5N2cR1aMjl5HeI53TCGlfnfJKGfH8L+0Y8awlvQQ8tzuBmbmLqNyYuwDgV+R5VGK8GbRj/2hcEcFTveP217nrIO3c2euInnXQilezziSFYFbR0wEeyF0H6VLrvtxFWCgieCrnk//6+froGc1cw5jvQdZausBVLfoyx4WkV5Lmsh74cSkvgi8peM4l7793BfCVjO2PdxZ5lxiMAF/N2P54Z5D3cnwV6SsWRSgmeKLnceACyHaGXQ38OFPbm4ieB0kTqrlu3z4G/CxT25uovoJxbcYS7o++jPkdKCh4KqeSZzg9Any+RZcVY04gX38c18LLis+S5/KzQ0FPpkNhwRM9y4C/wXauZx1pQvkswzYnJHpuIb361LI/1gDXkOaYWiV6rge+he1zW6uBS6PnEsM2sysqeCrfIN3RWWfU3mrgsBae3cecSrqjY3XJtRr4QIv747PAQ9jN93SADxu11RrFBU91ubMEeITmD7ZRUui09iua0bOW9CbAx2j+YOsA74me3zXcznMWPauAdwBPGDTXAQ6KnkcM2mqV4oIHIHruB/YFHqa5kc8o6RtSFze0/dpUn5p5M+n73k2FcYf09cwrG9p+baLnDmB/4HGaC+MRYEn0WSe0synitRjPxAVeQfpk7zbU91TwGtKt0UOj57KatmnCBV5D6o+XUd9K3tU8NdK5uqZtmqjew3wZ6RtbdfXHKtKjIgdFzy9q2mbfKXLEM6Ya+exG+rrAKL2f7UdIn719Xb+FDkD03APsCARSf/R6VuoAFwOv7bfQgSdHPgtINwbquNvVIS3peE3JoQOFj3g25gI7AqcBbycdcBN9P/N60ll9OXBC9PywmQptVZ81Pg14K2mh4UTfz7yO9EzanaQlBFPi87wusDfpBLWIdMKe6LNua3nqzubx/XCpaUHBM44LvBT4EPBnpEuwUdKONkg6ANeTdqQ5pAnqy4EQPTdnKbhhLjCf9EWKw4BXkvpj/FPcj5P64yHgUlJ/3GpZpxUX2AY4GjgEmE8axQxW/8HT94/fA5eQ+uMu+2rbS8GzBdUH+Hau/hsm7VyrgHuAm6LnsXzV2XOB2cAuwPXjfvQW4OboTe4EtYYLDJEu1XcgBc00UhDdDfx39KzIWF6rKXhk0lx4+txP9HqtrExO0ZPLIpKHgkdEzCl4RMScgkdEzCl4RMScgkdEzCl4RMScgkdEzCl4RMScgkdEzCl4RMScgkdEzCl4RMScgkdEzCl4RMScgkdEzCl4RMScgkdEzCl4RMScgkdEzCl4RMScgkdEzCl4RMScgkdEzCl4RMScgkdEzCl4RMScgkdEzCl4RMScgkdEzCl4RMTcQLfbzV2D9AEXGAS2A/YEzh33448ANwC3Rs9q69qk/yh45Bm5wADwJuAY4O3AWqALzBv3RzvAOmAIuAn4KnBR9Kyzq1b6iYJHNssF3gN8DXgRMAwMTOKvryAF0WnA16Nnff0VSj9T8MjTuMALge8Ai0mB04sRYDlwSPTc2WttMnUoeORJLrAIuBSYDcyqabMbgNXAX0XP2TVtU/qc7moJAC6wGLgC2Jr6QgfSPjYEnOkCH69xu9LHNOIRXOANwFXAnIab6gBHa+QjCp7CucA84B7SJLKFUWCh5nzKpkst+QYw17C9WcAF1bogKZSCp2AusB9wKGkOxso0YFvAG7YpLaPgKdvJND+vsznDwPEuMD1D29ICCp5CucC2wN4ZS5gOLMnYvmSk4CnX0eT9/c8DPp2xfclIwVOudwEzM9ew0IVa1wxJn1DwFKg62LfJXQfp1vrOuYsQewqeMu1MOuhzmw7skbsIsafgKdPrmNzT5k2ZA2yfuwixp+Ap02zaETxgu3hRWkLBU6Y2PSejd/UUSMFTphHS6ypy6wJP5C5C7Cl4ynQb7fjdrwRuyV2E2GvDzif27gZm5C6CNM90Q+4ixJ6Cp0DVO5Dvzl0HKfzaUIcYU/CU6zzSi7ly2QBcHn0r5prEmIKnXN8h7++/A5yesX3JSMFTqOh5GPgR+W5nPwhck6ltyUzBU7YTgTUZ2u0Ax0TfqvVEYkjBU7DouYv0MrARw2ZXAz+Jnh8atikto+CR00kf3bP63PAq4C+N2pKWUvAUrrq1fiDwCM2vZh4BDoyehxpuR1pOwSNEz/3AvsDDNDfyGQHeFT3XNrR96SMKHgEgepYBC4E7qHfOZ5R0B2tx9FxV43aljyl45EnVyGd34FRSYPR6q70DnA+8Nnp+0eO2ZArRl0Rls1xgAfAF4E9Jcz8T/QzOmurP/wI4MXqubqZC6WcKHtkiF3gB8EHgcGABsJZNX971BOmjgL8BLgbOiJ7/MSxT+oyCRybMBaYB25HmgTa2B3Br9FkWI0ofUvDIpLnw9BXH0bfmNarSJzS5LCLmFDwiYk7BIyLmFDwiYk7BIyLmFDwiYk7BIyLmFDwiYk7BIyLmFDwiYk7BIyLmFDwiYk7BIyLmFDwiYk7BIyLmFDwiYk7BIyLmFDwiYk7BIyLmFDwiYk7BIyLmFDwiYk7BIyLmFDwiYk7BIyLmFDwiYk7BIyLmFDwiYk7BIyLmFDwiYk7BIyLmBrrdbu4aWskFZgE7A3sCuwPPAwaBEeA24Ebgpuh5NFuRhlxgNrArsAfwzXE/Poan+uMJ69pycIEhYDfS/vF6YCtgAFgJ/Bq4Abg5elbmqrHNFDwbcYFpwGLgWOAtwCgwHZgz7o+uqX42B/gN8FXg/OgZsarVggsMAm8HjgMW8cz9sRpYVf3/paT+uCB6Ru2qbZ4LTAfeSeqPvYEOMAMYGvdHN+6P20n98a/Rs9qu2nZT8AAuMAAcAvwd6cw1TDp7TdRK0mXrmcAJ0bOq9iINVf3x56QDZgiYN8lNjJ3lA3BK9Kyprzp7VX98CPgiMJPJ98cKoAt8GTg9etbVW2H/KT54XOAlwNnAH5ECpxcd4GHgkOj5eY/bysIF5gPnAXtRT3/8H/C+6Lm519pycIE/BM4HdqH3/hgB7iXtH7f1uK2+VvTksgvsC9wN7E/vOxWkofUrgatc4HM1bM+UC7wNuBPYl/r6Y1vgGhf4aA3bM+UCS4BbSfM4dfTHMLA98EsXOLKG7fWtYoPHBfYHriBdWs2sefNDwPEu8JWat9sYFzgI+BEwlzRvUZcBUn982QWOr3G7jXKBQ4Dvk8Jieo2bnkbqjzNc4GM1brevFHmp5QJ7A1dRz1lsSzrAF6PntIbb6YkL7AdcyqaTxnXrAMdFz5kNt9MTF3gH8G9sOmlct1HgI9FzbsPttE5xweMCw8Ay4KVGTY4C+7d1zscFnkfqj+cbNTkK7BM9vzZqb1Jc4MWkO3NbGTU5CuwWPUuN2muFEi+1vg5sbdjeEHBBtQ6mjf6B5kd+G5sNXOhCrZdztajuXp0Npr+rmcD3q6UcxSjqH+sCi4DDaX4IPd4LgC8Yt/msXOCPgSXALMNmB4D5pLUwbfNu4M3UP+e3JYPAdsDRhm1mV1TwACdgHzqQ5k6Ori7z2uQLND+vsznDwLEumB7gE3EKtqO/McPA50sa9RTzD3WBVwD7MbmFgXXqAu/P1PYmXGA70lL/XKaRRhit4AILgVdnLGGItEq8CMUED/CRzO3PpV2XFx+l3tvEkzWPdvWHx/aSc7x5pEd1ilBS8LwL20nDzXm1C/xB5hrGHEi963Wei11bNOl+AGm+JadF1fNxU14RwVP9MrfLXQdpHcvC3EVUB/urctdBupW8S+4iqiUFVssJtmQt7dhPG1dE8AALSL/U3IZIr5XIbVdSCOY2nfQ4Qm4LaUd/dGnH/tG4IhYQVo8DnIft+h2RyeoCJ0XPybkLaVopI57Z5LubJTJRA+S5nW+ulOBZn7sAkQkq4l09pQTPCGkYK9Jm60gvDZvycq7jsHQreddojOkAn4ies3IW4QILSO9Izj2sXwF8OHrOz1mEC+wJXIndg6HPZOx93lNeESOe6PkttOJ9t+tILwHPbSn516xA2v9uzF0EcAt5HqUZbzbt6I/GFRE8lV/lLoC0c9+au4jo2UB602Bug6RXcmRVvYT93tx1AKPVSXLKKyl4zoGsnxrpAj9t0YvPz4GsX8XYAFxchWAbnAdZX9K/DvhBxvZNlRQ83yPvLfWVwOkZ2x/vbPJebo0CX8vY/njfytz+WtJXOYpQTPBETwf4LvlWMD9BmsBsheh5DLiQfEsNHgCuz9T2JqLnd6R3cOcagd1R0pcnigmeypfIM8k8Anwq+tbd0j+JPP0xdnevbf3xWfL0xyjwiQztZlNU8FQTdx/Fdm5jDXA1cIFhmxMSPcuBz2HbH6uAi6LnUsM2JyR6bgdOw7Y/RoF/ip7/NGwzu6KCp3IOaYhvNcm7CjiyhWf3MX8P3IHdJegIcJRRW8/Fl0l3uCxWEHeBx4BPGrTVKsUFTxUABwP30fzO1QEOjJ4HG27nOavuKh0EPEjz8z0rgQOq+aVWqj4v/A7gUZqf71kBvC36rHcXsygueACi5xHS1zLvpbmRzwiwJHquaWj7tYme3wNvJH1uuImRT5d0kB0QPTc1sP1aRc99wCLgIZo5OXWBx4G3VJd3xSkyeODJg21v4BrqvaYfJR3Ab42eq2rcbqOqg21P0srqOvujQxpdvil6rqtxu42KnmWkd+PcQv39sRx4Q79+T74OxQYPPDnyWUz6tMhKejvbd0k71bnA66Lnl71XaKsK432BY0gHWy9n+y4phM8CFrT1A35bEj33A3uRvk7SobdL0Q2k/gjAjtFzV88F9rEiXgQ2ES4wH/gMcCTpoJk7wb86ttr1Z8DJ/XRW3xIX2IZ0x+sI0kEz2f64Ajgl+lY8m9YzF3gtcDxwKKk/JvqA7Shp4eolpP7ouwBugoJnHBeYQ9q5PkD6/Mss0tqOsVXPXdKK3xnAXcBFwD9GzwPmxRpwgbmkjyAeAexG+nePrXUZIPXHdFKf3AH8O3BWtSBvynGBrUj7xmGk90UPkuYJN94/ppOuJm4nPQbx7eh5yL7a9lLwPAsXeDmwE+kMN0g6o98DLI2+rBeMVZ/4nU/qjzmkg2uU9KDnshY9d2Wi6o9XAjuSHgAe64+7gOUtXkKRnYJHRMwVPbksInkoeETEnIJHRMwpeETEnIJHRMwpeETEnIJHRMwpeETEnIJHRMwpeETEnIJHRMwpeETEnIJHRMwpeETEnIJHRMwpeETEnIJHRMwpeETEnIJHRMwpeETEnIJHRMwpeETEnIJHRMwpeETEnIJHRMwpeETEnIJHRMwpeETEnIJHRMwpeETEnIJHRMwpeETEnIJHRMwpeETEnIJHRMwpeETEnIJHRMwpeETEnIJHRMwpeETEnIJHRMwpeETEnIJHRMwpeETEnIJHRMwpeETEnIJHRMwpeETEnIJHRMwpeETEnIJHRMwpeETEnIJHRMwpeETEnIJHRMwpeETE3P8D3lu74ezIJWwAAAAASUVORK5CYII=\n",
          "text/plain": "<Figure size 360x360 with 1 Axes>"
         },
         "metadata": {},
         "output_type": "display_data"
        }
       ]
      }
     },
     "b212ff518ac24f43803fd83dc9c8b8d8": {
      "model_module": "@jupyter-widgets/controls",
      "model_module_version": "1.5.0",
      "model_name": "ProgressStyleModel",
      "state": {
       "bar_color": "#71cddd",
       "description_width": ""
      }
     },
     "b3233679620e4abba211a85e795c5662": {
      "model_module": "@jupyter-widgets/controls",
      "model_module_version": "1.5.0",
      "model_name": "HTMLModel",
      "state": {
       "layout": "IPY_MODEL_6df16aeb7ac145438e234f616e6aacb9",
       "style": "IPY_MODEL_6fb884181660465997308d0ecfd8ad5c",
       "value": "<h5 style='color:#34bc6e'>True</h5>"
      }
     },
     "b453253d49cc4713abcdcdf5a11cc5b5": {
      "model_module": "@jupyter-widgets/base",
      "model_module_version": "1.2.0",
      "model_name": "LayoutModel",
      "state": {
       "grid_gap": "0px 0px",
       "grid_template_areas": "\n                               \"left right right right\"\n                               \"bottom bottom bottom bottom\"\n                               ",
       "grid_template_columns": "31% 23% 23% 23%",
       "grid_template_rows": "auto auto"
      }
     },
     "b476d4f5fd644644a743cb38bbbf905d": {
      "model_module": "@jupyter-widgets/controls",
      "model_module_version": "1.5.0",
      "model_name": "HTMLModel",
      "state": {
       "layout": "IPY_MODEL_608306507b4046e6a53de3f80b854234",
       "style": "IPY_MODEL_7c97797897204e0dbc056973a2c5c126",
       "value": "<h5>0.0123</h5>"
      }
     },
     "b4dcfcce6b19428eb79df15db75f2693": {
      "model_module": "@jupyter-widgets/base",
      "model_module_version": "1.2.0",
      "model_name": "LayoutModel",
      "state": {
       "min_width": "auto"
      }
     },
     "b538ea4cb6a346c9aba76bc02bc3eb31": {
      "model_module": "@jupyter-widgets/controls",
      "model_module_version": "1.5.0",
      "model_name": "DescriptionStyleModel",
      "state": {
       "description_width": ""
      }
     },
     "b56f4a34517644cbae45a81dfa1a150c": {
      "model_module": "@jupyter-widgets/controls",
      "model_module_version": "1.5.0",
      "model_name": "DescriptionStyleModel",
      "state": {
       "description_width": ""
      }
     },
     "b604e31f08f147dab68bc0798d483910": {
      "model_module": "@jupyter-widgets/controls",
      "model_module_version": "1.5.0",
      "model_name": "DescriptionStyleModel",
      "state": {
       "description_width": ""
      }
     },
     "b6299103ae7248469995111afba7df88": {
      "model_module": "@jupyter-widgets/base",
      "model_module_version": "1.2.0",
      "model_name": "LayoutModel",
      "state": {
       "max_width": "180px"
      }
     },
     "b73acc26a9944309a9662568dac22795": {
      "model_module": "@jupyter-widgets/controls",
      "model_module_version": "1.5.0",
      "model_name": "HTMLModel",
      "state": {
       "layout": "IPY_MODEL_09e1d5448cc74740a3ac34b541eeaca3",
       "style": "IPY_MODEL_fbabf5957b1e4dc6b527bbbb97881893",
       "value": "<h5 style='color:#dc267f'>False</h5>"
      }
     },
     "b7c317e829454df180c6d90e88dc73e0": {
      "model_module": "@jupyter-widgets/controls",
      "model_module_version": "1.5.0",
      "model_name": "HTMLModel",
      "state": {
       "layout": "IPY_MODEL_88134d9ad919429f9f0f28be2b2ed4de",
       "style": "IPY_MODEL_19bdfc02f72f46b5886f1061c8dda9fd",
       "value": "<h5 style='color:#dc267f'>False</h5>"
      }
     },
     "b834be1940774d868ce4f994d3d1e7ea": {
      "model_module": "@jupyter-widgets/base",
      "model_module_version": "1.2.0",
      "model_name": "LayoutModel",
      "state": {
       "align_items": "center",
       "justify_content": "center",
       "margin": "0px 0px 0px 0px",
       "max_height": "250px",
       "max_width": "250px",
       "min_height": "250px",
       "min_width": "250px"
      }
     },
     "ba15d7c94c5b45e2b00911ef04d64878": {
      "model_module": "@jupyter-widgets/controls",
      "model_module_version": "1.5.0",
      "model_name": "DescriptionStyleModel",
      "state": {
       "description_width": ""
      }
     },
     "bb255133997641ac9d47e02e833ae05c": {
      "model_module": "@jupyter-widgets/base",
      "model_module_version": "1.2.0",
      "model_name": "LayoutModel",
      "state": {
       "justify_content": "center"
      }
     },
     "bbc4df0cd0c94fbcb481e0ab7069c4db": {
      "model_module": "@jupyter-widgets/controls",
      "model_module_version": "1.5.0",
      "model_name": "HBoxModel",
      "state": {
       "children": [
        "IPY_MODEL_1ecfe4e8409449759fbc6599dd07d1ac",
        "IPY_MODEL_04ceef14ba094d41b273d42a59f502e6",
        "IPY_MODEL_2755d22601f04feb89a864e50268f470"
       ],
       "layout": "IPY_MODEL_cfcd52df891a453fa3efe4a5d9840d00"
      }
     },
     "bc0ff68dd2f44928a86ffbec01c824ff": {
      "model_module": "@jupyter-widgets/controls",
      "model_module_version": "1.5.0",
      "model_name": "DescriptionStyleModel",
      "state": {
       "description_width": ""
      }
     },
     "bc73865cc53440c8b51c99d43826a36e": {
      "model_module": "@jupyter-widgets/controls",
      "model_module_version": "1.5.0",
      "model_name": "LabelModel",
      "state": {
       "layout": "IPY_MODEL_af4132259cf04f02ba4612e6418b92e5",
       "style": "IPY_MODEL_207292fede7d4d798c27c1ffe9cdae23",
       "value": "Avg. CX Err."
      }
     },
     "bcf436ea32884691a8d7a7db1540e4b2": {
      "model_module": "@jupyter-widgets/base",
      "model_module_version": "1.2.0",
      "model_name": "LayoutModel",
      "state": {}
     },
     "bde321cf145f43c8953b06119ec73b17": {
      "model_module": "@jupyter-widgets/controls",
      "model_module_version": "1.5.0",
      "model_name": "LabelModel",
      "state": {
       "layout": "IPY_MODEL_d02b2834ef634823ac53c698f97f336d",
       "style": "IPY_MODEL_ea0f05323db742f5b96b0eaf340b3e37",
       "value": "75"
      }
     },
     "bdfca45f9fd3436eac7e02030d884756": {
      "model_module": "@jupyter-widgets/controls",
      "model_module_version": "1.5.0",
      "model_name": "DescriptionStyleModel",
      "state": {
       "description_width": ""
      }
     },
     "be0e56d43c9f478fac6d219ce6958982": {
      "model_module": "@jupyter-widgets/controls",
      "model_module_version": "1.5.0",
      "model_name": "DescriptionStyleModel",
      "state": {
       "description_width": ""
      }
     },
     "be354451ec3f44659c4abe03a2c43c4f": {
      "model_module": "@jupyter-widgets/controls",
      "model_module_version": "1.5.0",
      "model_name": "DescriptionStyleModel",
      "state": {
       "description_width": ""
      }
     },
     "bf1c6fa585e043a6908a8df35e3356aa": {
      "model_module": "@jupyter-widgets/controls",
      "model_module_version": "1.5.0",
      "model_name": "ButtonStyleModel",
      "state": {}
     },
     "bfb2d40d8ca545fdba0c973de2130af1": {
      "model_module": "@jupyter-widgets/output",
      "model_module_version": "1.0.0",
      "model_name": "OutputModel",
      "state": {
       "layout": "IPY_MODEL_9f79fdb5e4d34cdb9fd227d140b21488",
       "outputs": [
        {
         "data": {
          "image/png": "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\n",
          "text/plain": "<Figure size 360x360 with 1 Axes>"
         },
         "metadata": {},
         "output_type": "display_data"
        }
       ]
      }
     },
     "bff53131684c49318ff6ab73da309c5a": {
      "model_module": "@jupyter-widgets/controls",
      "model_module_version": "1.5.0",
      "model_name": "DescriptionStyleModel",
      "state": {
       "description_width": ""
      }
     },
     "c040f9d458f3404489047a3af23b8f81": {
      "model_module": "@jupyter-widgets/controls",
      "model_module_version": "1.5.0",
      "model_name": "DescriptionStyleModel",
      "state": {
       "description_width": ""
      }
     },
     "c048d2095a49452991792a97bb060a9b": {
      "model_module": "@jupyter-widgets/controls",
      "model_module_version": "1.5.0",
      "model_name": "HTMLModel",
      "state": {
       "layout": "IPY_MODEL_1999aab1ded24c4bb5cf6c09bec6a4c6",
       "style": "IPY_MODEL_4b0b9687aeb0420c80c664276ccf8c0e",
       "value": "<h5>8</h5>"
      }
     },
     "c16126e6d32b4408b6f4f6622e7128c1": {
      "model_module": "@jupyter-widgets/controls",
      "model_module_version": "1.5.0",
      "model_name": "DescriptionStyleModel",
      "state": {
       "description_width": ""
      }
     },
     "c169b20aa6ee448499b636dfbe884a3b": {
      "model_module": "@jupyter-widgets/controls",
      "model_module_version": "1.5.0",
      "model_name": "DescriptionStyleModel",
      "state": {
       "description_width": ""
      }
     },
     "c191f539b48b424b99d21491abb66c5b": {
      "model_module": "@jupyter-widgets/base",
      "model_module_version": "1.2.0",
      "model_name": "LayoutModel",
      "state": {
       "justify_content": "center",
       "max_width": "250px",
       "min_width": "250px"
      }
     },
     "c1c2086c0fc94171a630fb850e178c2c": {
      "model_module": "@jupyter-widgets/base",
      "model_module_version": "1.2.0",
      "model_name": "LayoutModel",
      "state": {}
     },
     "c354e12e857243638bf6fcaa74147d3c": {
      "model_module": "@jupyter-widgets/controls",
      "model_module_version": "1.5.0",
      "model_name": "ProgressStyleModel",
      "state": {
       "bar_color": "#71cddd",
       "description_width": ""
      }
     },
     "c3a11c989a714480848d33e09adb4f4b": {
      "model_module": "@jupyter-widgets/base",
      "model_module_version": "1.2.0",
      "model_name": "LayoutModel",
      "state": {
       "max_height": "620px"
      }
     },
     "c401905f87b9485ea115cac23520ff10": {
      "model_module": "@jupyter-widgets/controls",
      "model_module_version": "1.5.0",
      "model_name": "HTMLModel",
      "state": {
       "layout": "IPY_MODEL_d5565c6fe192404ab942c3e5bdb22bce",
       "style": "IPY_MODEL_8fe2f5b5ad5e499ab085594684c6687b",
       "value": "<h5>32</h5>"
      }
     },
     "c6214c9290d943f3a8a62afbc0527f42": {
      "model_module": "@jupyter-widgets/controls",
      "model_module_version": "1.5.0",
      "model_name": "HTMLModel",
      "state": {
       "layout": "IPY_MODEL_b04e8116e8ff4310aa4de0d2746dba29",
       "style": "IPY_MODEL_9eead8391c68434f9917de92dae66da2",
       "value": "<p style='font-family: IBM Plex Sans, Arial, Helvetica, sans-serif; font-size: 20px; font-weight: medium;'>Circuit Properties</p>"
      }
     },
     "c676dee2afa64c8d9927f2c5493255b6": {
      "model_module": "@jupyter-widgets/controls",
      "model_module_version": "1.5.0",
      "model_name": "DescriptionStyleModel",
      "state": {
       "description_width": ""
      }
     },
     "c6d43b652b574c9b93dbc14c41488635": {
      "model_module": "@jupyter-widgets/base",
      "model_module_version": "1.2.0",
      "model_name": "LayoutModel",
      "state": {
       "grid_area": "middle"
      }
     },
     "c732954594654d33b4befcb466c0c26e": {
      "model_module": "@jupyter-widgets/base",
      "model_module_version": "1.2.0",
      "model_name": "LayoutModel",
      "state": {
       "max_width": "180px"
      }
     },
     "c74b94404c374df68e343f4832e7c1f3": {
      "model_module": "@jupyter-widgets/controls",
      "model_module_version": "1.5.0",
      "model_name": "HTMLModel",
      "state": {
       "layout": "IPY_MODEL_8c756ee943864acf8930837d635a4265",
       "style": "IPY_MODEL_81206a9768864336982d181ed7029b02",
       "value": "<h5>83.2 / 93.9 us</h5>"
      }
     },
     "c86f00f9a8a541999e5fa3816eb12a7c": {
      "model_module": "@jupyter-widgets/base",
      "model_module_version": "1.2.0",
      "model_name": "LayoutModel",
      "state": {
       "margin": "5px 0px 0px 0px"
      }
     },
     "c8a037b7a8474522b012bd073795f089": {
      "model_module": "@jupyter-widgets/controls",
      "model_module_version": "1.5.0",
      "model_name": "HTMLModel",
      "state": {
       "layout": "IPY_MODEL_6c431752f2f64019a1430cf83e103e31",
       "style": "IPY_MODEL_7b2430e16e7d497387f08558a6bc882d",
       "value": "<h5>Job ID</h5>"
      }
     },
     "c9974e01bfa048a187b7e5e5b1af9eec": {
      "model_module": "@jupyter-widgets/controls",
      "model_module_version": "1.5.0",
      "model_name": "DescriptionStyleModel",
      "state": {
       "description_width": ""
      }
     },
     "ca69888696ba4907b3b4ea79a719c088": {
      "model_module": "@jupyter-widgets/base",
      "model_module_version": "1.2.0",
      "model_name": "LayoutModel",
      "state": {
       "margin": "8px 0px 0px 0px"
      }
     },
     "caeed97772c3459698c0104eaca6ce12": {
      "model_module": "@jupyter-widgets/base",
      "model_module_version": "1.2.0",
      "model_name": "LayoutModel",
      "state": {}
     },
     "cb4dbd2e321f41b0853a485c9b7a100f": {
      "model_module": "@jupyter-widgets/controls",
      "model_module_version": "1.5.0",
      "model_name": "IntProgressModel",
      "state": {
       "layout": "IPY_MODEL_007ba996bafd4f0a94949202f7d523af",
       "max": 81,
       "style": "IPY_MODEL_58366561f2e24aa18580f15e3e02f0f7",
       "value": 66
      }
     },
     "cb65f44c515646c2a60edabaae3d7d8f": {
      "model_module": "@jupyter-widgets/base",
      "model_module_version": "1.2.0",
      "model_name": "LayoutModel",
      "state": {
       "max_width": "180px"
      }
     },
     "cc3ac747aa174f7b801650f4ff990fde": {
      "model_module": "@jupyter-widgets/controls",
      "model_module_version": "1.5.0",
      "model_name": "DescriptionStyleModel",
      "state": {
       "description_width": ""
      }
     },
     "ce89958113624b42a89cead29baa74db": {
      "model_module": "@jupyter-widgets/base",
      "model_module_version": "1.2.0",
      "model_name": "LayoutModel",
      "state": {
       "justify_content": "center"
      }
     },
     "cf4024258b9f4af3972c8189281fbce2": {
      "model_module": "@jupyter-widgets/controls",
      "model_module_version": "1.5.0",
      "model_name": "HTMLModel",
      "state": {
       "layout": "IPY_MODEL_47295c4848a942758b9c24ab0e9b2206",
       "style": "IPY_MODEL_b56f4a34517644cbae45a81dfa1a150c",
       "value": "<h5>0.0459</h5>"
      }
     },
     "cfcd52df891a453fa3efe4a5d9840d00": {
      "model_module": "@jupyter-widgets/base",
      "model_module_version": "1.2.0",
      "model_name": "LayoutModel",
      "state": {
       "justify_content": "center",
       "max_width": "250px",
       "min_width": "250px"
      }
     },
     "d000aac1b18e4d409930c795c89304b1": {
      "model_module": "@jupyter-widgets/base",
      "model_module_version": "1.2.0",
      "model_name": "LayoutModel",
      "state": {}
     },
     "d02b2834ef634823ac53c698f97f336d": {
      "model_module": "@jupyter-widgets/base",
      "model_module_version": "1.2.0",
      "model_name": "LayoutModel",
      "state": {
       "min_width": "auto"
      }
     },
     "d0c41bda6b974bee9c7bcc5a40184bb3": {
      "model_module": "@jupyter-widgets/base",
      "model_module_version": "1.2.0",
      "model_name": "LayoutModel",
      "state": {
       "margin": "0px 0px 0px 0px"
      }
     },
     "d14844f962e04dadaa144b062e86be5b": {
      "model_module": "@jupyter-widgets/base",
      "model_module_version": "1.2.0",
      "model_name": "LayoutModel",
      "state": {
       "justify_content": "center"
      }
     },
     "d1c68f5859a04bc5aae487d9feae062b": {
      "model_module": "@jupyter-widgets/base",
      "model_module_version": "1.2.0",
      "model_name": "LayoutModel",
      "state": {}
     },
     "d1f1bfbd00a84cf08b91751e92c7ad53": {
      "model_module": "@jupyter-widgets/base",
      "model_module_version": "1.2.0",
      "model_name": "LayoutModel",
      "state": {
       "min_width": "auto"
      }
     },
     "d201919a9694423c9f322351f327e8bf": {
      "model_module": "@jupyter-widgets/base",
      "model_module_version": "1.2.0",
      "model_name": "LayoutModel",
      "state": {}
     },
     "d28bd418a17445139612761ccd8eef74": {
      "model_module": "@jupyter-widgets/controls",
      "model_module_version": "1.5.0",
      "model_name": "IntProgressModel",
      "state": {
       "layout": "IPY_MODEL_cb65f44c515646c2a60edabaae3d7d8f",
       "style": "IPY_MODEL_87dbef9fd2f840d2a592561c89171781",
       "value": 90
      }
     },
     "d430618f3bd141fe89f19d5594256abd": {
      "model_module": "@jupyter-widgets/controls",
      "model_module_version": "1.5.0",
      "model_name": "HTMLModel",
      "state": {
       "layout": "IPY_MODEL_f07aee2cef4b48c49e8b6003061ccb95",
       "style": "IPY_MODEL_0e19300aea904197b33304d44883d7e3",
       "value": "<h5><b>7</b></h5>"
      }
     },
     "d5565c6fe192404ab942c3e5bdb22bce": {
      "model_module": "@jupyter-widgets/base",
      "model_module_version": "1.2.0",
      "model_name": "LayoutModel",
      "state": {
       "justify_content": "center"
      }
     },
     "d70963c9113b4fa0b705c326f25abee7": {
      "model_module": "@jupyter-widgets/base",
      "model_module_version": "1.2.0",
      "model_name": "LayoutModel",
      "state": {}
     },
     "d8894720b3d54cdc97539de420f7f6e3": {
      "model_module": "@jupyter-widgets/base",
      "model_module_version": "1.2.0",
      "model_name": "LayoutModel",
      "state": {}
     },
     "d94519a5f86a4520bfbabbbf097a40f9": {
      "model_module": "@jupyter-widgets/base",
      "model_module_version": "1.2.0",
      "model_name": "LayoutModel",
      "state": {}
     },
     "da1768d8dd454f7c8582c36c584c6e04": {
      "model_module": "@jupyter-widgets/controls",
      "model_module_version": "1.5.0",
      "model_name": "GridBoxModel",
      "state": {
       "children": [
        "IPY_MODEL_8f5a0fc933d2458e8159298741dcc87b",
        "IPY_MODEL_34cf26c33146404e9eda7ba9f95d9d74",
        "IPY_MODEL_69ce73028ea145e080f31c6ecf0b42d6",
        "IPY_MODEL_4ef3d5906b3a4a6faf600e8550841533",
        "IPY_MODEL_10e58856f47c4aa89439f4c08edbee20",
        "IPY_MODEL_dbd6dd65ee9642408e67bf540cfdccd4"
       ],
       "layout": "IPY_MODEL_feba8aa2c38748f1afaf23ae741f1746"
      }
     },
     "da4638ae823d492fbd3e7bdc1f7a83f0": {
      "model_module": "@jupyter-widgets/base",
      "model_module_version": "1.2.0",
      "model_name": "LayoutModel",
      "state": {
       "min_width": "auto"
      }
     },
     "dabf7544d72a4ff5aa860e7eaeb49baa": {
      "model_module": "@jupyter-widgets/controls",
      "model_module_version": "1.5.0",
      "model_name": "LabelModel",
      "state": {
       "layout": "IPY_MODEL_6a0e5eae2b87463490969e4731950470",
       "style": "IPY_MODEL_b604e31f08f147dab68bc0798d483910",
       "value": "Num. Qubits"
      }
     },
     "dbd6dd65ee9642408e67bf540cfdccd4": {
      "model_module": "@jupyter-widgets/controls",
      "model_module_version": "1.5.0",
      "model_name": "VBoxModel",
      "state": {
       "children": [
        "IPY_MODEL_68f39747683542eeab52315552ab66ba",
        "IPY_MODEL_7a90c23c8be74d9697aca668473caaff",
        "IPY_MODEL_67baa5b78b864c3697cc1750ea79cd13",
        "IPY_MODEL_c048d2095a49452991792a97bb060a9b",
        "IPY_MODEL_00bda13b1d9f494d8237fdc84f76ed12",
        "IPY_MODEL_71c3c71ae0b049f39074fd331c6af0f8",
        "IPY_MODEL_93e977d4927d4c8786e56d5931a4e8a2",
        "IPY_MODEL_c74b94404c374df68e343f4832e7c1f3",
        "IPY_MODEL_8232cc2a4a5b42d79df855a90cd540b8",
        "IPY_MODEL_6f70e5c21e244f07a375d0195a50d8bf"
       ],
       "layout": "IPY_MODEL_ea88a1cea2d646879618ca23ae83ff00"
      }
     },
     "dbe7ab8694604181a9cc59dbb6d2bb06": {
      "model_module": "@jupyter-widgets/controls",
      "model_module_version": "1.5.0",
      "model_name": "HTMLModel",
      "state": {
       "layout": "IPY_MODEL_e4254f0987ab46a98fcfe6d9f7be08c2",
       "style": "IPY_MODEL_46209589209e49fb819876b1dbb4ed49",
       "value": "<h5>74.4 / 96.9 us</h5>"
      }
     },
     "dd041c4208024698ad5c19f7e9890d51": {
      "model_module": "@jupyter-widgets/controls",
      "model_module_version": "1.5.0",
      "model_name": "HBoxModel",
      "state": {
       "children": [
        "IPY_MODEL_1d22d07444b04ec1a4d7203cf93be08b",
        "IPY_MODEL_da1768d8dd454f7c8582c36c584c6e04"
       ],
       "layout": "IPY_MODEL_50d76b72dee7480b870723a726bba647"
      }
     },
     "dd1c36fccd9e4c94a10834d0899dec1b": {
      "model_module": "@jupyter-widgets/controls",
      "model_module_version": "1.5.0",
      "model_name": "DescriptionStyleModel",
      "state": {
       "description_width": ""
      }
     },
     "dddaeeaaa55f4be3815ceda6afead633": {
      "model_module": "@jupyter-widgets/controls",
      "model_module_version": "1.5.0",
      "model_name": "HTMLModel",
      "state": {
       "layout": "IPY_MODEL_9518d2a5a27340a4afbb55b2345acd25",
       "style": "IPY_MODEL_41a29d9cef394b79915860fc94a48354",
       "value": "<h5>153.8 / 61.5 us</h5>"
      }
     },
     "dfbc3fe1407d4cb0b260922457ee2ca1": {
      "model_module": "@jupyter-widgets/controls",
      "model_module_version": "1.5.0",
      "model_name": "HTMLModel",
      "state": {
       "layout": "IPY_MODEL_68aa1e60bd744005a8b47a40c8054b32",
       "style": "IPY_MODEL_bdfca45f9fd3436eac7e02030d884756",
       "value": "<h5>16</h5>"
      }
     },
     "e0800d9918d147028eec8ca441f56a89": {
      "model_module": "@jupyter-widgets/controls",
      "model_module_version": "1.5.0",
      "model_name": "ProgressStyleModel",
      "state": {
       "bar_color": "#71cddd",
       "description_width": ""
      }
     },
     "e093434645ea41219b16ac4217f1c2fc": {
      "model_module": "@jupyter-widgets/base",
      "model_module_version": "1.2.0",
      "model_name": "LayoutModel",
      "state": {
       "justify_content": "center"
      }
     },
     "e0f5a133f3ee493c9495adabc70bd245": {
      "model_module": "@jupyter-widgets/controls",
      "model_module_version": "1.5.0",
      "model_name": "DescriptionStyleModel",
      "state": {
       "description_width": ""
      }
     },
     "e356a78c857243b58dbc981a36d1d86d": {
      "model_module": "@jupyter-widgets/controls",
      "model_module_version": "1.5.0",
      "model_name": "DescriptionStyleModel",
      "state": {
       "description_width": ""
      }
     },
     "e4254f0987ab46a98fcfe6d9f7be08c2": {
      "model_module": "@jupyter-widgets/base",
      "model_module_version": "1.2.0",
      "model_name": "LayoutModel",
      "state": {}
     },
     "e4ff30b57ab24ee599a0c9a976b3b85b": {
      "model_module": "@jupyter-widgets/controls",
      "model_module_version": "1.5.0",
      "model_name": "DescriptionStyleModel",
      "state": {
       "description_width": ""
      }
     },
     "e5ee36b1a4c54c31b53d51e868e57345": {
      "model_module": "@jupyter-widgets/base",
      "model_module_version": "1.2.0",
      "model_name": "LayoutModel",
      "state": {}
     },
     "e62497db57654f1db1631f478b01319c": {
      "model_module": "@jupyter-widgets/controls",
      "model_module_version": "1.5.0",
      "model_name": "HTMLModel",
      "state": {
       "layout": "IPY_MODEL_f5a3bc16e2ed4b29a7fba054a9ad246a",
       "style": "IPY_MODEL_35b5575fa8fd4338ad05c7174827ba3b",
       "value": "<table><style>\ntable {\n    border-collapse: collapse;\n    width: auto;\n}\n\nth, td {\n    text-align: left;\n    padding: 8px;\n}\n\ntr:nth-child(even) {background-color: #f6f6f6;};\n</style><tr><th></th><th>Type</th><th>Gate error</th></tr><tr><td><font style='font-weight:bold'>cx0_1</font></td><td>cx</td><td>0.00731</td></tr><tr><td><font style='font-weight:bold'>cx1_0</font></td><td>cx</td><td>0.00731</td></tr></table>"
      }
     },
     "e700d0f699e546dcb4f0bb65bde0e594": {
      "model_module": "@jupyter-widgets/base",
      "model_module_version": "1.2.0",
      "model_name": "LayoutModel",
      "state": {
       "grid_gap": "0px 0px",
       "grid_template_areas": "\n                                                   \"top top top\"\n                                                   \"left middle right\"\n                                                   ",
       "grid_template_columns": "33% 33% 33%",
       "grid_template_rows": "auto auto"
      }
     },
     "e93f2aa063b04cfd8c1f1f4b049d30b1": {
      "model_module": "@jupyter-widgets/controls",
      "model_module_version": "1.5.0",
      "model_name": "HTMLModel",
      "state": {
       "layout": "IPY_MODEL_24a425e9c5fe415e8e43cb8f12a4ed1e",
       "style": "IPY_MODEL_e356a78c857243b58dbc981a36d1d86d",
       "value": "<h5>132.1 / 104.8 us</h5>"
      }
     },
     "e95510c655d149af9a9e243d46e3fa0d": {
      "model_module": "@jupyter-widgets/controls",
      "model_module_version": "1.5.0",
      "model_name": "ButtonModel",
      "state": {
       "button_style": "primary",
       "description": "Clear",
       "layout": "IPY_MODEL_6d364246f366402ca4f2bce11d5a5e5a",
       "style": "IPY_MODEL_bf1c6fa585e043a6908a8df35e3356aa"
      }
     },
     "ea0f05323db742f5b96b0eaf340b3e37": {
      "model_module": "@jupyter-widgets/controls",
      "model_module_version": "1.5.0",
      "model_name": "DescriptionStyleModel",
      "state": {
       "description_width": ""
      }
     },
     "ea0fb52d8d494e94ac87c1595e151a08": {
      "model_module": "@jupyter-widgets/base",
      "model_module_version": "1.2.0",
      "model_name": "LayoutModel",
      "state": {
       "margin": "295px 0px 0px 0px",
       "min_width": "100px"
      }
     },
     "ea88a1cea2d646879618ca23ae83ff00": {
      "model_module": "@jupyter-widgets/base",
      "model_module_version": "1.2.0",
      "model_name": "LayoutModel",
      "state": {
       "align_items": "center",
       "display": "inline-flex",
       "flex_flow": "column"
      }
     },
     "edb0872ecaac4478800775bbe8aff34c": {
      "model_module": "@jupyter-widgets/controls",
      "model_module_version": "1.5.0",
      "model_name": "IntProgressModel",
      "state": {
       "layout": "IPY_MODEL_14c096a35b7748009a70a915ab5619bc",
       "max": 75,
       "style": "IPY_MODEL_e0800d9918d147028eec8ca441f56a89",
       "value": 60
      }
     },
     "edf3cfac231e4969915ac1cd4a0c6943": {
      "model_module": "@jupyter-widgets/controls",
      "model_module_version": "1.5.0",
      "model_name": "LabelModel",
      "state": {
       "layout": "IPY_MODEL_ca69888696ba4907b3b4ea79a719c088",
       "style": "IPY_MODEL_f23b969159a34ce786160f620f3274db",
       "value": "Avg. Meas. Err."
      }
     },
     "ee155155bdb542b8b7d20715f964b43f": {
      "model_module": "@jupyter-widgets/controls",
      "model_module_version": "1.5.0",
      "model_name": "LabelModel",
      "state": {
       "layout": "IPY_MODEL_724e767bc8e64ceda281bac39932c081",
       "style": "IPY_MODEL_939bc8aac384408eb0a425e9e09a4bbe",
       "value": "Least Busy"
      }
     },
     "f07aee2cef4b48c49e8b6003061ccb95": {
      "model_module": "@jupyter-widgets/base",
      "model_module_version": "1.2.0",
      "model_name": "LayoutModel",
      "state": {
       "justify_content": "center"
      }
     },
     "f090be23a1d54625b2b8c3e27a407d82": {
      "model_module": "@jupyter-widgets/controls",
      "model_module_version": "1.5.0",
      "model_name": "HTMLModel",
      "state": {
       "layout": "IPY_MODEL_067cfec40a154c44a6f919c32e5ffa45",
       "style": "IPY_MODEL_e0f5a133f3ee493c9495adabc70bd245",
       "value": "<h5>0.0354</h5>"
      }
     },
     "f113e22bc56b4a6c8d56e68d90db505a": {
      "model_module": "@jupyter-widgets/base",
      "model_module_version": "1.2.0",
      "model_name": "LayoutModel",
      "state": {
       "min_width": "auto"
      }
     },
     "f1ad69d9d526437c9ddd5ec5c00b5a48": {
      "model_module": "@jupyter-widgets/controls",
      "model_module_version": "1.5.0",
      "model_name": "HTMLModel",
      "state": {
       "layout": "IPY_MODEL_6bbaafa7308b4143b4160a51325b8519",
       "style": "IPY_MODEL_5bf20ae43ab24b89bea945dd594916f7",
       "value": "<h5 style='color:#34bc6e'>True</h5>"
      }
     },
     "f1b845cd842d4940896ea38dec88ac11": {
      "model_module": "@jupyter-widgets/controls",
      "model_module_version": "1.5.0",
      "model_name": "DescriptionStyleModel",
      "state": {
       "description_width": ""
      }
     },
     "f23b969159a34ce786160f620f3274db": {
      "model_module": "@jupyter-widgets/controls",
      "model_module_version": "1.5.0",
      "model_name": "DescriptionStyleModel",
      "state": {
       "description_width": ""
      }
     },
     "f33bee975c3d4fff96a5c65b6cfa331a": {
      "model_module": "@jupyter-widgets/controls",
      "model_module_version": "1.5.0",
      "model_name": "DescriptionStyleModel",
      "state": {
       "description_width": ""
      }
     },
     "f3cd45e782664a7c82f2f87e288b647b": {
      "model_module": "@jupyter-widgets/controls",
      "model_module_version": "1.5.0",
      "model_name": "LabelModel",
      "state": {
       "layout": "IPY_MODEL_279a9442424649a99f6766adf6637e32",
       "style": "IPY_MODEL_c040f9d458f3404489047a3af23b8f81",
       "value": "579"
      }
     },
     "f5a3bc16e2ed4b29a7fba054a9ad246a": {
      "model_module": "@jupyter-widgets/base",
      "model_module_version": "1.2.0",
      "model_name": "LayoutModel",
      "state": {
       "grid_area": "right"
      }
     },
     "f64dad9350474d47bf178dfceb3f4fc9": {
      "model_module": "@jupyter-widgets/controls",
      "model_module_version": "1.5.0",
      "model_name": "HBoxModel",
      "state": {
       "children": [
        "IPY_MODEL_07cd5b3b18f748a4a0c17860225a9f9b",
        "IPY_MODEL_edb0872ecaac4478800775bbe8aff34c",
        "IPY_MODEL_bde321cf145f43c8953b06119ec73b17"
       ],
       "layout": "IPY_MODEL_993ee2ded367472db8ddcd3ae8fe68d7"
      }
     },
     "f6578b93932743f18ff51d5cb7cf87c6": {
      "model_module": "@jupyter-widgets/base",
      "model_module_version": "1.2.0",
      "model_name": "LayoutModel",
      "state": {
       "justify_content": "center"
      }
     },
     "f6c5f2f414af496eb2b9bb875a3e81e7": {
      "model_module": "@jupyter-widgets/controls",
      "model_module_version": "1.5.0",
      "model_name": "HTMLModel",
      "state": {
       "layout": "IPY_MODEL_d14844f962e04dadaa144b062e86be5b",
       "style": "IPY_MODEL_62f596d83a2d4ed9b41a05b3bda759d3",
       "value": "<h5 style='color:#34bc6e'>True</h5>"
      }
     },
     "f872d9e81ecc414a80eda07866e7f20c": {
      "model_module": "@jupyter-widgets/base",
      "model_module_version": "1.2.0",
      "model_name": "LayoutModel",
      "state": {}
     },
     "f8a53d0efb82452795f2fe83cb2bd193": {
      "model_module": "@jupyter-widgets/controls",
      "model_module_version": "1.5.0",
      "model_name": "LabelModel",
      "state": {
       "layout": "IPY_MODEL_5a7861189ac844e284d190121821f2eb",
       "style": "IPY_MODEL_b0cf210576004b96ad53762fc340beac",
       "value": "81"
      }
     },
     "fbabf5957b1e4dc6b527bbbb97881893": {
      "model_module": "@jupyter-widgets/controls",
      "model_module_version": "1.5.0",
      "model_name": "DescriptionStyleModel",
      "state": {
       "description_width": ""
      }
     },
     "fc28b96b2e854accb24e3a02731e7195": {
      "model_module": "@jupyter-widgets/base",
      "model_module_version": "1.2.0",
      "model_name": "LayoutModel",
      "state": {
       "align_items": "center",
       "justify_content": "center",
       "margin": "0px 0px 0px 0px",
       "max_height": "250px",
       "max_width": "250px",
       "min_height": "250px",
       "min_width": "250px"
      }
     },
     "fcd3750613454c7cadcb3da2526f20b1": {
      "model_module": "@jupyter-widgets/controls",
      "model_module_version": "1.5.0",
      "model_name": "HTMLModel",
      "state": {
       "layout": "IPY_MODEL_d1c68f5859a04bc5aae487d9feae062b",
       "style": "IPY_MODEL_1b9bce50c99049a2a7d261cf853e840c",
       "value": "<h4>ibmq_quito</h4>"
      }
     },
     "feba8aa2c38748f1afaf23ae741f1746": {
      "model_module": "@jupyter-widgets/base",
      "model_module_version": "1.2.0",
      "model_name": "LayoutModel",
      "state": {
       "grid_gap": "0px 25px",
       "grid_template_columns": "250px 250px 250px 250px 250px 250px ",
       "grid_template_rows": "auto"
      }
     },
     "fec42508d59e4640816f017cb3e6bfa7": {
      "model_module": "@jupyter-widgets/controls",
      "model_module_version": "1.5.0",
      "model_name": "DescriptionStyleModel",
      "state": {
       "description_width": ""
      }
     },
     "fef1af4524da4f00972f1b13c5fbd668": {
      "model_module": "@jupyter-widgets/base",
      "model_module_version": "1.2.0",
      "model_name": "LayoutModel",
      "state": {
       "grid_area": "top"
      }
     },
     "fef65c63e6044d5c8dac42af259a6fc3": {
      "model_module": "@jupyter-widgets/base",
      "model_module_version": "1.2.0",
      "model_name": "LayoutModel",
      "state": {}
     },
     "fef7699138564fb586240735ec563a3e": {
      "model_module": "@jupyter-widgets/base",
      "model_module_version": "1.2.0",
      "model_name": "LayoutModel",
      "state": {
       "justify_content": "center"
      }
     },
     "ff709260582b4fdcb08d0c4d31ab6df6": {
      "model_module": "@jupyter-widgets/base",
      "model_module_version": "1.2.0",
      "model_name": "LayoutModel",
      "state": {
       "min_width": "auto"
      }
     },
     "ff8e7ae3a6dc4cf7986952f45a6bf236": {
      "model_module": "@jupyter-widgets/controls",
      "model_module_version": "1.5.0",
      "model_name": "HTMLModel",
      "state": {
       "layout": "IPY_MODEL_73d14afc12e44d3aa75b3a1efed0be73",
       "style": "IPY_MODEL_6c4b4469078c47cf959621060696a5db",
       "value": "<h5 style='color:#dc267f'>False</h5>"
      }
     }
    },
    "version_major": 2,
    "version_minor": 0
   }
  }
 },
 "nbformat": 4,
 "nbformat_minor": 5
}
