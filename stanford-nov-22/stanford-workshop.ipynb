{
 "cells": [
  {
   "cell_type": "markdown",
   "id": "98a2329b-0119-45f6-912e-b165d8f84307",
   "metadata": {},
   "source": [
    "# IBM Qiskit Workshop"
   ]
  },
  {
   "cell_type": "markdown",
   "id": "1e598d8a-ea91-49aa-896c-fd3dd3a8de66",
   "metadata": {},
   "source": [
    "# How to Use this Notebook in your IBM Quantum Lab Account\n",
    "\n",
    "1. go to (ADD IBM BIZ LINK)\n",
    "2. click 'raw' button in GitHub, this will open the notebook file in a new tab\n",
    "![](raw_button.png)\n",
    "\n",
    "3. Right click on the raw file and save the file in jupyter notebook format (`.ipynb`)\n",
    "![](save.png)\n",
    "\n",
    "4. In IBM Quantum Lab, select upload button on in top left and upload the notebook file\n",
    "![](upload_button.png)\n",
    "\n",
    "5. If you didn't save it in `.ipynb` format you can rename the file in the jupyter lab\n",
    "![](rename_button.png)\n",
    "\n",
    "6. Now you can open the notebook in your IBM Quantum Lab environment! (note: if you want the images to display in your lab version you will need to download them from the github folder where the notebook is and upload it into your lab folder as well)\n",
    "\n",
    "![](open_notebook.png)"
   ]
  },
  {
   "cell_type": "markdown",
   "id": "c78a6767-ec6f-4ee8-a863-95ce9d1814bb",
   "metadata": {},
   "source": [
    "Goal: Show you the toolbox! Breadth not depth, raise your hand if you have questions!\n",
    "\n",
    "Contents:\n",
    "- Welcome & About Me!\n",
    "- Let's Explore IBM Quantum Labs, composer, services etc.\n",
    "- What is Qiskit?\n",
    "    - The Main Qiskit Packages\n",
    "    - The Broader Qiskit Ecosystem (incl. support for open-source community projects)\n",
    "- Overview of the Main Qiskit Packages\n",
    "- Overview of Qiskit Terra Module\n",
    "- Using Simulators & Real Hardware (e.g. Stanford Premium Systems)\n",
    "- What Next?"
   ]
  },
  {
   "cell_type": "markdown",
   "id": "b3c07b56-00ba-4138-afea-bad531bd8aac",
   "metadata": {},
   "source": [
    "## About Me\n",
    "\n",
    "Abby Mitchell - Quantum Developer Advocate, IBM\n",
    "\n",
    "**Personal website:** https://abbymitchell.dev\n",
    "\n",
    "**GitHub:** https://github.com/javabster\n",
    "\n",
    "**Linkedin:** https://www.linkedin.com/in/abby-mitchell/\n",
    "\n",
    "**Twitter:** https://twitter.com/javabster"
   ]
  },
  {
   "cell_type": "markdown",
   "id": "1fa47fc7-ec1b-4523-be04-2dbe86290d83",
   "metadata": {},
   "source": [
    "## Let's Explore! \n",
    "\n",
    "https://quantum-computing.ibm.com/\n",
    "\n",
    "- All IBM Quantum Hardware Systems: https://quantum-computing.ibm.com/services/resources?tab=systems\n",
    "  - up tp 7Q on open systems\n",
    "- IBM Quantum Composer (good for beginners!): https://quantum-computing.ibm.com/composer\n",
    "- IBM Quantum Lab: https://lab.quantum-computing.ibm.com/"
   ]
  },
  {
   "cell_type": "markdown",
   "id": "8dec7460-700b-4983-94a5-89f2063ba819",
   "metadata": {},
   "source": [
    "# Qiskit Main Packages\n",
    "\n",
    "![](qiskit_overview.png)\n",
    "\n",
    "What we'll focus on: mostly Terra\n",
    "If we have time: other packages"
   ]
  },
  {
   "cell_type": "markdown",
   "id": "672605fd-6ab1-4b6c-8d50-9a4645abd874",
   "metadata": {},
   "source": [
    "# Beyond the Main Packages - The Qiskit Ecosystem\n",
    "\n",
    "https://qiskit.org/ecosystem\n",
    "\n",
    "3 Tiers:\n",
    "- Main\n",
    "- Extensions\n",
    "- Community\n",
    "\n",
    "-> You can submit your open-source project to the Ecosystem!"
   ]
  },
  {
   "cell_type": "markdown",
   "id": "8355b71b-4a1e-4a30-925f-b32ab41c772e",
   "metadata": {},
   "source": [
    "# Time for some code! (finally!)"
   ]
  },
  {
   "cell_type": "code",
   "execution_count": 1,
   "id": "70aabd73-b1fe-401d-9f4a-cee58a76fc78",
   "metadata": {},
   "outputs": [
    {
     "name": "stderr",
     "output_type": "stream",
     "text": [
      "<frozen importlib._bootstrap>:219: RuntimeWarning: scipy._lib.messagestream.MessageStream size changed, may indicate binary incompatibility. Expected 56 from C header, got 64 from PyObject\n"
     ]
    }
   ],
   "source": [
    "import numpy as np\n",
    "\n",
    "# Importing standard Qiskit libraries\n",
    "from qiskit import QuantumCircuit, transpile, Aer, IBMQ\n",
    "from qiskit.tools.jupyter import *\n",
    "from qiskit.visualization import *\n",
    "from ibm_quantum_widgets import *\n",
    "from qiskit.providers.aer import QasmSimulator\n",
    "\n",
    "# Loading your IBM Quantum account(s)\n",
    "provider = IBMQ.load_account()"
   ]
  },
  {
   "cell_type": "markdown",
   "id": "871ab60b-bf46-4f56-8d3e-86ece4d4c5bf",
   "metadata": {
    "tags": []
   },
   "source": [
    "# Core Capabilities - Qiskit (Terra)\n",
    "\n",
    "### (some) Submodules\n",
    "\n",
    "Representing Quantum States:\n",
    "- [Quantum Circuits](https://qiskit.org/documentation/apidoc/circuit.html) (qiskit.circuit)\n",
    "- [Quantum Information](https://qiskit.org/documentation/apidoc/quantum_info.html) (qiskit.quantum_info)\n",
    "- [Operators](https://qiskit.org/documentation/apidoc/opflow.html) (qiskit.opflow)\n",
    "\n",
    "\n",
    "Running on devices and getting results:\n",
    "- (A short side quest into Simulators and Hardware)\n",
    "- [Transpiler](https://qiskit.org/documentation/apidoc/transpiler.html) (qiskit.transpiler)\n",
    "- [Visualization](https://qiskit.org/documentation/apidoc/visualization.html) (qiskit.visualization)\n",
    "\n",
    "\n",
    "Close to hardware:\n",
    "- [Pulse](https://qiskit.org/documentation/apidoc/pulse.html) (qiskit.pulse)\n",
    "\n",
    "\n",
    "Far away from hardware:\n",
    "- [Algorithms](https://qiskit.org/documentation/apidoc/algorithms.html) (qiskit.algorithms)\n",
    "\n",
    "\n",
    "NEW! Runtime Primitives\n",
    "- [Primitives](https://qiskit.org/documentation/apidoc/primitives.html) (qiskit.primitives)\n",
    "\n",
    "\n",
    "Other modules: https://qiskit.org/documentation/apidoc/terra.html"
   ]
  },
  {
   "cell_type": "markdown",
   "id": "c9f59548-67a5-4eb0-b535-33ac9f808321",
   "metadata": {},
   "source": [
    "## Quantum Circuit\n",
    "\n",
    "Gates are matrices, applying gates is matrix multiplaction\n",
    "\n",
    "Simplest example - the Bell State"
   ]
  },
  {
   "cell_type": "code",
   "execution_count": 6,
   "id": "21a30a96-c13b-4e14-b668-2c222c8d6dcd",
   "metadata": {},
   "outputs": [
    {
     "name": "stdout",
     "output_type": "stream",
     "text": [
      "        ┌───┐      ░ ┌─┐   \n",
      "   q_0: ┤ H ├──■───░─┤M├───\n",
      "        └───┘┌─┴─┐ ░ └╥┘┌─┐\n",
      "   q_1: ─────┤ X ├─░──╫─┤M├\n",
      "             └───┘ ░  ║ └╥┘\n",
      "meas_0: ══════════════╩══╬═\n",
      "                         ║ \n",
      "meas_1: ═════════════════╩═\n",
      "                           \n"
     ]
    }
   ],
   "source": [
    "from qiskit import QuantumCircuit\n",
    "\n",
    "# Initialize quantum circuit\n",
    "bell = QuantumCircuit(2)\n",
    "\n",
    "# Apply gates\n",
    "bell.h(0)\n",
    "bell.cx(0,1)\n",
    "\n",
    "# Measure qubits\n",
    "bell.measure_all()\n",
    "\n",
    "# Visualise circuit\n",
    "print(bell)"
   ]
  },
  {
   "cell_type": "code",
   "execution_count": 21,
   "id": "f624496b-a0ab-430d-afc0-bcf3ba31183a",
   "metadata": {},
   "outputs": [
    {
     "name": "stdout",
     "output_type": "stream",
     "text": [
      "   ┌────────────────┐\n",
      "q: ┤ U(π/2,π/2,π/2) ├\n",
      "   └────────────────┘\n"
     ]
    }
   ],
   "source": [
    "# custom rotations\n",
    "\n",
    "circuit = QuantumCircuit(1)\n",
    "circuit.u(np.pi/2,np.pi/2,np.pi/2,0)\n",
    "\n",
    "print(circuit)"
   ]
  },
  {
   "cell_type": "code",
   "execution_count": 19,
   "id": "ece19cd3-d042-4932-8e6a-a1c531b530fd",
   "metadata": {},
   "outputs": [
    {
     "name": "stdout",
     "output_type": "stream",
     "text": [
      "     ┌──────────┐\n",
      "q_0: ┤0         ├\n",
      "     │  Unitary │\n",
      "q_1: ┤1         ├\n",
      "     └──────────┘\n"
     ]
    }
   ],
   "source": [
    "# matrix -> unitary gate\n",
    "\n",
    "matrix = [[0, 0, 0, 1],\n",
    "          [0, 0, 1, 0],\n",
    "          [1, 0, 0, 0],\n",
    "          [0, 1, 0, 0]]\n",
    "          \n",
    "circuit = QuantumCircuit(2)\n",
    "circuit.unitary(matrix, [0, 1])\n",
    "\n",
    "print(circuit)"
   ]
  },
  {
   "cell_type": "code",
   "execution_count": 18,
   "id": "7c079230-7baf-4608-b07a-16495ba15e29",
   "metadata": {},
   "outputs": [
    {
     "name": "stdout",
     "output_type": "stream",
     "text": [
      "global phase: 1.5695\n",
      "     ┌───────────────────┐     ┌───────────────────┐\n",
      "q_0: ┤ U3(π/2,0.18021,0) ├──■──┤ U3(π/2,-π,2.9614) ├\n",
      "     ├───────────────────┤┌─┴─┐├───────────────────┤\n",
      "q_1: ┤ U3(π/2,0,-1.5695) ├┤ X ├┤ U3(π/2,-1.5695,0) ├\n",
      "     └───────────────────┘└───┘└───────────────────┘\n"
     ]
    }
   ],
   "source": [
    "print(circuit.decompose())"
   ]
  },
  {
   "cell_type": "code",
   "execution_count": 17,
   "id": "c83c77ed-d9c8-431b-9327-0e979f17fef7",
   "metadata": {},
   "outputs": [
    {
     "name": "stdout",
     "output_type": "stream",
     "text": [
      "     ┌───────────────────────┐\n",
      "q_0: ┤0                      ├\n",
      "     │  State Preparation(2) │\n",
      "q_1: ┤1                      ├\n",
      "     └───────────────────────┘\n"
     ]
    }
   ],
   "source": [
    "qc = QuantumCircuit(2)\n",
    "\n",
    "# State Preparation\n",
    "# qc2.prepare_state('01')\n",
    "# qc2.prepare_state([0,1, 0, 0])\n",
    "qc.prepare_state(2)\n",
    "\n",
    "print(qc)"
   ]
  },
  {
   "cell_type": "code",
   "execution_count": 20,
   "id": "188beefe-4f19-451b-99b7-480a2308a794",
   "metadata": {},
   "outputs": [
    {
     "name": "stdout",
     "output_type": "stream",
     "text": [
      "          \n",
      "q_0: ─────\n",
      "     ┌───┐\n",
      "q_1: ┤ X ├\n",
      "     └───┘\n"
     ]
    }
   ],
   "source": [
    "print(qc.decompose())"
   ]
  },
  {
   "cell_type": "markdown",
   "id": "e207c1fc-8ecf-47a9-8a4a-337c673e08ce",
   "metadata": {},
   "source": [
    "**Parametric Circuits** - Great for Variational Algorithms"
   ]
  },
  {
   "cell_type": "code",
   "execution_count": 16,
   "id": "29215f1c-38c7-43c9-a7c0-fa71da9b9328",
   "metadata": {},
   "outputs": [
    {
     "name": "stdout",
     "output_type": "stream",
     "text": [
      "   ┌───────────┐\n",
      "q: ┤ Rx(theta) ├\n",
      "   └───────────┘\n"
     ]
    }
   ],
   "source": [
    "from qiskit.circuit import Parameter\n",
    "\n",
    "# Define a variable theta to be a parameter with name 'theta'\n",
    "theta = Parameter('theta')\n",
    "\n",
    "# Initialize a quantum circuit with one qubit\n",
    "quantum_circuit = QuantumCircuit(1)\n",
    "\n",
    "# Add a parametrized RX rotation on the qubit\n",
    "quantum_circuit.rx(theta, 0)\n",
    "\n",
    "print(quantum_circuit)"
   ]
  },
  {
   "cell_type": "code",
   "execution_count": 24,
   "id": "1ed2a6df-a257-42e7-830d-e9c7608128ae",
   "metadata": {},
   "outputs": [
    {
     "name": "stdout",
     "output_type": "stream",
     "text": [
      "   ┌───────────┐\n",
      "q: ┤ Rx(theta) ├\n",
      "   └───────────┘\n"
     ]
    }
   ],
   "source": [
    "# Set the value of the parameter\n",
    "theta_value = np.pi\n",
    "\n",
    "# Bind the value to the parametrized circuit\n",
    "qc = quantum_circuit.bind_parameters({theta: theta_value})\n",
    "\n",
    "print(quantum_circuit)"
   ]
  },
  {
   "cell_type": "markdown",
   "id": "575f5d20-3d67-4a49-919b-a81edf3ea2b0",
   "metadata": {},
   "source": [
    "**Control Flow Operations - new syntax for Qiskit Terra 0.23!**"
   ]
  },
  {
   "cell_type": "code",
   "execution_count": 7,
   "id": "f6190529-d641-4e56-8f40-d27a770f7084",
   "metadata": {},
   "outputs": [
    {
     "data": {
      "image/png": "[encoded data removed]",
      "text/plain": [
       "<Figure size 253.926x144.48 with 1 Axes>"
      ]
     },
     "execution_count": 7,
     "metadata": {},
     "output_type": "execute_result"
    }
   ],
   "source": [
    "# old way\n",
    "\n",
    "qc = QuantumCircuit(1, 1)\n",
    "qc.h(0)\n",
    "qc.measure(0, 0)\n",
    "qc.x(0).c_if(0, False)\n",
    "qc.draw()"
   ]
  },
  {
   "cell_type": "code",
   "execution_count": 6,
   "id": "4001beae-81fb-4b4d-9cd9-af3fa19a7329",
   "metadata": {},
   "outputs": [
    {
     "data": {
      "image/png": "[encoded data removed]",
      "text/plain": [
       "<Figure size 385.721x204.68 with 1 Axes>"
      ]
     },
     "execution_count": 6,
     "metadata": {},
     "output_type": "execute_result"
    }
   ],
   "source": [
    "qc = QuantumCircuit(1, 2)\n",
    "qc.h(0)  # This is just a stand-in for more complex real-world setup.\n",
    "qc.measure(0, 0)\n",
    "\n",
    "# Unlike c_if, we can have more than one instruction in the block, and it only\n",
    "# requires a single evaluation of the condition.  That's especially important if\n",
    "# the bit is written to part way through the block.\n",
    "with qc.if_test((0, True)): # if q0 == 1, reset and flip it\n",
    "    qc.reset(0)\n",
    "    qc.x(0)\n",
    "qc.measure(0, 1)\n",
    "\n",
    "qc.draw()\n",
    "# backend.run(qc).result().get_counts()  # {'00': 0.5, '11': 0.5}"
   ]
  },
  {
   "cell_type": "code",
   "execution_count": 2,
   "id": "f381f5e0-3513-4c56-a317-863afd830948",
   "metadata": {},
   "outputs": [
    {
     "name": "stderr",
     "output_type": "stream",
     "text": [
      "/opt/conda/lib/python3.8/site-packages/qiskit/visualization/circuit/matplotlib.py:321: RuntimeWarning: Cregbundle set to False since an instruction needs to refer to individual classical wire\n",
      "  self._get_layer_widths()\n"
     ]
    },
    {
     "data": {
      "image/png": "[encoded data removed]",
      "text/plain": [
       "<Figure size 385.721x204.68 with 1 Axes>"
      ]
     },
     "execution_count": 2,
     "metadata": {},
     "output_type": "execute_result"
    }
   ],
   "source": [
    "# Repeat instructions until success with while loop\n",
    "# Previously this wasn't representable in Qiskit at all, because we didn't have\n",
    "# any concept of a run-time loop.\n",
    "\n",
    "qc = QuantumCircuit(1, 2)\n",
    "qc.h(0)\n",
    "qc.measure(0, 0)\n",
    "with qc.while_loop((0, False)): # as long as q0 == 0, reset, add h and measure again until q0 == 1\n",
    "    qc.reset(0)\n",
    "    qc.h(0)\n",
    "    qc.measure(0, 0)\n",
    "qc.measure(0, 1)\n",
    "\n",
    "qc.draw()\n",
    "# backend.run(qc).result().get_counts()  # {'11': 1}"
   ]
  },
  {
   "cell_type": "markdown",
   "id": "75f26435-ce14-4b1f-ad29-0fb34f690740",
   "metadata": {},
   "source": [
    "## Quantum Info"
   ]
  },
  {
   "cell_type": "code",
   "execution_count": 17,
   "id": "74677d91-211f-44c7-8de8-2e7ac70ab748",
   "metadata": {},
   "outputs": [],
   "source": [
    "from qiskit.quantum_info.operators import Operator, Pauli\n",
    "from qiskit.quantum_info import process_fidelity"
   ]
  },
  {
   "cell_type": "code",
   "execution_count": 18,
   "id": "ecb0d102-5ec8-44da-8f91-4eaec468e67f",
   "metadata": {},
   "outputs": [
    {
     "data": {
      "text/plain": [
       "Operator([[0.+0.j, 0.+0.j, 0.+0.j, 1.+0.j],\n",
       "          [0.+0.j, 0.+0.j, 1.+0.j, 0.+0.j],\n",
       "          [0.+0.j, 1.+0.j, 0.+0.j, 0.+0.j],\n",
       "          [1.+0.j, 0.+0.j, 0.+0.j, 0.+0.j]],\n",
       "         input_dims=(2, 2), output_dims=(2, 2))"
      ]
     },
     "execution_count": 18,
     "metadata": {},
     "output_type": "execute_result"
    }
   ],
   "source": [
    "XX = Operator([[0, 0, 0, 1], [0, 0, 1, 0], [0, 1, 0, 0], [1, 0, 0, 0]])\n",
    "XX"
   ]
  },
  {
   "cell_type": "markdown",
   "id": "19c17992-234c-4b8d-a768-acefa653d43b",
   "metadata": {},
   "source": [
    "Other Qiskit classes can be converted to `Operator`s\n",
    "\n",
    "- `Pauli` objects (also from quantum info module)\n",
    "\n",
    "- `Gate` and `Instruction` objects\n",
    "\n",
    "- `QuantumCircuit` objects"
   ]
  },
  {
   "cell_type": "code",
   "execution_count": 19,
   "id": "6b0bc70c-2a89-4a19-8487-84d05e7af972",
   "metadata": {},
   "outputs": [
    {
     "data": {
      "text/plain": [
       "Operator([[0.+0.j, 0.+0.j, 0.+0.j, 1.+0.j],\n",
       "          [0.+0.j, 0.+0.j, 1.+0.j, 0.+0.j],\n",
       "          [0.+0.j, 1.+0.j, 0.+0.j, 0.+0.j],\n",
       "          [1.+0.j, 0.+0.j, 0.+0.j, 0.+0.j]],\n",
       "         input_dims=(2, 2), output_dims=(2, 2))"
      ]
     },
     "execution_count": 19,
     "metadata": {},
     "output_type": "execute_result"
    }
   ],
   "source": [
    "# Create an Operator from a Pauli object\n",
    "\n",
    "pauliXX = Pauli('XX')\n",
    "Operator(pauliXX)"
   ]
  },
  {
   "cell_type": "code",
   "execution_count": 22,
   "id": "bbaf800b-9eca-469d-b72f-873bd16adf77",
   "metadata": {},
   "outputs": [
    {
     "data": {
      "text/plain": [
       "Operator([[1.+0.j, 0.+0.j, 0.+0.j, 0.+0.j],\n",
       "          [0.+0.j, 0.+0.j, 0.+0.j, 1.+0.j],\n",
       "          [0.+0.j, 0.+0.j, 1.+0.j, 0.+0.j],\n",
       "          [0.+0.j, 1.+0.j, 0.+0.j, 0.+0.j]],\n",
       "         input_dims=(2, 2), output_dims=(2, 2))"
      ]
     },
     "execution_count": 22,
     "metadata": {},
     "output_type": "execute_result"
    }
   ],
   "source": [
    "from qiskit.extensions import CXGate\n",
    "\n",
    "# Create an Operator for a Gate object\n",
    "Operator(CXGate())"
   ]
  },
  {
   "cell_type": "code",
   "execution_count": 21,
   "id": "13aa52b5-7dce-4951-8fd1-d87c7869f79b",
   "metadata": {},
   "outputs": [
    {
     "data": {
      "text/plain": [
       "Operator([[ 0.70710678+0.j,  0.70710678+0.j,  0.        +0.j, ...,\n",
       "            0.        +0.j,  0.        +0.j,  0.        +0.j],\n",
       "          [ 0.        +0.j,  0.        +0.j,  0.70710678+0.j, ...,\n",
       "            0.        +0.j,  0.        +0.j,  0.        +0.j],\n",
       "          [ 0.        +0.j,  0.        +0.j,  0.        +0.j, ...,\n",
       "            0.        +0.j,  0.        +0.j,  0.        +0.j],\n",
       "          ...,\n",
       "          [ 0.        +0.j,  0.        +0.j,  0.        +0.j, ...,\n",
       "            0.        +0.j,  0.        +0.j,  0.        +0.j],\n",
       "          [ 0.        +0.j,  0.        +0.j,  0.70710678+0.j, ...,\n",
       "            0.        +0.j,  0.        +0.j,  0.        +0.j],\n",
       "          [ 0.70710678+0.j, -0.70710678+0.j,  0.        +0.j, ...,\n",
       "            0.        +0.j,  0.        +0.j,  0.        +0.j]],\n",
       "         input_dims=(2, 2, 2, 2, 2, 2, 2, 2, 2, 2), output_dims=(2, 2, 2, 2, 2, 2, 2, 2, 2, 2))"
      ]
     },
     "execution_count": 21,
     "metadata": {},
     "output_type": "execute_result"
    }
   ],
   "source": [
    "# Create an operator from a QuantumCircuit object\n",
    "circ = QuantumCircuit(10)\n",
    "circ.h(0)\n",
    "for j in range(1, 10):\n",
    "    circ.cx(j-1, j)\n",
    "\n",
    "# Convert circuit to an operator by implicit unitary simulation\n",
    "Operator(circ)"
   ]
  },
  {
   "cell_type": "code",
   "execution_count": 29,
   "id": "9000a6b1-08f9-4e56-936c-0dabbf9350ea",
   "metadata": {},
   "outputs": [
    {
     "data": {
      "text/plain": [
       "Operator([[0.-1.j, 0.+0.j],\n",
       "          [0.+0.j, 0.+1.j]],\n",
       "         input_dims=(2,), output_dims=(2,))"
      ]
     },
     "execution_count": 29,
     "metadata": {},
     "output_type": "execute_result"
    }
   ],
   "source": [
    "# Create operators\n",
    "X = Operator(Pauli('X'))\n",
    "Y = Operator(Pauli('Y'))\n",
    "\n",
    "# X.tensor(Y) # X tensor Y\n",
    "# X.compose(Y) # YX"
   ]
  },
  {
   "cell_type": "code",
   "execution_count": 25,
   "id": "30972ef3-b94b-4cae-a0df-116cde4484c7",
   "metadata": {},
   "outputs": [
    {
     "name": "stdout",
     "output_type": "stream",
     "text": [
      "     ┌──────────┐┌─┐   \n",
      "q_0: ┤0         ├┤M├───\n",
      "     │  Unitary │└╥┘┌─┐\n",
      "q_1: ┤1         ├─╫─┤M├\n",
      "     └──────────┘ ║ └╥┘\n",
      "c: 2/═════════════╩══╩═\n",
      "                  0  1 \n"
     ]
    }
   ],
   "source": [
    "# Create an operator\n",
    "XX = Operator(Pauli('XX'))\n",
    "\n",
    "# Add to a circuit\n",
    "circ = QuantumCircuit(2, 2)\n",
    "circ.append(XX, [0, 1])\n",
    "circ.measure([0,1], [0,1])\n",
    "print(circ)"
   ]
  },
  {
   "cell_type": "code",
   "execution_count": 26,
   "id": "e690a0cb-356b-4f8c-a009-3d23286e964d",
   "metadata": {},
   "outputs": [
    {
     "name": "stdout",
     "output_type": "stream",
     "text": [
      "     ┌────────────┐┌─┐   \n",
      "q_0: ┤0           ├┤M├───\n",
      "     │  Pauli(XX) │└╥┘┌─┐\n",
      "q_1: ┤1           ├─╫─┤M├\n",
      "     └────────────┘ ║ └╥┘\n",
      "c: 2/═══════════════╩══╩═\n",
      "                    0  1 \n"
     ]
    }
   ],
   "source": [
    "# Add to Pauli operator to circuit\n",
    "circ2 = QuantumCircuit(2, 2)\n",
    "circ2.append(Pauli('XX'), [0, 1])\n",
    "circ2.measure([0,1], [0,1])\n",
    "print(circ2)"
   ]
  },
  {
   "cell_type": "code",
   "execution_count": null,
   "id": "171118ee-9a80-4b3b-976c-4848be0c79fb",
   "metadata": {},
   "outputs": [],
   "source": []
  },
  {
   "cell_type": "markdown",
   "id": "52d422d9-912a-45bd-baaa-2c5fae7fdb7b",
   "metadata": {},
   "source": [
    "## Opflow\n",
    "\n",
    "\"The Operator Flow is meant to serve as a lingua franca between the theory and implementation of Quantum Algorithms & Applications. Meaning, the ultimate goal is that when theorists speak their theory in the Operator Flow, they are speaking valid implementation, and when the engineers speak their implementation in the Operator Flow, they are speaking valid physical formalism. To be successful, it must be fast and physically formal enough for theorists to find it easier and more natural than hacking Matlab or NumPy, and the engineers must find it straightforward enough that they can learn it as a typical software library, and learn the physics naturally and effortlessly as they learn the code.\""
   ]
  },
  {
   "cell_type": "code",
   "execution_count": 30,
   "id": "b64ee158-5440-489c-a3ce-99b0c4761b86",
   "metadata": {},
   "outputs": [
    {
     "name": "stdout",
     "output_type": "stream",
     "text": [
      "   ┌───┐\n",
      "q: ┤ X ├\n",
      "   └───┘\n",
      "   ┌───┐\n",
      "q: ┤ Y ├\n",
      "   └───┘\n",
      "   ┌───┐\n",
      "q: ┤ Z ├\n",
      "   └───┘\n",
      "   \n",
      "q: \n",
      "   \n"
     ]
    }
   ],
   "source": [
    "from qiskit.opflow import I, X, Y, Z, Zero, One\n",
    "\n",
    "print(X.to_circuit())\n",
    "print(Y.to_circuit())\n",
    "print(Z.to_circuit())\n",
    "print(I.to_circuit())"
   ]
  },
  {
   "cell_type": "markdown",
   "id": "0d3e0a67-c8ef-46e2-8155-2afb400d8000",
   "metadata": {},
   "source": [
    "Algebraic operations\n",
    "\n",
    "`+` - addition\n",
    "\n",
    "`-` - subtraction, negation (scalar multiplication by -1)\n",
    "\n",
    "`*` - scalar multiplication\n",
    "\n",
    "`/` - scalar division\n",
    "\n",
    "`@` - composition (equivalent to calling `.compose()`)\n",
    "\n",
    "`^` - tensor product or tensor power (tensor with self n times)\n",
    "\n",
    "`**` - composition power (compose with self n times)\n",
    "\n",
    "`==` - equality\n",
    "\n",
    "`~` - adjoint, alternating between a State Function and Measurement"
   ]
  },
  {
   "cell_type": "markdown",
   "id": "41a6e2e4-b342-4783-bc07-29c959a0a5ac",
   "metadata": {},
   "source": [
    "How do we write this with OpFlow on 3 qubits?\n",
    "\n",
    "$$\\hat{H} = \\sum_{i=0}^{1} \\hat{\\sigma}_x^{(i)} \\hat{\\sigma}_x^{(i+1)}  + \\sum_{i=0}^{1} \\hat{\\sigma}_y^{(i)} \\hat{\\sigma}_y^{(i+1)} $$\n",
    "\n",
    "Note: The superscripts associated with the operators in the Hamiltonian (for example (i) in σₓ⁽ⁱ⁾) correspond to the qubit to which the operator is being applied to. So for i = 0, this term: σₓ⁽⁰⁾σₓ⁽⁰⁺¹⁾ indicates there is an X applied to qubit 0, and an X applied to qubit 1, no operator (or an identity) applied to qubit 2. The opflow notation for this term then is I^X^X"
   ]
  },
  {
   "cell_type": "code",
   "execution_count": 44,
   "id": "f8ddb2c0-b341-40c8-b9d3-5ae8ae44abde",
   "metadata": {},
   "outputs": [],
   "source": [
    "H = (I^X^X) + (X^X^I) + (I^Y^Y) + (Y^Y^I)"
   ]
  },
  {
   "cell_type": "markdown",
   "id": "aa3d409b-7b91-4220-be27-ecde7c0d5997",
   "metadata": {},
   "source": [
    "What's the difference between Quantum Info and OpfLow?\n",
    "\n",
    "- Quantum for representing matrix operations on quantum systems\n",
    "- Opflow for more advanced algebra"
   ]
  },
  {
   "cell_type": "markdown",
   "id": "665f55ac-8e04-423a-ac55-218791c02f75",
   "metadata": {},
   "source": [
    "# Hold on - how do we actually get results?\n",
    "\n",
    "### It's time for a quick side quest into Similators"
   ]
  },
  {
   "cell_type": "markdown",
   "id": "d622ea63-1f89-4b6d-a471-896f9b8b971c",
   "metadata": {},
   "source": [
    "## Simulator - Qiskit Aer "
   ]
  },
  {
   "cell_type": "code",
   "execution_count": 12,
   "id": "66bfb6a4-552b-4230-9880-80066a71e0c8",
   "metadata": {},
   "outputs": [
    {
     "data": {
      "text/plain": [
       "[AerSimulator('aer_simulator'),\n",
       " AerSimulator('aer_simulator_statevector'),\n",
       " AerSimulator('aer_simulator_density_matrix'),\n",
       " AerSimulator('aer_simulator_stabilizer'),\n",
       " AerSimulator('aer_simulator_matrix_product_state'),\n",
       " AerSimulator('aer_simulator_extended_stabilizer'),\n",
       " AerSimulator('aer_simulator_unitary'),\n",
       " AerSimulator('aer_simulator_superop'),\n",
       " QasmSimulator('qasm_simulator'),\n",
       " StatevectorSimulator('statevector_simulator'),\n",
       " UnitarySimulator('unitary_simulator'),\n",
       " PulseSimulator('pulse_simulator')]"
      ]
     },
     "execution_count": 12,
     "metadata": {},
     "output_type": "execute_result"
    }
   ],
   "source": [
    "from qiskit import Aer\n",
    "\n",
    "Aer.backends()"
   ]
  },
  {
   "cell_type": "markdown",
   "id": "a698a7a0-31f7-40f3-9331-8de4d3487dda",
   "metadata": {},
   "source": [
    "Let's simulate some results from our bell state"
   ]
  },
  {
   "cell_type": "code",
   "execution_count": 4,
   "id": "95e8e746-d9db-4e86-971b-d36e87da008f",
   "metadata": {},
   "outputs": [
    {
     "name": "stdout",
     "output_type": "stream",
     "text": [
      "        ┌───┐      ░ ┌─┐   \n",
      "   q_0: ┤ H ├──■───░─┤M├───\n",
      "        └───┘┌─┴─┐ ░ └╥┘┌─┐\n",
      "   q_1: ─────┤ X ├─░──╫─┤M├\n",
      "             └───┘ ░  ║ └╥┘\n",
      "meas: 2/══════════════╩══╩═\n",
      "                      0  1 \n"
     ]
    }
   ],
   "source": [
    "print(bell)"
   ]
  },
  {
   "cell_type": "code",
   "execution_count": 57,
   "id": "9ae2a58a-6eab-4bbb-8e14-dcc7388c2312",
   "metadata": {},
   "outputs": [
    {
     "name": "stdout",
     "output_type": "stream",
     "text": [
      "{'11': 528, '00': 496}\n"
     ]
    }
   ],
   "source": [
    "from qiskit import transpile\n",
    "\n",
    "# choose simulator backend\n",
    "simulator = Aer.get_backend('aer_simulator')\n",
    "\n",
    "# Transpile for simulator\n",
    "bell_circ = transpile(bell, simulator)\n",
    "\n",
    "# Run and get counts\n",
    "result = simulator.run(bell_circ).result()\n",
    "counts = result.get_counts(bell_circ)\n",
    "print(counts)"
   ]
  },
  {
   "cell_type": "code",
   "execution_count": 6,
   "id": "1e0cb394-8858-4887-af26-7b655f46edcd",
   "metadata": {},
   "outputs": [
    {
     "name": "stdout",
     "output_type": "stream",
     "text": [
      "['00', '00', '00', '11', '11', '11', '11', '00', '11', '00']\n"
     ]
    }
   ],
   "source": [
    "# get results for each shot\n",
    "\n",
    "result = simulator.run(bell_circ, shots=10, memory=True).result()\n",
    "memory = result.get_memory(bell_circ)\n",
    "print(memory)"
   ]
  },
  {
   "cell_type": "markdown",
   "id": "618cc52f-0dd4-4112-8758-98c509594f18",
   "metadata": {},
   "source": [
    "Simulate with Noise"
   ]
  },
  {
   "cell_type": "code",
   "execution_count": 14,
   "id": "66986cdd-5dc3-491e-af63-8752ff3023a7",
   "metadata": {},
   "outputs": [
    {
     "name": "stdout",
     "output_type": "stream",
     "text": [
      "{'00': 499, '11': 525}\n",
      "{'01': 48, '11': 433, '10': 46, '00': 497}\n"
     ]
    }
   ],
   "source": [
    "from qiskit.providers.fake_provider import FakeBelem\n",
    "from qiskit.providers.aer import AerSimulator\n",
    "\n",
    "# initialise simulator based on fake backend\n",
    "device_backend = FakeBelem()\n",
    "sim_bel = AerSimulator.from_backend(device_backend)\n",
    "\n",
    "# Transpile the circuit for the noisy basis gates\n",
    "tcirc = transpile(bell, sim_bel)\n",
    "\n",
    "# Execute noisy simulation and get counts\n",
    "result_noise = sim_bel.run(tcirc).result()\n",
    "counts_noise = result_noise.get_counts(0)\n",
    "\n",
    "print(counts)\n",
    "print(counts_noise)\n"
   ]
  },
  {
   "cell_type": "code",
   "execution_count": 74,
   "id": "f4404ac4-db7b-4af0-98a6-52be303fb8a8",
   "metadata": {},
   "outputs": [
    {
     "data": {
      "text/latex": [
       "$$\n",
       "\n",
       "\\begin{bmatrix}\n",
       "\\tfrac{1}{\\sqrt{2}} & 0 & 0 & \\tfrac{1}{\\sqrt{2}}  \\\\\n",
       " \\end{bmatrix}\n",
       "$$"
      ],
      "text/plain": [
       "<IPython.core.display.Latex object>"
      ]
     },
     "execution_count": 74,
     "metadata": {},
     "output_type": "execute_result"
    }
   ],
   "source": [
    "# get statevector info\n",
    "# (must construct quantum circuit without measure)\n",
    "\n",
    "circ = QuantumCircuit(2)\n",
    "circ.h(0)\n",
    "circ.cx(0,1)\n",
    "\n",
    "circ.save_statevector()\n",
    "\n",
    "# choose simulator backend\n",
    "sim = Aer.get_backend('aer_simulator')\n",
    "\n",
    "# Transpile for simulator\n",
    "tr_circ = transpile(circ, sim)\n",
    "\n",
    "# Run and get counts\n",
    "sv_res = sim.run(tr_circ).result()\n",
    "\n",
    "array_to_latex(sv_res.get_statevector())\n"
   ]
  },
  {
   "cell_type": "code",
   "execution_count": 75,
   "id": "4d3ca36f-62ba-479e-85d8-2923624a8171",
   "metadata": {},
   "outputs": [
    {
     "data": {
      "text/latex": [
       "$$\n",
       "\n",
       "\\begin{bmatrix}\n",
       "\\tfrac{1}{\\sqrt{2}} & \\tfrac{1}{\\sqrt{2}} & 0 & 0  \\\\\n",
       " 0 & 0 & \\tfrac{1}{\\sqrt{2}} & -\\tfrac{1}{\\sqrt{2}}  \\\\\n",
       " 0 & 0 & \\tfrac{1}{\\sqrt{2}} & \\tfrac{1}{\\sqrt{2}}  \\\\\n",
       " \\tfrac{1}{\\sqrt{2}} & -\\tfrac{1}{\\sqrt{2}} & 0 & 0  \\\\\n",
       " \\end{bmatrix}\n",
       "$$"
      ],
      "text/plain": [
       "<IPython.core.display.Latex object>"
      ]
     },
     "execution_count": 75,
     "metadata": {},
     "output_type": "execute_result"
    }
   ],
   "source": [
    "# get unitary matrix for circ with simulator\n",
    "# (must construct quantum circuit without measure)\n",
    "\n",
    "circ = QuantumCircuit(2)\n",
    "circ.h(0)\n",
    "circ.cx(0,1)\n",
    "\n",
    "circ.save_unitary()\n",
    "\n",
    "# choose simulator backend\n",
    "sim = Aer.get_backend('aer_simulator')\n",
    "\n",
    "# Transpile for simulator\n",
    "tr_circ = transpile(circ, sim)\n",
    "\n",
    "# Run and get counts\n",
    "u_res = sim.run(tr_circ).result()\n",
    "\n",
    "array_to_latex(u_res.get_unitary())\n"
   ]
  },
  {
   "cell_type": "markdown",
   "id": "b248e217-b58a-4c53-9464-e82ceae1efba",
   "metadata": {},
   "source": [
    "## Real Hardware 🎉 (+ Stanford Hub)"
   ]
  },
  {
   "cell_type": "code",
   "execution_count": 3,
   "id": "885d78f3-a748-41f4-8b41-c71f5fbf25b3",
   "metadata": {},
   "outputs": [
    {
     "data": {
      "application/vnd.jupyter.widget-view+json": {
       "model_id": "599b68ddad4740158ce7e1cb3f86ba0e",
       "version_major": 2,
       "version_minor": 0
      },
      "text/plain": [
       "VBox(children=(HTML(value=\"<h2 style ='color:#ffffff; background-color:#000000;padding-top: 1%; padding-bottom…"
      ]
     },
     "metadata": {},
     "output_type": "display_data"
    }
   ],
   "source": [
    "from qiskit.tools.jupyter import *\n",
    "%qiskit_backend_overview"
   ]
  },
  {
   "cell_type": "code",
   "execution_count": 4,
   "id": "b716604f-932e-465d-888e-87a3b784f31e",
   "metadata": {},
   "outputs": [
    {
     "data": {
      "application/vnd.jupyter.widget-view+json": {
       "model_id": "3e6ff2ce4a7549c292294342786e0b81",
       "version_major": 2,
       "version_minor": 0
      },
      "text/plain": [
       "VBox(children=(HTML(value=\"<h1 style='color:#ffffff;background-color:#000000;padding-top: 1%;padding-bottom: 1…"
      ]
     },
     "metadata": {},
     "output_type": "display_data"
    },
    {
     "data": {
      "text/plain": [
       "<IBMQBackend('ibmq_quito') from IBMQ(hub='ibm-q', group='open', project='main')>"
      ]
     },
     "execution_count": 4,
     "metadata": {},
     "output_type": "execute_result"
    }
   ],
   "source": [
    "from qiskit.providers.ibmq import least_busy\n",
    "\n",
    "# (provider= ibm open gruop, auto-loaded at top imports)\n",
    "least_busy_device = least_busy(provider.backends(simulator=False, filters=lambda b: b.configuration().n_qubits >= 2))\n",
    "\n",
    "least_busy_device"
   ]
  },
  {
   "cell_type": "code",
   "execution_count": 33,
   "id": "aa850bfa-a7f7-4b92-bb0b-758f2d773e2d",
   "metadata": {},
   "outputs": [
    {
     "name": "stdout",
     "output_type": "stream",
     "text": [
      "{'00': 1926, '01': 165, '10': 142, '11': 1767}\n"
     ]
    }
   ],
   "source": [
    "# Transpile for real device\n",
    "# bell_circ_real = transpile(bell, least_busy_device)\n",
    "\n",
    "# # Run and get counts\n",
    "# result = least_busy_device.run(bell_circ_real).result()\n",
    "# counts_real = result.get_counts(bell_circ_real)\n",
    "# print(counts_real)"
   ]
  },
  {
   "cell_type": "markdown",
   "id": "bd278ea9-e757-4063-ab4f-a8f6869dab7f",
   "metadata": {},
   "source": [
    "(See Lab jobs tab for job progress)"
   ]
  },
  {
   "cell_type": "markdown",
   "id": "1f6f8296-3608-4f47-80dd-5c064902fde7",
   "metadata": {},
   "source": [
    "### Using the Stanford Hub\n",
    "\n",
    "Systems available via the Stanford Hub:\n",
    "- Washington (127Q)\n",
    "- Auckland (27Q)\n",
    "- Cairo (27Q)\n",
    "- Geneva (27Q)\n",
    "- Hanoi (27Q)\n",
    "- Montreal (27Q)\n",
    "- Mumbai (27Q)\n",
    "- Toronto (27Q)\n",
    "- Kolkata (27Q)\n",
    "- Guadalupe (17Q)\n",
    "- Lagos (7Q)\n",
    "- Nairobi (7Q)\n",
    "- Oslo (7Q)\n",
    "- Jakarta (7Q)\n",
    "- Perth (7Q)\n",
    "- Belem (5Q)\n",
    "- Lima (5Q)\n",
    "- Manila (5Q)\n",
    "- Quito (5Q)\n",
    "\n",
    "Request access to Stanford Hub: Reach out to your  Stanford Administrators  Ruth  Marinshaw (ruthm@stanford.edu) and Adam Seishas (aseishas@stanford.edu) to  get added to  the Stanford  Hub"
   ]
  },
  {
   "cell_type": "code",
   "execution_count": null,
   "id": "2297306f-2b75-4d27-a211-dbcf1427c8b6",
   "metadata": {},
   "outputs": [],
   "source": [
    "# stanford_provider = IBMQ.get_provider('ibm-q-stanford', 'your-group-name', 'your-project-name')\n",
    "\n",
    "# st_backend = stanford_provider.get_backend('ibmq_manila')\n",
    "\n",
    "# st_result = st_backend.run(bell_circ_real).result()\n",
    "\n",
    "# counts_real = result.get_counts(bell_circ_real)"
   ]
  },
  {
   "cell_type": "markdown",
   "id": "8fdda24c-2149-4fea-9e1c-289845500d74",
   "metadata": {},
   "source": [
    "Qiskit is backend agnostic!"
   ]
  },
  {
   "cell_type": "code",
   "execution_count": null,
   "id": "6e0beff2-0ee5-4646-a965-ba424d631853",
   "metadata": {},
   "outputs": [],
   "source": [
    "# !pip install qiskit-ionq\n",
    "\n",
    "# from qiskit_ionq import IonQProvider\n",
    "# provider = IonQProvider()\n",
    "\n",
    "# ionq_backend = provider.get_backend(\"ionq_qpu\")\n",
    "# job = ionq_backend.run(bell)\n",
    "\n",
    "# plot_histogram(job.get_counts())"
   ]
  },
  {
   "cell_type": "markdown",
   "id": "b2df0407-f3fe-4982-baf5-4e9b8640eaba",
   "metadata": {},
   "source": [
    "### Side Quest Complete ✅ Back to Qiskit Terra!"
   ]
  },
  {
   "cell_type": "markdown",
   "id": "1c94e86c-689f-4b0a-a180-3cc7b3b2e4fe",
   "metadata": {},
   "source": [
    "## Visualisation"
   ]
  },
  {
   "cell_type": "code",
   "execution_count": null,
   "id": "6f39e7da-c9f3-4efa-9103-19d6dd7bdf44",
   "metadata": {},
   "outputs": [
    {
     "data": {
      "image/png": "[encoded data removed]",
      "text/plain": [
       "<Figure size 417.879x204.68 with 1 Axes>"
      ]
     },
     "execution_count": 34,
     "metadata": {},
     "output_type": "execute_result"
    }
   ],
   "source": [
    "bell.draw()"
   ]
  },
  {
   "cell_type": "code",
   "execution_count": null,
   "id": "2d46d048-5ac0-4319-9b7c-63a10d8277cd",
   "metadata": {},
   "outputs": [
    {
     "data": {
      "image/png": "[encoded data removed]",
      "text/plain": [
       "<PIL.Image.Image image mode=RGB size=332x105 at 0x7FB03467F3D0>"
      ]
     },
     "execution_count": 35,
     "metadata": {},
     "output_type": "execute_result"
    }
   ],
   "source": [
    "bell.draw(output='latex')"
   ]
  },
  {
   "cell_type": "code",
   "execution_count": 20,
   "id": "477d5c46-b460-4e03-af0b-e3810dd8be80",
   "metadata": {},
   "outputs": [
    {
     "data": {
      "text/html": [
       "<pre style=\"word-wrap: normal;white-space: pre;background: #fff0;line-height: 1.1;font-family: &quot;Courier New&quot;,Courier,monospace\">        ┌───┐      ░ ┌─┐   \n",
       "   q_0: ┤ H ├──■───░─┤M├───\n",
       "        └───┘┌─┴─┐ ░ └╥┘┌─┐\n",
       "   q_1: ─────┤ X ├─░──╫─┤M├\n",
       "             └───┘ ░  ║ └╥┘\n",
       "meas: 2/══════════════╩══╩═\n",
       "                      0  1 </pre>"
      ],
      "text/plain": [
       "        ┌───┐      ░ ┌─┐   \n",
       "   q_0: ┤ H ├──■───░─┤M├───\n",
       "        └───┘┌─┴─┐ ░ └╥┘┌─┐\n",
       "   q_1: ─────┤ X ├─░──╫─┤M├\n",
       "             └───┘ ░  ║ └╥┘\n",
       "meas: 2/══════════════╩══╩═\n",
       "                      0  1 "
      ]
     },
     "execution_count": 20,
     "metadata": {},
     "output_type": "execute_result"
    }
   ],
   "source": [
    "bell.draw(output='text')"
   ]
  },
  {
   "cell_type": "code",
   "execution_count": 21,
   "id": "911da673-5c9a-4b98-9e1e-96ecd2f87be8",
   "metadata": {},
   "outputs": [
    {
     "data": {
      "image/png": "[encoded data removed]",
      "text/plain": [
       "<Figure size 504x360 with 1 Axes>"
      ]
     },
     "execution_count": 21,
     "metadata": {},
     "output_type": "execute_result"
    }
   ],
   "source": [
    "from qiskit.visualization import plot_histogram\n",
    "\n",
    "data = [counts, counts_noise]\n",
    "\n",
    "plot_histogram(data)"
   ]
  },
  {
   "cell_type": "code",
   "execution_count": 22,
   "id": "1532a94e-f517-46ce-9a10-7235a42457a2",
   "metadata": {},
   "outputs": [
    {
     "data": {
      "image/png": "[encoded data removed]",
      "text/plain": [
       "<Figure size 720x720 with 1 Axes>"
      ]
     },
     "execution_count": 22,
     "metadata": {},
     "output_type": "execute_result"
    }
   ],
   "source": [
    "legend = ['ideal', 'noisy']\n",
    "title = 'New histogram'\n",
    "figsize = (10,10)\n",
    "color=['crimson','midnightblue']\n",
    "plot_histogram(data, legend=legend, title=title, figsize=figsize, color=color)"
   ]
  },
  {
   "cell_type": "code",
   "execution_count": 28,
   "id": "bb45f7a4-d043-4799-b461-eb279dd600f3",
   "metadata": {},
   "outputs": [
    {
     "data": {
      "image/png": "[encoded data removed]",
      "text/plain": [
       "<Figure size 360x360 with 1 Axes>"
      ]
     },
     "execution_count": 28,
     "metadata": {},
     "output_type": "execute_result"
    }
   ],
   "source": [
    "# visualise coupling maps (for device layouts) - small heavy hex\n",
    "\n",
    "from qiskit.visualization import plot_coupling_map\n",
    "\n",
    "num_qubits = 8\n",
    "qubit_coordinates = [[0, 1], [1, 1], [1, 0], [1, 2], [2, 0], [2, 2], [2, 1], [3, 1]]\n",
    "coupling_map = [[0, 1], [1, 2], [1, 3], [3, 5], [4, 6], [4, 5], [2, 4], [6, 7]]\n",
    "plot_coupling_map(num_qubits, qubit_coordinates, coupling_map)"
   ]
  },
  {
   "cell_type": "code",
   "execution_count": 9,
   "id": "8fabf7ac-6c4d-4524-85c5-c3acf610972f",
   "metadata": {},
   "outputs": [
    {
     "data": {
      "image/png": "[encoded data removed]",
      "text/plain": [
       "<Figure size 360x360 with 1 Axes>"
      ]
     },
     "execution_count": 9,
     "metadata": {},
     "output_type": "execute_result"
    }
   ],
   "source": [
    "# visualise how your qubits will be laid out on a given device\n",
    "\n",
    "from qiskit.visualization import plot_circuit_layout\n",
    "\n",
    "backend = provider.get_backend('ibmq_manila')\n",
    "\n",
    "belem_bell = transpile(bell, backend=backend)\n",
    "\n",
    "plot_circuit_layout(belem_bell, backend)"
   ]
  },
  {
   "cell_type": "code",
   "execution_count": 30,
   "id": "af45f1c5-968e-45e2-bfd1-8e537a4888ee",
   "metadata": {},
   "outputs": [
    {
     "data": {
      "image/png": "[encoded data removed]",
      "text/plain": [
       "<PIL.Image.Image image mode=RGBA size=383x466 at 0x7FAF90292580>"
      ]
     },
     "execution_count": 30,
     "metadata": {},
     "output_type": "execute_result"
    }
   ],
   "source": [
    "# DAG Drawer\n",
    "from qiskit.dagcircuit import DAGCircuit\n",
    "from qiskit.converters import circuit_to_dag\n",
    "from qiskit.visualization import dag_drawer\n",
    "\n",
    "dag = circuit_to_dag(bell)\n",
    "dag_drawer(dag)"
   ]
  },
  {
   "cell_type": "markdown",
   "id": "efed0106-f541-44a4-8860-17ba22b7d65c",
   "metadata": {},
   "source": [
    "## Transpiler"
   ]
  },
  {
   "cell_type": "markdown",
   "id": "904af3f2-f6e2-493c-8976-a99ce0d3e23b",
   "metadata": {},
   "source": [
    "![](transpiler.png)"
   ]
  },
  {
   "cell_type": "code",
   "execution_count": 34,
   "id": "c3a54af3-b2aa-4cd4-aa96-94255bc7f234",
   "metadata": {},
   "outputs": [
    {
     "data": {
      "image/png": "[encoded data removed]",
      "text/plain": [
       "<Figure size 600.731x385.28 with 1 Axes>"
      ]
     },
     "execution_count": 34,
     "metadata": {},
     "output_type": "execute_result"
    }
   ],
   "source": [
    "backend = provider.get_backend('ibmq_belem')\n",
    "\n",
    "transpiled_circ = transpile(bell, backend)\n",
    "transpiled_circ.draw()"
   ]
  },
  {
   "cell_type": "code",
   "execution_count": 21,
   "id": "f8d8cdd4-b33b-4d1c-81ee-81cf9bee3748",
   "metadata": {},
   "outputs": [
    {
     "data": {
      "image/png": "[encoded data removed]",
      "text/plain": [
       "<Figure size 545.638x204.68 with 1 Axes>"
      ]
     },
     "metadata": {},
     "output_type": "display_data"
    },
    {
     "data": {
      "image/png": "[encoded data removed]",
      "text/plain": [
       "<Figure size 360x360 with 1 Axes>"
      ]
     },
     "metadata": {},
     "output_type": "display_data"
    },
    {
     "data": {
      "image/png": "[encoded data removed]",
      "text/plain": [
       "<Figure size 360x360 with 1 Axes>"
      ]
     },
     "execution_count": 21,
     "metadata": {},
     "output_type": "execute_result"
    }
   ],
   "source": [
    "from qiskit.visualization import plot_circuit_layout, plot_gate_map\n",
    "\n",
    "display(transpiled_circ.draw(idle_wires=False))\n",
    "display(plot_gate_map(backend))\n",
    "plot_circuit_layout(transpiled_circ, backend)"
   ]
  },
  {
   "cell_type": "code",
   "execution_count": 16,
   "id": "e192ef55-4ea6-4cd1-a8d4-0df777817fef",
   "metadata": {},
   "outputs": [],
   "source": [
    "# a slightly more interesting example:\n",
    "\n",
    "circuit = QuantumCircuit(5)\n",
    "circuit.h(range(5))\n",
    "circuit.cx(0, range(1,5))\n",
    "circuit.h(range(5))\n",
    "circuit.cx(4, range(4))\n",
    "circuit.h(range(5))\n",
    "circuit.measure_all()"
   ]
  },
  {
   "cell_type": "code",
   "execution_count": 17,
   "id": "efb0f2a9-b9ac-4fb5-950f-8a5bc5118c06",
   "metadata": {},
   "outputs": [
    {
     "name": "stdout",
     "output_type": "stream",
     "text": [
      "[[0, 13], [1, 13], [13, 0], [13, 1], [1, 14], [2, 14], [14, 1], [14, 2], [3, 15], [4, 15], [15, 3], [15, 4], [4, 16], [5, 16], [16, 4], [16, 5], [6, 17], [7, 17], [17, 6], [17, 7], [7, 18], [8, 18], [18, 7], [18, 8], [0, 9], [3, 9], [9, 0], [9, 3], [5, 12], [8, 12], [12, 5], [12, 8], [10, 14], [10, 16], [14, 10], [16, 10], [11, 15], [11, 17], [15, 11], [17, 11]]\n"
     ]
    }
   ],
   "source": [
    "# This time with a coupling map but no actual backend\n",
    "\n",
    "from qiskit.transpiler import CouplingMap\n",
    "\n",
    "cmap = CouplingMap.from_heavy_hex(3)\n",
    "\n",
    "print(cmap)"
   ]
  },
  {
   "cell_type": "code",
   "execution_count": 18,
   "id": "938eb733-8844-4774-b217-d72edec1f62f",
   "metadata": {},
   "outputs": [
    {
     "data": {
      "image/png": "[encoded data removed]",
      "text/plain": [
       "<Figure size 1582.45x385.28 with 1 Axes>"
      ]
     },
     "execution_count": 18,
     "metadata": {},
     "output_type": "execute_result"
    }
   ],
   "source": [
    "transpiled = transpile(circuit, coupling_map=cmap)\n",
    "transpiled.draw(idle_wires=False, fold=-1)"
   ]
  },
  {
   "cell_type": "markdown",
   "id": "a094dbeb-9169-4d5a-999f-88406100221f",
   "metadata": {},
   "source": [
    "**Optimization level**\n",
    "\n",
    "Higher levels generate more optimized circuits, at the expense of longer transpilation time.\n",
    "\n",
    "- 0: no explicit optimization other than mapping to backend \n",
    "- 1: light optimization by simple adjacent gate collapsing.(default) \n",
    "- 2: medium optimization by noise adaptive qubit mapping and gate cancellation using commutativity rules. \n",
    "- 3: heavy optimization by noise adaptive qubit mapping and gate cancellation using commutativity rules and unitary synthesis."
   ]
  },
  {
   "cell_type": "code",
   "execution_count": 19,
   "id": "4c6e7a5f-a781-4e46-9e9c-6306eeab2992",
   "metadata": {},
   "outputs": [],
   "source": [
    "level0 = transpile(circuit, coupling_map=cmap, optimization_level=0)\n",
    "level1 = transpile(circuit, coupling_map=cmap, optimization_level=1)\n",
    "level2 = transpile(circuit, coupling_map=cmap, optimization_level=2)\n",
    "level3 = transpile(circuit, coupling_map=cmap, optimization_level=3)"
   ]
  },
  {
   "cell_type": "code",
   "execution_count": 20,
   "id": "61caf85c-8b50-46de-9739-6216d485ef80",
   "metadata": {},
   "outputs": [
    {
     "name": "stdout",
     "output_type": "stream",
     "text": [
      "level0 8 21\n",
      "level1 8 17\n",
      "level2 8 17\n",
      "level3 6 12\n"
     ]
    }
   ],
   "source": [
    "for idx, level in enumerate([level0, level1, level2, level3]):\n",
    "    print(\"level\"+str(idx), level.count_ops()['cx'], level.depth())"
   ]
  },
  {
   "cell_type": "code",
   "execution_count": 25,
   "id": "d868722e-5d59-4383-be4b-6e72567281c2",
   "metadata": {},
   "outputs": [
    {
     "data": {
      "text/plain": [
       "17"
      ]
     },
     "execution_count": 25,
     "metadata": {},
     "output_type": "execute_result"
    }
   ],
   "source": [
    "# transpiling is a stochastic process\n",
    "transpiled = transpile(circuit, coupling_map=cmap, optimization_level=3)\n",
    "transpiled.depth()"
   ]
  },
  {
   "cell_type": "code",
   "execution_count": 29,
   "id": "5fb2263d-e0d5-4397-9b4b-e31efdc3b645",
   "metadata": {},
   "outputs": [
    {
     "data": {
      "text/plain": [
       "17"
      ]
     },
     "execution_count": 29,
     "metadata": {},
     "output_type": "execute_result"
    }
   ],
   "source": [
    "transpiled = transpile(circuit, coupling_map=cmap, optimization_level=2, seed_transpiler=1)\n",
    "transpiled.depth()"
   ]
  },
  {
   "cell_type": "markdown",
   "id": "f96b55f7-fa4a-4965-8ff3-ea8daf0b2bad",
   "metadata": {},
   "source": [
    "The transpiler is highly configurable"
   ]
  },
  {
   "cell_type": "code",
   "execution_count": null,
   "id": "188de744-4aff-43be-b52e-415ab4a4475a",
   "metadata": {},
   "outputs": [],
   "source": [
    "# lots of args\n",
    "transpile"
   ]
  },
  {
   "cell_type": "markdown",
   "id": "973c6307-08b6-4ebe-a0de-e60b3962790d",
   "metadata": {},
   "source": [
    "* Pro Tip! Cmd + I for documentation/source code"
   ]
  },
  {
   "cell_type": "code",
   "execution_count": 41,
   "id": "2af44a3a-b93b-4285-8bd5-c0bf480cbb8d",
   "metadata": {},
   "outputs": [],
   "source": [
    "# make a custom transpiler and plugin to Qiskit\n",
    "# https://qiskit.org/documentation/apidoc/transpiler_plugins.html\n",
    "transpile(circuit, routing_method=\"your-custom-plugin\", optimization_level=2)"
   ]
  },
  {
   "cell_type": "markdown",
   "id": "18c00132-9fb5-448a-9560-47a5f2a43108",
   "metadata": {},
   "source": [
    "## Pulse\n",
    "\n",
    "Pulse programs, which are called Schedules, describe instruction sequences for the control electronics of a given device. A schedule specifies the exact time dynamics of the input signals across all input channels to the device. There are usually multiple channels per qubit, such as drive and measure. This interface is more powerful, and requires a deeper understanding of the underlying device physics."
   ]
  },
  {
   "cell_type": "code",
   "execution_count": 47,
   "id": "10da20c1-42c5-4854-95c9-0e9521ebc927",
   "metadata": {},
   "outputs": [
    {
     "data": {
      "image/png": "[encoded data removed]",
      "text/plain": [
       "<Figure size 936x118.8 with 1 Axes>"
      ]
     },
     "execution_count": 47,
     "metadata": {},
     "output_type": "execute_result"
    }
   ],
   "source": [
    "# Let's create a pulse schedule for our own calibration of a H gate\n",
    "\n",
    "from qiskit import pulse\n",
    "from qiskit.pulse.library import Gaussian\n",
    "\n",
    "backend = provider.get_backend('ibmq_belem')\n",
    "\n",
    "with pulse.build(backend, name='hadamard') as h_q0:\n",
    "    pulse.play(Gaussian(duration=128, amp=0.1, sigma=16), pulse.drive_channel(0))\n",
    "    \n",
    "h_q0.draw()"
   ]
  },
  {
   "cell_type": "code",
   "execution_count": 48,
   "id": "b699ad54-097e-4611-8e95-71a139b0b16b",
   "metadata": {},
   "outputs": [
    {
     "data": {
      "image/png": "[encoded data removed]",
      "text/plain": [
       "<Figure size 327.252x204.68 with 1 Axes>"
      ]
     },
     "execution_count": 48,
     "metadata": {},
     "output_type": "execute_result"
    }
   ],
   "source": [
    "circ = QuantumCircuit(2, 2)\n",
    "circ.h(0)\n",
    "circ.cx(0, 1)\n",
    "circ.measure(0, 0)\n",
    "circ.measure(1, 1)\n",
    "\n",
    "circ.draw()"
   ]
  },
  {
   "cell_type": "code",
   "execution_count": 49,
   "id": "3df01e40-f9c9-4066-bfbb-1f72892b7d43",
   "metadata": {},
   "outputs": [
    {
     "data": {
      "image/png": "[encoded data removed]",
      "text/plain": [
       "<Figure size 387.452x204.68 with 1 Axes>"
      ]
     },
     "execution_count": 49,
     "metadata": {},
     "output_type": "execute_result"
    }
   ],
   "source": [
    "#lets replace the default H with our calibrated H\n",
    "\n",
    "circ.add_calibration('h', [0], h_q0)\n",
    "\n",
    "circ.draw()"
   ]
  },
  {
   "cell_type": "markdown",
   "id": "4b626a22-ca15-46c6-919a-fd812f2c6623",
   "metadata": {},
   "source": [
    "Now can transpile and run as you normally would."
   ]
  },
  {
   "cell_type": "markdown",
   "id": "32dd46c5-0cc8-4841-b553-090669fa0291",
   "metadata": {},
   "source": [
    "You can also create custom gates with custom callibrations, or build up a schedule of multiple calibrations. To do this we can build up a schedule of pulse instructions operating on different channels. All pulse schedules have a similar format:"
   ]
  },
  {
   "cell_type": "code",
   "execution_count": 51,
   "id": "c0803a66-fa0e-4f8f-b5b2-d1f2a040e948",
   "metadata": {},
   "outputs": [
    {
     "data": {
      "text/plain": [
       "ScheduleBlock(, name=\"my_example\", transform=AlignLeft())"
      ]
     },
     "execution_count": 51,
     "metadata": {},
     "output_type": "execute_result"
    }
   ],
   "source": [
    "from qiskit import pulse\n",
    "\n",
    "with pulse.build(name='my_example') as my_program:\n",
    "    # Add instructions here\n",
    "    pass\n",
    "\n",
    "my_program"
   ]
  },
  {
   "cell_type": "markdown",
   "id": "d7d9432e-4909-4a40-9a2f-46d8a35a151b",
   "metadata": {},
   "source": [
    "Schedule Instructions:\n",
    "- `delay`(duration, channel)\n",
    "- `play`(pulse, channel)\n",
    "- `set_frequency` (frequency, channel)\n",
    "- `shift_phase` (phase, channel)\n",
    "- `acquire` (duration, channel, mem_slot, reg_slot)\n",
    "\n",
    "Each instruction type has its own set of operands. As you can see above, they each include at least one Channel to specify where the instruction will be applied.\n",
    "\n",
    "Channels are labels for signal lines from the control hardware to the quantum chip.\n",
    "\n",
    "- `DriveChannels` are typically used for driving single qubit rotations,\n",
    "- `ControlChannels` are typically used for multi-qubit gates or additional drive lines for tunable qubits,\n",
    "- `MeasureChannels` are specific to transmitting pulses which stimulate readout, and\n",
    "- `AcquireChannels` are used to trigger digitizers which collect readout signals.\n",
    "\n",
    "`DriveChannels`, `ControlChannels`, and `MeasureChannels` are all `PulseChannels`; this means that they support transmitting pulses, whereas the `AcquireChannel` is a receive channel only and cannot play waveforms.\n"
   ]
  },
  {
   "cell_type": "markdown",
   "id": "25506def-83e6-4ae0-afda-44250f058f56",
   "metadata": {},
   "source": [
    "For the following examples, we will create one `DriveChannel` instance for each `Instruction` that accepts a `PulseChannel`. `Channels` take one integer index argument. Except for `ControlChannels`, the index maps to the qubit label."
   ]
  },
  {
   "cell_type": "code",
   "execution_count": 55,
   "id": "dfffb0dd-b0a2-48f8-b18d-80f53a685d9c",
   "metadata": {},
   "outputs": [],
   "source": [
    "from qiskit.pulse import DriveChannel\n",
    "\n",
    "channel = DriveChannel(0)"
   ]
  },
  {
   "cell_type": "markdown",
   "id": "a97ffaa2-372c-4d5b-9178-8ddfea657c66",
   "metadata": {},
   "source": [
    "**Play instruction**\n",
    "\n",
    "The play instruction is responsible for executing pulses. It's straightforward to add a play instruction:\n",
    "\n",
    "```\n",
    "with pulse.build() as sched:\n",
    "    pulse.play(pulse, channel)\n",
    "```\n",
    "\n",
    "A `Pulse` specifies an arbitrary pulse envelope. The modulation frequency and phase of the output waveform are controlled by the `set_frequency` and `shift_phase` instructions."
   ]
  },
  {
   "cell_type": "markdown",
   "id": "d53c8975-2b8a-49c2-ae5c-8fedbded27ad",
   "metadata": {},
   "source": [
    "E.g. Let's build our Gaussian pulse using the Gaussian parametric pulse.\n",
    "\n",
    "**Parametric pulses**  \n",
    "A parametric pulse sends the name of the function and its parameters to the backend, rather than every individual sample. Using parametric pulses makes the jobs you send to the backend much smaller. IBM Quantum backends limit the maximum job size that they accept, so parametric pulses may allow you to run larger programs."
   ]
  },
  {
   "cell_type": "code",
   "execution_count": 52,
   "id": "4e3b9387-5e39-4e86-a0f0-64fa5a81b266",
   "metadata": {},
   "outputs": [
    {
     "data": {
      "image/png": "[encoded data removed]",
      "text/plain": [
       "<Figure size 936x118.8 with 1 Axes>"
      ]
     },
     "execution_count": 52,
     "metadata": {},
     "output_type": "execute_result"
    }
   ],
   "source": [
    "from qiskit.pulse import library\n",
    "\n",
    "amp = 1\n",
    "sigma = 10\n",
    "num_samples = 128\n",
    "\n",
    "gaus = pulse.library.Gaussian(num_samples, amp, sigma,\n",
    "                              name=\"Parametric Gaus\")\n",
    "gaus.draw()"
   ]
  },
  {
   "cell_type": "code",
   "execution_count": 56,
   "id": "9d7b35c0-0776-41c6-92aa-710fe380c560",
   "metadata": {},
   "outputs": [
    {
     "data": {
      "image/png": "[encoded data removed]",
      "text/plain": [
       "<Figure size 936x118.8 with 1 Axes>"
      ]
     },
     "execution_count": 56,
     "metadata": {},
     "output_type": "execute_result"
    }
   ],
   "source": [
    "with pulse.build() as schedule:\n",
    "    pulse.play(gaus, channel)\n",
    "schedule.draw()"
   ]
  },
  {
   "cell_type": "markdown",
   "id": "19cecd36-7b34-47fd-90b1-04d77bbf5328",
   "metadata": {},
   "source": [
    "The pulse Schedule is independent of the backend it runs on. However, we can build our program in a context that is aware of the target backend by supplying it to `pulse.build`. When possible you should supply a backend. In order to add acquire channels to your pulse schedule you need to specify a backend"
   ]
  },
  {
   "cell_type": "code",
   "execution_count": 61,
   "id": "70d5a790-6a92-4507-ac9f-d127146c09ba",
   "metadata": {},
   "outputs": [
    {
     "data": {
      "text/plain": [
       "ScheduleBlock(, name=\"backend_aware\", transform=AlignLeft())"
      ]
     },
     "execution_count": 61,
     "metadata": {},
     "output_type": "execute_result"
    }
   ],
   "source": [
    "from qiskit.providers.fake_provider import FakeValencia\n",
    "\n",
    "backend = FakeValencia()\n",
    "\n",
    "with pulse.build(backend=backend, name='backend_aware') as backend_aware_program:\n",
    "    # instructions\n",
    "    pass\n",
    "    \n",
    "backend_aware_program"
   ]
  },
  {
   "cell_type": "markdown",
   "id": "ddec0fb0-9d56-4b86-8622-c6fd228baf02",
   "metadata": {},
   "source": [
    "The acquire instruction triggers data acquisition for readout. It takes a duration, an `AcquireChannel` which maps to the qubit being measured, and a `MemorySlot`. The `MemorySlot` is classical memory where the readout result will be stored. For this we require a backend"
   ]
  },
  {
   "cell_type": "code",
   "execution_count": 62,
   "id": "16396503-e933-49f8-8d72-4c02ed2c441f",
   "metadata": {},
   "outputs": [],
   "source": [
    "from qiskit.pulse import Acquire, AcquireChannel, MemorySlot\n",
    "\n",
    "with pulse.build(backend) as schedule:\n",
    "    pulse.acquire(1200, pulse.acquire_channel(0), MemorySlot(0))"
   ]
  },
  {
   "cell_type": "code",
   "execution_count": 67,
   "id": "e270d734-2435-4920-be8c-6e2ff77b13ab",
   "metadata": {},
   "outputs": [
    {
     "data": {
      "image/png": "[encoded data removed]",
      "text/plain": [
       "<Figure size 936x237.6 with 1 Axes>"
      ]
     },
     "execution_count": 67,
     "metadata": {},
     "output_type": "execute_result"
    }
   ],
   "source": [
    "with pulse.build(backend, name='example') as program:\n",
    "        gaussian_pulse = library.gaussian(100, 0.5, 20)\n",
    "        pulse.play(gaussian_pulse, pulse.drive_channel(0))\n",
    "        pulse.play(gaussian_pulse, pulse.drive_channel(1))\n",
    "        pulse.play(gaussian_pulse, pulse.drive_channel(1))\n",
    "\n",
    "program.draw()"
   ]
  },
  {
   "cell_type": "markdown",
   "id": "86a9b769-f212-463e-b834-876e7de05514",
   "metadata": {},
   "source": [
    "## Algorithms (and Optimisers)\n",
    "\n",
    "Qiskit provides a number of Algorithms in this module and they are grouped by category according to the task they can perform. For instance Minimum Eigensolvers to find the smallest eigen value of an operator, (e.g ground state energy of a chemistry Hamiltonian or a solution to an optimization problem when expressed as an Ising Hamiltonian). There are Linear Solvers for linear systems of equations problems and Amplitude Estimators for value estimation that can be used say in financial applications.\n",
    "\n",
    "Algorithms are configurable and often part of the configuration will be in the form of smaller building blocks, of which different instances of the building block type can be given. For instance with VQE, the Variational Quantum Eigensolver, it takes a trial wavefunction, in the form of a QuantumCircuit and a classical optimizer among other things.\n",
    "\n",
    "E.g. Ground State of Chemistry Hamiltonian\n",
    "\n",
    "Build VQE from scratch: https://qiskit.org/textbook/ch-applications/vqe-molecules.html"
   ]
  },
  {
   "cell_type": "code",
   "execution_count": 69,
   "id": "c037de88-99a1-469e-97ae-3f38f7091290",
   "metadata": {},
   "outputs": [],
   "source": [
    "from qiskit.utils import QuantumInstance\n",
    "\n",
    "backend = Aer.get_backend('aer_simulator')\n",
    "quantum_instance = QuantumInstance(backend=backend, shots=800, seed_simulator=99)"
   ]
  },
  {
   "cell_type": "code",
   "execution_count": 70,
   "id": "1539d73f-299a-4043-bf12-89e86c1c14d7",
   "metadata": {},
   "outputs": [],
   "source": [
    "from qiskit.opflow import X, Z, I\n",
    "\n",
    "H2_op = (-1.052373245772859 * I ^ I) + \\\n",
    "        (0.39793742484318045 * I ^ Z) + \\\n",
    "        (-0.39793742484318045 * Z ^ I) + \\\n",
    "        (-0.01128010425623538 * Z ^ Z) + \\\n",
    "        (0.18093119978423156 * X ^ X)"
   ]
  },
  {
   "cell_type": "code",
   "execution_count": 72,
   "id": "fe29c38f-d5ed-421c-9a23-bb55a79f113f",
   "metadata": {},
   "outputs": [
    {
     "name": "stdout",
     "output_type": "stream",
     "text": [
      "{   'aux_operator_eigenvalues': None,\n",
      "    'cost_function_evals': 65,\n",
      "    'eigenstate': array([ 9.55146158e-05+0.j, -9.93766272e-01+0.j,  1.11483575e-01+0.j,\n",
      "        1.77493990e-05+0.j]),\n",
      "    'eigenvalue': (-1.8572750175664259+0j),\n",
      "    'optimal_circuit': None,\n",
      "    'optimal_parameters': {   ParameterVectorElement(θ[7]): 0.3602072577510429,\n",
      "                              ParameterVectorElement(θ[2]): 0.5470754664946292,\n",
      "                              ParameterVectorElement(θ[1]): 4.426962083985579,\n",
      "                              ParameterVectorElement(θ[5]): 1.5683260003556614,\n",
      "                              ParameterVectorElement(θ[4]): -2.5983258978150006,\n",
      "                              ParameterVectorElement(θ[0]): 4.296520455019831,\n",
      "                              ParameterVectorElement(θ[3]): 6.092947779034692,\n",
      "                              ParameterVectorElement(θ[6]): -4.717618171283927},\n",
      "    'optimal_point': array([ 4.29652046,  4.42696208,  0.54707547,  6.09294778, -2.5983259 ,\n",
      "        1.568326  , -4.71761817,  0.36020726]),\n",
      "    'optimal_value': -1.8572750175664259,\n",
      "    'optimizer_evals': None,\n",
      "    'optimizer_result': None,\n",
      "    'optimizer_time': 0.1748201847076416}\n"
     ]
    }
   ],
   "source": [
    "from qiskit.utils import algorithm_globals\n",
    "from qiskit.algorithms import VQE\n",
    "from qiskit.algorithms.optimizers import SLSQP\n",
    "from qiskit.circuit.library import TwoLocal\n",
    "\n",
    "seed = 50\n",
    "algorithm_globals.random_seed = seed\n",
    "qi = QuantumInstance(Aer.get_backend('statevector_simulator'), seed_transpiler=seed, seed_simulator=seed)\n",
    "\n",
    "ansatz = TwoLocal(rotation_blocks='ry', entanglement_blocks='cz')\n",
    "slsqp = SLSQP(maxiter=1000)\n",
    "vqe = VQE(ansatz, optimizer=slsqp, quantum_instance=qi)\n",
    "result = vqe.compute_minimum_eigenvalue(H2_op)\n",
    "print(result)"
   ]
  },
  {
   "cell_type": "code",
   "execution_count": null,
   "id": "e2ab8232-d586-44d2-85a0-b9a2423ad69b",
   "metadata": {},
   "outputs": [],
   "source": [
    "# other examples - Grover's, QAOA"
   ]
  },
  {
   "cell_type": "markdown",
   "id": "9af61e89-9297-489b-a48a-4bfe1ac10f7c",
   "metadata": {},
   "source": [
    "## Primitives - New Feature 🎉\n",
    "\n",
    "ADD TEXT\n",
    "\n",
    "To understand Qiskit Runtime Primitives we need to take a trip down IBM Quantum memory lane...\n",
    "\n",
    "![](circuit_flow.png)\n",
    "\n",
    "![](runtime_prog_flow.png)\n",
    "\n",
    "![](circ_runtime_comparison.png)\n",
    "\n",
    "![](what_we_want.png)\n",
    "\n",
    "![](primitives.png)\n",
    "\n",
    "![](primitives_comparison.png)\n",
    "\n",
    "![](sampler_estimator.png)\n"
   ]
  },
  {
   "cell_type": "markdown",
   "id": "69984042",
   "metadata": {},
   "source": [
    "#### Simple Sampler Example"
   ]
  },
  {
   "cell_type": "code",
   "execution_count": 1,
   "id": "1ef8006e",
   "metadata": {},
   "outputs": [
    {
     "ename": "NameError",
     "evalue": "name 'bell' is not defined",
     "output_type": "error",
     "traceback": [
      "\u001b[0;31m---------------------------------------------------------------------------\u001b[0m",
      "\u001b[0;31mNameError\u001b[0m                                 Traceback (most recent call last)",
      "\u001b[0;32m<ipython-input-1-88e989430224>\u001b[0m in \u001b[0;36m<module>\u001b[0;34m\u001b[0m\n\u001b[1;32m      1\u001b[0m \u001b[0;31m# SImple Sampler Example\u001b[0m\u001b[0;34m\u001b[0m\u001b[0;34m\u001b[0m\u001b[0m\n\u001b[1;32m      2\u001b[0m \u001b[0;34m\u001b[0m\u001b[0m\n\u001b[0;32m----> 3\u001b[0;31m \u001b[0mbell\u001b[0m\u001b[0;34m.\u001b[0m\u001b[0mdraw\u001b[0m\u001b[0;34m(\u001b[0m\u001b[0;34m)\u001b[0m\u001b[0;34m\u001b[0m\u001b[0;34m\u001b[0m\u001b[0m\n\u001b[0m",
      "\u001b[0;31mNameError\u001b[0m: name 'bell' is not defined"
     ]
    }
   ],
   "source": [
    "bell.draw()"
   ]
  },
  {
   "cell_type": "code",
   "execution_count": null,
   "id": "1c7ae281",
   "metadata": {},
   "outputs": [],
   "source": [
    "from qiskit.primitives import Sampler\n",
    "\n",
    "sampler = Sampler(options={\"shots\": 100})\n",
    "job = sampler.run(bell) # uses local simulator under the hood\n",
    "result = job.result()\n",
    "\n",
    "print(result)"
   ]
  },
  {
   "cell_type": "markdown",
   "id": "f3a30cf0",
   "metadata": {},
   "source": [
    "#### Simple Estimator Example"
   ]
  },
  {
   "cell_type": "code",
   "execution_count": null,
   "id": "38cf132d",
   "metadata": {},
   "outputs": [],
   "source": [
    "observable = SparsePauliOp([\"ZZ\"])\n",
    "ansatz = EfficientSU2(2, reps=1).decompose()\n",
    "values = np.random(ansatz.num_parameters)\n",
    "\n",
    "ansatz.draw()"
   ]
  },
  {
   "cell_type": "code",
   "execution_count": null,
   "id": "0d2972a8",
   "metadata": {},
   "outputs": [],
   "source": [
    "from qiskit.primitives import Estimator\n",
    "\n",
    "estimator = Estimator()\n",
    "job = Estimator.run(3*[ansatz], 3*[observable], 3*[values]) # calls simulator under the hood\n",
    "result = job.result()\n",
    "\n",
    "print(result)"
   ]
  },
  {
   "cell_type": "markdown",
   "id": "a46d3ff7",
   "metadata": {},
   "source": [
    "![](primitives_code.png)"
   ]
  },
  {
   "cell_type": "markdown",
   "id": "ac676259",
   "metadata": {},
   "source": [
    "#### Use Primitives with IBM Devices via Sessions - Still in development 🛠\n",
    "\n",
    "If you want to get results from IBM hardware using primitives, you need to use the `qiskit_ibm_runtime` provider, which facilitates the connection to the IBM hardware via sessions."
   ]
  },
  {
   "cell_type": "code",
   "execution_count": null,
   "id": "82bf60db",
   "metadata": {},
   "outputs": [],
   "source": [
    "from qiskit.algorithsm import VQE\n",
    "from qiskit_ibm_runtime import QiskitRuntimeService, Session\n",
    "from qiskit_ibm_runtime import Estimator \n",
    "# note: we need the Qiskit IBM Runtime Estimator, not the Qiskit Estimator\n",
    "\n",
    "# initialise service (similar to provider = IBMQ...)\n",
    "service = QiskitRuntimeService(...)\n",
    "\n",
    "hamiltonion = ... # e.g. H2_op\n",
    "\n",
    "# open a session (i.e open connection to IBM backend)\n",
    "with Session(service=service) as session:\n",
    "    estimator = Esitmator(service=service)\n",
    "    \n",
    "    # initialise VQE with estimator (instead of quantum instance))\n",
    "    vqe = VQE(estimator, ansatz, optimizer)\n",
    "    \n",
    "    # get result, same syntax as before\n",
    "    result = vqe.compute_minimum_eigenvalue(hamiltonian)\n",
    "\n",
    "# session automatically closed once result obtained"
   ]
  },
  {
   "cell_type": "markdown",
   "id": "e9388363",
   "metadata": {},
   "source": [
    "Why use runtime primitives?\n",
    "\n",
    "TL;DR - it's a lot faster"
   ]
  },
  {
   "cell_type": "markdown",
   "id": "8d19dba9-829c-4b32-bc0d-da70f7f91256",
   "metadata": {},
   "source": [
    "# High Level Applications - Qiskit Nature"
   ]
  },
  {
   "cell_type": "code",
   "execution_count": 36,
   "id": "910a4b06-01f5-44cc-b3a8-1728b13d629b",
   "metadata": {},
   "outputs": [
    {
     "name": "stdout",
     "output_type": "stream",
     "text": [
      "Requirement already satisfied: qiskit-nature in /opt/conda/lib/python3.8/site-packages (0.4.2)\n",
      "Requirement already satisfied: scikit-learn>=0.20.0 in /opt/conda/lib/python3.8/site-packages (from qiskit-nature) (1.1.3)\n",
      "Requirement already satisfied: setuptools>=40.1.0 in /opt/conda/lib/python3.8/site-packages (from qiskit-nature) (61.2.0)\n",
      "Requirement already satisfied: psutil>=5 in /opt/conda/lib/python3.8/site-packages (from qiskit-nature) (5.9.0)\n",
      "Requirement already satisfied: retworkx>=0.10.1 in /opt/conda/lib/python3.8/site-packages (from qiskit-nature) (0.11.0)\n",
      "Requirement already satisfied: numpy>=1.17 in /opt/conda/lib/python3.8/site-packages (from qiskit-nature) (1.22.4)\n",
      "Requirement already satisfied: scipy>=1.4 in /opt/conda/lib/python3.8/site-packages (from qiskit-nature) (1.8.0)\n",
      "Requirement already satisfied: h5py in /opt/conda/lib/python3.8/site-packages (from qiskit-nature) (3.6.0)\n",
      "Requirement already satisfied: typing-extensions in /opt/conda/lib/python3.8/site-packages (from qiskit-nature) (4.4.0)\n",
      "Requirement already satisfied: qiskit-terra>=0.21.0 in /opt/conda/lib/python3.8/site-packages (from qiskit-nature) (0.22.2)\n",
      "Requirement already satisfied: symengine>=0.9 in /opt/conda/lib/python3.8/site-packages (from qiskit-terra>=0.21.0->qiskit-nature) (0.9.2)\n",
      "Requirement already satisfied: dill>=0.3 in /opt/conda/lib/python3.8/site-packages (from qiskit-terra>=0.21.0->qiskit-nature) (0.3.4)\n",
      "Requirement already satisfied: ply>=3.10 in /opt/conda/lib/python3.8/site-packages (from qiskit-terra>=0.21.0->qiskit-nature) (3.11)\n",
      "Requirement already satisfied: sympy>=1.3 in /opt/conda/lib/python3.8/site-packages (from qiskit-terra>=0.21.0->qiskit-nature) (1.10.1)\n",
      "Requirement already satisfied: tweedledum<2.0,>=1.1 in /opt/conda/lib/python3.8/site-packages (from qiskit-terra>=0.21.0->qiskit-nature) (1.1.1)\n",
      "Requirement already satisfied: stevedore>=3.0.0 in /opt/conda/lib/python3.8/site-packages (from qiskit-terra>=0.21.0->qiskit-nature) (3.5.0)\n",
      "Requirement already satisfied: python-dateutil>=2.8.0 in /opt/conda/lib/python3.8/site-packages (from qiskit-terra>=0.21.0->qiskit-nature) (2.8.2)\n",
      "Requirement already satisfied: six>=1.5 in /opt/conda/lib/python3.8/site-packages (from python-dateutil>=2.8.0->qiskit-terra>=0.21.0->qiskit-nature) (1.16.0)\n",
      "Requirement already satisfied: threadpoolctl>=2.0.0 in /opt/conda/lib/python3.8/site-packages (from scikit-learn>=0.20.0->qiskit-nature) (3.1.0)\n",
      "Requirement already satisfied: joblib>=1.0.0 in /opt/conda/lib/python3.8/site-packages (from scikit-learn>=0.20.0->qiskit-nature) (1.2.0)\n",
      "Requirement already satisfied: pbr!=2.1.0,>=2.0.0 in /opt/conda/lib/python3.8/site-packages (from stevedore>=3.0.0->qiskit-terra>=0.21.0->qiskit-nature) (5.8.1)\n",
      "Requirement already satisfied: mpmath>=0.19 in /opt/conda/lib/python3.8/site-packages (from sympy>=1.3->qiskit-terra>=0.21.0->qiskit-nature) (1.2.1)\n"
     ]
    }
   ],
   "source": [
    "!pip install qiskit-nature"
   ]
  },
  {
   "cell_type": "code",
   "execution_count": 37,
   "id": "4f7f7ff2-03f1-43eb-a472-c240eca4ecf2",
   "metadata": {},
   "outputs": [
    {
     "name": "stdout",
     "output_type": "stream",
     "text": [
      "=== GROUND STATE ENERGY ===\n",
      " \n",
      "* Electronic ground state energy (Hartree): -1.857275030145\n",
      "  - computed part:      -1.857275030145\n",
      "~ Nuclear repulsion energy (Hartree): 0.719968994449\n",
      "> Total ground state energy (Hartree): -1.137306035696\n",
      " \n",
      "=== MEASURED OBSERVABLES ===\n",
      " \n",
      "  0:  # Particles: 2.000 S: 0.000 S^2: 0.000 M: 0.000\n",
      " \n",
      "=== DIPOLE MOMENTS ===\n",
      " \n",
      "~ Nuclear dipole moment (a.u.): [0.0  0.0  1.3889487]\n",
      " \n",
      "  0: \n",
      "  * Electronic dipole moment (a.u.): [0.0  0.0  1.38894881]\n",
      "    - computed part:      [0.0  0.0  1.38894881]\n",
      "  > Dipole moment (a.u.): [0.0  0.0  -0.00000011]  Total: 0.00000011\n",
      "                 (debye): [0.0  0.0  -0.00000029]  Total: 0.00000029\n",
      " \n"
     ]
    }
   ],
   "source": [
    "# Calculate Ground State Energy of H2\n",
    "from qiskit_nature.drivers import UnitsType, Molecule\n",
    "from qiskit_nature.drivers.second_quantization import (\n",
    "    ElectronicStructureDriverType,\n",
    "    ElectronicStructureMoleculeDriver,\n",
    ")\n",
    "from qiskit_nature.problems.second_quantization import ElectronicStructureProblem\n",
    "from qiskit_nature.converters.second_quantization import QubitConverter\n",
    "from qiskit_nature.mappers.second_quantization import JordanWignerMapper\n",
    "from qiskit.utils import QuantumInstance\n",
    "from qiskit_nature.algorithms import VQEUCCFactory\n",
    "from qiskit_nature.algorithms import GroundStateEigensolver\n",
    "\n",
    "molecule = Molecule(\n",
    "    geometry=[[\"H\", [0.0, 0.0, 0.0]], [\"H\", [0.0, 0.0, 0.735]]], charge=0, multiplicity=1\n",
    ")\n",
    "driver = ElectronicStructureMoleculeDriver(\n",
    "    molecule, basis=\"sto3g\", driver_type=ElectronicStructureDriverType.PYSCF\n",
    ")\n",
    "\n",
    "es_problem = ElectronicStructureProblem(driver)\n",
    "qubit_converter = QubitConverter(JordanWignerMapper())\n",
    "\n",
    "quantum_instance = QuantumInstance(backend=Aer.get_backend(\"aer_simulator_statevector\"))\n",
    "vqe_solver = VQEUCCFactory(quantum_instance=quantum_instance)\n",
    "\n",
    "calc = GroundStateEigensolver(qubit_converter, vqe_solver)\n",
    "res = calc.solve(es_problem)\n",
    "\n",
    "print(res)"
   ]
  },
  {
   "cell_type": "markdown",
   "id": "4d645cf6-ce3f-411f-9e62-2c7163b858bf",
   "metadata": {},
   "source": [
    "# High Level Applications - Qiskit Machine Learning"
   ]
  },
  {
   "cell_type": "code",
   "execution_count": 38,
   "id": "70d5989d-142d-4174-9568-40d1ce3a1cbb",
   "metadata": {},
   "outputs": [
    {
     "name": "stdout",
     "output_type": "stream",
     "text": [
      "Requirement already satisfied: qiskit-machine-learning in /opt/conda/lib/python3.8/site-packages (0.4.0)\n",
      "Requirement already satisfied: scipy>=1.4 in /opt/conda/lib/python3.8/site-packages (from qiskit-machine-learning) (1.8.0)\n",
      "Requirement already satisfied: scikit-learn>=0.20.0 in /opt/conda/lib/python3.8/site-packages (from qiskit-machine-learning) (1.1.3)\n",
      "Requirement already satisfied: dill>=0.3.4 in /opt/conda/lib/python3.8/site-packages (from qiskit-machine-learning) (0.3.4)\n",
      "Requirement already satisfied: fastdtw in /opt/conda/lib/python3.8/site-packages (from qiskit-machine-learning) (0.3.4)\n",
      "Requirement already satisfied: numpy>=1.17 in /opt/conda/lib/python3.8/site-packages (from qiskit-machine-learning) (1.22.4)\n",
      "Requirement already satisfied: setuptools>=40.1.0 in /opt/conda/lib/python3.8/site-packages (from qiskit-machine-learning) (61.2.0)\n",
      "Requirement already satisfied: qiskit-terra>=0.20.0 in /opt/conda/lib/python3.8/site-packages (from qiskit-machine-learning) (0.22.2)\n",
      "Requirement already satisfied: psutil>=5 in /opt/conda/lib/python3.8/site-packages (from qiskit-machine-learning) (5.9.0)\n",
      "Requirement already satisfied: sympy>=1.3 in /opt/conda/lib/python3.8/site-packages (from qiskit-terra>=0.20.0->qiskit-machine-learning) (1.10.1)\n",
      "Requirement already satisfied: symengine>=0.9 in /opt/conda/lib/python3.8/site-packages (from qiskit-terra>=0.20.0->qiskit-machine-learning) (0.9.2)\n",
      "Requirement already satisfied: python-dateutil>=2.8.0 in /opt/conda/lib/python3.8/site-packages (from qiskit-terra>=0.20.0->qiskit-machine-learning) (2.8.2)\n",
      "Requirement already satisfied: tweedledum<2.0,>=1.1 in /opt/conda/lib/python3.8/site-packages (from qiskit-terra>=0.20.0->qiskit-machine-learning) (1.1.1)\n",
      "Requirement already satisfied: retworkx>=0.11.0 in /opt/conda/lib/python3.8/site-packages (from qiskit-terra>=0.20.0->qiskit-machine-learning) (0.11.0)\n",
      "Requirement already satisfied: stevedore>=3.0.0 in /opt/conda/lib/python3.8/site-packages (from qiskit-terra>=0.20.0->qiskit-machine-learning) (3.5.0)\n",
      "Requirement already satisfied: ply>=3.10 in /opt/conda/lib/python3.8/site-packages (from qiskit-terra>=0.20.0->qiskit-machine-learning) (3.11)\n",
      "Requirement already satisfied: six>=1.5 in /opt/conda/lib/python3.8/site-packages (from python-dateutil>=2.8.0->qiskit-terra>=0.20.0->qiskit-machine-learning) (1.16.0)\n",
      "Requirement already satisfied: threadpoolctl>=2.0.0 in /opt/conda/lib/python3.8/site-packages (from scikit-learn>=0.20.0->qiskit-machine-learning) (3.1.0)\n",
      "Requirement already satisfied: joblib>=1.0.0 in /opt/conda/lib/python3.8/site-packages (from scikit-learn>=0.20.0->qiskit-machine-learning) (1.2.0)\n",
      "Requirement already satisfied: pbr!=2.1.0,>=2.0.0 in /opt/conda/lib/python3.8/site-packages (from stevedore>=3.0.0->qiskit-terra>=0.20.0->qiskit-machine-learning) (5.8.1)\n",
      "Requirement already satisfied: mpmath>=0.19 in /opt/conda/lib/python3.8/site-packages (from sympy>=1.3->qiskit-terra>=0.20.0->qiskit-machine-learning) (1.2.1)\n"
     ]
    }
   ],
   "source": [
    "!pip install qiskit-machine-learning"
   ]
  },
  {
   "cell_type": "code",
   "execution_count": 39,
   "id": "392bd1c0-4d87-43a7-a5aa-84149aba2b25",
   "metadata": {},
   "outputs": [
    {
     "name": "stdout",
     "output_type": "stream",
     "text": [
      "Accuracy: 0.45\n"
     ]
    },
    {
     "data": {
      "image/png": "[encoded data removed]",
      "text/plain": [
       "<Figure size 432x288 with 1 Axes>"
      ]
     },
     "metadata": {
      "needs_background": "light"
     },
     "output_type": "display_data"
    }
   ],
   "source": [
    "# Necessary imports\n",
    "\n",
    "import numpy as np\n",
    "import matplotlib.pyplot as plt\n",
    "\n",
    "from torch import Tensor\n",
    "from torch.nn import Linear, CrossEntropyLoss, MSELoss\n",
    "from torch.optim import LBFGS\n",
    "\n",
    "from qiskit import Aer, QuantumCircuit\n",
    "from qiskit.utils import QuantumInstance, algorithm_globals\n",
    "from qiskit.opflow import AerPauliExpectation\n",
    "from qiskit.circuit import Parameter\n",
    "from qiskit.circuit.library import RealAmplitudes, ZZFeatureMap\n",
    "from qiskit_machine_learning.neural_networks import CircuitQNN, TwoLayerQNN\n",
    "from qiskit_machine_learning.connectors import TorchConnector\n",
    "\n",
    "# Set seed for random generators\n",
    "algorithm_globals.random_seed = 42\n",
    "\n",
    "# declare quantum instance\n",
    "qi = QuantumInstance(Aer.get_backend(\"aer_simulator_statevector\"))\n",
    "\n",
    "# Generate random dataset\n",
    "\n",
    "# Select dataset dimension (num_inputs) and size (num_samples)\n",
    "num_inputs = 2\n",
    "num_samples = 20\n",
    "\n",
    "# Generate random input coordinates (X) and binary labels (y)\n",
    "X = 2 * algorithm_globals.random.random([num_samples, num_inputs]) - 1\n",
    "y01 = 1 * (np.sum(X, axis=1) >= 0)  # in { 0,  1}, y01 will be used for CircuitQNN example\n",
    "y = 2 * y01 - 1  # in {-1, +1}, y will be used for OplowQNN example\n",
    "\n",
    "# Convert to torch Tensors\n",
    "X_ = Tensor(X)\n",
    "y01_ = Tensor(y01).reshape(len(y)).long()\n",
    "y_ = Tensor(y).reshape(len(y), 1)\n",
    "\n",
    "# Define feature map and ansatz\n",
    "feature_map = ZZFeatureMap(num_inputs)\n",
    "ansatz = RealAmplitudes(num_inputs, entanglement=\"linear\", reps=1)\n",
    "\n",
    "# Define quantum circuit of num_qubits = input dim\n",
    "# Append feature map and ansatz\n",
    "qc = QuantumCircuit(num_inputs)\n",
    "qc.append(feature_map, range(num_inputs))\n",
    "qc.append(ansatz, range(num_inputs))\n",
    "\n",
    "\n",
    "# Define CircuitQNN and initial setup\n",
    "parity = lambda x: \"{:b}\".format(x).count(\"1\") % 2  # optional interpret function\n",
    "output_shape = 2  # parity = 0, 1\n",
    "qnn2 = CircuitQNN(\n",
    "    qc,\n",
    "    input_params=feature_map.parameters,\n",
    "    weight_params=ansatz.parameters,\n",
    "    interpret=parity,\n",
    "    output_shape=output_shape,\n",
    "    quantum_instance=qi,\n",
    ")\n",
    "\n",
    "# Set up PyTorch module\n",
    "# Reminder: If we don't explicitly declare the initial weights\n",
    "# they are chosen uniformly at random from [-1, 1].\n",
    "initial_weights = 0.1 * (2 * algorithm_globals.random.random(qnn2.num_weights) - 1)\n",
    "model2 = TorchConnector(qnn2, initial_weights)\n",
    "\n",
    "# Define model, optimizer, and loss\n",
    "optimizer = LBFGS(model2.parameters())\n",
    "f_loss = CrossEntropyLoss()  # Our output will be in the [0,1] range\n",
    "\n",
    "# Start training\n",
    "model2.train()\n",
    "\n",
    "# Define LBFGS closure method (explained in previous section)\n",
    "def closure():\n",
    "    optimizer.zero_grad(set_to_none=True)  # Initialize gradient\n",
    "    loss = f_loss(model2(X_), y01_)  # Calculate loss\n",
    "    loss.backward()  # Backward pass\n",
    "    return loss\n",
    "\n",
    "\n",
    "# Run optimizer (LBFGS requires closure)\n",
    "optimizer.step(closure);\n",
    "\n",
    "# Evaluate model and compute accuracy\n",
    "y_predict = []\n",
    "for x in X:\n",
    "    output = model2(Tensor(x))\n",
    "    y_predict += [np.argmax(output.detach().numpy())]\n",
    "\n",
    "print(\"Accuracy:\", sum(y_predict == y01) / len(y01))\n",
    "\n",
    "# plot results\n",
    "# red == wrongly classified\n",
    "for x, y_target, y_ in zip(X, y01, y_predict):\n",
    "    if y_target == 1:\n",
    "        plt.plot(x[0], x[1], \"bo\")\n",
    "    else:\n",
    "        plt.plot(x[0], x[1], \"go\")\n",
    "    if y_target != y_:\n",
    "        plt.scatter(x[0], x[1], s=200, facecolors=\"none\", edgecolors=\"r\", linewidths=2)\n",
    "plt.plot([-1, 1], [1, -1], \"--\", color=\"black\")\n",
    "plt.show()"
   ]
  },
  {
   "cell_type": "markdown",
   "id": "d9a9e00d-bfd3-4655-8d60-39272095d1ab",
   "metadata": {},
   "source": [
    "# Low Level Applications - Qiskit Experiments (aka qiskit ignis)"
   ]
  },
  {
   "cell_type": "markdown",
   "id": "dbd6e0ab-c0ed-4b5b-8b9b-df94c898bed0",
   "metadata": {},
   "source": [
    "**E.g. Randomised Benchmarking**  \n",
    "A randomized benchmarking (RB) experiment consists of the generation of random Clifford circuits on the given qubits such that the unitary computed by the circuits is the identity. After running the circuits, the number of shots resulting in an error (i.e. an output different than the ground state) are counted, and from this data one can infer error estimates for the quantum device, by calculating the Error Per Clifford. See Qiskit Textbook for an explanation on the RB method"
   ]
  },
  {
   "cell_type": "code",
   "execution_count": 73,
   "id": "467b1596-0e05-4531-87b0-b7bbcb8a251d",
   "metadata": {},
   "outputs": [
    {
     "name": "stdout",
     "output_type": "stream",
     "text": [
      "Requirement already satisfied: qiskit-experiments in /opt/conda/lib/python3.8/site-packages (0.4.0)\n",
      "Requirement already satisfied: qiskit-ibmq-provider>=0.16.0 in /opt/conda/lib/python3.8/site-packages (from qiskit-experiments) (0.19.2)\n",
      "Requirement already satisfied: scipy>=1.4 in /opt/conda/lib/python3.8/site-packages (from qiskit-experiments) (1.8.0)\n",
      "Requirement already satisfied: qiskit-terra>=0.21.1 in /opt/conda/lib/python3.8/site-packages (from qiskit-experiments) (0.22.2)\n",
      "Requirement already satisfied: qiskit-ibm-experiment>=0.2.5 in /opt/conda/lib/python3.8/site-packages (from qiskit-experiments) (0.2.7)\n",
      "Requirement already satisfied: numpy>=1.17 in /opt/conda/lib/python3.8/site-packages (from qiskit-experiments) (1.22.4)\n",
      "Requirement already satisfied: lmfit in /opt/conda/lib/python3.8/site-packages (from qiskit-experiments) (1.0.3)\n",
      "Requirement already satisfied: matplotlib>=3.4 in /opt/conda/lib/python3.8/site-packages (from qiskit-experiments) (3.5.1)\n",
      "Requirement already satisfied: uncertainties in /opt/conda/lib/python3.8/site-packages (from qiskit-experiments) (3.1.6)\n",
      "Requirement already satisfied: cycler>=0.10 in /opt/conda/lib/python3.8/site-packages (from matplotlib>=3.4->qiskit-experiments) (0.11.0)\n",
      "Requirement already satisfied: fonttools>=4.22.0 in /opt/conda/lib/python3.8/site-packages (from matplotlib>=3.4->qiskit-experiments) (4.31.2)\n",
      "Requirement already satisfied: pyparsing>=2.2.1 in /opt/conda/lib/python3.8/site-packages (from matplotlib>=3.4->qiskit-experiments) (3.0.7)\n",
      "Requirement already satisfied: pillow>=6.2.0 in /opt/conda/lib/python3.8/site-packages (from matplotlib>=3.4->qiskit-experiments) (9.0.1)\n",
      "Requirement already satisfied: kiwisolver>=1.0.1 in /opt/conda/lib/python3.8/site-packages (from matplotlib>=3.4->qiskit-experiments) (1.4.2)\n",
      "Requirement already satisfied: packaging>=20.0 in /opt/conda/lib/python3.8/site-packages (from matplotlib>=3.4->qiskit-experiments) (21.3)\n",
      "Requirement already satisfied: python-dateutil>=2.7 in /opt/conda/lib/python3.8/site-packages (from matplotlib>=3.4->qiskit-experiments) (2.8.2)\n",
      "Requirement already satisfied: six>=1.5 in /opt/conda/lib/python3.8/site-packages (from python-dateutil>=2.7->matplotlib>=3.4->qiskit-experiments) (1.16.0)\n",
      "Requirement already satisfied: requests>=2.19 in /opt/conda/lib/python3.8/site-packages (from qiskit-ibm-experiment>=0.2.5->qiskit-experiments) (2.27.1)\n",
      "Requirement already satisfied: pandas>=1.3.0 in /opt/conda/lib/python3.8/site-packages (from qiskit-ibm-experiment>=0.2.5->qiskit-experiments) (1.3.5)\n",
      "Requirement already satisfied: requests-ntlm>=1.1.0 in /opt/conda/lib/python3.8/site-packages (from qiskit-ibm-experiment>=0.2.5->qiskit-experiments) (1.1.0)\n",
      "Requirement already satisfied: urllib3>=1.21.1 in /opt/conda/lib/python3.8/site-packages (from qiskit-ibm-experiment>=0.2.5->qiskit-experiments) (1.26.9)\n",
      "Requirement already satisfied: typing-extensions>=4.0.0 in /opt/conda/lib/python3.8/site-packages (from qiskit-ibm-experiment>=0.2.5->qiskit-experiments) (4.4.0)\n",
      "Requirement already satisfied: pytz>=2017.3 in /opt/conda/lib/python3.8/site-packages (from pandas>=1.3.0->qiskit-ibm-experiment>=0.2.5->qiskit-experiments) (2022.5)\n",
      "Requirement already satisfied: websocket-client>=1.0.1 in /opt/conda/lib/python3.8/site-packages (from qiskit-ibmq-provider>=0.16.0->qiskit-experiments) (1.3.2)\n",
      "Requirement already satisfied: websockets>=10.0 in /opt/conda/lib/python3.8/site-packages (from qiskit-ibmq-provider>=0.16.0->qiskit-experiments) (10.4)\n",
      "Requirement already satisfied: psutil>=5 in /opt/conda/lib/python3.8/site-packages (from qiskit-terra>=0.21.1->qiskit-experiments) (5.9.0)\n",
      "Requirement already satisfied: sympy>=1.3 in /opt/conda/lib/python3.8/site-packages (from qiskit-terra>=0.21.1->qiskit-experiments) (1.10.1)\n",
      "Requirement already satisfied: dill>=0.3 in /opt/conda/lib/python3.8/site-packages (from qiskit-terra>=0.21.1->qiskit-experiments) (0.3.4)\n",
      "Requirement already satisfied: retworkx>=0.11.0 in /opt/conda/lib/python3.8/site-packages (from qiskit-terra>=0.21.1->qiskit-experiments) (0.11.0)\n",
      "Requirement already satisfied: ply>=3.10 in /opt/conda/lib/python3.8/site-packages (from qiskit-terra>=0.21.1->qiskit-experiments) (3.11)\n",
      "Requirement already satisfied: tweedledum<2.0,>=1.1 in /opt/conda/lib/python3.8/site-packages (from qiskit-terra>=0.21.1->qiskit-experiments) (1.1.1)\n",
      "Requirement already satisfied: symengine>=0.9 in /opt/conda/lib/python3.8/site-packages (from qiskit-terra>=0.21.1->qiskit-experiments) (0.9.2)\n",
      "Requirement already satisfied: stevedore>=3.0.0 in /opt/conda/lib/python3.8/site-packages (from qiskit-terra>=0.21.1->qiskit-experiments) (3.5.0)\n",
      "Requirement already satisfied: charset-normalizer~=2.0.0 in /opt/conda/lib/python3.8/site-packages (from requests>=2.19->qiskit-ibm-experiment>=0.2.5->qiskit-experiments) (2.0.12)\n",
      "Requirement already satisfied: idna<4,>=2.5 in /opt/conda/lib/python3.8/site-packages (from requests>=2.19->qiskit-ibm-experiment>=0.2.5->qiskit-experiments) (3.3)\n",
      "Requirement already satisfied: certifi>=2017.4.17 in /opt/conda/lib/python3.8/site-packages (from requests>=2.19->qiskit-ibm-experiment>=0.2.5->qiskit-experiments) (2021.10.8)\n",
      "Requirement already satisfied: ntlm-auth>=1.0.2 in /opt/conda/lib/python3.8/site-packages (from requests-ntlm>=1.1.0->qiskit-ibm-experiment>=0.2.5->qiskit-experiments) (1.5.0)\n",
      "Requirement already satisfied: cryptography>=1.3 in /opt/conda/lib/python3.8/site-packages (from requests-ntlm>=1.1.0->qiskit-ibm-experiment>=0.2.5->qiskit-experiments) (36.0.2)\n",
      "Requirement already satisfied: cffi>=1.12 in /opt/conda/lib/python3.8/site-packages (from cryptography>=1.3->requests-ntlm>=1.1.0->qiskit-ibm-experiment>=0.2.5->qiskit-experiments) (1.15.0)\n",
      "Requirement already satisfied: pycparser in /opt/conda/lib/python3.8/site-packages (from cffi>=1.12->cryptography>=1.3->requests-ntlm>=1.1.0->qiskit-ibm-experiment>=0.2.5->qiskit-experiments) (2.21)\n",
      "Requirement already satisfied: pbr!=2.1.0,>=2.0.0 in /opt/conda/lib/python3.8/site-packages (from stevedore>=3.0.0->qiskit-terra>=0.21.1->qiskit-experiments) (5.8.1)\n",
      "Requirement already satisfied: mpmath>=0.19 in /opt/conda/lib/python3.8/site-packages (from sympy>=1.3->qiskit-terra>=0.21.1->qiskit-experiments) (1.2.1)\n",
      "Requirement already satisfied: asteval>=0.9.22 in /opt/conda/lib/python3.8/site-packages (from lmfit->qiskit-experiments) (0.9.27)\n",
      "Requirement already satisfied: future in /opt/conda/lib/python3.8/site-packages (from uncertainties->qiskit-experiments) (0.18.2)\n"
     ]
    }
   ],
   "source": [
    "!pip install qiskit-experiments"
   ]
  },
  {
   "cell_type": "code",
   "execution_count": 76,
   "id": "73b25234-c150-46c3-b498-df3fc2591186",
   "metadata": {},
   "outputs": [
    {
     "name": "stderr",
     "output_type": "stream",
     "text": [
      "Adding a job from a backend (aer_simulator) that is different than the current backend (fake_belem). The new backend will be used, but service is not changed if one already exists.\n"
     ]
    },
    {
     "name": "stdout",
     "output_type": "stream",
     "text": [
      "Gate error ratio: {'rz': 0.0, 'sx': 1.0, 'x': 1.0}\n"
     ]
    },
    {
     "data": {
      "image/png": "[encoded data removed]",
      "text/plain": [
       "<qiskit_experiments.framework.experiment_data.FigureData at 0x7fb56697d040>"
      ]
     },
     "metadata": {},
     "output_type": "display_data"
    },
    {
     "name": "stdout",
     "output_type": "stream",
     "text": [
      "AnalysisResult\n",
      "- name: @Parameters_RBAnalysis\n",
      "- value: CurveFitResult:\n",
      " - fitting method: least_squares\n",
      " - number of sub-models: 1\n",
      "  * F_rb_decay(x) = a * alpha ** x + b\n",
      " - success: True\n",
      " - number of function evals: 14\n",
      " - degree of freedom: 1\n",
      " - chi-square: 1.5572362575634966\n",
      " - reduced chi-square: 1.5572362575634966\n",
      " - Akaike info crit.: 2.2264730367302485\n",
      " - Bayesian info crit.: 0.38535612008992004\n",
      " - init params:\n",
      "  * a = 0.4768135813224808\n",
      "  * alpha = 0.9993167634958544\n",
      "  * b = 0.5\n",
      " - fit params:\n",
      "  * a = 0.5508343021377039 ± 0.2086215650934264\n",
      "  * alpha = 0.9994190405787301 ± 0.0002571766188405303\n",
      "  * b = 0.426368805967822 ± 0.20934000727419808\n",
      " - correlations:\n",
      "  * (a, b) = -0.9999573876604689\n",
      "  * (alpha, b) = -0.998720753168147\n",
      "  * (a, alpha) = 0.9983704728950054\n",
      "- quality: good\n",
      "- device_components: ['Q0']\n",
      "- verified: False\n",
      "AnalysisResult\n",
      "- name: alpha\n",
      "- value: 0.99942+/-0.00026\n",
      "- χ²: 1.5572362575634966\n",
      "- quality: good\n",
      "- device_components: ['Q0']\n",
      "- verified: False\n",
      "AnalysisResult\n",
      "- name: EPC\n",
      "- value: 0.00029+/-0.00013\n",
      "- χ²: 1.5572362575634966\n",
      "- quality: good\n",
      "- device_components: ['Q0']\n",
      "- verified: False\n",
      "AnalysisResult\n",
      "- name: EPG_rz\n",
      "- value: 0.0+/-0\n",
      "- χ²: 1.5572362575634966\n",
      "- quality: good\n",
      "- device_components: ['Q0']\n",
      "- verified: False\n",
      "AnalysisResult\n",
      "- name: EPG_sx\n",
      "- value: 0.00018+/-0.00008\n",
      "- χ²: 1.5572362575634966\n",
      "- quality: good\n",
      "- device_components: ['Q0']\n",
      "- verified: False\n",
      "AnalysisResult\n",
      "- name: EPG_x\n",
      "- value: 0.00018+/-0.00008\n",
      "- χ²: 1.5572362575634966\n",
      "- quality: good\n",
      "- device_components: ['Q0']\n",
      "- verified: False\n"
     ]
    }
   ],
   "source": [
    "import numpy as np\n",
    "from qiskit_experiments.library import StandardRB, InterleavedRB\n",
    "from qiskit_experiments.framework import ParallelExperiment, BatchExperiment\n",
    "import qiskit.circuit.library as circuits\n",
    "from qiskit.providers.fake_provider import FakeBelem\n",
    "\n",
    "\n",
    "backend = FakeBelem()\n",
    "\n",
    "lengths = np.arange(1, 800, 200)\n",
    "num_samples = 10\n",
    "seed = 1010\n",
    "qubits = [0]\n",
    "\n",
    "# Run an RB experiment on qubit 0\n",
    "exp1 = StandardRB(qubits, lengths, num_samples=num_samples, seed=seed)\n",
    "expdata1 = exp1.run(backend).block_for_results()\n",
    "results1 = expdata1.analysis_results()\n",
    "\n",
    "# View result data\n",
    "print(\"Gate error ratio: %s\" % expdata1.experiment.analysis.options.gate_error_ratio)\n",
    "display(expdata1.figure(0))\n",
    "for result in results1:\n",
    "    print(result)"
   ]
  },
  {
   "cell_type": "markdown",
   "id": "a4222ace-f682-4760-8238-e1340e29520b",
   "metadata": {},
   "source": [
    "# What Next?\n",
    "\n",
    "![](community_links.png)"
   ]
  },
  {
   "cell_type": "code",
   "execution_count": null,
   "id": "bf15034f-86e6-4d3e-9fad-02568afca4c1",
   "metadata": {},
   "outputs": [],
   "source": []
  }
 ],
 "metadata": {
  "kernelspec": {
   "display_name": "Python 3",
   "language": "python",
   "name": "python3"
  },
  "language_info": {
   "codemirror_mode": {
    "name": "ipython",
    "version": 3
   },
   "file_extension": ".py",
   "mimetype": "text/x-python",
   "name": "python",
   "nbconvert_exporter": "python",
   "pygments_lexer": "ipython3",
   "version": "3.9.7"
  },
  "widgets": {
   "application/vnd.jupyter.widget-state+json": {
    "state": {
     "003dcfe4370d442db5c7686bfe767658": {
      "model_module": "@jupyter-widgets/base",
      "model_module_version": "1.2.0",
      "model_name": "LayoutModel",
      "state": {
       "justify_content": "center",
       "max_width": "250px",
       "min_width": "250px"
      }
     },
     "00c18bf1ae04441cbbe444ee58a9463b": {
      "model_module": "@jupyter-widgets/base",
      "model_module_version": "1.2.0",
      "model_name": "LayoutModel",
      "state": {
       "grid_area": "right"
      }
     },
     "00d5ec596ec648f9aa38240383e81c06": {
      "model_module": "@jupyter-widgets/controls",
      "model_module_version": "1.5.0",
      "model_name": "VBoxModel",
      "state": {
       "children": [
        "IPY_MODEL_0518ec9e1f5c42f1810cf8d3ed7941fc",
        "IPY_MODEL_bca1263d6ee84beb913f61f664294814",
        "IPY_MODEL_6518bae4296849139985872c12f13bdf",
        "IPY_MODEL_5f6cd7682e3d439fa86289f011bc75b5",
        "IPY_MODEL_8342d01217d545a7b8f6ae20afb32f5d",
        "IPY_MODEL_6a6d6cdfdeaa4d6da05f96a710dc0665",
        "IPY_MODEL_a42948c9589649b78ac31334faa117e9",
        "IPY_MODEL_d2dc8df04d0a4fdb8cbf1c6231e8c029",
        "IPY_MODEL_829c7fb48278437789f18ddaf84f5f2e",
        "IPY_MODEL_d7fc6d8efc0d496fbb4816a590cab9cb"
       ],
       "layout": "IPY_MODEL_62d6d97631794abb88bed5445e50a8cc"
      }
     },
     "01255ed0e46440f9bd055afa7d1922be": {
      "model_module": "@jupyter-widgets/controls",
      "model_module_version": "1.5.0",
      "model_name": "DescriptionStyleModel",
      "state": {
       "description_width": ""
      }
     },
     "0154a4e90c3c4bb48995ca2cdf14ea5f": {
      "model_module": "@jupyter-widgets/output",
      "model_module_version": "1.0.0",
      "model_name": "OutputModel",
      "state": {
       "layout": "IPY_MODEL_b1ded82bb6f44647abb2f4dc700fee93",
       "outputs": [
        {
         "data": {
          "image/png": "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\n",
          "text/plain": "<Figure size 360x360 with 1 Axes>"
         },
         "metadata": {},
         "output_type": "display_data"
        }
       ]
      }
     },
     "0275e4ed70754c9791a4543396e6afde": {
      "model_module": "@jupyter-widgets/controls",
      "model_module_version": "1.5.0",
      "model_name": "HBoxModel",
      "state": {
       "children": [
        "IPY_MODEL_8d22474960684112a93c53584022d176",
        "IPY_MODEL_55b41723eca240eaad34167c9cf325eb",
        "IPY_MODEL_0bd543feb4174fcaa9d55b979207b5fc"
       ],
       "layout": "IPY_MODEL_9ef0a9208436442f803c53475293efe1"
      }
     },
     "02c6b9379d6f4d03898242320ce1eccd": {
      "model_module": "@jupyter-widgets/controls",
      "model_module_version": "1.5.0",
      "model_name": "DescriptionStyleModel",
      "state": {
       "description_width": ""
      }
     },
     "031e3963c7694565986fc80b50a8d404": {
      "model_module": "@jupyter-widgets/base",
      "model_module_version": "1.2.0",
      "model_name": "LayoutModel",
      "state": {
       "margin": "0px 0px 0px 0px"
      }
     },
     "0486b73f23d9458baed5cac912e751fa": {
      "model_module": "@jupyter-widgets/base",
      "model_module_version": "1.2.0",
      "model_name": "LayoutModel",
      "state": {
       "justify_content": "center"
      }
     },
     "0497a33f17214883822595b0d5db96e9": {
      "model_module": "@jupyter-widgets/base",
      "model_module_version": "1.2.0",
      "model_name": "LayoutModel",
      "state": {
       "border": "4px solid #000000",
       "max_height": "650px",
       "min_height": "650px",
       "overflow_y": "hidden"
      }
     },
     "0518ec9e1f5c42f1810cf8d3ed7941fc": {
      "model_module": "@jupyter-widgets/controls",
      "model_module_version": "1.5.0",
      "model_name": "HTMLModel",
      "state": {
       "layout": "IPY_MODEL_89f78952564c4807941a94b253a1cb7c",
       "style": "IPY_MODEL_8866b8e98c65430ca95588882b32b99c",
       "value": "<h4>ibmq_lima</h4>"
      }
     },
     "05631fef57f24078a2fcefc8ae653b72": {
      "model_module": "@jupyter-widgets/base",
      "model_module_version": "1.2.0",
      "model_name": "LayoutModel",
      "state": {
       "margin": "8px 0px 0px 0px"
      }
     },
     "0592fb442fbd4cb5a3bf5e5610ad15c4": {
      "model_module": "@jupyter-widgets/base",
      "model_module_version": "1.2.0",
      "model_name": "LayoutModel",
      "state": {
       "min_width": "auto"
      }
     },
     "06cd7f230d86427a8aeb79ebe34e5cab": {
      "model_module": "@jupyter-widgets/controls",
      "model_module_version": "1.5.0",
      "model_name": "DescriptionStyleModel",
      "state": {
       "description_width": ""
      }
     },
     "076436ab64164fb98ba417fbf3df7873": {
      "model_module": "@jupyter-widgets/controls",
      "model_module_version": "1.5.0",
      "model_name": "HTMLModel",
      "state": {
       "layout": "IPY_MODEL_c59b53a302f4442a86894071db83b5de",
       "style": "IPY_MODEL_4de99e0df9444ce3a6e9709a016a0087",
       "value": "<h5 style='color:#34bc6e'>True</h5>"
      }
     },
     "07b98c271c7f42dcadd60104d1fc5ea9": {
      "model_module": "@jupyter-widgets/controls",
      "model_module_version": "1.5.0",
      "model_name": "DescriptionStyleModel",
      "state": {
       "description_width": ""
      }
     },
     "07bfb5d152e0463c9468b7e05af9ca2d": {
      "model_module": "@jupyter-widgets/base",
      "model_module_version": "1.2.0",
      "model_name": "LayoutModel",
      "state": {}
     },
     "07f1ab9f12e84494a54247ba6645b6c7": {
      "model_module": "@jupyter-widgets/controls",
      "model_module_version": "1.5.0",
      "model_name": "DescriptionStyleModel",
      "state": {
       "description_width": ""
      }
     },
     "08102474029b4feaa473bee01de5569c": {
      "model_module": "@jupyter-widgets/base",
      "model_module_version": "1.2.0",
      "model_name": "LayoutModel",
      "state": {
       "grid_template_areas": "\n                                       \". . . . right \"\n                                        ",
       "grid_template_columns": "20% 20% 20% 20% 20%",
       "width": "100%"
      }
     },
     "08450a1479b94cd78138e84397d9e1d0": {
      "model_module": "@jupyter-widgets/base",
      "model_module_version": "1.2.0",
      "model_name": "LayoutModel",
      "state": {}
     },
     "0896ed06276447639c4a3b635e4f5088": {
      "model_module": "@jupyter-widgets/controls",
      "model_module_version": "1.5.0",
      "model_name": "HTMLModel",
      "state": {
       "layout": "IPY_MODEL_07bfb5d152e0463c9468b7e05af9ca2d",
       "style": "IPY_MODEL_4c6c6b5794964ed08fc6d8f53806b540",
       "value": "<h5>0.0122</h5>"
      }
     },
     "0aeece7084984cd8ad8f2865f12877c9": {
      "model_module": "@jupyter-widgets/base",
      "model_module_version": "1.2.0",
      "model_name": "LayoutModel",
      "state": {}
     },
     "0b081e664b6e4d7ea17e024305259570": {
      "model_module": "@jupyter-widgets/controls",
      "model_module_version": "1.5.0",
      "model_name": "GridBoxModel",
      "state": {
       "children": [
        "IPY_MODEL_6f59c41f03e2418db3f11c7eee357d13"
       ],
       "layout": "IPY_MODEL_08102474029b4feaa473bee01de5569c"
      }
     },
     "0b4118352b8a43a08adce9a68ae4afe8": {
      "model_module": "@jupyter-widgets/controls",
      "model_module_version": "1.5.0",
      "model_name": "DescriptionStyleModel",
      "state": {
       "description_width": ""
      }
     },
     "0ba85490c0ca4af4aec556573759b328": {
      "model_module": "@jupyter-widgets/controls",
      "model_module_version": "1.5.0",
      "model_name": "DescriptionStyleModel",
      "state": {
       "description_width": ""
      }
     },
     "0bd543feb4174fcaa9d55b979207b5fc": {
      "model_module": "@jupyter-widgets/controls",
      "model_module_version": "1.5.0",
      "model_name": "LabelModel",
      "state": {
       "layout": "IPY_MODEL_2ab69705ffc34355a067f2472b1a220d",
       "style": "IPY_MODEL_eeb2afd2a1324ba4a82883c4e10dccb0",
       "value": "219"
      }
     },
     "0c5cadb46cdf4147a9ffee03159a6c32": {
      "model_module": "@jupyter-widgets/base",
      "model_module_version": "1.2.0",
      "model_name": "LayoutModel",
      "state": {}
     },
     "0d56bfdce94844919fb84b5538946c0c": {
      "model_module": "@jupyter-widgets/controls",
      "model_module_version": "1.5.0",
      "model_name": "DescriptionStyleModel",
      "state": {
       "description_width": ""
      }
     },
     "0e34c89bae3848a9a6b0efbf63a62ab2": {
      "model_module": "@jupyter-widgets/controls",
      "model_module_version": "1.5.0",
      "model_name": "HTMLModel",
      "state": {
       "layout": "IPY_MODEL_2eb7dd263c9940f99362303827066ab1",
       "style": "IPY_MODEL_1e1a5ca6127f4cf6afc04f9cb2e5f226",
       "value": "<h5>0.025</h5>"
      }
     },
     "102645d3433a46bc9c85e009d43740b6": {
      "model_module": "@jupyter-widgets/controls",
      "model_module_version": "1.5.0",
      "model_name": "LabelModel",
      "state": {
       "layout": "IPY_MODEL_4f5b60384efc424b95e517c3ae09fa8d",
       "style": "IPY_MODEL_36f00cb0c1aa4652a7ad94f250574bf0",
       "value": "83"
      }
     },
     "107e53e9519d4776aeed5d36b35b23f6": {
      "model_module": "@jupyter-widgets/controls",
      "model_module_version": "1.5.0",
      "model_name": "HTMLModel",
      "state": {
       "layout": "IPY_MODEL_69d8d752bbe34d59b8b8a8442d2b9ff9",
       "style": "IPY_MODEL_93b2907018e14cb9a152b8f4156ad2ba",
       "value": "<h5>149.7 / 85.8 us</h5>"
      }
     },
     "10a03a480ca843c2a773650330370edb": {
      "model_module": "@jupyter-widgets/controls",
      "model_module_version": "1.5.0",
      "model_name": "HTMLModel",
      "state": {
       "layout": "IPY_MODEL_f9a35f7fc6d24cd185293ea3db26d8d6",
       "style": "IPY_MODEL_5b278ef8376142cda5822b3c715a6c10",
       "value": "<h5>0.0456</h5>"
      }
     },
     "115216816adf444db812669448a31559": {
      "model_module": "@jupyter-widgets/controls",
      "model_module_version": "1.5.0",
      "model_name": "DescriptionStyleModel",
      "state": {
       "description_width": ""
      }
     },
     "122b8b4b2ed848a792359850ef4fa20e": {
      "model_module": "@jupyter-widgets/controls",
      "model_module_version": "1.5.0",
      "model_name": "HTMLMathModel",
      "state": {
       "layout": "IPY_MODEL_9d5546dfb3334aa4b7849c07fa95df09",
       "style": "IPY_MODEL_9de003a675e54f86ab427c752629a179",
       "value": "<table><style>\ntable {\n    border-collapse: collapse;\n    width: auto;\n}\n\nth, td {\n    text-align: left;\n    padding: 8px;\n}\n\ntr:nth-child(even) {background-color: #f6f6f6;}\n</style><tr><th>Property</th><th>Value</th></tr><tr><td><font style='font-weight:bold'>n_qubits</font></td><td>5</td></tr><tr><td><font style='font-weight:bold'>quantum_volume</font></td><td>16</td></tr><tr><td><font style='font-weight:bold'>operational</font></td><td>True</td></tr><tr><td><font style='font-weight:bold'>status_msg</font></td><td>active</td></tr><tr><td><font style='font-weight:bold'>pending_jobs</font></td><td>66</td></tr><tr><td><font style='font-weight:bold'>backend_version</font></td><td>1.1.35</td></tr><tr><td><font style='font-weight:bold'>basis_gates</font></td><td>['id', 'rz', 'sx', 'x', 'cx', 'reset']</td></tr><tr><td><font style='font-weight:bold'>max_shots</font></td><td>20000</td></tr><tr><td><font style='font-weight:bold'>max_experiments</font></td><td>100</td></tr></table>"
      }
     },
     "126adb0a5c01478a884dbb5d05453a38": {
      "model_module": "@jupyter-widgets/base",
      "model_module_version": "1.2.0",
      "model_name": "LayoutModel",
      "state": {}
     },
     "12ba9675b52141cda6443b1bc79086de": {
      "model_module": "@jupyter-widgets/output",
      "model_module_version": "1.0.0",
      "model_name": "OutputModel",
      "state": {
       "layout": "IPY_MODEL_33f2e56db61c4ccc9e31b86ee5b6a5a3",
       "outputs": [
        {
         "data": {
          "image/png": "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\n",
          "text/plain": "<Figure size 360x360 with 1 Axes>"
         },
         "metadata": {},
         "output_type": "display_data"
        }
       ]
      }
     },
     "13ca87f23dfc455bada6371f44c3b86d": {
      "model_module": "@jupyter-widgets/controls",
      "model_module_version": "1.5.0",
      "model_name": "DescriptionStyleModel",
      "state": {
       "description_width": ""
      }
     },
     "13cd34cb269f41e48c01b37cd863eaee": {
      "model_module": "@jupyter-widgets/controls",
      "model_module_version": "1.5.0",
      "model_name": "HTMLModel",
      "state": {
       "layout": "IPY_MODEL_5bce8a5df1714361b20da3195daab704",
       "style": "IPY_MODEL_73d5c561d54745229cd6fdc7c7e710b3",
       "value": "<h5>Status</h5>"
      }
     },
     "13dbfab456a043f6b471e35dc92b9da0": {
      "model_module": "@jupyter-widgets/controls",
      "model_module_version": "1.5.0",
      "model_name": "HTMLModel",
      "state": {
       "layout": "IPY_MODEL_a7218f37246144b586c0df90e9f69c05",
       "style": "IPY_MODEL_61e483d7daaa4043be228108c6eafd1d",
       "value": "<h5 style='color:#dc267f'>False</h5>"
      }
     },
     "166a72e2341b4ecbb4355f5b4664b9e9": {
      "model_module": "@jupyter-widgets/controls",
      "model_module_version": "1.5.0",
      "model_name": "ProgressStyleModel",
      "state": {
       "bar_color": "#71cddd",
       "description_width": ""
      }
     },
     "16eb8536420e49929101cc3563a8995b": {
      "model_module": "@jupyter-widgets/controls",
      "model_module_version": "1.5.0",
      "model_name": "DescriptionStyleModel",
      "state": {
       "description_width": ""
      }
     },
     "1787d4e06faf4446b63e25f412ab03da": {
      "model_module": "@jupyter-widgets/base",
      "model_module_version": "1.2.0",
      "model_name": "LayoutModel",
      "state": {
       "align_items": "center",
       "display": "flex-inline"
      }
     },
     "18a10902905a4558a3c4df426c662571": {
      "model_module": "@jupyter-widgets/controls",
      "model_module_version": "1.5.0",
      "model_name": "HTMLModel",
      "state": {
       "layout": "IPY_MODEL_08450a1479b94cd78138e84397d9e1d0",
       "style": "IPY_MODEL_65c8bbe6f65a4e41b330606ed30dbf00",
       "value": "<h5>158.3 / 62.0 us</h5>"
      }
     },
     "199d09c60ac34bd2b1c6ebce071a4340": {
      "model_module": "@jupyter-widgets/controls",
      "model_module_version": "1.5.0",
      "model_name": "LabelModel",
      "state": {
       "layout": "IPY_MODEL_b6fb9574ff7d45cc953291008ca30bb0",
       "style": "IPY_MODEL_d2be7265c9e64b599dbd08465aaaae56",
       "value": "388"
      }
     },
     "1a014b519d40401e810e9bed67ce6241": {
      "model_module": "@jupyter-widgets/controls",
      "model_module_version": "1.5.0",
      "model_name": "HTMLModel",
      "state": {
       "layout": "IPY_MODEL_459ab0fbc6624a1ba351fc6c58000155",
       "style": "IPY_MODEL_8bbf69094f3a4ee886ee17db6c360d0f",
       "value": "<h5 style='color:#34bc6e'>True</h5>"
      }
     },
     "1a8971b082174e9eae4851e4b5d890be": {
      "model_module": "@jupyter-widgets/base",
      "model_module_version": "1.2.0",
      "model_name": "LayoutModel",
      "state": {
       "min_width": "auto"
      }
     },
     "1c1e5d516e664c5986705be6b9d43637": {
      "model_module": "@jupyter-widgets/base",
      "model_module_version": "1.2.0",
      "model_name": "LayoutModel",
      "state": {
       "margin": "0px 0px 0px 0px"
      }
     },
     "1c7419ca9666420ea0313458fc17796b": {
      "model_module": "@jupyter-widgets/controls",
      "model_module_version": "1.5.0",
      "model_name": "DescriptionStyleModel",
      "state": {
       "description_width": ""
      }
     },
     "1cff3f75d015453baa1eeb524af76981": {
      "model_module": "@jupyter-widgets/base",
      "model_module_version": "1.2.0",
      "model_name": "LayoutModel",
      "state": {
       "justify_content": "center"
      }
     },
     "1d06bf0350584f32b082b5f2a259524f": {
      "model_module": "@jupyter-widgets/controls",
      "model_module_version": "1.5.0",
      "model_name": "IntProgressModel",
      "state": {
       "layout": "IPY_MODEL_c7aa3d9d770c49c38064b23acf252fb1",
       "max": 92,
       "style": "IPY_MODEL_c13b5ec3331e418aaa33a0e69b52319d",
       "value": 78
      }
     },
     "1d66b628bffb4112a45c9a3d5c58f67b": {
      "model_module": "@jupyter-widgets/controls",
      "model_module_version": "1.5.0",
      "model_name": "HTMLModel",
      "state": {
       "layout": "IPY_MODEL_d5faca02886142b780612d076cd56b0c",
       "style": "IPY_MODEL_b97334a0271d418aac1ff2c77dc7c5c9",
       "value": "<h5>Queue</h5>"
      }
     },
     "1e16cf62cfba498c94bd0892770079ef": {
      "model_module": "@jupyter-widgets/controls",
      "model_module_version": "1.5.0",
      "model_name": "DescriptionStyleModel",
      "state": {
       "description_width": ""
      }
     },
     "1e1a5ca6127f4cf6afc04f9cb2e5f226": {
      "model_module": "@jupyter-widgets/controls",
      "model_module_version": "1.5.0",
      "model_name": "DescriptionStyleModel",
      "state": {
       "description_width": ""
      }
     },
     "1e1b9aecffe14836959b688a1a70c93c": {
      "model_module": "@jupyter-widgets/controls",
      "model_module_version": "1.5.0",
      "model_name": "LabelModel",
      "state": {
       "layout": "IPY_MODEL_7210587fb79847b8889de814c4865a34",
       "style": "IPY_MODEL_9280bb3e06eb48d394021177c8d7e78e",
       "value": "78"
      }
     },
     "1eaab81ba97f4744a5038b0e69497497": {
      "model_module": "@jupyter-widgets/base",
      "model_module_version": "1.2.0",
      "model_name": "LayoutModel",
      "state": {
       "justify_content": "center"
      }
     },
     "1f3b8e50b06e40429add1949d7b52015": {
      "model_module": "@jupyter-widgets/controls",
      "model_module_version": "1.5.0",
      "model_name": "DescriptionStyleModel",
      "state": {
       "description_width": ""
      }
     },
     "1fc6ad47260a4b97bcb73f6a88d6f7ea": {
      "model_module": "@jupyter-widgets/controls",
      "model_module_version": "1.5.0",
      "model_name": "DescriptionStyleModel",
      "state": {
       "description_width": ""
      }
     },
     "22a3620a941047fda8b0384247cd83af": {
      "model_module": "@jupyter-widgets/controls",
      "model_module_version": "1.5.0",
      "model_name": "DescriptionStyleModel",
      "state": {
       "description_width": ""
      }
     },
     "239521ad9f7048cf974fdc51f39cf982": {
      "model_module": "@jupyter-widgets/controls",
      "model_module_version": "1.5.0",
      "model_name": "HTMLModel",
      "state": {
       "layout": "IPY_MODEL_0486b73f23d9458baed5cac912e751fa",
       "style": "IPY_MODEL_1f3b8e50b06e40429add1949d7b52015",
       "value": "<h5><b>5</b></h5>"
      }
     },
     "25a55463bb3748f2b8e144cbac86f863": {
      "model_module": "@jupyter-widgets/base",
      "model_module_version": "1.2.0",
      "model_name": "LayoutModel",
      "state": {
       "justify_content": "center"
      }
     },
     "277f0526a9434e5abde74a04afd4bf4b": {
      "model_module": "@jupyter-widgets/controls",
      "model_module_version": "1.5.0",
      "model_name": "ProgressStyleModel",
      "state": {
       "bar_color": "#71cddd",
       "description_width": ""
      }
     },
     "29b12ee3f0df4ce8aec33b522eab1815": {
      "model_module": "@jupyter-widgets/base",
      "model_module_version": "1.2.0",
      "model_name": "LayoutModel",
      "state": {
       "justify_content": "center"
      }
     },
     "2ab69705ffc34355a067f2472b1a220d": {
      "model_module": "@jupyter-widgets/base",
      "model_module_version": "1.2.0",
      "model_name": "LayoutModel",
      "state": {
       "min_width": "auto"
      }
     },
     "2afd623fc3ab4ef5a53c67e4dfbf9e13": {
      "model_module": "@jupyter-widgets/controls",
      "model_module_version": "1.5.0",
      "model_name": "HTMLModel",
      "state": {
       "layout": "IPY_MODEL_552663793d684225aa0149892f3a675a",
       "style": "IPY_MODEL_1e16cf62cfba498c94bd0892770079ef",
       "value": "<h5>0.0323</h5>"
      }
     },
     "2b4dd9bdd2f348059f30acc7713d9a3a": {
      "model_module": "@jupyter-widgets/controls",
      "model_module_version": "1.5.0",
      "model_name": "DescriptionStyleModel",
      "state": {
       "description_width": ""
      }
     },
     "2b6536658ca840c69ce5aaeec9f9cc37": {
      "model_module": "@jupyter-widgets/controls",
      "model_module_version": "1.5.0",
      "model_name": "DescriptionStyleModel",
      "state": {
       "description_width": ""
      }
     },
     "2cc5c9389c454b6fad5cf6bf06a80366": {
      "model_module": "@jupyter-widgets/controls",
      "model_module_version": "1.5.0",
      "model_name": "DescriptionStyleModel",
      "state": {
       "description_width": ""
      }
     },
     "2eb7dd263c9940f99362303827066ab1": {
      "model_module": "@jupyter-widgets/base",
      "model_module_version": "1.2.0",
      "model_name": "LayoutModel",
      "state": {}
     },
     "2f1bf778e7924f7c8cdfef156c5c0b88": {
      "model_module": "@jupyter-widgets/controls",
      "model_module_version": "1.5.0",
      "model_name": "HTMLModel",
      "state": {
       "layout": "IPY_MODEL_ee151ba3b97b4887839449b5e8d39f97",
       "style": "IPY_MODEL_aba0f9555f9944bb8b8f69b768add36b",
       "value": "<h5>Message</h5>"
      }
     },
     "2f9b876d88e849b5a5091bcd3fc45c0a": {
      "model_module": "@jupyter-widgets/controls",
      "model_module_version": "1.5.0",
      "model_name": "DescriptionStyleModel",
      "state": {
       "description_width": ""
      }
     },
     "2fc518ed83c84a3facea07f3878b9a3d": {
      "model_module": "@jupyter-widgets/controls",
      "model_module_version": "1.5.0",
      "model_name": "HTMLModel",
      "state": {
       "layout": "IPY_MODEL_126adb0a5c01478a884dbb5d05453a38",
       "style": "IPY_MODEL_07b98c271c7f42dcadd60104d1fc5ea9",
       "value": "<h5>102.2 / 108.3 us</h5>"
      }
     },
     "314facc6243a4089ad53bbef08978d76": {
      "model_module": "@jupyter-widgets/controls",
      "model_module_version": "1.5.0",
      "model_name": "HTMLModel",
      "state": {
       "layout": "IPY_MODEL_61280a560eea469d97288bc8c6a41d07",
       "style": "IPY_MODEL_fdcde19936234b9db90682e88743b459",
       "value": "<h5>32</h5>"
      }
     },
     "3172c8e4a8bf4fb6b1df5f539df46aeb": {
      "model_module": "@jupyter-widgets/controls",
      "model_module_version": "1.5.0",
      "model_name": "LabelModel",
      "state": {
       "layout": "IPY_MODEL_8d517dcff357445384d468ab964b2fcb",
       "style": "IPY_MODEL_06cd7f230d86427a8aeb79ebe34e5cab",
       "value": "Avg. T1 / T2"
      }
     },
     "325b239401ff44f89638aa7e0ece7b73": {
      "model_module": "@jupyter-widgets/base",
      "model_module_version": "1.2.0",
      "model_name": "LayoutModel",
      "state": {
       "justify_content": "center"
      }
     },
     "33c57ebb27dc46bc8674aa6bfa20ec7c": {
      "model_module": "@jupyter-widgets/base",
      "model_module_version": "1.2.0",
      "model_name": "LayoutModel",
      "state": {
       "max_width": "180px"
      }
     },
     "33f2e56db61c4ccc9e31b86ee5b6a5a3": {
      "model_module": "@jupyter-widgets/base",
      "model_module_version": "1.2.0",
      "model_name": "LayoutModel",
      "state": {
       "align_items": "center",
       "justify_content": "center",
       "margin": "0px 0px 0px 0px",
       "max_height": "250px",
       "max_width": "250px",
       "min_height": "250px",
       "min_width": "250px"
      }
     },
     "36f00cb0c1aa4652a7ad94f250574bf0": {
      "model_module": "@jupyter-widgets/controls",
      "model_module_version": "1.5.0",
      "model_name": "DescriptionStyleModel",
      "state": {
       "description_width": ""
      }
     },
     "3724cf80acc64e06bcaf7b7609f8e753": {
      "model_module": "@jupyter-widgets/controls",
      "model_module_version": "1.5.0",
      "model_name": "HTMLModel",
      "state": {
       "layout": "IPY_MODEL_031e3963c7694565986fc80b50a8d404",
       "style": "IPY_MODEL_7708ea21cb0643aeabb3e99bccf7ee22",
       "value": "<h2 style ='color:#ffffff; background-color:#000000;padding-top: 1%; padding-bottom: 1%;padding-left: 1%;margin-top: 0px'>Backend Overview</h2>"
      }
     },
     "378e364b08774501a3db90ea6cc80995": {
      "model_module": "@jupyter-widgets/base",
      "model_module_version": "1.2.0",
      "model_name": "LayoutModel",
      "state": {
       "margin": "0px 0px 0px 37px",
       "width": "600px"
      }
     },
     "3b876817ba4843f8bc1cdbb3ba462aa4": {
      "model_module": "@jupyter-widgets/controls",
      "model_module_version": "1.5.0",
      "model_name": "DescriptionStyleModel",
      "state": {
       "description_width": ""
      }
     },
     "3be15bd7037c43c1b019d07c0d68a123": {
      "model_module": "@jupyter-widgets/controls",
      "model_module_version": "1.5.0",
      "model_name": "TabModel",
      "state": {
       "_titles": {
        "0": "Configuration",
        "1": "Qubit Properties",
        "2": "Multi-Qubit Gates",
        "3": "Error Map",
        "4": "Job History"
       },
       "children": [
        "IPY_MODEL_63902badf13f4fc9a4e8ba35c4ac6aa2",
        "IPY_MODEL_ab7886f8c03e44d6a19b9a9a5389b6ed",
        "IPY_MODEL_bda56ce7138a4de7a1688a880cc20687",
        "IPY_MODEL_8edc30b065724dc7b685b6eef14bcd49",
        "IPY_MODEL_89a3486998f24f318ea92fe57da76d84"
       ],
       "layout": "IPY_MODEL_59037eb6f5344947bfc0bd05ad42a27c"
      }
     },
     "3c2b9473cd6a43539dfe35a50019f81e": {
      "model_module": "@jupyter-widgets/base",
      "model_module_version": "1.2.0",
      "model_name": "LayoutModel",
      "state": {
       "justify_content": "center"
      }
     },
     "3cc87263c9974568820aebd47fbd8e8c": {
      "model_module": "@jupyter-widgets/controls",
      "model_module_version": "1.5.0",
      "model_name": "HTMLModel",
      "state": {
       "layout": "IPY_MODEL_836cbd7c5de149a893cdc2f70cdf0335",
       "style": "IPY_MODEL_2b4dd9bdd2f348059f30acc7713d9a3a",
       "value": "<h4>ibm_oslo</h4>"
      }
     },
     "3d22557144094ee7b5fbfeb13bfe4dbb": {
      "model_module": "@jupyter-widgets/controls",
      "model_module_version": "1.5.0",
      "model_name": "DescriptionStyleModel",
      "state": {
       "description_width": ""
      }
     },
     "3e6ff2ce4a7549c292294342786e0b81": {
      "model_module": "@jupyter-widgets/controls",
      "model_module_version": "1.5.0",
      "model_name": "VBoxModel",
      "state": {
       "children": [
        "IPY_MODEL_b36adec7b1364acc93449bcbe909b1fc",
        "IPY_MODEL_3be15bd7037c43c1b019d07c0d68a123"
       ],
       "layout": "IPY_MODEL_0497a33f17214883822595b0d5db96e9"
      }
     },
     "3eb5c3af78fd464fb60579e71601d96c": {
      "model_module": "@jupyter-widgets/controls",
      "model_module_version": "1.5.0",
      "model_name": "DescriptionStyleModel",
      "state": {
       "description_width": ""
      }
     },
     "3eec931cad7e4741821c092fe96b87ef": {
      "model_module": "@jupyter-widgets/controls",
      "model_module_version": "1.5.0",
      "model_name": "DescriptionStyleModel",
      "state": {
       "description_width": ""
      }
     },
     "3fa3b06466fb4ed9aa66d2bc773caa2a": {
      "model_module": "@jupyter-widgets/controls",
      "model_module_version": "1.5.0",
      "model_name": "HTMLModel",
      "state": {
       "layout": "IPY_MODEL_7b8fffe932b44214ad547909785cf805",
       "style": "IPY_MODEL_6165a9b2b5c94ec1939cb3fce959ca1d",
       "value": "<h5 style='color:#dc267f'>False</h5>"
      }
     },
     "405ec40027ca4106b61d2813204182a8": {
      "model_module": "@jupyter-widgets/controls",
      "model_module_version": "1.5.0",
      "model_name": "VBoxModel",
      "state": {
       "children": [
        "IPY_MODEL_f9a0504c1e97415c807d00b702d0496a",
        "IPY_MODEL_12ba9675b52141cda6443b1bc79086de",
        "IPY_MODEL_4f8b799251834c97b4913df765f147e1",
        "IPY_MODEL_7682d334c15b4300af3149f63fb7716e",
        "IPY_MODEL_41df0025a7ab4db7bb35f244ca141643",
        "IPY_MODEL_076436ab64164fb98ba417fbf3df7873",
        "IPY_MODEL_13dbfab456a043f6b471e35dc92b9da0",
        "IPY_MODEL_2fc518ed83c84a3facea07f3878b9a3d",
        "IPY_MODEL_f9d3b0c91ee64ee8b5f3935208e5c2a2",
        "IPY_MODEL_d4743cd084d3457eb3cb5b79a94c831f"
       ],
       "layout": "IPY_MODEL_484536922e394d99a7e45c8e2c2b4feb"
      }
     },
     "41aeb9f932e5495ea803d05d6d81e5f8": {
      "model_module": "@jupyter-widgets/controls",
      "model_module_version": "1.5.0",
      "model_name": "VBoxModel",
      "state": {
       "children": [
        "IPY_MODEL_c96ef2f0537841d4afb71ca863a2305f",
        "IPY_MODEL_ee5fc71242b0410c9830027817d94370",
        "IPY_MODEL_41d4527d1835464f8efb21766d7a6679",
        "IPY_MODEL_fff2c7ebd3fb4109a9bc4de4dd2e218f",
        "IPY_MODEL_8fe67fe5e02145dba4e68fcd996ffcee",
        "IPY_MODEL_3172c8e4a8bf4fb6b1df5f539df46aeb",
        "IPY_MODEL_a4659ca5eeb4465b826dc032f9564dca",
        "IPY_MODEL_fadcb1b0f84e41e5b4a49ff4e79dccb1"
       ],
       "layout": "IPY_MODEL_c264a439cf714f9b8566f059c5677b75"
      }
     },
     "41d4527d1835464f8efb21766d7a6679": {
      "model_module": "@jupyter-widgets/controls",
      "model_module_version": "1.5.0",
      "model_name": "LabelModel",
      "state": {
       "layout": "IPY_MODEL_d579e075a11d44b296059f78e6574174",
       "style": "IPY_MODEL_cc7765db009a439eb5bbd76846426c7a",
       "value": "Pending Jobs"
      }
     },
     "41df0025a7ab4db7bb35f244ca141643": {
      "model_module": "@jupyter-widgets/controls",
      "model_module_version": "1.5.0",
      "model_name": "HBoxModel",
      "state": {
       "children": [
        "IPY_MODEL_1e1b9aecffe14836959b688a1a70c93c",
        "IPY_MODEL_1d06bf0350584f32b082b5f2a259524f",
        "IPY_MODEL_4553018d942c4c8bbb9d743bed65f183"
       ],
       "layout": "IPY_MODEL_73af942e093b40bba02e0f2c5db3b0d0"
      }
     },
     "41fddde00c624ff09a77fc200da0f70e": {
      "model_module": "@jupyter-widgets/base",
      "model_module_version": "1.2.0",
      "model_name": "LayoutModel",
      "state": {
       "justify_content": "center"
      }
     },
     "44fc077c73c54145a3b5a03748e36f03": {
      "model_module": "@jupyter-widgets/base",
      "model_module_version": "1.2.0",
      "model_name": "LayoutModel",
      "state": {}
     },
     "452a2e77d3ab49909dc8025e5203428e": {
      "model_module": "@jupyter-widgets/controls",
      "model_module_version": "1.5.0",
      "model_name": "HTMLModel",
      "state": {
       "layout": "IPY_MODEL_df483d9a4f30479cb23237b65517a7a1",
       "style": "IPY_MODEL_933b7d9bea0f4e71b357fc2f55800970",
       "value": "<h5><b>7</b></h5>"
      }
     },
     "4553018d942c4c8bbb9d743bed65f183": {
      "model_module": "@jupyter-widgets/controls",
      "model_module_version": "1.5.0",
      "model_name": "LabelModel",
      "state": {
       "layout": "IPY_MODEL_bb1a11c427114a0e86a81b098304cd06",
       "style": "IPY_MODEL_a18581a1182142b1811350e4cc439474",
       "value": "92"
      }
     },
     "459ab0fbc6624a1ba351fc6c58000155": {
      "model_module": "@jupyter-widgets/base",
      "model_module_version": "1.2.0",
      "model_name": "LayoutModel",
      "state": {
       "justify_content": "center"
      }
     },
     "484536922e394d99a7e45c8e2c2b4feb": {
      "model_module": "@jupyter-widgets/base",
      "model_module_version": "1.2.0",
      "model_name": "LayoutModel",
      "state": {
       "align_items": "center",
       "display": "inline-flex",
       "flex_flow": "column"
      }
     },
     "4a533e7e1cd04430ae32fe80989d3689": {
      "model_module": "@jupyter-widgets/base",
      "model_module_version": "1.2.0",
      "model_name": "LayoutModel",
      "state": {}
     },
     "4b006ed6a59f4d26a49d64d505989fdb": {
      "model_module": "@jupyter-widgets/base",
      "model_module_version": "1.2.0",
      "model_name": "LayoutModel",
      "state": {}
     },
     "4c0bf26dd34544af81fd29d5490af830": {
      "model_module": "@jupyter-widgets/controls",
      "model_module_version": "1.5.0",
      "model_name": "DescriptionStyleModel",
      "state": {
       "description_width": ""
      }
     },
     "4c3e3a03fedb48d08010dcf5157e7aa4": {
      "model_module": "@jupyter-widgets/base",
      "model_module_version": "1.2.0",
      "model_name": "LayoutModel",
      "state": {
       "min_width": "auto"
      }
     },
     "4c6c6b5794964ed08fc6d8f53806b540": {
      "model_module": "@jupyter-widgets/controls",
      "model_module_version": "1.5.0",
      "model_name": "DescriptionStyleModel",
      "state": {
       "description_width": ""
      }
     },
     "4d4628eaf29a4b6a9c8669a03c198b9c": {
      "model_module": "@jupyter-widgets/controls",
      "model_module_version": "1.5.0",
      "model_name": "HTMLModel",
      "state": {
       "layout": "IPY_MODEL_c53108d63b064e9680fde5421900273d",
       "style": "IPY_MODEL_0b4118352b8a43a08adce9a68ae4afe8",
       "value": "<h5>127.2 / 94.4 us</h5>"
      }
     },
     "4de99e0df9444ce3a6e9709a016a0087": {
      "model_module": "@jupyter-widgets/controls",
      "model_module_version": "1.5.0",
      "model_name": "DescriptionStyleModel",
      "state": {
       "description_width": ""
      }
     },
     "4e27910a22a848ae997743e56c6bc691": {
      "model_module": "@jupyter-widgets/controls",
      "model_module_version": "1.5.0",
      "model_name": "HTMLModel",
      "state": {
       "layout": "IPY_MODEL_7b2f3a46286c4d919950f02623215aa6",
       "style": "IPY_MODEL_bb961718a3af472aaac28892f81e355f",
       "value": "<h5 style='color:#34bc6e'>True</h5>"
      }
     },
     "4e66521abf8c4ca18d14d4fed0361aef": {
      "model_module": "@jupyter-widgets/controls",
      "model_module_version": "1.5.0",
      "model_name": "HTMLModel",
      "state": {
       "layout": "IPY_MODEL_916be61a965c4d7ea8c7ae0d102fa666",
       "style": "IPY_MODEL_bc7af4f577564d6db652f47291c7b622",
       "value": "<h5><b>5</b></h5>"
      }
     },
     "4f4bb00bd74446efac1486d279eb4afb": {
      "model_module": "@jupyter-widgets/base",
      "model_module_version": "1.2.0",
      "model_name": "LayoutModel",
      "state": {
       "max_height": "620px"
      }
     },
     "4f5b60384efc424b95e517c3ae09fa8d": {
      "model_module": "@jupyter-widgets/base",
      "model_module_version": "1.2.0",
      "model_name": "LayoutModel",
      "state": {
       "min_width": "auto"
      }
     },
     "4f8b799251834c97b4913df765f147e1": {
      "model_module": "@jupyter-widgets/controls",
      "model_module_version": "1.5.0",
      "model_name": "HTMLModel",
      "state": {
       "layout": "IPY_MODEL_6c95b0c9998a4d6fa4d1a5b74f997e23",
       "style": "IPY_MODEL_97d63e86607141aaa9a7d61b2f9887b1",
       "value": "<h5><b>5</b></h5>"
      }
     },
     "5160ae94712d4a8483a9c47731e97264": {
      "model_module": "@jupyter-widgets/base",
      "model_module_version": "1.2.0",
      "model_name": "LayoutModel",
      "state": {
       "align_items": "center",
       "justify_content": "center",
       "margin": "0px 0px 0px 0px",
       "max_height": "250px",
       "max_width": "250px",
       "min_height": "250px",
       "min_width": "250px"
      }
     },
     "5178f5d16f404c5b8a9992749243328f": {
      "model_module": "@jupyter-widgets/base",
      "model_module_version": "1.2.0",
      "model_name": "LayoutModel",
      "state": {
       "grid_gap": "0px 0px",
       "grid_template_areas": "\n                               \"left right right right\"\n                               \"bottom bottom bottom bottom\"\n                               ",
       "grid_template_columns": "31% 23% 23% 23%",
       "grid_template_rows": "auto auto"
      }
     },
     "525602e3396744fa9e149945c1fb48ae": {
      "model_module": "@jupyter-widgets/controls",
      "model_module_version": "1.5.0",
      "model_name": "GridBoxModel",
      "state": {
       "children": [
        "IPY_MODEL_fdcd4a8666084e98a38aa27d935a1344",
        "IPY_MODEL_944ead073ab044eb8f0643a18ea9d639",
        "IPY_MODEL_678f0429ed7045e6b0df0dd26ff25304",
        "IPY_MODEL_cd5619e7b3c04be9ace735d8acb232ed",
        "IPY_MODEL_405ec40027ca4106b61d2813204182a8",
        "IPY_MODEL_00d5ec596ec648f9aa38240383e81c06"
       ],
       "layout": "IPY_MODEL_d1be9152a5bc40c39e51fa9e93c47f1c"
      }
     },
     "537a95ef1e8b4d349bef4df8cbc1a51f": {
      "model_module": "@jupyter-widgets/base",
      "model_module_version": "1.2.0",
      "model_name": "LayoutModel",
      "state": {
       "grid_area": "right",
       "padding": "0px 0px 0px 0px",
       "width": "70px"
      }
     },
     "537bf91afb72445ea48143ab3a236a1b": {
      "model_module": "@jupyter-widgets/controls",
      "model_module_version": "1.5.0",
      "model_name": "DescriptionStyleModel",
      "state": {
       "description_width": ""
      }
     },
     "552663793d684225aa0149892f3a675a": {
      "model_module": "@jupyter-widgets/base",
      "model_module_version": "1.2.0",
      "model_name": "LayoutModel",
      "state": {}
     },
     "5590b18bb30747dc88a1cf52e42fb92c": {
      "model_module": "@jupyter-widgets/controls",
      "model_module_version": "1.5.0",
      "model_name": "HTMLModel",
      "state": {
       "layout": "IPY_MODEL_4a533e7e1cd04430ae32fe80989d3689",
       "style": "IPY_MODEL_ca5f9ac663f94e36a6fd30bcc43fc054",
       "value": "<h4>ibm_nairobi</h4>"
      }
     },
     "55ac166eb11c4bd89c16a2c290f5bfb1": {
      "model_module": "@jupyter-widgets/controls",
      "model_module_version": "1.5.0",
      "model_name": "DescriptionStyleModel",
      "state": {
       "description_width": ""
      }
     },
     "55b41723eca240eaad34167c9cf325eb": {
      "model_module": "@jupyter-widgets/controls",
      "model_module_version": "1.5.0",
      "model_name": "IntProgressModel",
      "state": {
       "layout": "IPY_MODEL_cbcd28c8d3d0436d8e75ad37e3f2f513",
       "max": 219,
       "style": "IPY_MODEL_277f0526a9434e5abde74a04afd4bf4b",
       "value": 208
      }
     },
     "562617d2672a4878995731bb69dcfc25": {
      "model_module": "@jupyter-widgets/controls",
      "model_module_version": "1.5.0",
      "model_name": "ButtonStyleModel",
      "state": {}
     },
     "5669787ce2a64da8ae4722977ed9d807": {
      "model_module": "@jupyter-widgets/controls",
      "model_module_version": "1.5.0",
      "model_name": "HTMLModel",
      "state": {
       "layout": "IPY_MODEL_1cff3f75d015453baa1eeb524af76981",
       "style": "IPY_MODEL_115216816adf444db812669448a31559",
       "value": "<h5 style='color:#34bc6e'>True</h5>"
      }
     },
     "5739087fc43c421195bec4de220af0f2": {
      "model_module": "@jupyter-widgets/controls",
      "model_module_version": "1.5.0",
      "model_name": "HTMLModel",
      "state": {
       "layout": "IPY_MODEL_61250dcb0aea4a51a15b5bf60088f421",
       "style": "IPY_MODEL_9c24f07d52034f5e8f42b9e5e087cfe8",
       "value": "<table><style>\ntable {\n    border-collapse: collapse;\n    width: auto;\n}\n\nth, td {\n    text-align: left;\n    padding: 8px;\n}\n\ntr:nth-child(even) {background-color: #f6f6f6;};\n</style><tr><th></th><th>Type</th><th>Gate error</th></tr><tr><td><font style='font-weight:bold'>cx3_1</font></td><td>cx</td><td>0.00998</td></tr><tr><td><font style='font-weight:bold'>cx2_1</font></td><td>cx</td><td>0.00931</td></tr><tr><td><font style='font-weight:bold'>cx1_2</font></td><td>cx</td><td>0.00931</td></tr></table>"
      }
     },
     "59037eb6f5344947bfc0bd05ad42a27c": {
      "model_module": "@jupyter-widgets/base",
      "model_module_version": "1.2.0",
      "model_name": "LayoutModel",
      "state": {
       "overflow_y": "scroll"
      }
     },
     "599b68ddad4740158ce7e1cb3f86ba0e": {
      "model_module": "@jupyter-widgets/controls",
      "model_module_version": "1.5.0",
      "model_name": "VBoxModel",
      "state": {
       "children": [
        "IPY_MODEL_3724cf80acc64e06bcaf7b7609f8e753",
        "IPY_MODEL_d9d2b766623441378b44488ea0954524"
       ],
       "layout": "IPY_MODEL_63c62ab7685944ab9fe7c931b09715d6"
      }
     },
     "5b278ef8376142cda5822b3c715a6c10": {
      "model_module": "@jupyter-widgets/controls",
      "model_module_version": "1.5.0",
      "model_name": "DescriptionStyleModel",
      "state": {
       "description_width": ""
      }
     },
     "5bce8a5df1714361b20da3195daab704": {
      "model_module": "@jupyter-widgets/base",
      "model_module_version": "1.2.0",
      "model_name": "LayoutModel",
      "state": {
       "width": "95px"
      }
     },
     "5c7e142f5ed84e2bba114048eca1a570": {
      "model_module": "@jupyter-widgets/controls",
      "model_module_version": "1.5.0",
      "model_name": "HTMLModel",
      "state": {
       "layout": "IPY_MODEL_29b12ee3f0df4ce8aec33b522eab1815",
       "style": "IPY_MODEL_8bdbac9a7c134a5cb8e9a3b48e57e1b1",
       "value": "<h5 style='color:#dc267f'>False</h5>"
      }
     },
     "5ca34c2742c04640a05011ed3e9a2b03": {
      "model_module": "@jupyter-widgets/base",
      "model_module_version": "1.2.0",
      "model_name": "LayoutModel",
      "state": {
       "justify_content": "center",
       "max_width": "250px",
       "min_width": "250px"
      }
     },
     "5f1762d4da104b9db7930ca1c433d3c9": {
      "model_module": "@jupyter-widgets/base",
      "model_module_version": "1.2.0",
      "model_name": "LayoutModel",
      "state": {
       "align_items": "center",
       "display": "inline-flex",
       "flex_flow": "column"
      }
     },
     "5f6cd7682e3d439fa86289f011bc75b5": {
      "model_module": "@jupyter-widgets/controls",
      "model_module_version": "1.5.0",
      "model_name": "HTMLModel",
      "state": {
       "layout": "IPY_MODEL_c8a32cbc8a4a47cab0f4335e56b41d21",
       "style": "IPY_MODEL_9b522f04264741d795b158114df87da1",
       "value": "<h5>8</h5>"
      }
     },
     "61250dcb0aea4a51a15b5bf60088f421": {
      "model_module": "@jupyter-widgets/base",
      "model_module_version": "1.2.0",
      "model_name": "LayoutModel",
      "state": {
       "grid_area": "middle"
      }
     },
     "61280a560eea469d97288bc8c6a41d07": {
      "model_module": "@jupyter-widgets/base",
      "model_module_version": "1.2.0",
      "model_name": "LayoutModel",
      "state": {
       "justify_content": "center"
      }
     },
     "6165a9b2b5c94ec1939cb3fce959ca1d": {
      "model_module": "@jupyter-widgets/controls",
      "model_module_version": "1.5.0",
      "model_name": "DescriptionStyleModel",
      "state": {
       "description_width": ""
      }
     },
     "61762783cf2548d5a59a6aa0cc42cd3c": {
      "model_module": "@jupyter-widgets/base",
      "model_module_version": "1.2.0",
      "model_name": "LayoutModel",
      "state": {
       "min_width": "auto"
      }
     },
     "61e483d7daaa4043be228108c6eafd1d": {
      "model_module": "@jupyter-widgets/controls",
      "model_module_version": "1.5.0",
      "model_name": "DescriptionStyleModel",
      "state": {
       "description_width": ""
      }
     },
     "62acb94e6f364b5c8969d6d557afb8d1": {
      "model_module": "@jupyter-widgets/controls",
      "model_module_version": "1.5.0",
      "model_name": "LabelModel",
      "state": {
       "layout": "IPY_MODEL_0592fb442fbd4cb5a3bf5e5610ad15c4",
       "style": "IPY_MODEL_2f9b876d88e849b5a5091bcd3fc45c0a",
       "value": "77"
      }
     },
     "62d6d97631794abb88bed5445e50a8cc": {
      "model_module": "@jupyter-widgets/base",
      "model_module_version": "1.2.0",
      "model_name": "LayoutModel",
      "state": {
       "align_items": "center",
       "display": "inline-flex",
       "flex_flow": "column"
      }
     },
     "63902badf13f4fc9a4e8ba35c4ac6aa2": {
      "model_module": "@jupyter-widgets/controls",
      "model_module_version": "1.5.0",
      "model_name": "GridBoxModel",
      "state": {
       "children": [
        "IPY_MODEL_122b8b4b2ed848a792359850ef4fa20e",
        "IPY_MODEL_dc23b5a74701454cb688217b77df34c2",
        "IPY_MODEL_f8122ee3498a48bab2d241178cc69dbb"
       ],
       "layout": "IPY_MODEL_5178f5d16f404c5b8a9992749243328f"
      }
     },
     "63c62ab7685944ab9fe7c931b09715d6": {
      "model_module": "@jupyter-widgets/base",
      "model_module_version": "1.2.0",
      "model_name": "LayoutModel",
      "state": {}
     },
     "6518bae4296849139985872c12f13bdf": {
      "model_module": "@jupyter-widgets/controls",
      "model_module_version": "1.5.0",
      "model_name": "HTMLModel",
      "state": {
       "layout": "IPY_MODEL_25a55463bb3748f2b8e144cbac86f863",
       "style": "IPY_MODEL_3eb5c3af78fd464fb60579e71601d96c",
       "value": "<h5><b>5</b></h5>"
      }
     },
     "65c8bbe6f65a4e41b330606ed30dbf00": {
      "model_module": "@jupyter-widgets/controls",
      "model_module_version": "1.5.0",
      "model_name": "DescriptionStyleModel",
      "state": {
       "description_width": ""
      }
     },
     "66d167d726de4408b1a8f68adbf41da5": {
      "model_module": "@jupyter-widgets/base",
      "model_module_version": "1.2.0",
      "model_name": "LayoutModel",
      "state": {
       "margin": "5px 0px 0px 0px"
      }
     },
     "678f0429ed7045e6b0df0dd26ff25304": {
      "model_module": "@jupyter-widgets/controls",
      "model_module_version": "1.5.0",
      "model_name": "VBoxModel",
      "state": {
       "children": [
        "IPY_MODEL_9c87d674932247319a718668df21ad57",
        "IPY_MODEL_9e77ea4201054b04a4df470e9deb09fb",
        "IPY_MODEL_239521ad9f7048cf974fdc51f39cf982",
        "IPY_MODEL_6e36c8670ab24b09aeb5f81f961a33e1",
        "IPY_MODEL_c39dcb0af76548f3870ade64d6d52a17",
        "IPY_MODEL_1a014b519d40401e810e9bed67ce6241",
        "IPY_MODEL_f85093a8d3974b46a86770f25f6007d3",
        "IPY_MODEL_18a10902905a4558a3c4df426c662571",
        "IPY_MODEL_9185991d85ef447181d8e802d5b76db5",
        "IPY_MODEL_0e34c89bae3848a9a6b0efbf63a62ab2"
       ],
       "layout": "IPY_MODEL_a1b1d5a3c33545a28dde66a82b01042d"
      }
     },
     "69d8d752bbe34d59b8b8a8442d2b9ff9": {
      "model_module": "@jupyter-widgets/base",
      "model_module_version": "1.2.0",
      "model_name": "LayoutModel",
      "state": {}
     },
     "6a6d6cdfdeaa4d6da05f96a710dc0665": {
      "model_module": "@jupyter-widgets/controls",
      "model_module_version": "1.5.0",
      "model_name": "HTMLModel",
      "state": {
       "layout": "IPY_MODEL_e70c1e519f1b4b298deee82cc89ede6c",
       "style": "IPY_MODEL_01255ed0e46440f9bd055afa7d1922be",
       "value": "<h5 style='color:#34bc6e'>True</h5>"
      }
     },
     "6a95aae6d5064ef4b585bb4614331502": {
      "model_module": "@jupyter-widgets/controls",
      "model_module_version": "1.5.0",
      "model_name": "LabelModel",
      "state": {
       "layout": "IPY_MODEL_4c3e3a03fedb48d08010dcf5157e7aa4",
       "style": "IPY_MODEL_c210d1d6d88d43c4808c1f4aada0c81b",
       "value": "98"
      }
     },
     "6c95b0c9998a4d6fa4d1a5b74f997e23": {
      "model_module": "@jupyter-widgets/base",
      "model_module_version": "1.2.0",
      "model_name": "LayoutModel",
      "state": {
       "justify_content": "center"
      }
     },
     "6d1e8959eb124febb865f1066e2fd6b8": {
      "model_module": "@jupyter-widgets/controls",
      "model_module_version": "1.5.0",
      "model_name": "HTMLModel",
      "state": {
       "layout": "IPY_MODEL_325b239401ff44f89638aa7e0ece7b73",
       "style": "IPY_MODEL_4c0bf26dd34544af81fd29d5490af830",
       "value": "<h5 style='color:#34bc6e'>True</h5>"
      }
     },
     "6e36c8670ab24b09aeb5f81f961a33e1": {
      "model_module": "@jupyter-widgets/controls",
      "model_module_version": "1.5.0",
      "model_name": "HTMLModel",
      "state": {
       "layout": "IPY_MODEL_1eaab81ba97f4744a5038b0e69497497",
       "style": "IPY_MODEL_55ac166eb11c4bd89c16a2c290f5bfb1",
       "value": "<h5>32</h5>"
      }
     },
     "6e7987aa43be4e1d9198a820bb09229a": {
      "model_module": "@jupyter-widgets/controls",
      "model_module_version": "1.5.0",
      "model_name": "HBoxModel",
      "state": {
       "children": [
        "IPY_MODEL_102645d3433a46bc9c85e009d43740b6",
        "IPY_MODEL_fc73aa9ce5164c0c9a4c9afbaa4204f1",
        "IPY_MODEL_6a95aae6d5064ef4b585bb4614331502"
       ],
       "layout": "IPY_MODEL_5ca34c2742c04640a05011ed3e9a2b03"
      }
     },
     "6f59c41f03e2418db3f11c7eee357d13": {
      "model_module": "@jupyter-widgets/controls",
      "model_module_version": "1.5.0",
      "model_name": "ButtonModel",
      "state": {
       "button_style": "primary",
       "description": "Clear",
       "layout": "IPY_MODEL_537a95ef1e8b4d349bef4df8cbc1a51f",
       "style": "IPY_MODEL_562617d2672a4878995731bb69dcfc25"
      }
     },
     "712a70e9c37c4e3588383bef7ce71c07": {
      "model_module": "@jupyter-widgets/base",
      "model_module_version": "1.2.0",
      "model_name": "LayoutModel",
      "state": {
       "max_width": "180px"
      }
     },
     "7210587fb79847b8889de814c4865a34": {
      "model_module": "@jupyter-widgets/base",
      "model_module_version": "1.2.0",
      "model_name": "LayoutModel",
      "state": {
       "min_width": "auto"
      }
     },
     "73af942e093b40bba02e0f2c5db3b0d0": {
      "model_module": "@jupyter-widgets/base",
      "model_module_version": "1.2.0",
      "model_name": "LayoutModel",
      "state": {
       "justify_content": "center",
       "max_width": "250px",
       "min_width": "250px"
      }
     },
     "73d5c561d54745229cd6fdc7c7e710b3": {
      "model_module": "@jupyter-widgets/controls",
      "model_module_version": "1.5.0",
      "model_name": "DescriptionStyleModel",
      "state": {
       "description_width": ""
      }
     },
     "758487b4151d463eb1cacbd6ec30917c": {
      "model_module": "@jupyter-widgets/controls",
      "model_module_version": "1.5.0",
      "model_name": "DescriptionStyleModel",
      "state": {
       "description_width": ""
      }
     },
     "7682d334c15b4300af3149f63fb7716e": {
      "model_module": "@jupyter-widgets/controls",
      "model_module_version": "1.5.0",
      "model_name": "HTMLModel",
      "state": {
       "layout": "IPY_MODEL_c96890269b774ee1a9fe98960a066f1f",
       "style": "IPY_MODEL_22a3620a941047fda8b0384247cd83af",
       "value": "<h5>16</h5>"
      }
     },
     "76a3394e424242e493a429aa7c731908": {
      "model_module": "@jupyter-widgets/controls",
      "model_module_version": "1.5.0",
      "model_name": "DescriptionStyleModel",
      "state": {
       "description_width": ""
      }
     },
     "76c0fc6bcd7d4f04a9809d4e9bf042c0": {
      "model_module": "@jupyter-widgets/base",
      "model_module_version": "1.2.0",
      "model_name": "LayoutModel",
      "state": {
       "grid_area": "bottom",
       "width": "auto"
      }
     },
     "7708ea21cb0643aeabb3e99bccf7ee22": {
      "model_module": "@jupyter-widgets/controls",
      "model_module_version": "1.5.0",
      "model_name": "DescriptionStyleModel",
      "state": {
       "description_width": ""
      }
     },
     "7b2f3a46286c4d919950f02623215aa6": {
      "model_module": "@jupyter-widgets/base",
      "model_module_version": "1.2.0",
      "model_name": "LayoutModel",
      "state": {
       "justify_content": "center"
      }
     },
     "7b8fffe932b44214ad547909785cf805": {
      "model_module": "@jupyter-widgets/base",
      "model_module_version": "1.2.0",
      "model_name": "LayoutModel",
      "state": {
       "justify_content": "center"
      }
     },
     "7bb83775b39145b682930cc7286cf106": {
      "model_module": "@jupyter-widgets/controls",
      "model_module_version": "1.5.0",
      "model_name": "DescriptionStyleModel",
      "state": {
       "description_width": ""
      }
     },
     "7f6ba35333484e10b8023770b45c6b27": {
      "model_module": "@jupyter-widgets/controls",
      "model_module_version": "1.5.0",
      "model_name": "HBoxModel",
      "state": {
       "children": [
        "IPY_MODEL_eff8a60c40e9444fb87ac0c5b8251175",
        "IPY_MODEL_d32f38636617415e937267368758bebf",
        "IPY_MODEL_199d09c60ac34bd2b1c6ebce071a4340"
       ],
       "layout": "IPY_MODEL_003dcfe4370d442db5c7686bfe767658"
      }
     },
     "7fd3c80c2c8b408d9a8e8f0a7e24e7cc": {
      "model_module": "@jupyter-widgets/base",
      "model_module_version": "1.2.0",
      "model_name": "LayoutModel",
      "state": {
       "min_width": "auto"
      }
     },
     "80f50baf4d9a4ea4aab950115fa3bab2": {
      "model_module": "@jupyter-widgets/controls",
      "model_module_version": "1.5.0",
      "model_name": "ProgressStyleModel",
      "state": {
       "bar_color": "#71cddd",
       "description_width": ""
      }
     },
     "829c7fb48278437789f18ddaf84f5f2e": {
      "model_module": "@jupyter-widgets/controls",
      "model_module_version": "1.5.0",
      "model_name": "HTMLModel",
      "state": {
       "layout": "IPY_MODEL_fa560844ab23427d833733373e6876c3",
       "style": "IPY_MODEL_7bb83775b39145b682930cc7286cf106",
       "value": "<h5>0.0129</h5>"
      }
     },
     "8329b7b7f05c4e4fbc4809c646e414ee": {
      "model_module": "@jupyter-widgets/controls",
      "model_module_version": "1.5.0",
      "model_name": "HTMLModel",
      "state": {
       "layout": "IPY_MODEL_eba9f873ddab4666b864288745eab528",
       "style": "IPY_MODEL_e60abc5fa5154126ae27ce3ece76f082",
       "value": "<h5>16</h5>"
      }
     },
     "8342d01217d545a7b8f6ae20afb32f5d": {
      "model_module": "@jupyter-widgets/controls",
      "model_module_version": "1.5.0",
      "model_name": "HBoxModel",
      "state": {
       "children": [
        "IPY_MODEL_f85405989ee04a3ca2f86249003f53c4",
        "IPY_MODEL_9b118ee15cf84dd88a260ddc49d5c164",
        "IPY_MODEL_99f9b38bfba74419a1eb2a9280c0e85d"
       ],
       "layout": "IPY_MODEL_913bd2a753734862be21440f8c0e91d1"
      }
     },
     "836cbd7c5de149a893cdc2f70cdf0335": {
      "model_module": "@jupyter-widgets/base",
      "model_module_version": "1.2.0",
      "model_name": "LayoutModel",
      "state": {}
     },
     "8488a5e9119b4b8eab1060dd9a6c34b1": {
      "model_module": "@jupyter-widgets/base",
      "model_module_version": "1.2.0",
      "model_name": "LayoutModel",
      "state": {}
     },
     "86428900f9094982b78e22aefacf6684": {
      "model_module": "@jupyter-widgets/base",
      "model_module_version": "1.2.0",
      "model_name": "LayoutModel",
      "state": {
       "align_items": "center",
       "display": "inline-flex",
       "flex_flow": "column"
      }
     },
     "8653c38f98214fb8a11c186877d1d83c": {
      "model_module": "@jupyter-widgets/controls",
      "model_module_version": "1.5.0",
      "model_name": "DescriptionStyleModel",
      "state": {
       "description_width": ""
      }
     },
     "8866b8e98c65430ca95588882b32b99c": {
      "model_module": "@jupyter-widgets/controls",
      "model_module_version": "1.5.0",
      "model_name": "DescriptionStyleModel",
      "state": {
       "description_width": ""
      }
     },
     "89a3486998f24f318ea92fe57da76d84": {
      "model_module": "@jupyter-widgets/controls",
      "model_module_version": "1.5.0",
      "model_name": "TabModel",
      "state": {
       "layout": "IPY_MODEL_4f4bb00bd74446efac1486d279eb4afb"
      }
     },
     "89f78952564c4807941a94b253a1cb7c": {
      "model_module": "@jupyter-widgets/base",
      "model_module_version": "1.2.0",
      "model_name": "LayoutModel",
      "state": {}
     },
     "8ab56dcf4f904345ac60b223280e8017": {
      "model_module": "@jupyter-widgets/controls",
      "model_module_version": "1.5.0",
      "model_name": "DescriptionStyleModel",
      "state": {
       "description_width": ""
      }
     },
     "8bbf69094f3a4ee886ee17db6c360d0f": {
      "model_module": "@jupyter-widgets/controls",
      "model_module_version": "1.5.0",
      "model_name": "DescriptionStyleModel",
      "state": {
       "description_width": ""
      }
     },
     "8bdbac9a7c134a5cb8e9a3b48e57e1b1": {
      "model_module": "@jupyter-widgets/controls",
      "model_module_version": "1.5.0",
      "model_name": "DescriptionStyleModel",
      "state": {
       "description_width": ""
      }
     },
     "8d22474960684112a93c53584022d176": {
      "model_module": "@jupyter-widgets/controls",
      "model_module_version": "1.5.0",
      "model_name": "LabelModel",
      "state": {
       "layout": "IPY_MODEL_61762783cf2548d5a59a6aa0cc42cd3c",
       "style": "IPY_MODEL_2cc5c9389c454b6fad5cf6bf06a80366",
       "value": "208"
      }
     },
     "8d517dcff357445384d468ab964b2fcb": {
      "model_module": "@jupyter-widgets/base",
      "model_module_version": "1.2.0",
      "model_name": "LayoutModel",
      "state": {
       "margin": "10px 0px 0px 0px"
      }
     },
     "8eb6250fc9b44706b5c57004c372332b": {
      "model_module": "@jupyter-widgets/base",
      "model_module_version": "1.2.0",
      "model_name": "LayoutModel",
      "state": {
       "grid_area": "left"
      }
     },
     "8ecb981e9ac2443d8fde822098ca84be": {
      "model_module": "@jupyter-widgets/base",
      "model_module_version": "1.2.0",
      "model_name": "LayoutModel",
      "state": {
       "align_items": "center",
       "display": "inline-flex",
       "flex_flow": "column"
      }
     },
     "8edc30b065724dc7b685b6eef14bcd49": {
      "model_module": "@jupyter-widgets/output",
      "model_module_version": "1.0.0",
      "model_name": "OutputModel",
      "state": {
       "layout": "IPY_MODEL_1787d4e06faf4446b63e25f412ab03da",
       "outputs": [
        {
         "data": {
          "image/png": "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\n",
          "text/plain": "<Figure size 792x648 with 5 Axes>"
         },
         "metadata": {},
         "output_type": "display_data"
        }
       ]
      }
     },
     "8fe67fe5e02145dba4e68fcd996ffcee": {
      "model_module": "@jupyter-widgets/controls",
      "model_module_version": "1.5.0",
      "model_name": "LabelModel",
      "state": {
       "layout": "IPY_MODEL_a1c600bd5f2048fb9b0c8ada85f22728",
       "style": "IPY_MODEL_3eec931cad7e4741821c092fe96b87ef",
       "value": "Least Busy"
      }
     },
     "913bd2a753734862be21440f8c0e91d1": {
      "model_module": "@jupyter-widgets/base",
      "model_module_version": "1.2.0",
      "model_name": "LayoutModel",
      "state": {
       "justify_content": "center",
       "max_width": "250px",
       "min_width": "250px"
      }
     },
     "916be61a965c4d7ea8c7ae0d102fa666": {
      "model_module": "@jupyter-widgets/base",
      "model_module_version": "1.2.0",
      "model_name": "LayoutModel",
      "state": {
       "justify_content": "center"
      }
     },
     "9185991d85ef447181d8e802d5b76db5": {
      "model_module": "@jupyter-widgets/controls",
      "model_module_version": "1.5.0",
      "model_name": "HTMLModel",
      "state": {
       "layout": "IPY_MODEL_dd21c9dc95b749dbb3dadee6beb1f35d",
       "style": "IPY_MODEL_0d56bfdce94844919fb84b5538946c0c",
       "value": "<h5>0.0068</h5>"
      }
     },
     "918f862d8e844248bc960db26c1e3268": {
      "model_module": "@jupyter-widgets/base",
      "model_module_version": "1.2.0",
      "model_name": "LayoutModel",
      "state": {}
     },
     "9280bb3e06eb48d394021177c8d7e78e": {
      "model_module": "@jupyter-widgets/controls",
      "model_module_version": "1.5.0",
      "model_name": "DescriptionStyleModel",
      "state": {
       "description_width": ""
      }
     },
     "933b7d9bea0f4e71b357fc2f55800970": {
      "model_module": "@jupyter-widgets/controls",
      "model_module_version": "1.5.0",
      "model_name": "DescriptionStyleModel",
      "state": {
       "description_width": ""
      }
     },
     "93b2907018e14cb9a152b8f4156ad2ba": {
      "model_module": "@jupyter-widgets/controls",
      "model_module_version": "1.5.0",
      "model_name": "DescriptionStyleModel",
      "state": {
       "description_width": ""
      }
     },
     "944ead073ab044eb8f0643a18ea9d639": {
      "model_module": "@jupyter-widgets/controls",
      "model_module_version": "1.5.0",
      "model_name": "VBoxModel",
      "state": {
       "children": [
        "IPY_MODEL_5590b18bb30747dc88a1cf52e42fb92c",
        "IPY_MODEL_e1d2acc0a7344342a735727f2ecf852f",
        "IPY_MODEL_9a58b893ca254248a855ea6b24086f8a",
        "IPY_MODEL_bbc8813420f648c498eb63acbbce9120",
        "IPY_MODEL_7f6ba35333484e10b8023770b45c6b27",
        "IPY_MODEL_5669787ce2a64da8ae4722977ed9d807",
        "IPY_MODEL_3fa3b06466fb4ed9aa66d2bc773caa2a",
        "IPY_MODEL_4d4628eaf29a4b6a9c8669a03c198b9c",
        "IPY_MODEL_0896ed06276447639c4a3b635e4f5088",
        "IPY_MODEL_b61bd05861c8460ebb2554ef3cf410bc"
       ],
       "layout": "IPY_MODEL_86428900f9094982b78e22aefacf6684"
      }
     },
     "94feea80e7de45a79b2b4e6f332a0804": {
      "model_module": "@jupyter-widgets/base",
      "model_module_version": "1.2.0",
      "model_name": "LayoutModel",
      "state": {
       "justify_content": "center"
      }
     },
     "97d63e86607141aaa9a7d61b2f9887b1": {
      "model_module": "@jupyter-widgets/controls",
      "model_module_version": "1.5.0",
      "model_name": "DescriptionStyleModel",
      "state": {
       "description_width": ""
      }
     },
     "97ef2aab8d7241e7b67dfa7431fcf456": {
      "model_module": "@jupyter-widgets/controls",
      "model_module_version": "1.5.0",
      "model_name": "DescriptionStyleModel",
      "state": {
       "description_width": ""
      }
     },
     "99f9b38bfba74419a1eb2a9280c0e85d": {
      "model_module": "@jupyter-widgets/controls",
      "model_module_version": "1.5.0",
      "model_name": "LabelModel",
      "state": {
       "layout": "IPY_MODEL_a1d9c26172f242edb73d628627bbe4e1",
       "style": "IPY_MODEL_3b876817ba4843f8bc1cdbb3ba462aa4",
       "value": "535"
      }
     },
     "9a58b893ca254248a855ea6b24086f8a": {
      "model_module": "@jupyter-widgets/controls",
      "model_module_version": "1.5.0",
      "model_name": "HTMLModel",
      "state": {
       "layout": "IPY_MODEL_b8b2b04d75c84cc0a89592f530277b66",
       "style": "IPY_MODEL_d95e9c789da24e93b71309803ce8ab57",
       "value": "<h5><b>7</b></h5>"
      }
     },
     "9aa83ea696d74c55913dcff215289f07": {
      "model_module": "@jupyter-widgets/base",
      "model_module_version": "1.2.0",
      "model_name": "LayoutModel",
      "state": {}
     },
     "9b118ee15cf84dd88a260ddc49d5c164": {
      "model_module": "@jupyter-widgets/controls",
      "model_module_version": "1.5.0",
      "model_name": "IntProgressModel",
      "state": {
       "layout": "IPY_MODEL_33c57ebb27dc46bc8674aa6bfa20ec7c",
       "max": 535,
       "style": "IPY_MODEL_80f50baf4d9a4ea4aab950115fa3bab2",
       "value": 509
      }
     },
     "9b522f04264741d795b158114df87da1": {
      "model_module": "@jupyter-widgets/controls",
      "model_module_version": "1.5.0",
      "model_name": "DescriptionStyleModel",
      "state": {
       "description_width": ""
      }
     },
     "9c24f07d52034f5e8f42b9e5e087cfe8": {
      "model_module": "@jupyter-widgets/controls",
      "model_module_version": "1.5.0",
      "model_name": "DescriptionStyleModel",
      "state": {
       "description_width": ""
      }
     },
     "9c87d674932247319a718668df21ad57": {
      "model_module": "@jupyter-widgets/controls",
      "model_module_version": "1.5.0",
      "model_name": "HTMLModel",
      "state": {
       "layout": "IPY_MODEL_44fc077c73c54145a3b5a03748e36f03",
       "style": "IPY_MODEL_b211d81c9c4c4abe8d8d5eb841f87c46",
       "value": "<h4>ibmq_manila</h4>"
      }
     },
     "9d4310d003cb4437be926d265dcfb8cb": {
      "model_module": "@jupyter-widgets/base",
      "model_module_version": "1.2.0",
      "model_name": "LayoutModel",
      "state": {}
     },
     "9d5546dfb3334aa4b7849c07fa95df09": {
      "model_module": "@jupyter-widgets/base",
      "model_module_version": "1.2.0",
      "model_name": "LayoutModel",
      "state": {
       "grid_area": "left",
       "width": "100%"
      }
     },
     "9de003a675e54f86ab427c752629a179": {
      "model_module": "@jupyter-widgets/controls",
      "model_module_version": "1.5.0",
      "model_name": "DescriptionStyleModel",
      "state": {
       "description_width": ""
      }
     },
     "9e77ea4201054b04a4df470e9deb09fb": {
      "model_module": "@jupyter-widgets/output",
      "model_module_version": "1.0.0",
      "model_name": "OutputModel",
      "state": {
       "layout": "IPY_MODEL_e50516fa69414f499433bd2e3dc5b297",
       "outputs": [
        {
         "data": {
          "image/png": "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\n",
          "text/plain": "<Figure size 360x360 with 1 Axes>"
         },
         "metadata": {},
         "output_type": "display_data"
        }
       ]
      }
     },
     "9ef0a9208436442f803c53475293efe1": {
      "model_module": "@jupyter-widgets/base",
      "model_module_version": "1.2.0",
      "model_name": "LayoutModel",
      "state": {
       "justify_content": "center",
       "max_width": "250px",
       "min_width": "250px"
      }
     },
     "9fd44ff041f0430a94ac410d62c03c86": {
      "model_module": "@jupyter-widgets/base",
      "model_module_version": "1.2.0",
      "model_name": "LayoutModel",
      "state": {
       "justify_content": "center",
       "max_width": "250px",
       "min_width": "250px"
      }
     },
     "a03e27e008a241c2b74599949cab8edb": {
      "model_module": "@jupyter-widgets/base",
      "model_module_version": "1.2.0",
      "model_name": "LayoutModel",
      "state": {
       "grid_area": "top"
      }
     },
     "a18581a1182142b1811350e4cc439474": {
      "model_module": "@jupyter-widgets/controls",
      "model_module_version": "1.5.0",
      "model_name": "DescriptionStyleModel",
      "state": {
       "description_width": ""
      }
     },
     "a1b1d5a3c33545a28dde66a82b01042d": {
      "model_module": "@jupyter-widgets/base",
      "model_module_version": "1.2.0",
      "model_name": "LayoutModel",
      "state": {
       "align_items": "center",
       "display": "inline-flex",
       "flex_flow": "column"
      }
     },
     "a1c600bd5f2048fb9b0c8ada85f22728": {
      "model_module": "@jupyter-widgets/base",
      "model_module_version": "1.2.0",
      "model_name": "LayoutModel",
      "state": {
       "margin": "10px 0px 0px 0px"
      }
     },
     "a1d9c26172f242edb73d628627bbe4e1": {
      "model_module": "@jupyter-widgets/base",
      "model_module_version": "1.2.0",
      "model_name": "LayoutModel",
      "state": {
       "min_width": "auto"
      }
     },
     "a1e688a0b0f7402d889b8a7ca0f5d8dc": {
      "model_module": "@jupyter-widgets/controls",
      "model_module_version": "1.5.0",
      "model_name": "DescriptionStyleModel",
      "state": {
       "description_width": ""
      }
     },
     "a42948c9589649b78ac31334faa117e9": {
      "model_module": "@jupyter-widgets/controls",
      "model_module_version": "1.5.0",
      "model_name": "HTMLModel",
      "state": {
       "layout": "IPY_MODEL_b384af2cbcaa4a55a27d830b56e1e666",
       "style": "IPY_MODEL_d63d532c497a47cba344223c1f6b5fc5",
       "value": "<h5 style='color:#dc267f'>False</h5>"
      }
     },
     "a4659ca5eeb4465b826dc032f9564dca": {
      "model_module": "@jupyter-widgets/controls",
      "model_module_version": "1.5.0",
      "model_name": "LabelModel",
      "state": {
       "layout": "IPY_MODEL_c491823967a54848a87e829ab2d743d5",
       "style": "IPY_MODEL_16eb8536420e49929101cc3563a8995b",
       "value": "Avg. CX Err."
      }
     },
     "a57965590f444375a9adbe1dfe484e54": {
      "model_module": "@jupyter-widgets/base",
      "model_module_version": "1.2.0",
      "model_name": "LayoutModel",
      "state": {}
     },
     "a598ed8b5f18425d919f5c361012d062": {
      "model_module": "@jupyter-widgets/controls",
      "model_module_version": "1.5.0",
      "model_name": "HTMLModel",
      "state": {
       "layout": "IPY_MODEL_f263d298b3fb4af3a635c12b83f564eb",
       "style": "IPY_MODEL_758487b4151d463eb1cacbd6ec30917c",
       "value": "<h5>Backend</h5>"
      }
     },
     "a7218f37246144b586c0df90e9f69c05": {
      "model_module": "@jupyter-widgets/base",
      "model_module_version": "1.2.0",
      "model_name": "LayoutModel",
      "state": {
       "justify_content": "center"
      }
     },
     "a791e4664d8f48b98248baa60bfca5bd": {
      "model_module": "@jupyter-widgets/controls",
      "model_module_version": "1.5.0",
      "model_name": "DescriptionStyleModel",
      "state": {
       "description_width": ""
      }
     },
     "a90a8aa952b345a79ca9a88832e31df9": {
      "model_module": "@jupyter-widgets/base",
      "model_module_version": "1.2.0",
      "model_name": "LayoutModel",
      "state": {
       "max_width": "180px"
      }
     },
     "a9f8e14b3e7f4a12a778ce1fc86f57d2": {
      "model_module": "@jupyter-widgets/controls",
      "model_module_version": "1.5.0",
      "model_name": "DescriptionStyleModel",
      "state": {
       "description_width": ""
      }
     },
     "aa10bfaee99f47e681adf9a78cff8ed0": {
      "model_module": "@jupyter-widgets/controls",
      "model_module_version": "1.5.0",
      "model_name": "ProgressStyleModel",
      "state": {
       "bar_color": "#71cddd",
       "description_width": ""
      }
     },
     "ab7886f8c03e44d6a19b9a9a5389b6ed": {
      "model_module": "@jupyter-widgets/controls",
      "model_module_version": "1.5.0",
      "model_name": "VBoxModel",
      "state": {
       "children": [
        "IPY_MODEL_ea1a73898a844024b69ceb796ffc3e57",
        "IPY_MODEL_cecc54c92eaa4280b993254edeb4f3e4"
       ],
       "layout": "IPY_MODEL_eb013794dde84d17967bd63c858c69eb"
      }
     },
     "ab7b21120af84d00800ca847a842ac6b": {
      "model_module": "@jupyter-widgets/base",
      "model_module_version": "1.2.0",
      "model_name": "LayoutModel",
      "state": {
       "min_width": "auto"
      }
     },
     "aba0f9555f9944bb8b8f69b768add36b": {
      "model_module": "@jupyter-widgets/controls",
      "model_module_version": "1.5.0",
      "model_name": "DescriptionStyleModel",
      "state": {
       "description_width": ""
      }
     },
     "af334c609fad46d89e435cd826ea2804": {
      "model_module": "@jupyter-widgets/controls",
      "model_module_version": "1.5.0",
      "model_name": "DescriptionStyleModel",
      "state": {
       "description_width": ""
      }
     },
     "b05708a053ab410b997f0bb6153174ce": {
      "model_module": "@jupyter-widgets/controls",
      "model_module_version": "1.5.0",
      "model_name": "ProgressStyleModel",
      "state": {
       "bar_color": "#71cddd",
       "description_width": ""
      }
     },
     "b1ded82bb6f44647abb2f4dc700fee93": {
      "model_module": "@jupyter-widgets/base",
      "model_module_version": "1.2.0",
      "model_name": "LayoutModel",
      "state": {
       "align_items": "center",
       "justify_content": "center",
       "margin": "0px 0px 0px 0px",
       "max_height": "250px",
       "max_width": "250px",
       "min_height": "250px",
       "min_width": "250px"
      }
     },
     "b211d81c9c4c4abe8d8d5eb841f87c46": {
      "model_module": "@jupyter-widgets/controls",
      "model_module_version": "1.5.0",
      "model_name": "DescriptionStyleModel",
      "state": {
       "description_width": ""
      }
     },
     "b323cf66616a4302820ff9d5d2c9c451": {
      "model_module": "@jupyter-widgets/base",
      "model_module_version": "1.2.0",
      "model_name": "LayoutModel",
      "state": {}
     },
     "b36adec7b1364acc93449bcbe909b1fc": {
      "model_module": "@jupyter-widgets/controls",
      "model_module_version": "1.5.0",
      "model_name": "HTMLModel",
      "state": {
       "layout": "IPY_MODEL_1c1e5d516e664c5986705be6b9d43637",
       "style": "IPY_MODEL_97ef2aab8d7241e7b67dfa7431fcf456",
       "value": "<h1 style='color:#ffffff;background-color:#000000;padding-top: 1%;padding-bottom: 1%;padding-left: 1%; margin-top: 0px'>ibmq_quito</h1>"
      }
     },
     "b3705462a4fa4f31bd585ef4bbd9f48e": {
      "model_module": "@jupyter-widgets/controls",
      "model_module_version": "1.5.0",
      "model_name": "DescriptionStyleModel",
      "state": {
       "description_width": ""
      }
     },
     "b384af2cbcaa4a55a27d830b56e1e666": {
      "model_module": "@jupyter-widgets/base",
      "model_module_version": "1.2.0",
      "model_name": "LayoutModel",
      "state": {
       "justify_content": "center"
      }
     },
     "b61bd05861c8460ebb2554ef3cf410bc": {
      "model_module": "@jupyter-widgets/controls",
      "model_module_version": "1.5.0",
      "model_name": "HTMLModel",
      "state": {
       "layout": "IPY_MODEL_f90933c58f234d528ca113691e5bd598",
       "style": "IPY_MODEL_ba06a925c3bf4fcda6577f9677ca147c",
       "value": "<h5>0.0364</h5>"
      }
     },
     "b6fb9574ff7d45cc953291008ca30bb0": {
      "model_module": "@jupyter-widgets/base",
      "model_module_version": "1.2.0",
      "model_name": "LayoutModel",
      "state": {
       "min_width": "auto"
      }
     },
     "b7c0ad3caf1f48fcb4ec9af9ecb92fbc": {
      "model_module": "@jupyter-widgets/base",
      "model_module_version": "1.2.0",
      "model_name": "LayoutModel",
      "state": {
       "grid_gap": "0px 0px",
       "grid_template_areas": "\n                                                   \"top top top\"\n                                                   \"left middle right\"\n                                                   ",
       "grid_template_columns": "33% 33% 33%",
       "grid_template_rows": "auto auto"
      }
     },
     "b7c2e5c57b5b4a67b331642a38434ee4": {
      "model_module": "@jupyter-widgets/controls",
      "model_module_version": "1.5.0",
      "model_name": "HTMLModel",
      "state": {
       "layout": "IPY_MODEL_a03e27e008a241c2b74599949cab8edb",
       "style": "IPY_MODEL_af334c609fad46d89e435cd826ea2804",
       "value": "<div><font style='font-weight:bold'>last_update_date</font>: 2022-11-07 07:03:44+00:00</div>"
      }
     },
     "b8b2b04d75c84cc0a89592f530277b66": {
      "model_module": "@jupyter-widgets/base",
      "model_module_version": "1.2.0",
      "model_name": "LayoutModel",
      "state": {
       "justify_content": "center"
      }
     },
     "b97334a0271d418aac1ff2c77dc7c5c9": {
      "model_module": "@jupyter-widgets/controls",
      "model_module_version": "1.5.0",
      "model_name": "DescriptionStyleModel",
      "state": {
       "description_width": ""
      }
     },
     "ba06a925c3bf4fcda6577f9677ca147c": {
      "model_module": "@jupyter-widgets/controls",
      "model_module_version": "1.5.0",
      "model_name": "DescriptionStyleModel",
      "state": {
       "description_width": ""
      }
     },
     "bac7288cc27049ec9e920801545970f6": {
      "model_module": "@jupyter-widgets/controls",
      "model_module_version": "1.5.0",
      "model_name": "HTMLModel",
      "state": {
       "layout": "IPY_MODEL_94feea80e7de45a79b2b4e6f332a0804",
       "style": "IPY_MODEL_76a3394e424242e493a429aa7c731908",
       "value": "<h5 style='color:#dc267f'>False</h5>"
      }
     },
     "bb1a11c427114a0e86a81b098304cd06": {
      "model_module": "@jupyter-widgets/base",
      "model_module_version": "1.2.0",
      "model_name": "LayoutModel",
      "state": {
       "min_width": "auto"
      }
     },
     "bb961718a3af472aaac28892f81e355f": {
      "model_module": "@jupyter-widgets/controls",
      "model_module_version": "1.5.0",
      "model_name": "DescriptionStyleModel",
      "state": {
       "description_width": ""
      }
     },
     "bbc8813420f648c498eb63acbbce9120": {
      "model_module": "@jupyter-widgets/controls",
      "model_module_version": "1.5.0",
      "model_name": "HTMLModel",
      "state": {
       "layout": "IPY_MODEL_3c2b9473cd6a43539dfe35a50019f81e",
       "style": "IPY_MODEL_2b6536658ca840c69ce5aaeec9f9cc37",
       "value": "<h5>32</h5>"
      }
     },
     "bc3f939d1d4246b3a13657180fce03f3": {
      "model_module": "@jupyter-widgets/controls",
      "model_module_version": "1.5.0",
      "model_name": "HTMLModel",
      "state": {
       "layout": "IPY_MODEL_00c18bf1ae04441cbbe444ee58a9463b",
       "style": "IPY_MODEL_e1cb8b942da14a1ba093545d1df40d81",
       "value": "<table><style>\ntable {\n    border-collapse: collapse;\n    width: auto;\n}\n\nth, td {\n    text-align: left;\n    padding: 8px;\n}\n\ntr:nth-child(even) {background-color: #f6f6f6;};\n</style><tr><th></th><th>Type</th><th>Gate error</th></tr><tr><td><font style='font-weight:bold'>cx0_1</font></td><td>cx</td><td>0.01083</td></tr><tr><td><font style='font-weight:bold'>cx1_0</font></td><td>cx</td><td>0.01083</td></tr></table>"
      }
     },
     "bc7af4f577564d6db652f47291c7b622": {
      "model_module": "@jupyter-widgets/controls",
      "model_module_version": "1.5.0",
      "model_name": "DescriptionStyleModel",
      "state": {
       "description_width": ""
      }
     },
     "bca1263d6ee84beb913f61f664294814": {
      "model_module": "@jupyter-widgets/output",
      "model_module_version": "1.0.0",
      "model_name": "OutputModel",
      "state": {
       "layout": "IPY_MODEL_5160ae94712d4a8483a9c47731e97264",
       "outputs": [
        {
         "data": {
          "image/png": "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\n",
          "text/plain": "<Figure size 360x360 with 1 Axes>"
         },
         "metadata": {},
         "output_type": "display_data"
        }
       ]
      }
     },
     "bda56ce7138a4de7a1688a880cc20687": {
      "model_module": "@jupyter-widgets/controls",
      "model_module_version": "1.5.0",
      "model_name": "GridBoxModel",
      "state": {
       "children": [
        "IPY_MODEL_b7c2e5c57b5b4a67b331642a38434ee4",
        "IPY_MODEL_c429a8409c6a4dbe9da1baabb575348f",
        "IPY_MODEL_5739087fc43c421195bec4de220af0f2",
        "IPY_MODEL_bc3f939d1d4246b3a13657180fce03f3"
       ],
       "layout": "IPY_MODEL_b7c0ad3caf1f48fcb4ec9af9ecb92fbc"
      }
     },
     "bdc7a1a26cd64eb99da82fcf3a59f2f8": {
      "model_module": "@jupyter-widgets/base",
      "model_module_version": "1.2.0",
      "model_name": "LayoutModel",
      "state": {
       "width": "190px"
      }
     },
     "c13b5ec3331e418aaa33a0e69b52319d": {
      "model_module": "@jupyter-widgets/controls",
      "model_module_version": "1.5.0",
      "model_name": "ProgressStyleModel",
      "state": {
       "bar_color": "#71cddd",
       "description_width": ""
      }
     },
     "c210d1d6d88d43c4808c1f4aada0c81b": {
      "model_module": "@jupyter-widgets/controls",
      "model_module_version": "1.5.0",
      "model_name": "DescriptionStyleModel",
      "state": {
       "description_width": ""
      }
     },
     "c264a439cf714f9b8566f059c5677b75": {
      "model_module": "@jupyter-widgets/base",
      "model_module_version": "1.2.0",
      "model_name": "LayoutModel",
      "state": {
       "margin": "295px 0px 0px 0px",
       "min_width": "100px"
      }
     },
     "c39dcb0af76548f3870ade64d6d52a17": {
      "model_module": "@jupyter-widgets/controls",
      "model_module_version": "1.5.0",
      "model_name": "HBoxModel",
      "state": {
       "children": [
        "IPY_MODEL_62acb94e6f364b5c8969d6d557afb8d1",
        "IPY_MODEL_dda43a26200b42c184a1e1367aae878c",
        "IPY_MODEL_d04596f1af6746be9ca6f687cf2c0f0b"
       ],
       "layout": "IPY_MODEL_9fd44ff041f0430a94ac410d62c03c86"
      }
     },
     "c429a8409c6a4dbe9da1baabb575348f": {
      "model_module": "@jupyter-widgets/controls",
      "model_module_version": "1.5.0",
      "model_name": "HTMLModel",
      "state": {
       "layout": "IPY_MODEL_8eb6250fc9b44706b5c57004c372332b",
       "style": "IPY_MODEL_3d22557144094ee7b5fbfeb13bfe4dbb",
       "value": "<table><style>\ntable {\n    border-collapse: collapse;\n    width: auto;\n}\n\nth, td {\n    text-align: left;\n    padding: 8px;\n}\n\ntr:nth-child(even) {background-color: #f6f6f6;};\n</style><tr><th></th><th>Type</th><th>Gate error</th></tr><tr><td><font style='font-weight:bold'>cx3_4</font></td><td>cx</td><td>0.0162</td></tr><tr><td><font style='font-weight:bold'>cx4_3</font></td><td>cx</td><td>0.0162</td></tr><tr><td><font style='font-weight:bold'>cx1_3</font></td><td>cx</td><td>0.00998</td></tr></table>"
      }
     },
     "c491823967a54848a87e829ab2d743d5": {
      "model_module": "@jupyter-widgets/base",
      "model_module_version": "1.2.0",
      "model_name": "LayoutModel",
      "state": {
       "margin": "8px 0px 0px 0px"
      }
     },
     "c4ad18563768494bab51230196635651": {
      "model_module": "@jupyter-widgets/controls",
      "model_module_version": "1.5.0",
      "model_name": "DescriptionStyleModel",
      "state": {
       "description_width": ""
      }
     },
     "c51b81f07b3e4cdc96db22fc028c71c0": {
      "model_module": "@jupyter-widgets/base",
      "model_module_version": "1.2.0",
      "model_name": "LayoutModel",
      "state": {}
     },
     "c53108d63b064e9680fde5421900273d": {
      "model_module": "@jupyter-widgets/base",
      "model_module_version": "1.2.0",
      "model_name": "LayoutModel",
      "state": {}
     },
     "c59b53a302f4442a86894071db83b5de": {
      "model_module": "@jupyter-widgets/base",
      "model_module_version": "1.2.0",
      "model_name": "LayoutModel",
      "state": {
       "justify_content": "center"
      }
     },
     "c724542824f34f8685e793aeda2a9c97": {
      "model_module": "@jupyter-widgets/base",
      "model_module_version": "1.2.0",
      "model_name": "LayoutModel",
      "state": {}
     },
     "c7aa3d9d770c49c38064b23acf252fb1": {
      "model_module": "@jupyter-widgets/base",
      "model_module_version": "1.2.0",
      "model_name": "LayoutModel",
      "state": {
       "max_width": "180px"
      }
     },
     "c8a32cbc8a4a47cab0f4335e56b41d21": {
      "model_module": "@jupyter-widgets/base",
      "model_module_version": "1.2.0",
      "model_name": "LayoutModel",
      "state": {
       "justify_content": "center"
      }
     },
     "c8a96c2c319d4e4f9ba3a80c91424b20": {
      "model_module": "@jupyter-widgets/controls",
      "model_module_version": "1.5.0",
      "model_name": "DescriptionStyleModel",
      "state": {
       "description_width": ""
      }
     },
     "c96890269b774ee1a9fe98960a066f1f": {
      "model_module": "@jupyter-widgets/base",
      "model_module_version": "1.2.0",
      "model_name": "LayoutModel",
      "state": {
       "justify_content": "center"
      }
     },
     "c96ef2f0537841d4afb71ca863a2305f": {
      "model_module": "@jupyter-widgets/controls",
      "model_module_version": "1.5.0",
      "model_name": "LabelModel",
      "state": {
       "layout": "IPY_MODEL_4b006ed6a59f4d26a49d64d505989fdb",
       "style": "IPY_MODEL_8653c38f98214fb8a11c186877d1d83c",
       "value": "Num. Qubits"
      }
     },
     "c9e4cff65722426783208d83e6109802": {
      "model_module": "@jupyter-widgets/base",
      "model_module_version": "1.2.0",
      "model_name": "LayoutModel",
      "state": {
       "margin": "0px 0px 10px 0px"
      }
     },
     "ca5f9ac663f94e36a6fd30bcc43fc054": {
      "model_module": "@jupyter-widgets/controls",
      "model_module_version": "1.5.0",
      "model_name": "DescriptionStyleModel",
      "state": {
       "description_width": ""
      }
     },
     "cbcd28c8d3d0436d8e75ad37e3f2f513": {
      "model_module": "@jupyter-widgets/base",
      "model_module_version": "1.2.0",
      "model_name": "LayoutModel",
      "state": {
       "max_width": "180px"
      }
     },
     "cc7765db009a439eb5bbd76846426c7a": {
      "model_module": "@jupyter-widgets/controls",
      "model_module_version": "1.5.0",
      "model_name": "DescriptionStyleModel",
      "state": {
       "description_width": ""
      }
     },
     "cd5619e7b3c04be9ace735d8acb232ed": {
      "model_module": "@jupyter-widgets/controls",
      "model_module_version": "1.5.0",
      "model_name": "VBoxModel",
      "state": {
       "children": [
        "IPY_MODEL_ffbe9a80e1704a4fbfc0b8c37534d14b",
        "IPY_MODEL_eeacd90d935e40fa9504ba7d546150bf",
        "IPY_MODEL_4e66521abf8c4ca18d14d4fed0361aef",
        "IPY_MODEL_8329b7b7f05c4e4fbc4809c646e414ee",
        "IPY_MODEL_6e7987aa43be4e1d9198a820bb09229a",
        "IPY_MODEL_4e27910a22a848ae997743e56c6bc691",
        "IPY_MODEL_5c7e142f5ed84e2bba114048eca1a570",
        "IPY_MODEL_f6a4799e388747bba40dc4646d3ae258",
        "IPY_MODEL_fac8114c465b420092a9413e8122fd8c",
        "IPY_MODEL_10a03a480ca843c2a773650330370edb"
       ],
       "layout": "IPY_MODEL_5f1762d4da104b9db7930ca1c433d3c9"
      }
     },
     "cd7d0b8ebd754529a5fff352f7be0870": {
      "model_module": "@jupyter-widgets/base",
      "model_module_version": "1.2.0",
      "model_name": "LayoutModel",
      "state": {}
     },
     "cecc54c92eaa4280b993254edeb4f3e4": {
      "model_module": "@jupyter-widgets/controls",
      "model_module_version": "1.5.0",
      "model_name": "HTMLModel",
      "state": {
       "layout": "IPY_MODEL_cd7d0b8ebd754529a5fff352f7be0870",
       "style": "IPY_MODEL_c4ad18563768494bab51230196635651",
       "value": "<table><style>\ntable {\n    border-collapse: collapse;\n    width: auto;\n}\n\nth, td {\n    text-align: left;\n    padding: 8px;\n}\n\ntr:nth-child(even) {background-color: #f6f6f6;}\n</style><tr><th></th><th>Frequency</th><th>T1</th><th>T2</th><th>RZ</th><th>SX</th><th>X</th><th>Readout error</th></tr><tr><td><font style='font-weight:bold'>Q0</font></td><td>5.30043 GHz</td><td>87.13967 us</td><td>81.88467 us</td><td>0</td><td>0.00031</td><td>0.00031</td><td>0.0393 </td><tr><td><font style='font-weight:bold'>Q1</font></td><td>5.08054 GHz</td><td>113.72508 us</td><td>72.27192 us</td><td>0</td><td>0.00046</td><td>0.00046</td><td>0.0421 </td><tr><td><font style='font-weight:bold'>Q2</font></td><td>5.32219 GHz</td><td>75.29456 us</td><td>110.82381 us</td><td>0</td><td>0.00029</td><td>0.00029</td><td>0.0749 </td><tr><td><font style='font-weight:bold'>Q3</font></td><td>5.16362 GHz</td><td>60.9193 us</td><td>19.09407 us</td><td>0</td><td>0.00025</td><td>0.00025</td><td>0.0344 </td><tr><td><font style='font-weight:bold'>Q4</font></td><td>5.05233 GHz</td><td>80.34081 us</td><td>154.27144 us</td><td>0</td><td>0.00036</td><td>0.00036</td><td>0.0375 </td></table>"
      }
     },
     "d04596f1af6746be9ca6f687cf2c0f0b": {
      "model_module": "@jupyter-widgets/controls",
      "model_module_version": "1.5.0",
      "model_name": "LabelModel",
      "state": {
       "layout": "IPY_MODEL_7fd3c80c2c8b408d9a8e8f0a7e24e7cc",
       "style": "IPY_MODEL_e300652fb5aa49409a592cdc099d4dd6",
       "value": "93"
      }
     },
     "d1122a1daeb2457aa03f649289d1cecb": {
      "model_module": "@jupyter-widgets/base",
      "model_module_version": "1.2.0",
      "model_name": "LayoutModel",
      "state": {
       "max_width": "180px"
      }
     },
     "d1be9152a5bc40c39e51fa9e93c47f1c": {
      "model_module": "@jupyter-widgets/base",
      "model_module_version": "1.2.0",
      "model_name": "LayoutModel",
      "state": {
       "grid_gap": "0px 25px",
       "grid_template_columns": "250px 250px 250px 250px 250px 250px ",
       "grid_template_rows": "auto"
      }
     },
     "d2be7265c9e64b599dbd08465aaaae56": {
      "model_module": "@jupyter-widgets/controls",
      "model_module_version": "1.5.0",
      "model_name": "DescriptionStyleModel",
      "state": {
       "description_width": ""
      }
     },
     "d2dc8df04d0a4fdb8cbf1c6231e8c029": {
      "model_module": "@jupyter-widgets/controls",
      "model_module_version": "1.5.0",
      "model_name": "HTMLModel",
      "state": {
       "layout": "IPY_MODEL_9d4310d003cb4437be926d265dcfb8cb",
       "style": "IPY_MODEL_a1e688a0b0f7402d889b8a7ca0f5d8dc",
       "value": "<h5>82.5 / 82.0 us</h5>"
      }
     },
     "d2f701da3de04248aba0700c7670ef3b": {
      "model_module": "@jupyter-widgets/controls",
      "model_module_version": "1.5.0",
      "model_name": "DescriptionStyleModel",
      "state": {
       "description_width": ""
      }
     },
     "d307bd763d0847199e32c0467b489d37": {
      "model_module": "@jupyter-widgets/base",
      "model_module_version": "1.2.0",
      "model_name": "LayoutModel",
      "state": {}
     },
     "d32f38636617415e937267368758bebf": {
      "model_module": "@jupyter-widgets/controls",
      "model_module_version": "1.5.0",
      "model_name": "IntProgressModel",
      "state": {
       "layout": "IPY_MODEL_d1122a1daeb2457aa03f649289d1cecb",
       "max": 388,
       "style": "IPY_MODEL_aa10bfaee99f47e681adf9a78cff8ed0",
       "value": 378
      }
     },
     "d38f15fe15d446c4b6b469ac78ad0875": {
      "model_module": "@jupyter-widgets/controls",
      "model_module_version": "1.5.0",
      "model_name": "DescriptionStyleModel",
      "state": {
       "description_width": ""
      }
     },
     "d41694c5ca5549b3bd1c3084c0586767": {
      "model_module": "@jupyter-widgets/controls",
      "model_module_version": "1.5.0",
      "model_name": "DescriptionStyleModel",
      "state": {
       "description_width": ""
      }
     },
     "d4743cd084d3457eb3cb5b79a94c831f": {
      "model_module": "@jupyter-widgets/controls",
      "model_module_version": "1.5.0",
      "model_name": "HTMLModel",
      "state": {
       "layout": "IPY_MODEL_c51b81f07b3e4cdc96db22fc028c71c0",
       "style": "IPY_MODEL_a9f8e14b3e7f4a12a778ce1fc86f57d2",
       "value": "<h5>0.0423</h5>"
      }
     },
     "d579e075a11d44b296059f78e6574174": {
      "model_module": "@jupyter-widgets/base",
      "model_module_version": "1.2.0",
      "model_name": "LayoutModel",
      "state": {
       "margin": "5px 0px 0px 0px"
      }
     },
     "d5faca02886142b780612d076cd56b0c": {
      "model_module": "@jupyter-widgets/base",
      "model_module_version": "1.2.0",
      "model_name": "LayoutModel",
      "state": {
       "width": "70px"
      }
     },
     "d63d532c497a47cba344223c1f6b5fc5": {
      "model_module": "@jupyter-widgets/controls",
      "model_module_version": "1.5.0",
      "model_name": "DescriptionStyleModel",
      "state": {
       "description_width": ""
      }
     },
     "d7fc6d8efc0d496fbb4816a590cab9cb": {
      "model_module": "@jupyter-widgets/controls",
      "model_module_version": "1.5.0",
      "model_name": "HTMLModel",
      "state": {
       "layout": "IPY_MODEL_918f862d8e844248bc960db26c1e3268",
       "style": "IPY_MODEL_1c7419ca9666420ea0313458fc17796b",
       "value": "<h5>0.0409</h5>"
      }
     },
     "d95e9c789da24e93b71309803ce8ab57": {
      "model_module": "@jupyter-widgets/controls",
      "model_module_version": "1.5.0",
      "model_name": "DescriptionStyleModel",
      "state": {
       "description_width": ""
      }
     },
     "d9d2b766623441378b44488ea0954524": {
      "model_module": "@jupyter-widgets/controls",
      "model_module_version": "1.5.0",
      "model_name": "HBoxModel",
      "state": {
       "children": [
        "IPY_MODEL_41aeb9f932e5495ea803d05d6d81e5f8",
        "IPY_MODEL_525602e3396744fa9e149945c1fb48ae"
       ],
       "layout": "IPY_MODEL_8488a5e9119b4b8eab1060dd9a6c34b1"
      }
     },
     "db8c07e134cd499f99cc9ab3c7b07952": {
      "model_module": "@jupyter-widgets/base",
      "model_module_version": "1.2.0",
      "model_name": "LayoutModel",
      "state": {
       "align_items": "center",
       "justify_content": "center",
       "margin": "0px 0px 0px 0px",
       "max_height": "250px",
       "max_width": "250px",
       "min_height": "250px",
       "min_width": "250px"
      }
     },
     "dc23b5a74701454cb688217b77df34c2": {
      "model_module": "@jupyter-widgets/output",
      "model_module_version": "1.0.0",
      "model_name": "OutputModel",
      "state": {
       "layout": "IPY_MODEL_ef985d851b2a41f589c0f1bfc2f00996",
       "outputs": [
        {
         "data": {
          "image/png": "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\n",
          "text/plain": "<Figure size 360x360 with 1 Axes>"
         },
         "metadata": {},
         "output_type": "display_data"
        }
       ]
      }
     },
     "dc750f09b43d49f7a0769879ce2b998d": {
      "model_module": "@jupyter-widgets/controls",
      "model_module_version": "1.5.0",
      "model_name": "HTMLModel",
      "state": {
       "layout": "IPY_MODEL_9aa83ea696d74c55913dcff215289f07",
       "style": "IPY_MODEL_f76c195f464d48a090261647b1944ec1",
       "value": "<h5>0.0378</h5>"
      }
     },
     "dd21c9dc95b749dbb3dadee6beb1f35d": {
      "model_module": "@jupyter-widgets/base",
      "model_module_version": "1.2.0",
      "model_name": "LayoutModel",
      "state": {}
     },
     "dda43a26200b42c184a1e1367aae878c": {
      "model_module": "@jupyter-widgets/controls",
      "model_module_version": "1.5.0",
      "model_name": "IntProgressModel",
      "state": {
       "layout": "IPY_MODEL_712a70e9c37c4e3588383bef7ce71c07",
       "max": 93,
       "style": "IPY_MODEL_b05708a053ab410b997f0bb6153174ce",
       "value": 77
      }
     },
     "dea5a44be3514417822a5d397c19bc42": {
      "model_module": "@jupyter-widgets/controls",
      "model_module_version": "1.5.0",
      "model_name": "HTMLModel",
      "state": {
       "layout": "IPY_MODEL_bdc7a1a26cd64eb99da82fcf3a59f2f8",
       "style": "IPY_MODEL_0ba85490c0ca4af4aec556573759b328",
       "value": "<h5>Job ID</h5>"
      }
     },
     "df483d9a4f30479cb23237b65517a7a1": {
      "model_module": "@jupyter-widgets/base",
      "model_module_version": "1.2.0",
      "model_name": "LayoutModel",
      "state": {
       "justify_content": "center"
      }
     },
     "dfc8c320ab064cb38e4dc06ad030c046": {
      "model_module": "@jupyter-widgets/base",
      "model_module_version": "1.2.0",
      "model_name": "LayoutModel",
      "state": {
       "align_items": "center",
       "justify_content": "center",
       "margin": "0px 0px 0px 0px",
       "max_height": "250px",
       "max_width": "250px",
       "min_height": "250px",
       "min_width": "250px"
      }
     },
     "e1cb8b942da14a1ba093545d1df40d81": {
      "model_module": "@jupyter-widgets/controls",
      "model_module_version": "1.5.0",
      "model_name": "DescriptionStyleModel",
      "state": {
       "description_width": ""
      }
     },
     "e1d2acc0a7344342a735727f2ecf852f": {
      "model_module": "@jupyter-widgets/output",
      "model_module_version": "1.0.0",
      "model_name": "OutputModel",
      "state": {
       "layout": "IPY_MODEL_db8c07e134cd499f99cc9ab3c7b07952",
       "outputs": [
        {
         "data": {
          "image/png": "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\n",
          "text/plain": "<Figure size 360x360 with 1 Axes>"
         },
         "metadata": {},
         "output_type": "display_data"
        }
       ]
      }
     },
     "e300652fb5aa49409a592cdc099d4dd6": {
      "model_module": "@jupyter-widgets/controls",
      "model_module_version": "1.5.0",
      "model_name": "DescriptionStyleModel",
      "state": {
       "description_width": ""
      }
     },
     "e50516fa69414f499433bd2e3dc5b297": {
      "model_module": "@jupyter-widgets/base",
      "model_module_version": "1.2.0",
      "model_name": "LayoutModel",
      "state": {
       "align_items": "center",
       "justify_content": "center",
       "margin": "0px 0px 0px 0px",
       "max_height": "250px",
       "max_width": "250px",
       "min_height": "250px",
       "min_width": "250px"
      }
     },
     "e5390fbfc220494491f7cbba00bbb419": {
      "model_module": "@jupyter-widgets/controls",
      "model_module_version": "1.5.0",
      "model_name": "DescriptionStyleModel",
      "state": {
       "description_width": ""
      }
     },
     "e60abc5fa5154126ae27ce3ece76f082": {
      "model_module": "@jupyter-widgets/controls",
      "model_module_version": "1.5.0",
      "model_name": "DescriptionStyleModel",
      "state": {
       "description_width": ""
      }
     },
     "e70c1e519f1b4b298deee82cc89ede6c": {
      "model_module": "@jupyter-widgets/base",
      "model_module_version": "1.2.0",
      "model_name": "LayoutModel",
      "state": {
       "justify_content": "center"
      }
     },
     "ea1a73898a844024b69ceb796ffc3e57": {
      "model_module": "@jupyter-widgets/controls",
      "model_module_version": "1.5.0",
      "model_name": "HTMLModel",
      "state": {
       "layout": "IPY_MODEL_fc3dd1c486c2428aa13a159d80142532",
       "style": "IPY_MODEL_c8a96c2c319d4e4f9ba3a80c91424b20",
       "value": "<div><font style='font-weight:bold'>last_update_date</font>: Mon 07 November 2022 at 07:03 UTC</div>"
      }
     },
     "eb013794dde84d17967bd63c858c69eb": {
      "model_module": "@jupyter-widgets/base",
      "model_module_version": "1.2.0",
      "model_name": "LayoutModel",
      "state": {}
     },
     "eba9f873ddab4666b864288745eab528": {
      "model_module": "@jupyter-widgets/base",
      "model_module_version": "1.2.0",
      "model_name": "LayoutModel",
      "state": {
       "justify_content": "center"
      }
     },
     "ec31a7c813da4ad0ad71234e985a6a87": {
      "model_module": "@jupyter-widgets/controls",
      "model_module_version": "1.5.0",
      "model_name": "HTMLModel",
      "state": {
       "layout": "IPY_MODEL_c9e4cff65722426783208d83e6109802",
       "style": "IPY_MODEL_d41694c5ca5549b3bd1c3084c0586767",
       "value": "<p style='font-family: IBM Plex Sans, Arial, Helvetica, sans-serif; font-size: 20px; font-weight: medium;'>Circuit Properties</p>"
      }
     },
     "ee151ba3b97b4887839449b5e8d39f97": {
      "model_module": "@jupyter-widgets/base",
      "model_module_version": "1.2.0",
      "model_name": "LayoutModel",
      "state": {}
     },
     "ee5fc71242b0410c9830027817d94370": {
      "model_module": "@jupyter-widgets/controls",
      "model_module_version": "1.5.0",
      "model_name": "LabelModel",
      "state": {
       "layout": "IPY_MODEL_d307bd763d0847199e32c0467b489d37",
       "style": "IPY_MODEL_02c6b9379d6f4d03898242320ce1eccd",
       "value": "Quantum Vol."
      }
     },
     "eeacd90d935e40fa9504ba7d546150bf": {
      "model_module": "@jupyter-widgets/output",
      "model_module_version": "1.0.0",
      "model_name": "OutputModel",
      "state": {
       "layout": "IPY_MODEL_dfc8c320ab064cb38e4dc06ad030c046",
       "outputs": [
        {
         "data": {
          "image/png": "iVBORw0KGgoAAAANSUhEUgAAAR4AAAEeCAYAAABcyXrWAAAAOXRFWHRTb2Z0d2FyZQBNYXRwbG90bGliIHZlcnNpb24zLjUuMSwgaHR0cHM6Ly9tYXRwbG90bGliLm9yZy/YYfK9AAAACXBIWXMAAAsTAAALEwEAmpwYAAASu0lEQVR4nO3df6xkVWHA8e/bXdhfLEq0ptZWhcIiRRDRloq01loxEAU09Ve0ioXb1B9Nr1Zpq0RQQSNIvUYjDVeUWmur2KLQYsFotJVWDWAFAQtINahVog3Cvre77I/pH+cOPN4+Hm/fzJxz7pzvJ9lssvP23vPuzHzn/pp7ZwaDAZIU06rUA5BUHsMjKTrDIyk6wyMpOsMjKTrDIyk6wyMpOsMjKTrDIyk6wyMpOsMjKTrDIyk6wyMpOsMjKTrDIyk6wyMpOsMjKTrDIyk6wyMpOsMjKTrDIyk6wyMpOsMjKTrDIyk6wyMpOsMjKTrDIyk6wyMpOsMjKTrDIyk6wyMpOsMjKTrDIyk6wyMpOsMjKTrDIyk6wyMpOsMjKTrDIyk6wyMpOsMjKTrDIyk6wyMpOsMjKTrDIyk6wyMpOsMjKTrDIyk6wyMpOsMjKTrDIyk6wyMpOsMjKTrDIyk6wyMpOsMjKbo1qQegfqgaZoBfBp4G/BqwPzADzAK3A9cBt7U1u5MNUr0xMxgMUo9BGasajgLeBJxC+KC6D9gPWN39yADYQlh7XgN8BXgf8EUjpIdieLSoquF44ALgIGAtD4Tm4QwIa0H3AmcBH2lrfJHpQQyPHqRqeATwIeBFwIYRJzcL3Ai8rK35/qhj0/QwPLpf1XA0cBVhU2rdmCa7E9gOnNrWfGZM01TPeVRLAFQNxxL2zzya8UUHwn6fjcDHq4bXjHG66jHXeDTcgfzvhDWdSZojrPlcOuH5KHOGp3BVwwbgNuCxhMPjkzYHHNHW3BFhXsqUm1o6HziAONGBcITsU1Xja69kPvkFqxqeAbwGWB9xtquBw4DXRpynMmN4yvZOxrsjebk2AmdVzbLPDdKUMTyFqhoeDxxHvE2shdYBJySatxIzPOV6LemiA7AJOCPh/JWQ4SnXiwg7elP6zaphn8RjUAKGp0BVw77AganHAWwDDk89CMVneMp0OOFNn9oqwmU2VBjDU6bNkMU3xjcSru2jwhieMq0nn+d+U+oBKL5cXnyKK4e1nSEvFlYgw1OmOfJ4ww8IFwxTYQxPmW4hj+d+eKEwFSaHF5/i+w6wb+pBdK5LPQDFZ3gK1NbsJFwKI7V9CRFUYQxPuf4B2Jpw/gPgS23NroRjUCKGp1wXkfa7WrPAeQnnr4QMT6HamruAfyXd0a27gS8nmrcSMzxlezvhDhCxzQJneL+tchmegrU1NxIufTobcbb3AdcQ9jGpUIZH5xA2e2IZAK92badshkcnAI+JOL+1wGkR56cMGZ6CVQ0nAZ+B6BfjOqdqeFvkeSojhqdQS0TnLsJ3ucZlO+H7WAvPGTI+BTM8BVoiOqcDvwI0hFCMuh9mDrgCeCJwPLBlwePGp1DeSbQwS0Wnrbl43s8dBbwbeDbhRMPlXp95J7CD8FWIM9uaK+dN8zjg8+x5q+Qz25pz9+LXUM8ZnoIsNzoL/s/jCHekeDlhbWgrsP+CH/s5sAH4KXAl0LQ1336I6RkfGZ5SrCQ6i0xjHXAE8I0FD/0O8M225p5lTsf4FM7wFGAc0VkwvQe9aNp677/zZXzK5s7lKTfu6IxLW/NVwjlE7nAukOGZYrlGZ8j4lMvwTKncozNkfMpkeKZQX6IzZHzKY3imTN+iM2R8ymJ4pkhfozNkfMpheKZE36MzZHzKYHimwLREZ8j4TD/D03PTFp0h4zPdDE+PTWt0hozP9DI8PTXt0RkyPtPJ8PRQKdEZMj7Tx/D0TNVwDnAZhURn6GHic1WCIWkEhqdHuui8jT2ft6mOztAS8Tm+arg6wZC0QoanJ6qGd8GimxVFRGdoXny2LXjoua759Ifh6YGq4WTgLxZ56JKSojPUxedNizx0vPt8+sHwZK6LzqXAmgUPXdLWvCbBkLLQ1lwIvG6Rh9zh3AOGJ2PzojN/R/IAuLjk6AzNi8/CzS7jkznDk6klonN6W3N6mlHlp4vPc/FQe68Yngw9THQ+mmZU+fI8n/4xPJkxOitjfPrF8GTE6IzG+PSH4cmE0RkP49MPhicDRme8jE/+DE9iRmcyjE/eDE9CRmeyjE++DE8iRicO45Mnw5OA0YnL+OTH8ERmdNIwPnkxPBEZnbSMTz4MTyRGJw/GJw8zg8Eg9RiyVDWsAg4BngYcCTwSWA3MArcC1wI3tPUe34xebFq9j07VsBrYDDwd+PiCh/+YsDy+3dZsjz22lagajgM+D+y34KEz25pzl/H/1wBPIrw+ngzsD8wQgnYzcB1heewY57inheGZp2qYAY4B/gx4PrAL2E14cc7M+9E5YCewAbgBOA+4rK25b5Fp9jY63fI4Dngz8DxgB2Hsmxb86HB5rAeuJyyPy9uanfFGu/f2Nj7d8ng28Bbgd+H+53sjD359zBJeO+uBrwHnA1e2NbvG+gv0mOHpVA0nAg3wS4QXzN5sht5LCNT7gPcOP+V6Hp0XAhcAv8Ceb6yHcy8hRO8G3p/zG2458emC83LgvYQ135Usj+3A2cCFbc3u0Ubdf8WHp2o4ALgQeAFhDWYUs8APgJcAB9LD6FQNjwYuBp5DeIONYha4A3hJW/OdUcc2KUvFB/goYdPyGYxnedwCvLStuWPEafVa0eGpGo4Gria84NaOabIDwibJ6u7P/H/PPTrHAlcC6xjf8thN+LR/XVtzyZimOXZLxGc7Ye134e2EVmpXN81T25pLxzTN3ik2PN2b7Cr2fKFNQh+i8xzgc4z+qf5Q5oC3tjUfmND0R7ZEfCZhDnhDW/OxCPPKTpHhqRqeAnwVowNA1XAM8CVG39R8OHPA63uw5nM1YT/fpG0FXtXWfCbCvLJS3Hk8VcN64Aom98m+0A7gm5Hmtdeqhk2E5THp6NDN48NVw5MizGulboZoR+PWA5dUDU+MNL9sFBce4D3Ao9i7oxKj2Ae4tGrYN9L89tYHiLPmN7QW+HR3XlCOLoKoz9Va4JPdkbNiFBWequHpwB8R59N9aAZ4LOEISVaqhmcBLyXOZsXQKuAgoI44z2XpTqk4gfHtWF+ONYQTVIu6c0hR4QHOIhyxiW0D8MZuMy8n7yRuhIc2Am/rzv7NybmkWx5nd2fLF6GYX7Rq+EXC/ZdSrtK+OOG8H6RqOAj4jYRDWEM4dyoLVcMRwKEJh7A/4dypIhQTHsImVspDePsBf55w/gu9nrTP/ybyWh5/yvjO1VmJjYSvphShpPC8kDSbWfMdUjXsn3gMQycRdyfqYo6umqj7U5ZyInvenz6mGeC3S9ncKuKX7J7Mw1KPg3Aey1NTD6J7sz8h9TgI57E8OfUgqoZHAI9OPQ7CWc0Hpx5EDEWEh3B5ixy+Kb2OcBmF1J5MeNOntoY8lsdTCR8Kqe0mj+UxcaWE52DyCM9awqHT1A4h7U72oQ2QxcmEh5B2M2toP8JYpl4p4VlHHm80iHfG9FJyWh4xT158KOsgixMaZ8jj9TFxpYRnQNojWvPlcC2WXJYFkMW1elwekZUSntnUA5jn56kHQFgeuQTwntSD4IErBqa2kz2vBT2VSgnPzaQ/dAxhB+b1qQcB3EQez/0W4MbUgyAsjxzCM0sYy9TL4cUXww/IY+fyTsJFwFO7lbQnyw3NEC4Sn9oNpPmqxEJryeP1MXFFhKetGRBeXKmtJ4NP+O4ayLemHgchfsnH0d0p5M7U4yBcPP6HqQcRQxHh6fwt6befr1nO7XAi+QRpz13ZDVyV0YXPPwlJn5udwOe6D8mpV1J4/o60v++9hNu+5OJi0i6POcJtX3JxYeL53wf8VeIxRFNMeNqaLYRP+VQ3WJsjXOM5C23NzwjXWE61U/Uu4JpE895DW/ND4MukO7T+3bbmvxLNO7piwtN5N+x5070IZoEzMtqsGDqLNMtjDnhzhpsVf0maza05wk0ki1FUeNqa7xPuAhnzvJ4dwDcI+5iy0tb8N+FiYDGXx3bgC23NZRHnuSzdGsf7ibvvaxvwj23NFyLOM7miwtP5a8KRpVibXNuBV2b46T50PuGme7FON9hG3pf5fAfxDkIMunm9IdL8slFceLoAnAz8hMnv35gDTmlrfjTh+axYd2j9ROD/mPzZzLPAiW3NTyc8n1H8AfCYSPOaBY5v6yzO3o6quPAAtDV3AccCP2Zyaz5zhFvVfnFC0x+btuYHwDOBnzG5NZ9Z4KS25j8mNP2RVQ2nAR+JMKsB4Sjn89o631sfTVKR4QFoa+4kXPvkW4x3H8c2wtrDiW3NP49xuhPV1twOHE24t/c4l8dWwhGs57Q1XxrjdMfqIaKzg3BC37iXx4+A38o5wpNWbHgA2pqfAMcAbyWsoYy66TUHfBb41bbmKyNOK7puzeepwDmEN8g4lsffAwe3NV8fcVoTs0R0fh84ELiAsDxG2RQddNO4GNjc1nxrhGn1XpG3MF5Md9eFswl3gtjF8q+Lch/hBXk9cPa0HJ2oGg4l7Gg9mfD7Lfe7TMPl8XXgrNwDvFR02prL5/3cEYTlcQIhIsu9VdH27uf/jbA8vjbyoKeA4Vmgangk8Oruz2GECO3igbXD4bV91hO+3/MvwAfbmtuiDzaCquFRwGnAKwi3f9lBCMtiy+N7hNshf6it+Z/og91Ly43Ogv/zGKACXgZs5oHQzl8eEC4udgdwGfDhbtNeHcOzhO4i8QcTrlG8kXCVum3Ad4EbM/reVRTd8tgMHE5YHqsImw+3Ad9u6yQnI67ISqKzyDRWEy7dehhhjXAVYfPyVuCmtk52lnz2DI+KM47oaDRF71xWeYxOHgyPimF08mF4VASjkxfDo6lndPJjeDTVjE6eDI+mltHJl+HRVDI6eTM8mjpGJ3+GR1PF6PSD4dHUMDr9YXg0FYxOvxge9Z7R6Z81qQcgjaJq+Bhw6oJ/NjqZc41HvWV0+svwqJeqhovZMzq7MTq9YHjUO90+nT9c5KH3GJ1+MDzqlSVuQXNuW3Nm7PFoZdy5rN54iOjsJKzpvD3BkLRChke94CHz6eKmlrJndKaP4VHWjM50MjzKltGZXoZHWTI6083wKDtGZ/oZHmXF6JTB8CgbRqcchkdZMDplMTxKzuiUx/AoKaNTJsOjZIxOuQyPkjA6ZfNLolqWqmEdcCTwNOBo4BHADDAL3AhcB1zf1tyzjGkZncLNDAaD1GNQpqqG1cDzgDOAY4GthA+rDQt+dDuwrfv324DzgE+3NVsXmabRkeHRnqqGGeBVhICsBzbt5SS2dH83wLvamvu66RodAYZHC1QNjwM+Afw6sHHEyc0B/wu8mLB5ZnQEGB7NUzX8HnAZsBbYZ0yTHRCuErhwekanYIZHAFQNzwc+xZ77bybB6BTO8Iiq4VnAlcSJzi7gRUanbJ7HU7iq4QDgn4gTHQjh+V6keSlThkcXMvpO5L2xD3Bp1YxtH5J6yPAUrGp4LvACws7kWGaAxxHODVKhDE/Z3kG8Taz5NgJvqRr2TTBvZcDwFKpq2AwclXAIq4BTEs5fCRmecv0Jab+rtwk3t4pleMp1IuM7SXCljuy+fKrCGJ4CdW/2x6ceB+FLp0ekHoTiMzxlOpLwParU1gBPTz0IxWd4ynQQ4bB2ahuAzakHofgMT5nWk0d4IO7Ji8qE4SnTrtQDmCensSgSw1OmLcDu1IMgXDLj7tSDUHyGp0w3AatTD4IQwBtSD0LxGZ4y3UYe4VlFuEi8CmN4CtTW7Aa+k3ochPjdnnoQis/wlOtvCLemSWU3cEUXQRXG8JTrEtJubm0FLkg4fyVkeArV1twNXEq6w9k/BL6RaN5KzPCU7WzCzfhimwPe2NZ4we9CGZ6CtTV3AG8l7r6ebcDlbc2VEeepzBgefRC4hXDLmRhmgddGmpcyZXgK1x1Vej5wF5Pf37MFOL7bv6SCGR7R1vwEeAbhdsOTWPMZAPcSonP9BKavnjE8AqCtuZNwbZxrGe8+nzngTuC4tuY/xzhd9Zjh0f26NZ9nAm8mxGfnCJMbEM7VuQg4tK39TpYe4C2Mtaiq4QmEI16vJJxlvN8y/+u27u+rgXe1NddOYHjqOcOjJVUN+wGvIAToKYQLxA/P/ZkhrNmsIZwFfQvwWeCitubH0Qer3jA8Wraquf8uoIcTLlu6irA5dTtwu9+70nIZHknRuXNZUnSGR1J0hkdSdIZHUnSGR1J0hkdSdIZHUnSGR1J0hkdSdIZHUnSGR1J0hkdSdIZHUnSGR1J0hkdSdIZHUnSGR1J0hkdSdIZHUnSGR1J0hkdSdIZHUnSGR1J0hkdSdIZHUnSGR1J0hkdSdIZHUnSGR1J0hkdSdIZHUnSGR1J0hkdSdIZHUnSGR1J0hkdSdIZHUnSGR1J0hkdSdIZHUnSGR1J0hkdSdIZHUnSGR1J0hkdSdIZHUnSGR1J0hkdSdIZHUnSGR1J0hkdSdIZHUnSGR1J0hkdSdIZHUnSGR1J0/w9S6qAa8C+pDwAAAABJRU5ErkJggg==\n",
          "text/plain": "<Figure size 360x360 with 1 Axes>"
         },
         "metadata": {},
         "output_type": "display_data"
        }
       ]
      }
     },
     "eeb2afd2a1324ba4a82883c4e10dccb0": {
      "model_module": "@jupyter-widgets/controls",
      "model_module_version": "1.5.0",
      "model_name": "DescriptionStyleModel",
      "state": {
       "description_width": ""
      }
     },
     "ef985d851b2a41f589c0f1bfc2f00996": {
      "model_module": "@jupyter-widgets/base",
      "model_module_version": "1.2.0",
      "model_name": "LayoutModel",
      "state": {
       "align_items": "center",
       "display": "flex-inline",
       "grid_area": "right",
       "max_height": "325px",
       "padding": "10px 10px 10px 10px",
       "width": "auto"
      }
     },
     "eff8a60c40e9444fb87ac0c5b8251175": {
      "model_module": "@jupyter-widgets/controls",
      "model_module_version": "1.5.0",
      "model_name": "LabelModel",
      "state": {
       "layout": "IPY_MODEL_1a8971b082174e9eae4851e4b5d890be",
       "style": "IPY_MODEL_8ab56dcf4f904345ac60b223280e8017",
       "value": "378"
      }
     },
     "f263d298b3fb4af3a635c12b83f564eb": {
      "model_module": "@jupyter-widgets/base",
      "model_module_version": "1.2.0",
      "model_name": "LayoutModel",
      "state": {
       "width": "145px"
      }
     },
     "f6a4799e388747bba40dc4646d3ae258": {
      "model_module": "@jupyter-widgets/controls",
      "model_module_version": "1.5.0",
      "model_name": "HTMLModel",
      "state": {
       "layout": "IPY_MODEL_0aeece7084984cd8ad8f2865f12877c9",
       "style": "IPY_MODEL_d2f701da3de04248aba0700c7670ef3b",
       "value": "<h5>83.5 / 87.7 us</h5>"
      }
     },
     "f76c195f464d48a090261647b1944ec1": {
      "model_module": "@jupyter-widgets/controls",
      "model_module_version": "1.5.0",
      "model_name": "DescriptionStyleModel",
      "state": {
       "description_width": ""
      }
     },
     "f8122ee3498a48bab2d241178cc69dbb": {
      "model_module": "@jupyter-widgets/controls",
      "model_module_version": "1.5.0",
      "model_name": "HTMLMathModel",
      "state": {
       "layout": "IPY_MODEL_76c0fc6bcd7d4f04a9809d4e9bf042c0",
       "style": "IPY_MODEL_a791e4664d8f48b98248baa60bfca5bd",
       "value": "<table><style>\ntable {\n    border-collapse: collapse;\n    width: auto;\n}\n\nth, td {\n    text-align: left;\n    padding: 8px;\n}\n\ntr:nth-child(even) {background-color: #f6f6f6;}\n</style><tr><th></th><th></th></tr><tr><td>live_data</td><td>False</td></tr><tr><td>processor_type</td><td>{'family': 'Falcon', 'revision': 4, 'segment': 'T'}</td></tr><tr><td>credits_required</td><td>True</td></tr><tr><td>u_channel_lo</td><td>[[{'q': 1, 'scale': (1+0j)}], [{'q': 0, 'scale': (1+0j)}], [{'q': 2, 'scale': (1+0j)}], [{'q': 3, 'scale': (1+0j)}], [{'q': 1, 'scale': (1+0j)}], [{'q': 1, 'scale': (1+0j)}], [{'q': 4, 'scale': (1+0j)}], [{'q': 3, 'scale': (1+0j)}]]</td></tr><tr><td>dt</td><td>0.2222222222222222</td></tr><tr><td>local</td><td>False</td></tr><tr><td>default_rep_delay</td><td>250.0</td></tr><tr><td>timing_constraints</td><td>{'acquire_alignment': 16, 'granularity': 16, 'min_length': 64, 'pulse_alignment': 1}</td></tr><tr><td>dtm</td><td>0.2222222222222222</td></tr><tr><td>conditional_latency</td><td>[]</td></tr><tr><td>uchannels_enabled</td><td>True</td></tr><tr><td>rep_delay_range</td><td>[0.0, 500.0]</td></tr><tr><td>backend_name</td><td>ibmq_quito</td></tr><tr><td>dynamic_reprate_enabled</td><td>True</td></tr><tr><td>channels</td><td>{'acquire0': {'operates': {'qubits': [0]}, 'purpose': 'acquire', 'type': 'acquire'}, 'acquire1': {'operates': {'qubits': [1]}, 'purpose': 'acquire', 'type': 'acquire'}, 'acquire2': {'operates': {'qubits': [2]}, 'purpose': 'acquire', 'type': 'acquire'}, 'acquire3': {'operates': {'qubits': [3]}, 'purpose': 'acquire', 'type': 'acquire'}, 'acquire4': {'operates': {'qubits': [4]}, 'purpose': 'acquire', 'type': 'acquire'}, 'd0': {'operates': {'qubits': [0]}, 'purpose': 'drive', 'type': 'drive'}, 'd1': {'operates': {'qubits': [1]}, 'purpose': 'drive', 'type': 'drive'}, 'd2': {'operates': {'qubits': [2]}, 'purpose': 'drive', 'type': 'drive'}, 'd3': {'operates': {'qubits': [3]}, 'purpose': 'drive', 'type': 'drive'}, 'd4': {'operates': {'qubits': [4]}, 'purpose': 'drive', 'type': 'drive'}, 'm0': {'operates': {'qubits': [0]}, 'purpose': 'measure', 'type': 'measure'}, 'm1': {'operates': {'qubits': [1]}, 'purpose': 'measure', 'type': 'measure'}, 'm2': {'operates': {'qubits': [2]}, 'purpose': 'measure', 'type': 'measure'}, 'm3': {'operates': {'qubits': [3]}, 'purpose': 'measure', 'type': 'measure'}, 'm4': {'operates': {'qubits': [4]}, 'purpose': 'measure', 'type': 'measure'}, 'u0': {'operates': {'qubits': [0, 1]}, 'purpose': 'cross-resonance', 'type': 'control'}, 'u1': {'operates': {'qubits': [1, 0]}, 'purpose': 'cross-resonance', 'type': 'control'}, 'u2': {'operates': {'qubits': [1, 2]}, 'purpose': 'cross-resonance', 'type': 'control'}, 'u3': {'operates': {'qubits': [1, 3]}, 'purpose': 'cross-resonance', 'type': 'control'}, 'u4': {'operates': {'qubits': [2, 1]}, 'purpose': 'cross-resonance', 'type': 'control'}, 'u5': {'operates': {'qubits': [3, 1]}, 'purpose': 'cross-resonance', 'type': 'control'}, 'u6': {'operates': {'qubits': [3, 4]}, 'purpose': 'cross-resonance', 'type': 'control'}, 'u7': {'operates': {'qubits': [4, 3]}, 'purpose': 'cross-resonance', 'type': 'control'}}</td></tr><tr><td>description</td><td>5 qubit device Quito</td></tr><tr><td>meas_lo_range</td><td>[[6.807868157000001, 7.807868157000001], [6.7292695270000005, 7.7292695270000005], [6.991060108, 7.991060108], [6.8547510460000005, 7.8547510460000005], [6.904365522000001, 7.904365522000001]]</td></tr><tr><td>qubit_channel_mapping</td><td>[['u0', 'u1', 'd0', 'm0'], ['d1', 'm1', 'u3', 'u4', 'u1', 'u2', 'u0', 'u5'], ['u4', 'm2', 'd2', 'u2'], ['m3', 'u7', 'u6', 'u3', 'd3', 'u5'], ['u6', 'm4', 'u7', 'd4']]</td></tr><tr><td>meas_kernels</td><td>['hw_boxcar']</td></tr><tr><td>allow_object_storage</td><td>True</td></tr><tr><td>qubit_lo_range</td><td>[[4.8004294580060565, 5.8004294580060565], [4.580535043300295, 5.580535043300295], [4.822185076618322, 5.822185076618322], [4.663616220607968, 5.663616220607968], [4.552328158935026, 5.552328158935026]]</td></tr><tr><td>allow_q_object</td><td>True</td></tr><tr><td>n_uchannels</td><td>8</td></tr><tr><td>acquisition_latency</td><td>[]</td></tr><tr><td>online_date</td><td>2021-01-08 05:00:00+00:00</td></tr><tr><td>n_registers</td><td>1</td></tr><tr><td>parametric_pulses</td><td>['gaussian', 'gaussian_square', 'drag', 'constant']</td></tr><tr><td>supported_features</td><td>['qobj']</td></tr><tr><td>sample_name</td><td>family: Falcon, revision: 4, segment: T</td></tr><tr><td>hamiltonian</td><td>$$\\begin{align} \\mathcal{H}/\\hbar = & \\sum_{i=0}^{4}\\left(\\frac{\\omega_{q,i}}{2}(\\mathbb{I}-\\sigma_i^{z})+\\frac{\\Delta_{i}}{2}(O_i^2-O_i)+\\Omega_{d,i}D_i(t)\\sigma_i^{X}\\right) \\\\ & + J_{0,1}(\\sigma_{0}^{+}\\sigma_{1}^{-}+\\sigma_{0}^{-}\\sigma_{1}^{+}) + J_{1,2}(\\sigma_{1}^{+}\\sigma_{2}^{-}+\\sigma_{1}^{-}\\sigma_{2}^{+}) + J_{1,3}(\\sigma_{1}^{+}\\sigma_{3}^{-}+\\sigma_{1}^{-}\\sigma_{3}^{+}) + J_{3,4}(\\sigma_{3}^{+}\\sigma_{4}^{-}+\\sigma_{3}^{-}\\sigma_{4}^{+}) \\\\ & + \\Omega_{d,0}(U_{0}^{(0,1)}(t))\\sigma_{0}^{X} + \\Omega_{d,1}(U_{1}^{(1,0)}(t)+U_{3}^{(1,3)}(t)+U_{2}^{(1,2)}(t))\\sigma_{1}^{X} \\\\ & + \\Omega_{d,2}(U_{4}^{(2,1)}(t))\\sigma_{2}^{X} + \\Omega_{d,3}(U_{6}^{(3,4)}(t)+U_{5}^{(3,1)}(t))\\sigma_{3}^{X} \\\\ & + \\Omega_{d,4}(U_{7}^{(4,3)}(t))\\sigma_{4}^{X} \\\\ \\end{align}$$</td></tr><tr><td>pulse_num_channels</td><td>9</td></tr><tr><td>simulator</td><td>False</td></tr><tr><td>multi_meas_enabled</td><td>True</td></tr><tr><td>memory</td><td>True</td></tr><tr><td>meas_map</td><td>[[0, 1, 2, 3, 4]]</td></tr><tr><td>url</td><td>None</td></tr><tr><td>rep_times</td><td>[1000.0]</td></tr><tr><td>parallel_compilation</td><td>False</td></tr><tr><td>coupling_map</td><td>[[0, 1], [1, 0], [1, 2], [1, 3], [2, 1], [3, 1], [3, 4], [4, 3]]</td></tr><tr><td>pulse_num_qubits</td><td>3</td></tr><tr><td>input_allowed</td><td>['job', 'runtime']</td></tr><tr><td>supported_instructions</td><td>['reset', 'rz', 'acquire', 'u3', 'shiftf', 'cx', 'sx', 'x', 'u1', 'u2', 'delay', 'id', 'play', 'setf', 'measure']</td></tr><tr><td>clops</td><td>2506</td></tr><tr><td>meas_levels</td><td>[1, 2]</td></tr><tr><td>discriminators</td><td>['quadratic_discriminator', 'linear_discriminator', 'hw_centroid']</td></tr><tr><td>measure_esp_enabled</td><td>False</td></tr><tr><td>open_pulse</td><td>False</td></tr><tr><td>conditional</td><td>False</td></tr></table>"
      }
     },
     "f85093a8d3974b46a86770f25f6007d3": {
      "model_module": "@jupyter-widgets/controls",
      "model_module_version": "1.5.0",
      "model_name": "HTMLModel",
      "state": {
       "layout": "IPY_MODEL_41fddde00c624ff09a77fc200da0f70e",
       "style": "IPY_MODEL_07f1ab9f12e84494a54247ba6645b6c7",
       "value": "<h5 style='color:#34bc6e'>True</h5>"
      }
     },
     "f85405989ee04a3ca2f86249003f53c4": {
      "model_module": "@jupyter-widgets/controls",
      "model_module_version": "1.5.0",
      "model_name": "LabelModel",
      "state": {
       "layout": "IPY_MODEL_ab7b21120af84d00800ca847a842ac6b",
       "style": "IPY_MODEL_b3705462a4fa4f31bd585ef4bbd9f48e",
       "value": "509"
      }
     },
     "f90933c58f234d528ca113691e5bd598": {
      "model_module": "@jupyter-widgets/base",
      "model_module_version": "1.2.0",
      "model_name": "LayoutModel",
      "state": {}
     },
     "f99a6444208046fe95f35191bbc3e602": {
      "model_module": "@jupyter-widgets/controls",
      "model_module_version": "1.5.0",
      "model_name": "DescriptionStyleModel",
      "state": {
       "description_width": ""
      }
     },
     "f9a0504c1e97415c807d00b702d0496a": {
      "model_module": "@jupyter-widgets/controls",
      "model_module_version": "1.5.0",
      "model_name": "HTMLModel",
      "state": {
       "layout": "IPY_MODEL_0c5cadb46cdf4147a9ffee03159a6c32",
       "style": "IPY_MODEL_f99a6444208046fe95f35191bbc3e602",
       "value": "<h4>ibmq_belem</h4>"
      }
     },
     "f9a35f7fc6d24cd185293ea3db26d8d6": {
      "model_module": "@jupyter-widgets/base",
      "model_module_version": "1.2.0",
      "model_name": "LayoutModel",
      "state": {}
     },
     "f9d3b0c91ee64ee8b5f3935208e5c2a2": {
      "model_module": "@jupyter-widgets/controls",
      "model_module_version": "1.5.0",
      "model_name": "HTMLModel",
      "state": {
       "layout": "IPY_MODEL_a57965590f444375a9adbe1dfe484e54",
       "style": "IPY_MODEL_e5390fbfc220494491f7cbba00bbb419",
       "value": "<h5>0.0096</h5>"
      }
     },
     "fa560844ab23427d833733373e6876c3": {
      "model_module": "@jupyter-widgets/base",
      "model_module_version": "1.2.0",
      "model_name": "LayoutModel",
      "state": {}
     },
     "fac8114c465b420092a9413e8122fd8c": {
      "model_module": "@jupyter-widgets/controls",
      "model_module_version": "1.5.0",
      "model_name": "HTMLModel",
      "state": {
       "layout": "IPY_MODEL_c724542824f34f8685e793aeda2a9c97",
       "style": "IPY_MODEL_1fc6ad47260a4b97bcb73f6a88d6f7ea",
       "value": "<h5>0.0116</h5>"
      }
     },
     "fadcb1b0f84e41e5b4a49ff4e79dccb1": {
      "model_module": "@jupyter-widgets/controls",
      "model_module_version": "1.5.0",
      "model_name": "LabelModel",
      "state": {
       "layout": "IPY_MODEL_05631fef57f24078a2fcefc8ae653b72",
       "style": "IPY_MODEL_13ca87f23dfc455bada6371f44c3b86d",
       "value": "Avg. Meas. Err."
      }
     },
     "fc3dd1c486c2428aa13a159d80142532": {
      "model_module": "@jupyter-widgets/base",
      "model_module_version": "1.2.0",
      "model_name": "LayoutModel",
      "state": {}
     },
     "fc73aa9ce5164c0c9a4c9afbaa4204f1": {
      "model_module": "@jupyter-widgets/controls",
      "model_module_version": "1.5.0",
      "model_name": "IntProgressModel",
      "state": {
       "layout": "IPY_MODEL_a90a8aa952b345a79ca9a88832e31df9",
       "max": 98,
       "style": "IPY_MODEL_166a72e2341b4ecbb4355f5b4664b9e9",
       "value": 83
      }
     },
     "fdcd4a8666084e98a38aa27d935a1344": {
      "model_module": "@jupyter-widgets/controls",
      "model_module_version": "1.5.0",
      "model_name": "VBoxModel",
      "state": {
       "children": [
        "IPY_MODEL_3cc87263c9974568820aebd47fbd8e8c",
        "IPY_MODEL_0154a4e90c3c4bb48995ca2cdf14ea5f",
        "IPY_MODEL_452a2e77d3ab49909dc8025e5203428e",
        "IPY_MODEL_314facc6243a4089ad53bbef08978d76",
        "IPY_MODEL_0275e4ed70754c9791a4543396e6afde",
        "IPY_MODEL_6d1e8959eb124febb865f1066e2fd6b8",
        "IPY_MODEL_bac7288cc27049ec9e920801545970f6",
        "IPY_MODEL_107e53e9519d4776aeed5d36b35b23f6",
        "IPY_MODEL_2afd623fc3ab4ef5a53c67e4dfbf9e13",
        "IPY_MODEL_dc750f09b43d49f7a0769879ce2b998d"
       ],
       "layout": "IPY_MODEL_8ecb981e9ac2443d8fde822098ca84be"
      }
     },
     "fdcde19936234b9db90682e88743b459": {
      "model_module": "@jupyter-widgets/controls",
      "model_module_version": "1.5.0",
      "model_name": "DescriptionStyleModel",
      "state": {
       "description_width": ""
      }
     },
     "fe172e120d634605bfb3dc7b7ea60baa": {
      "model_module": "@jupyter-widgets/controls",
      "model_module_version": "1.5.0",
      "model_name": "HBoxModel",
      "state": {
       "children": [
        "IPY_MODEL_dea5a44be3514417822a5d397c19bc42",
        "IPY_MODEL_a598ed8b5f18425d919f5c361012d062",
        "IPY_MODEL_13cd34cb269f41e48c01b37cd863eaee",
        "IPY_MODEL_1d66b628bffb4112a45c9a3d5c58f67b",
        "IPY_MODEL_2f1bf778e7924f7c8cdfef156c5c0b88"
       ],
       "layout": "IPY_MODEL_378e364b08774501a3db90ea6cc80995"
      }
     },
     "ffbe9a80e1704a4fbfc0b8c37534d14b": {
      "model_module": "@jupyter-widgets/controls",
      "model_module_version": "1.5.0",
      "model_name": "HTMLModel",
      "state": {
       "layout": "IPY_MODEL_b323cf66616a4302820ff9d5d2c9c451",
       "style": "IPY_MODEL_d38f15fe15d446c4b6b469ac78ad0875",
       "value": "<h4>ibmq_quito</h4>"
      }
     },
     "fff2c7ebd3fb4109a9bc4de4dd2e218f": {
      "model_module": "@jupyter-widgets/controls",
      "model_module_version": "1.5.0",
      "model_name": "LabelModel",
      "state": {
       "layout": "IPY_MODEL_66d167d726de4408b1a8f68adbf41da5",
       "style": "IPY_MODEL_537bf91afb72445ea48143ab3a236a1b",
       "value": "Operational"
      }
     }
    },
    "version_major": 2,
    "version_minor": 0
   }
  }
 },
 "nbformat": 4,
 "nbformat_minor": 5
}
